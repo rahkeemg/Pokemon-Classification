{
 "cells": [
  {
   "cell_type": "markdown",
   "metadata": {},
   "source": [
    "# Pokemon Classification\n",
    "\n",
    "In this project, we will use requests and BeautifulSoup to pull information off of the Pokemon Database.\n",
    "Once we have the information, the next step will be to make a classification model to see how acccurately \n",
    "we can classify different pokemon based on their types."
   ]
  },
  {
   "cell_type": "markdown",
   "metadata": {},
   "source": [
    "## Webscrapping\n",
    "\n",
    "The site that will be used to pull information is [pokemondb.net](https://pokemondb.net/).\n",
    "\n",
    "<img src='https://img.pokemondb.net/news/2018/design-v4.jpg'>\n",
    "\n",
    "\n",
    "We will be pulling information from two parts of the website and wil categorize the information based on two categories.\n",
    "<br>The Pokemon observed will be from Generations 1 - 8.</br>\n",
    "1. _General_\n",
    "    * This infromation is the most basic on the specific pokemon:\n",
    "        - Name\n",
    "        - Types\n",
    "        - Stats\n",
    "2. _Specific_\n",
    "    * The information in this section will extend on the general by including the following:\n",
    "        * Base stats\n",
    "        * Min stats\n",
    "        * Max stats\n",
    "        * Type Defense\n",
    "        * Species\n",
    "        * Height\n",
    "        * Weight\n",
    "        * Abilities\n",
    "        * Training data\n",
    "        * Breeding Data"
   ]
  },
  {
   "cell_type": "markdown",
   "metadata": {},
   "source": [
    "**Import files**"
   ]
  },
  {
   "cell_type": "code",
   "execution_count": 1,
   "metadata": {},
   "outputs": [],
   "source": [
    "import requests\n",
    "import pandas as pd\n",
    "import numpy as np\n",
    "import matplotlib.pyplot as plt\n",
    "import plotly.graph_objects as go\n",
    "from plotly.subplots import make_subplots\n",
    "from bs4 import BeautifulSoup"
   ]
  },
  {
   "cell_type": "code",
   "execution_count": 2,
   "metadata": {},
   "outputs": [],
   "source": [
    "page = requests.get(\"https://pokemondb.net/pokedex/all\")"
   ]
  },
  {
   "cell_type": "code",
   "execution_count": 3,
   "metadata": {},
   "outputs": [
    {
     "data": {
      "text/plain": [
       "200"
      ]
     },
     "execution_count": 3,
     "metadata": {},
     "output_type": "execute_result"
    }
   ],
   "source": [
    "page.status_code"
   ]
  },
  {
   "cell_type": "markdown",
   "metadata": {},
   "source": [
    "Now that the page was pulled and stored as a string of the HTML tags, we will use beautiful soup to pull the table information."
   ]
  },
  {
   "cell_type": "code",
   "execution_count": 4,
   "metadata": {},
   "outputs": [],
   "source": [
    "soup = BeautifulSoup(page.content, 'html.parser')\n",
    "# print(soup.prettify())"
   ]
  },
  {
   "cell_type": "code",
   "execution_count": 5,
   "metadata": {},
   "outputs": [],
   "source": [
    "children = list(soup.children)"
   ]
  },
  {
   "cell_type": "markdown",
   "metadata": {},
   "source": [
    "The children of the soup item are printed out to get an idea of what some of the major classes are."
   ]
  },
  {
   "cell_type": "code",
   "execution_count": 6,
   "metadata": {},
   "outputs": [
    {
     "name": "stdout",
     "output_type": "stream",
     "text": [
      "[<class 'bs4.element.Doctype'>, <class 'bs4.element.NavigableString'>, <class 'bs4.element.Tag'>, <class 'bs4.element.NavigableString'>]\n"
     ]
    }
   ],
   "source": [
    "print([type(item) for item in children])"
   ]
  },
  {
   "cell_type": "markdown",
   "metadata": {},
   "source": [
    "In this block, we are pulling all of the information from the webpage and formatting so that we can save the information in a dictionary, or in a data frame\n",
    "\n",
    "Now that we are able to pull out specific information from the webpage, we can then store the info into a dataframe, or another data sctructrue. In this example, we will be using a dataframe to store the information"
   ]
  },
  {
   "cell_type": "code",
   "execution_count": 7,
   "metadata": {},
   "outputs": [],
   "source": [
    "def pull_info(soup=None, tag='', class_str='', **kwargs):\n",
    "    \"\"\"\n",
    "        parameters:\n",
    "            soup:       beautiful soup object\n",
    "            tag:        html-tag that we want to pull information from \n",
    "            class_str:  string name of the class tied to the html tag being observed\n",
    "            **kwargs:   any supplemental argumentation that goes into beautifulsoup.find_all() function            \n",
    "    \"\"\"\n",
    "    \n",
    "    if not soup:\n",
    "        return \"You did not enter a beautiful soup object\"\n",
    "    if class_str:\n",
    "        keys = [item.text for item in soup.find_all(name=tag, class_=class_str, **kwargs)]\n",
    "    else:\n",
    "        keys = [item.text for item in soup.find_all(name=tag, **kwargs)]\n",
    "    return keys"
   ]
  },
  {
   "cell_type": "markdown",
   "metadata": {},
   "source": [
    "With the introduction of generation 6 and forward, mega evolutions and alternate forms were made avaialbe for certain pokemon. These forms, though they can differ greatly in stats and appearances, they share the same national pokedex entry number. This can be seen in the print out below."
   ]
  },
  {
   "cell_type": "code",
   "execution_count": 8,
   "metadata": {},
   "outputs": [
    {
     "name": "stdout",
     "output_type": "stream",
     "text": [
      "['#', 'Name', 'Type', 'Total', 'HP', 'Attack', 'Defense', 'Sp. Atk', 'Sp. Def', 'Speed']\n",
      "['001', 'Bulbasaur', 'Grass Poison', '318', '45', '49', '49', '65', '65', '45']\n",
      "['002', 'Ivysaur', 'Grass Poison', '405', '60', '62', '63', '80', '80', '60']\n",
      "['003', 'Venusaur', 'Grass Poison', '525', '80', '82', '83', '100', '100', '80']\n",
      "['003', 'Venusaur Mega Venusaur', 'Grass Poison', '625', '80', '100', '123', '122', '120', '80']\n",
      "['004', 'Charmander', 'Fire ', '309', '39', '52', '43', '60', '50', '65']\n",
      "['005', 'Charmeleon', 'Fire ', '405', '58', '64', '58', '80', '65', '80']\n",
      "['006', 'Charizard', 'Fire Flying', '534', '78', '84', '78', '109', '85', '100']\n",
      "['006', 'Charizard Mega Charizard X', 'Fire Dragon', '634', '78', '130', '111', '130', '85', '100']\n",
      "['006', 'Charizard Mega Charizard Y', 'Fire Flying', '634', '78', '104', '78', '159', '115', '100']\n",
      "['007', 'Squirtle', 'Water ', '314', '44', '48', '65', '50', '64', '43']\n"
     ]
    }
   ],
   "source": [
    "headers = pull_info(soup=soup, tag='th')  # pull the header information from the webpage\n",
    "\n",
    "table = pull_info(soup=soup, tag='td') # pull the entries from each respective table\n",
    "rows = [table[i:i+10]for i in range(0,len(table),10)]\n",
    "\n",
    "print(headers)\n",
    "for row in rows[:10]: print(row) # print the 1st 10 rows"
   ]
  },
  {
   "cell_type": "markdown",
   "metadata": {},
   "source": [
    "### Data Cleanning & Feature Engineering"
   ]
  },
  {
   "cell_type": "code",
   "execution_count": 9,
   "metadata": {},
   "outputs": [],
   "source": [
    "pokedex = pd.DataFrame(data=rows, columns=list(map(lambda x:x.replace(' ','_').lower(),headers)))"
   ]
  },
  {
   "cell_type": "code",
   "execution_count": 10,
   "metadata": {},
   "outputs": [],
   "source": [
    "pokedex.rename(columns={'#': 'nat_idx'}, inplace=True)"
   ]
  },
  {
   "cell_type": "code",
   "execution_count": 11,
   "metadata": {},
   "outputs": [
    {
     "name": "stdout",
     "output_type": "stream",
     "text": [
      "<class 'pandas.core.frame.DataFrame'>\n",
      "RangeIndex: 1034 entries, 0 to 1033\n",
      "Data columns (total 10 columns):\n",
      " #   Column   Non-Null Count  Dtype \n",
      "---  ------   --------------  ----- \n",
      " 0   nat_idx  1034 non-null   object\n",
      " 1   name     1034 non-null   object\n",
      " 2   type     1034 non-null   object\n",
      " 3   total    1034 non-null   object\n",
      " 4   hp       1034 non-null   object\n",
      " 5   attack   1034 non-null   object\n",
      " 6   defense  1034 non-null   object\n",
      " 7   sp._atk  1034 non-null   object\n",
      " 8   sp._def  1034 non-null   object\n",
      " 9   speed    1034 non-null   object\n",
      "dtypes: object(10)\n",
      "memory usage: 80.9+ KB\n"
     ]
    }
   ],
   "source": [
    "pokedex.info()"
   ]
  },
  {
   "cell_type": "markdown",
   "metadata": {},
   "source": [
    "At the moment, eveything is stored as string. We will need to convert numerical columns to integer types"
   ]
  },
  {
   "cell_type": "code",
   "execution_count": 12,
   "metadata": {},
   "outputs": [
    {
     "data": {
      "text/html": [
       "<div>\n",
       "<style scoped>\n",
       "    .dataframe tbody tr th:only-of-type {\n",
       "        vertical-align: middle;\n",
       "    }\n",
       "\n",
       "    .dataframe tbody tr th {\n",
       "        vertical-align: top;\n",
       "    }\n",
       "\n",
       "    .dataframe thead th {\n",
       "        text-align: right;\n",
       "    }\n",
       "</style>\n",
       "<table border=\"1\" class=\"dataframe\">\n",
       "  <thead>\n",
       "    <tr style=\"text-align: right;\">\n",
       "      <th></th>\n",
       "      <th>nat_idx</th>\n",
       "      <th>name</th>\n",
       "      <th>type</th>\n",
       "      <th>total</th>\n",
       "      <th>hp</th>\n",
       "      <th>attack</th>\n",
       "      <th>defense</th>\n",
       "      <th>sp._atk</th>\n",
       "      <th>sp._def</th>\n",
       "      <th>speed</th>\n",
       "    </tr>\n",
       "  </thead>\n",
       "  <tbody>\n",
       "    <tr>\n",
       "      <th>0</th>\n",
       "      <td>001</td>\n",
       "      <td>Bulbasaur</td>\n",
       "      <td>Grass Poison</td>\n",
       "      <td>318</td>\n",
       "      <td>45</td>\n",
       "      <td>49</td>\n",
       "      <td>49</td>\n",
       "      <td>65</td>\n",
       "      <td>65</td>\n",
       "      <td>45</td>\n",
       "    </tr>\n",
       "    <tr>\n",
       "      <th>1</th>\n",
       "      <td>002</td>\n",
       "      <td>Ivysaur</td>\n",
       "      <td>Grass Poison</td>\n",
       "      <td>405</td>\n",
       "      <td>60</td>\n",
       "      <td>62</td>\n",
       "      <td>63</td>\n",
       "      <td>80</td>\n",
       "      <td>80</td>\n",
       "      <td>60</td>\n",
       "    </tr>\n",
       "    <tr>\n",
       "      <th>2</th>\n",
       "      <td>003</td>\n",
       "      <td>Venusaur</td>\n",
       "      <td>Grass Poison</td>\n",
       "      <td>525</td>\n",
       "      <td>80</td>\n",
       "      <td>82</td>\n",
       "      <td>83</td>\n",
       "      <td>100</td>\n",
       "      <td>100</td>\n",
       "      <td>80</td>\n",
       "    </tr>\n",
       "    <tr>\n",
       "      <th>3</th>\n",
       "      <td>003</td>\n",
       "      <td>Venusaur Mega Venusaur</td>\n",
       "      <td>Grass Poison</td>\n",
       "      <td>625</td>\n",
       "      <td>80</td>\n",
       "      <td>100</td>\n",
       "      <td>123</td>\n",
       "      <td>122</td>\n",
       "      <td>120</td>\n",
       "      <td>80</td>\n",
       "    </tr>\n",
       "    <tr>\n",
       "      <th>4</th>\n",
       "      <td>004</td>\n",
       "      <td>Charmander</td>\n",
       "      <td>Fire</td>\n",
       "      <td>309</td>\n",
       "      <td>39</td>\n",
       "      <td>52</td>\n",
       "      <td>43</td>\n",
       "      <td>60</td>\n",
       "      <td>50</td>\n",
       "      <td>65</td>\n",
       "    </tr>\n",
       "  </tbody>\n",
       "</table>\n",
       "</div>"
      ],
      "text/plain": [
       "  nat_idx                    name          type total  hp attack defense  \\\n",
       "0     001               Bulbasaur  Grass Poison   318  45     49      49   \n",
       "1     002                 Ivysaur  Grass Poison   405  60     62      63   \n",
       "2     003                Venusaur  Grass Poison   525  80     82      83   \n",
       "3     003  Venusaur Mega Venusaur  Grass Poison   625  80    100     123   \n",
       "4     004              Charmander         Fire    309  39     52      43   \n",
       "\n",
       "  sp._atk sp._def speed  \n",
       "0      65      65    45  \n",
       "1      80      80    60  \n",
       "2     100     100    80  \n",
       "3     122     120    80  \n",
       "4      60      50    65  "
      ]
     },
     "execution_count": 12,
     "metadata": {},
     "output_type": "execute_result"
    }
   ],
   "source": [
    "pokedex.head()"
   ]
  },
  {
   "cell_type": "markdown",
   "metadata": {},
   "source": [
    "Here, we are going to separate the type column into two separate columns: primary and secondary. This will make it easier to identify pokemon via primary and secondary typing later on.\n",
    "\n",
    "**_Note:_** Not every pokemon has a secondary type. To represent thsi lack of a type, the symbol `---` is used to represent this."
   ]
  },
  {
   "cell_type": "code",
   "execution_count": 13,
   "metadata": {},
   "outputs": [],
   "source": [
    "pokedex['primary'] = pokedex.type.apply(lambda x: x.split()[0])\n",
    "pokedex['secondary'] = pokedex.type.apply(lambda x: x.split()[-1] \n",
    "                                          if len(x.split())==2 else '---')"
   ]
  },
  {
   "cell_type": "code",
   "execution_count": 14,
   "metadata": {},
   "outputs": [
    {
     "data": {
      "text/html": [
       "<div>\n",
       "<style scoped>\n",
       "    .dataframe tbody tr th:only-of-type {\n",
       "        vertical-align: middle;\n",
       "    }\n",
       "\n",
       "    .dataframe tbody tr th {\n",
       "        vertical-align: top;\n",
       "    }\n",
       "\n",
       "    .dataframe thead th {\n",
       "        text-align: right;\n",
       "    }\n",
       "</style>\n",
       "<table border=\"1\" class=\"dataframe\">\n",
       "  <thead>\n",
       "    <tr style=\"text-align: right;\">\n",
       "      <th></th>\n",
       "      <th>nat_idx</th>\n",
       "      <th>name</th>\n",
       "      <th>type</th>\n",
       "      <th>total</th>\n",
       "      <th>hp</th>\n",
       "      <th>attack</th>\n",
       "      <th>defense</th>\n",
       "      <th>sp._atk</th>\n",
       "      <th>sp._def</th>\n",
       "      <th>speed</th>\n",
       "      <th>primary</th>\n",
       "      <th>secondary</th>\n",
       "    </tr>\n",
       "  </thead>\n",
       "  <tbody>\n",
       "    <tr>\n",
       "      <th>7</th>\n",
       "      <td>006</td>\n",
       "      <td>Charizard Mega Charizard X</td>\n",
       "      <td>Fire Dragon</td>\n",
       "      <td>634</td>\n",
       "      <td>78</td>\n",
       "      <td>130</td>\n",
       "      <td>111</td>\n",
       "      <td>130</td>\n",
       "      <td>85</td>\n",
       "      <td>100</td>\n",
       "      <td>Fire</td>\n",
       "      <td>Dragon</td>\n",
       "    </tr>\n",
       "    <tr>\n",
       "      <th>135</th>\n",
       "      <td>103</td>\n",
       "      <td>Exeggutor Alolan Exeggutor</td>\n",
       "      <td>Grass Dragon</td>\n",
       "      <td>530</td>\n",
       "      <td>95</td>\n",
       "      <td>105</td>\n",
       "      <td>85</td>\n",
       "      <td>125</td>\n",
       "      <td>75</td>\n",
       "      <td>45</td>\n",
       "      <td>Grass</td>\n",
       "      <td>Dragon</td>\n",
       "    </tr>\n",
       "    <tr>\n",
       "      <th>187</th>\n",
       "      <td>147</td>\n",
       "      <td>Dratini</td>\n",
       "      <td>Dragon</td>\n",
       "      <td>300</td>\n",
       "      <td>41</td>\n",
       "      <td>64</td>\n",
       "      <td>45</td>\n",
       "      <td>50</td>\n",
       "      <td>50</td>\n",
       "      <td>50</td>\n",
       "      <td>Dragon</td>\n",
       "      <td>---</td>\n",
       "    </tr>\n",
       "    <tr>\n",
       "      <th>188</th>\n",
       "      <td>148</td>\n",
       "      <td>Dragonair</td>\n",
       "      <td>Dragon</td>\n",
       "      <td>420</td>\n",
       "      <td>61</td>\n",
       "      <td>84</td>\n",
       "      <td>65</td>\n",
       "      <td>70</td>\n",
       "      <td>70</td>\n",
       "      <td>70</td>\n",
       "      <td>Dragon</td>\n",
       "      <td>---</td>\n",
       "    </tr>\n",
       "    <tr>\n",
       "      <th>189</th>\n",
       "      <td>149</td>\n",
       "      <td>Dragonite</td>\n",
       "      <td>Dragon Flying</td>\n",
       "      <td>600</td>\n",
       "      <td>91</td>\n",
       "      <td>134</td>\n",
       "      <td>95</td>\n",
       "      <td>100</td>\n",
       "      <td>100</td>\n",
       "      <td>80</td>\n",
       "      <td>Dragon</td>\n",
       "      <td>Flying</td>\n",
       "    </tr>\n",
       "    <tr>\n",
       "      <th>...</th>\n",
       "      <td>...</td>\n",
       "      <td>...</td>\n",
       "      <td>...</td>\n",
       "      <td>...</td>\n",
       "      <td>...</td>\n",
       "      <td>...</td>\n",
       "      <td>...</td>\n",
       "      <td>...</td>\n",
       "      <td>...</td>\n",
       "      <td>...</td>\n",
       "      <td>...</td>\n",
       "      <td>...</td>\n",
       "    </tr>\n",
       "    <tr>\n",
       "      <th>1021</th>\n",
       "      <td>885</td>\n",
       "      <td>Dreepy</td>\n",
       "      <td>Dragon Ghost</td>\n",
       "      <td>270</td>\n",
       "      <td>28</td>\n",
       "      <td>60</td>\n",
       "      <td>30</td>\n",
       "      <td>40</td>\n",
       "      <td>30</td>\n",
       "      <td>82</td>\n",
       "      <td>Dragon</td>\n",
       "      <td>Ghost</td>\n",
       "    </tr>\n",
       "    <tr>\n",
       "      <th>1022</th>\n",
       "      <td>886</td>\n",
       "      <td>Drakloak</td>\n",
       "      <td>Dragon Ghost</td>\n",
       "      <td>410</td>\n",
       "      <td>68</td>\n",
       "      <td>80</td>\n",
       "      <td>50</td>\n",
       "      <td>60</td>\n",
       "      <td>50</td>\n",
       "      <td>102</td>\n",
       "      <td>Dragon</td>\n",
       "      <td>Ghost</td>\n",
       "    </tr>\n",
       "    <tr>\n",
       "      <th>1023</th>\n",
       "      <td>887</td>\n",
       "      <td>Dragapult</td>\n",
       "      <td>Dragon Ghost</td>\n",
       "      <td>600</td>\n",
       "      <td>88</td>\n",
       "      <td>120</td>\n",
       "      <td>75</td>\n",
       "      <td>100</td>\n",
       "      <td>75</td>\n",
       "      <td>142</td>\n",
       "      <td>Dragon</td>\n",
       "      <td>Ghost</td>\n",
       "    </tr>\n",
       "    <tr>\n",
       "      <th>1028</th>\n",
       "      <td>890</td>\n",
       "      <td>Eternatus</td>\n",
       "      <td>Poison Dragon</td>\n",
       "      <td>690</td>\n",
       "      <td>140</td>\n",
       "      <td>85</td>\n",
       "      <td>95</td>\n",
       "      <td>145</td>\n",
       "      <td>95</td>\n",
       "      <td>130</td>\n",
       "      <td>Poison</td>\n",
       "      <td>Dragon</td>\n",
       "    </tr>\n",
       "    <tr>\n",
       "      <th>1029</th>\n",
       "      <td>890</td>\n",
       "      <td>Eternatus Eternamax</td>\n",
       "      <td>Poison Dragon</td>\n",
       "      <td>1125</td>\n",
       "      <td>255</td>\n",
       "      <td>115</td>\n",
       "      <td>250</td>\n",
       "      <td>125</td>\n",
       "      <td>250</td>\n",
       "      <td>130</td>\n",
       "      <td>Poison</td>\n",
       "      <td>Dragon</td>\n",
       "    </tr>\n",
       "  </tbody>\n",
       "</table>\n",
       "<p>72 rows × 12 columns</p>\n",
       "</div>"
      ],
      "text/plain": [
       "     nat_idx                        name           type total   hp attack  \\\n",
       "7        006  Charizard Mega Charizard X    Fire Dragon   634   78    130   \n",
       "135      103  Exeggutor Alolan Exeggutor   Grass Dragon   530   95    105   \n",
       "187      147                     Dratini        Dragon    300   41     64   \n",
       "188      148                   Dragonair        Dragon    420   61     84   \n",
       "189      149                   Dragonite  Dragon Flying   600   91    134   \n",
       "...      ...                         ...            ...   ...  ...    ...   \n",
       "1021     885                      Dreepy   Dragon Ghost   270   28     60   \n",
       "1022     886                    Drakloak   Dragon Ghost   410   68     80   \n",
       "1023     887                   Dragapult   Dragon Ghost   600   88    120   \n",
       "1028     890                   Eternatus  Poison Dragon   690  140     85   \n",
       "1029     890         Eternatus Eternamax  Poison Dragon  1125  255    115   \n",
       "\n",
       "     defense sp._atk sp._def speed primary secondary  \n",
       "7        111     130      85   100    Fire    Dragon  \n",
       "135       85     125      75    45   Grass    Dragon  \n",
       "187       45      50      50    50  Dragon       ---  \n",
       "188       65      70      70    70  Dragon       ---  \n",
       "189       95     100     100    80  Dragon    Flying  \n",
       "...      ...     ...     ...   ...     ...       ...  \n",
       "1021      30      40      30    82  Dragon     Ghost  \n",
       "1022      50      60      50   102  Dragon     Ghost  \n",
       "1023      75     100      75   142  Dragon     Ghost  \n",
       "1028      95     145      95   130  Poison    Dragon  \n",
       "1029     250     125     250   130  Poison    Dragon  \n",
       "\n",
       "[72 rows x 12 columns]"
      ]
     },
     "execution_count": 14,
     "metadata": {},
     "output_type": "execute_result"
    }
   ],
   "source": [
    "pokedex[(pokedex['primary']=='Dragon')|(pokedex['secondary']=='Dragon')]"
   ]
  },
  {
   "cell_type": "markdown",
   "metadata": {},
   "source": [
    "Now we will convert numeric columns to integer types.  This will allow us to utilize the fields in the classification models later on."
   ]
  },
  {
   "cell_type": "code",
   "execution_count": 15,
   "metadata": {},
   "outputs": [
    {
     "name": "stdout",
     "output_type": "stream",
     "text": [
      "Unable to convertname to type int\n",
      "Unable to converttype to type int\n",
      "Unable to convertprimary to type int\n",
      "Unable to convertsecondary to type int\n",
      "<class 'pandas.core.frame.DataFrame'>\n",
      "RangeIndex: 1034 entries, 0 to 1033\n",
      "Data columns (total 12 columns):\n",
      " #   Column     Non-Null Count  Dtype \n",
      "---  ------     --------------  ----- \n",
      " 0   nat_idx    1034 non-null   int64 \n",
      " 1   name       1034 non-null   object\n",
      " 2   type       1034 non-null   object\n",
      " 3   total      1034 non-null   int64 \n",
      " 4   hp         1034 non-null   int64 \n",
      " 5   attack     1034 non-null   int64 \n",
      " 6   defense    1034 non-null   int64 \n",
      " 7   sp._atk    1034 non-null   int64 \n",
      " 8   sp._def    1034 non-null   int64 \n",
      " 9   speed      1034 non-null   int64 \n",
      " 10  primary    1034 non-null   object\n",
      " 11  secondary  1034 non-null   object\n",
      "dtypes: int64(8), object(4)\n",
      "memory usage: 97.1+ KB\n"
     ]
    }
   ],
   "source": [
    "for col in pokedex.columns:\n",
    "    try:\n",
    "        pokedex[col] = pokedex[col].astype('int')\n",
    "    except:\n",
    "        print(f'Unable to convert{col} to type int')\n",
    "\n",
    "pokedex.info()"
   ]
  },
  {
   "cell_type": "code",
   "execution_count": 16,
   "metadata": {},
   "outputs": [
    {
     "data": {
      "text/html": [
       "<div>\n",
       "<style scoped>\n",
       "    .dataframe tbody tr th:only-of-type {\n",
       "        vertical-align: middle;\n",
       "    }\n",
       "\n",
       "    .dataframe tbody tr th {\n",
       "        vertical-align: top;\n",
       "    }\n",
       "\n",
       "    .dataframe thead th {\n",
       "        text-align: right;\n",
       "    }\n",
       "</style>\n",
       "<table border=\"1\" class=\"dataframe\">\n",
       "  <thead>\n",
       "    <tr style=\"text-align: right;\">\n",
       "      <th></th>\n",
       "      <th>nat_idx</th>\n",
       "      <th>name</th>\n",
       "      <th>type</th>\n",
       "      <th>total</th>\n",
       "      <th>hp</th>\n",
       "      <th>attack</th>\n",
       "      <th>defense</th>\n",
       "      <th>sp._atk</th>\n",
       "      <th>sp._def</th>\n",
       "      <th>speed</th>\n",
       "      <th>primary</th>\n",
       "      <th>secondary</th>\n",
       "    </tr>\n",
       "  </thead>\n",
       "  <tbody>\n",
       "    <tr>\n",
       "      <th>0</th>\n",
       "      <td>1</td>\n",
       "      <td>Bulbasaur</td>\n",
       "      <td>Grass Poison</td>\n",
       "      <td>318</td>\n",
       "      <td>45</td>\n",
       "      <td>49</td>\n",
       "      <td>49</td>\n",
       "      <td>65</td>\n",
       "      <td>65</td>\n",
       "      <td>45</td>\n",
       "      <td>Grass</td>\n",
       "      <td>Poison</td>\n",
       "    </tr>\n",
       "    <tr>\n",
       "      <th>1</th>\n",
       "      <td>2</td>\n",
       "      <td>Ivysaur</td>\n",
       "      <td>Grass Poison</td>\n",
       "      <td>405</td>\n",
       "      <td>60</td>\n",
       "      <td>62</td>\n",
       "      <td>63</td>\n",
       "      <td>80</td>\n",
       "      <td>80</td>\n",
       "      <td>60</td>\n",
       "      <td>Grass</td>\n",
       "      <td>Poison</td>\n",
       "    </tr>\n",
       "    <tr>\n",
       "      <th>2</th>\n",
       "      <td>3</td>\n",
       "      <td>Venusaur</td>\n",
       "      <td>Grass Poison</td>\n",
       "      <td>525</td>\n",
       "      <td>80</td>\n",
       "      <td>82</td>\n",
       "      <td>83</td>\n",
       "      <td>100</td>\n",
       "      <td>100</td>\n",
       "      <td>80</td>\n",
       "      <td>Grass</td>\n",
       "      <td>Poison</td>\n",
       "    </tr>\n",
       "    <tr>\n",
       "      <th>3</th>\n",
       "      <td>3</td>\n",
       "      <td>Venusaur Mega Venusaur</td>\n",
       "      <td>Grass Poison</td>\n",
       "      <td>625</td>\n",
       "      <td>80</td>\n",
       "      <td>100</td>\n",
       "      <td>123</td>\n",
       "      <td>122</td>\n",
       "      <td>120</td>\n",
       "      <td>80</td>\n",
       "      <td>Grass</td>\n",
       "      <td>Poison</td>\n",
       "    </tr>\n",
       "    <tr>\n",
       "      <th>4</th>\n",
       "      <td>4</td>\n",
       "      <td>Charmander</td>\n",
       "      <td>Fire</td>\n",
       "      <td>309</td>\n",
       "      <td>39</td>\n",
       "      <td>52</td>\n",
       "      <td>43</td>\n",
       "      <td>60</td>\n",
       "      <td>50</td>\n",
       "      <td>65</td>\n",
       "      <td>Fire</td>\n",
       "      <td>---</td>\n",
       "    </tr>\n",
       "    <tr>\n",
       "      <th>5</th>\n",
       "      <td>5</td>\n",
       "      <td>Charmeleon</td>\n",
       "      <td>Fire</td>\n",
       "      <td>405</td>\n",
       "      <td>58</td>\n",
       "      <td>64</td>\n",
       "      <td>58</td>\n",
       "      <td>80</td>\n",
       "      <td>65</td>\n",
       "      <td>80</td>\n",
       "      <td>Fire</td>\n",
       "      <td>---</td>\n",
       "    </tr>\n",
       "    <tr>\n",
       "      <th>6</th>\n",
       "      <td>6</td>\n",
       "      <td>Charizard</td>\n",
       "      <td>Fire Flying</td>\n",
       "      <td>534</td>\n",
       "      <td>78</td>\n",
       "      <td>84</td>\n",
       "      <td>78</td>\n",
       "      <td>109</td>\n",
       "      <td>85</td>\n",
       "      <td>100</td>\n",
       "      <td>Fire</td>\n",
       "      <td>Flying</td>\n",
       "    </tr>\n",
       "    <tr>\n",
       "      <th>7</th>\n",
       "      <td>6</td>\n",
       "      <td>Charizard Mega Charizard X</td>\n",
       "      <td>Fire Dragon</td>\n",
       "      <td>634</td>\n",
       "      <td>78</td>\n",
       "      <td>130</td>\n",
       "      <td>111</td>\n",
       "      <td>130</td>\n",
       "      <td>85</td>\n",
       "      <td>100</td>\n",
       "      <td>Fire</td>\n",
       "      <td>Dragon</td>\n",
       "    </tr>\n",
       "    <tr>\n",
       "      <th>8</th>\n",
       "      <td>6</td>\n",
       "      <td>Charizard Mega Charizard Y</td>\n",
       "      <td>Fire Flying</td>\n",
       "      <td>634</td>\n",
       "      <td>78</td>\n",
       "      <td>104</td>\n",
       "      <td>78</td>\n",
       "      <td>159</td>\n",
       "      <td>115</td>\n",
       "      <td>100</td>\n",
       "      <td>Fire</td>\n",
       "      <td>Flying</td>\n",
       "    </tr>\n",
       "    <tr>\n",
       "      <th>9</th>\n",
       "      <td>7</td>\n",
       "      <td>Squirtle</td>\n",
       "      <td>Water</td>\n",
       "      <td>314</td>\n",
       "      <td>44</td>\n",
       "      <td>48</td>\n",
       "      <td>65</td>\n",
       "      <td>50</td>\n",
       "      <td>64</td>\n",
       "      <td>43</td>\n",
       "      <td>Water</td>\n",
       "      <td>---</td>\n",
       "    </tr>\n",
       "  </tbody>\n",
       "</table>\n",
       "</div>"
      ],
      "text/plain": [
       "   nat_idx                        name          type  total  hp  attack  \\\n",
       "0        1                   Bulbasaur  Grass Poison    318  45      49   \n",
       "1        2                     Ivysaur  Grass Poison    405  60      62   \n",
       "2        3                    Venusaur  Grass Poison    525  80      82   \n",
       "3        3      Venusaur Mega Venusaur  Grass Poison    625  80     100   \n",
       "4        4                  Charmander         Fire     309  39      52   \n",
       "5        5                  Charmeleon         Fire     405  58      64   \n",
       "6        6                   Charizard   Fire Flying    534  78      84   \n",
       "7        6  Charizard Mega Charizard X   Fire Dragon    634  78     130   \n",
       "8        6  Charizard Mega Charizard Y   Fire Flying    634  78     104   \n",
       "9        7                    Squirtle        Water     314  44      48   \n",
       "\n",
       "   defense  sp._atk  sp._def  speed primary secondary  \n",
       "0       49       65       65     45   Grass    Poison  \n",
       "1       63       80       80     60   Grass    Poison  \n",
       "2       83      100      100     80   Grass    Poison  \n",
       "3      123      122      120     80   Grass    Poison  \n",
       "4       43       60       50     65    Fire       ---  \n",
       "5       58       80       65     80    Fire       ---  \n",
       "6       78      109       85    100    Fire    Flying  \n",
       "7      111      130       85    100    Fire    Dragon  \n",
       "8       78      159      115    100    Fire    Flying  \n",
       "9       65       50       64     43   Water       ---  "
      ]
     },
     "execution_count": 16,
     "metadata": {},
     "output_type": "execute_result"
    }
   ],
   "source": [
    "pokedex.head(10)"
   ]
  },
  {
   "cell_type": "markdown",
   "metadata": {},
   "source": [
    "# Modeling"
   ]
  },
  {
   "cell_type": "markdown",
   "metadata": {},
   "source": [
    "### __Label Encoding__\n",
    "\n",
    "In order to prep the data for classification modeling, we first have eto "
   ]
  },
  {
   "cell_type": "code",
   "execution_count": 17,
   "metadata": {},
   "outputs": [],
   "source": [
    "from sklearn import preprocessing"
   ]
  },
  {
   "cell_type": "code",
   "execution_count": 18,
   "metadata": {},
   "outputs": [],
   "source": [
    "le = preprocessing.LabelEncoder()"
   ]
  },
  {
   "cell_type": "code",
   "execution_count": 19,
   "metadata": {},
   "outputs": [],
   "source": [
    "# contacenate the different types to get all of the available types\n",
    "unique_types = np.concatenate((pokedex.primary.unique(), pokedex.secondary.unique()))\n",
    "\n",
    "# transform the types into categorical\n",
    "le.fit(unique_types)\n",
    "\n",
    "type_labels = le.transform(unique_types)\n",
    "types = dict(zip(le.classes_, le.transform(le.classes_)))"
   ]
  },
  {
   "cell_type": "markdown",
   "metadata": {},
   "source": [
    "Mapping of the different types and their associated labels with _sklearn.preprocessing.LabelEncoder_"
   ]
  },
  {
   "cell_type": "code",
   "execution_count": 20,
   "metadata": {
    "scrolled": true
   },
   "outputs": [
    {
     "data": {
      "text/plain": [
       "{'---': 0,\n",
       " 'Bug': 1,\n",
       " 'Dark': 2,\n",
       " 'Dragon': 3,\n",
       " 'Electric': 4,\n",
       " 'Fairy': 5,\n",
       " 'Fighting': 6,\n",
       " 'Fire': 7,\n",
       " 'Flying': 8,\n",
       " 'Ghost': 9,\n",
       " 'Grass': 10,\n",
       " 'Ground': 11,\n",
       " 'Ice': 12,\n",
       " 'Normal': 13,\n",
       " 'Poison': 14,\n",
       " 'Psychic': 15,\n",
       " 'Rock': 16,\n",
       " 'Steel': 17,\n",
       " 'Water': 18}"
      ]
     },
     "execution_count": 20,
     "metadata": {},
     "output_type": "execute_result"
    }
   ],
   "source": [
    "types"
   ]
  },
  {
   "cell_type": "code",
   "execution_count": 21,
   "metadata": {},
   "outputs": [],
   "source": [
    "df = pokedex.drop(columns='type').copy()\n",
    "\n",
    "df.primary = le.transform(df.primary)\n",
    "df.secondary = le.transform(df.secondary)"
   ]
  },
  {
   "cell_type": "code",
   "execution_count": 22,
   "metadata": {},
   "outputs": [
    {
     "data": {
      "text/html": [
       "<div>\n",
       "<style scoped>\n",
       "    .dataframe tbody tr th:only-of-type {\n",
       "        vertical-align: middle;\n",
       "    }\n",
       "\n",
       "    .dataframe tbody tr th {\n",
       "        vertical-align: top;\n",
       "    }\n",
       "\n",
       "    .dataframe thead th {\n",
       "        text-align: right;\n",
       "    }\n",
       "</style>\n",
       "<table border=\"1\" class=\"dataframe\">\n",
       "  <thead>\n",
       "    <tr style=\"text-align: right;\">\n",
       "      <th></th>\n",
       "      <th>nat_idx</th>\n",
       "      <th>name</th>\n",
       "      <th>total</th>\n",
       "      <th>hp</th>\n",
       "      <th>attack</th>\n",
       "      <th>defense</th>\n",
       "      <th>sp._atk</th>\n",
       "      <th>sp._def</th>\n",
       "      <th>speed</th>\n",
       "      <th>primary</th>\n",
       "      <th>secondary</th>\n",
       "    </tr>\n",
       "  </thead>\n",
       "  <tbody>\n",
       "    <tr>\n",
       "      <th>0</th>\n",
       "      <td>1</td>\n",
       "      <td>Bulbasaur</td>\n",
       "      <td>318</td>\n",
       "      <td>45</td>\n",
       "      <td>49</td>\n",
       "      <td>49</td>\n",
       "      <td>65</td>\n",
       "      <td>65</td>\n",
       "      <td>45</td>\n",
       "      <td>10</td>\n",
       "      <td>14</td>\n",
       "    </tr>\n",
       "    <tr>\n",
       "      <th>1</th>\n",
       "      <td>2</td>\n",
       "      <td>Ivysaur</td>\n",
       "      <td>405</td>\n",
       "      <td>60</td>\n",
       "      <td>62</td>\n",
       "      <td>63</td>\n",
       "      <td>80</td>\n",
       "      <td>80</td>\n",
       "      <td>60</td>\n",
       "      <td>10</td>\n",
       "      <td>14</td>\n",
       "    </tr>\n",
       "    <tr>\n",
       "      <th>2</th>\n",
       "      <td>3</td>\n",
       "      <td>Venusaur</td>\n",
       "      <td>525</td>\n",
       "      <td>80</td>\n",
       "      <td>82</td>\n",
       "      <td>83</td>\n",
       "      <td>100</td>\n",
       "      <td>100</td>\n",
       "      <td>80</td>\n",
       "      <td>10</td>\n",
       "      <td>14</td>\n",
       "    </tr>\n",
       "    <tr>\n",
       "      <th>3</th>\n",
       "      <td>3</td>\n",
       "      <td>Venusaur Mega Venusaur</td>\n",
       "      <td>625</td>\n",
       "      <td>80</td>\n",
       "      <td>100</td>\n",
       "      <td>123</td>\n",
       "      <td>122</td>\n",
       "      <td>120</td>\n",
       "      <td>80</td>\n",
       "      <td>10</td>\n",
       "      <td>14</td>\n",
       "    </tr>\n",
       "    <tr>\n",
       "      <th>4</th>\n",
       "      <td>4</td>\n",
       "      <td>Charmander</td>\n",
       "      <td>309</td>\n",
       "      <td>39</td>\n",
       "      <td>52</td>\n",
       "      <td>43</td>\n",
       "      <td>60</td>\n",
       "      <td>50</td>\n",
       "      <td>65</td>\n",
       "      <td>7</td>\n",
       "      <td>0</td>\n",
       "    </tr>\n",
       "    <tr>\n",
       "      <th>5</th>\n",
       "      <td>5</td>\n",
       "      <td>Charmeleon</td>\n",
       "      <td>405</td>\n",
       "      <td>58</td>\n",
       "      <td>64</td>\n",
       "      <td>58</td>\n",
       "      <td>80</td>\n",
       "      <td>65</td>\n",
       "      <td>80</td>\n",
       "      <td>7</td>\n",
       "      <td>0</td>\n",
       "    </tr>\n",
       "    <tr>\n",
       "      <th>6</th>\n",
       "      <td>6</td>\n",
       "      <td>Charizard</td>\n",
       "      <td>534</td>\n",
       "      <td>78</td>\n",
       "      <td>84</td>\n",
       "      <td>78</td>\n",
       "      <td>109</td>\n",
       "      <td>85</td>\n",
       "      <td>100</td>\n",
       "      <td>7</td>\n",
       "      <td>8</td>\n",
       "    </tr>\n",
       "    <tr>\n",
       "      <th>7</th>\n",
       "      <td>6</td>\n",
       "      <td>Charizard Mega Charizard X</td>\n",
       "      <td>634</td>\n",
       "      <td>78</td>\n",
       "      <td>130</td>\n",
       "      <td>111</td>\n",
       "      <td>130</td>\n",
       "      <td>85</td>\n",
       "      <td>100</td>\n",
       "      <td>7</td>\n",
       "      <td>3</td>\n",
       "    </tr>\n",
       "    <tr>\n",
       "      <th>8</th>\n",
       "      <td>6</td>\n",
       "      <td>Charizard Mega Charizard Y</td>\n",
       "      <td>634</td>\n",
       "      <td>78</td>\n",
       "      <td>104</td>\n",
       "      <td>78</td>\n",
       "      <td>159</td>\n",
       "      <td>115</td>\n",
       "      <td>100</td>\n",
       "      <td>7</td>\n",
       "      <td>8</td>\n",
       "    </tr>\n",
       "    <tr>\n",
       "      <th>9</th>\n",
       "      <td>7</td>\n",
       "      <td>Squirtle</td>\n",
       "      <td>314</td>\n",
       "      <td>44</td>\n",
       "      <td>48</td>\n",
       "      <td>65</td>\n",
       "      <td>50</td>\n",
       "      <td>64</td>\n",
       "      <td>43</td>\n",
       "      <td>18</td>\n",
       "      <td>0</td>\n",
       "    </tr>\n",
       "  </tbody>\n",
       "</table>\n",
       "</div>"
      ],
      "text/plain": [
       "   nat_idx                        name  total  hp  attack  defense  sp._atk  \\\n",
       "0        1                   Bulbasaur    318  45      49       49       65   \n",
       "1        2                     Ivysaur    405  60      62       63       80   \n",
       "2        3                    Venusaur    525  80      82       83      100   \n",
       "3        3      Venusaur Mega Venusaur    625  80     100      123      122   \n",
       "4        4                  Charmander    309  39      52       43       60   \n",
       "5        5                  Charmeleon    405  58      64       58       80   \n",
       "6        6                   Charizard    534  78      84       78      109   \n",
       "7        6  Charizard Mega Charizard X    634  78     130      111      130   \n",
       "8        6  Charizard Mega Charizard Y    634  78     104       78      159   \n",
       "9        7                    Squirtle    314  44      48       65       50   \n",
       "\n",
       "   sp._def  speed  primary  secondary  \n",
       "0       65     45       10         14  \n",
       "1       80     60       10         14  \n",
       "2      100     80       10         14  \n",
       "3      120     80       10         14  \n",
       "4       50     65        7          0  \n",
       "5       65     80        7          0  \n",
       "6       85    100        7          8  \n",
       "7       85    100        7          3  \n",
       "8      115    100        7          8  \n",
       "9       64     43       18          0  "
      ]
     },
     "execution_count": 22,
     "metadata": {},
     "output_type": "execute_result"
    }
   ],
   "source": [
    "df.head(10)"
   ]
  },
  {
   "cell_type": "markdown",
   "metadata": {},
   "source": [
    "# Visualizations"
   ]
  },
  {
   "cell_type": "markdown",
   "metadata": {},
   "source": [
    "### Types\n",
    "\n",
    "\n",
    "The chart below show what percentage of all pokemon in the national pokedex are of the different associated types. Each pokemon will have at least one type.  Secondary types are optional.    \n",
    "\n",
    "Click on the legend below to add/remove certain types from the Plotly generated pie chart."
   ]
  },
  {
   "cell_type": "markdown",
   "metadata": {},
   "source": [
    "#### Primary & Secondary typing next to each other"
   ]
  },
  {
   "cell_type": "code",
   "execution_count": 62,
   "metadata": {
    "scrolled": false
   },
   "outputs": [
    {
     "data": {
      "application/vnd.plotly.v1+json": {
       "config": {
        "plotlyServerURL": "https://plot.ly"
       },
       "data": [
        {
         "domain": {
          "x": [
           0,
           0.45
          ],
          "y": [
           0,
           1
          ]
         },
         "hole": 0.4,
         "hoverinfo": "label+percent+name",
         "labels": [
          "Water",
          "Normal",
          "Grass",
          "Bug",
          "Psychic",
          "Fire",
          "Electric",
          "Rock",
          "Dark",
          "Fighting",
          "Ground",
          "Ghost",
          "Dragon",
          "Poison",
          "Steel",
          "Ice",
          "Fairy",
          "Flying"
         ],
         "name": "Primary Types",
         "type": "pie",
         "values": [
          134,
          115,
          91,
          81,
          77,
          65,
          61,
          60,
          45,
          41,
          41,
          41,
          40,
          40,
          36,
          36,
          22,
          8
         ]
        },
        {
         "domain": {
          "x": [
           0.55,
           1
          ],
          "y": [
           0,
           1
          ]
         },
         "hole": 0.4,
         "hoverinfo": "label+percent+name",
         "labels": [
          "---",
          "Flying",
          "Fairy",
          "Psychic",
          "Ground",
          "Poison",
          "Steel",
          "Dragon",
          "Fighting",
          "Dark",
          "Grass",
          "Ghost",
          "Water",
          "Ice",
          "Fire",
          "Rock",
          "Electric",
          "Normal",
          "Bug"
         ],
         "name": "Secondary Types",
         "type": "pie",
         "values": [
          488,
          109,
          41,
          39,
          39,
          38,
          35,
          32,
          32,
          27,
          27,
          25,
          20,
          19,
          17,
          15,
          11,
          11,
          9
         ]
        }
       ],
       "layout": {
        "annotations": [
         {
          "font": {
           "size": 16
          },
          "showarrow": false,
          "text": "Primary",
          "x": 0.17,
          "y": 0.5
         },
         {
          "font": {
           "size": 16
          },
          "showarrow": false,
          "text": "Secondary",
          "x": 0.85,
          "y": 0.5
         }
        ],
        "template": {
         "data": {
          "bar": [
           {
            "error_x": {
             "color": "#2a3f5f"
            },
            "error_y": {
             "color": "#2a3f5f"
            },
            "marker": {
             "line": {
              "color": "#E5ECF6",
              "width": 0.5
             }
            },
            "type": "bar"
           }
          ],
          "barpolar": [
           {
            "marker": {
             "line": {
              "color": "#E5ECF6",
              "width": 0.5
             }
            },
            "type": "barpolar"
           }
          ],
          "carpet": [
           {
            "aaxis": {
             "endlinecolor": "#2a3f5f",
             "gridcolor": "white",
             "linecolor": "white",
             "minorgridcolor": "white",
             "startlinecolor": "#2a3f5f"
            },
            "baxis": {
             "endlinecolor": "#2a3f5f",
             "gridcolor": "white",
             "linecolor": "white",
             "minorgridcolor": "white",
             "startlinecolor": "#2a3f5f"
            },
            "type": "carpet"
           }
          ],
          "choropleth": [
           {
            "colorbar": {
             "outlinewidth": 0,
             "ticks": ""
            },
            "type": "choropleth"
           }
          ],
          "contour": [
           {
            "colorbar": {
             "outlinewidth": 0,
             "ticks": ""
            },
            "colorscale": [
             [
              0,
              "#0d0887"
             ],
             [
              0.1111111111111111,
              "#46039f"
             ],
             [
              0.2222222222222222,
              "#7201a8"
             ],
             [
              0.3333333333333333,
              "#9c179e"
             ],
             [
              0.4444444444444444,
              "#bd3786"
             ],
             [
              0.5555555555555556,
              "#d8576b"
             ],
             [
              0.6666666666666666,
              "#ed7953"
             ],
             [
              0.7777777777777778,
              "#fb9f3a"
             ],
             [
              0.8888888888888888,
              "#fdca26"
             ],
             [
              1,
              "#f0f921"
             ]
            ],
            "type": "contour"
           }
          ],
          "contourcarpet": [
           {
            "colorbar": {
             "outlinewidth": 0,
             "ticks": ""
            },
            "type": "contourcarpet"
           }
          ],
          "heatmap": [
           {
            "colorbar": {
             "outlinewidth": 0,
             "ticks": ""
            },
            "colorscale": [
             [
              0,
              "#0d0887"
             ],
             [
              0.1111111111111111,
              "#46039f"
             ],
             [
              0.2222222222222222,
              "#7201a8"
             ],
             [
              0.3333333333333333,
              "#9c179e"
             ],
             [
              0.4444444444444444,
              "#bd3786"
             ],
             [
              0.5555555555555556,
              "#d8576b"
             ],
             [
              0.6666666666666666,
              "#ed7953"
             ],
             [
              0.7777777777777778,
              "#fb9f3a"
             ],
             [
              0.8888888888888888,
              "#fdca26"
             ],
             [
              1,
              "#f0f921"
             ]
            ],
            "type": "heatmap"
           }
          ],
          "heatmapgl": [
           {
            "colorbar": {
             "outlinewidth": 0,
             "ticks": ""
            },
            "colorscale": [
             [
              0,
              "#0d0887"
             ],
             [
              0.1111111111111111,
              "#46039f"
             ],
             [
              0.2222222222222222,
              "#7201a8"
             ],
             [
              0.3333333333333333,
              "#9c179e"
             ],
             [
              0.4444444444444444,
              "#bd3786"
             ],
             [
              0.5555555555555556,
              "#d8576b"
             ],
             [
              0.6666666666666666,
              "#ed7953"
             ],
             [
              0.7777777777777778,
              "#fb9f3a"
             ],
             [
              0.8888888888888888,
              "#fdca26"
             ],
             [
              1,
              "#f0f921"
             ]
            ],
            "type": "heatmapgl"
           }
          ],
          "histogram": [
           {
            "marker": {
             "colorbar": {
              "outlinewidth": 0,
              "ticks": ""
             }
            },
            "type": "histogram"
           }
          ],
          "histogram2d": [
           {
            "colorbar": {
             "outlinewidth": 0,
             "ticks": ""
            },
            "colorscale": [
             [
              0,
              "#0d0887"
             ],
             [
              0.1111111111111111,
              "#46039f"
             ],
             [
              0.2222222222222222,
              "#7201a8"
             ],
             [
              0.3333333333333333,
              "#9c179e"
             ],
             [
              0.4444444444444444,
              "#bd3786"
             ],
             [
              0.5555555555555556,
              "#d8576b"
             ],
             [
              0.6666666666666666,
              "#ed7953"
             ],
             [
              0.7777777777777778,
              "#fb9f3a"
             ],
             [
              0.8888888888888888,
              "#fdca26"
             ],
             [
              1,
              "#f0f921"
             ]
            ],
            "type": "histogram2d"
           }
          ],
          "histogram2dcontour": [
           {
            "colorbar": {
             "outlinewidth": 0,
             "ticks": ""
            },
            "colorscale": [
             [
              0,
              "#0d0887"
             ],
             [
              0.1111111111111111,
              "#46039f"
             ],
             [
              0.2222222222222222,
              "#7201a8"
             ],
             [
              0.3333333333333333,
              "#9c179e"
             ],
             [
              0.4444444444444444,
              "#bd3786"
             ],
             [
              0.5555555555555556,
              "#d8576b"
             ],
             [
              0.6666666666666666,
              "#ed7953"
             ],
             [
              0.7777777777777778,
              "#fb9f3a"
             ],
             [
              0.8888888888888888,
              "#fdca26"
             ],
             [
              1,
              "#f0f921"
             ]
            ],
            "type": "histogram2dcontour"
           }
          ],
          "mesh3d": [
           {
            "colorbar": {
             "outlinewidth": 0,
             "ticks": ""
            },
            "type": "mesh3d"
           }
          ],
          "parcoords": [
           {
            "line": {
             "colorbar": {
              "outlinewidth": 0,
              "ticks": ""
             }
            },
            "type": "parcoords"
           }
          ],
          "pie": [
           {
            "automargin": true,
            "type": "pie"
           }
          ],
          "scatter": [
           {
            "marker": {
             "colorbar": {
              "outlinewidth": 0,
              "ticks": ""
             }
            },
            "type": "scatter"
           }
          ],
          "scatter3d": [
           {
            "line": {
             "colorbar": {
              "outlinewidth": 0,
              "ticks": ""
             }
            },
            "marker": {
             "colorbar": {
              "outlinewidth": 0,
              "ticks": ""
             }
            },
            "type": "scatter3d"
           }
          ],
          "scattercarpet": [
           {
            "marker": {
             "colorbar": {
              "outlinewidth": 0,
              "ticks": ""
             }
            },
            "type": "scattercarpet"
           }
          ],
          "scattergeo": [
           {
            "marker": {
             "colorbar": {
              "outlinewidth": 0,
              "ticks": ""
             }
            },
            "type": "scattergeo"
           }
          ],
          "scattergl": [
           {
            "marker": {
             "colorbar": {
              "outlinewidth": 0,
              "ticks": ""
             }
            },
            "type": "scattergl"
           }
          ],
          "scattermapbox": [
           {
            "marker": {
             "colorbar": {
              "outlinewidth": 0,
              "ticks": ""
             }
            },
            "type": "scattermapbox"
           }
          ],
          "scatterpolar": [
           {
            "marker": {
             "colorbar": {
              "outlinewidth": 0,
              "ticks": ""
             }
            },
            "type": "scatterpolar"
           }
          ],
          "scatterpolargl": [
           {
            "marker": {
             "colorbar": {
              "outlinewidth": 0,
              "ticks": ""
             }
            },
            "type": "scatterpolargl"
           }
          ],
          "scatterternary": [
           {
            "marker": {
             "colorbar": {
              "outlinewidth": 0,
              "ticks": ""
             }
            },
            "type": "scatterternary"
           }
          ],
          "surface": [
           {
            "colorbar": {
             "outlinewidth": 0,
             "ticks": ""
            },
            "colorscale": [
             [
              0,
              "#0d0887"
             ],
             [
              0.1111111111111111,
              "#46039f"
             ],
             [
              0.2222222222222222,
              "#7201a8"
             ],
             [
              0.3333333333333333,
              "#9c179e"
             ],
             [
              0.4444444444444444,
              "#bd3786"
             ],
             [
              0.5555555555555556,
              "#d8576b"
             ],
             [
              0.6666666666666666,
              "#ed7953"
             ],
             [
              0.7777777777777778,
              "#fb9f3a"
             ],
             [
              0.8888888888888888,
              "#fdca26"
             ],
             [
              1,
              "#f0f921"
             ]
            ],
            "type": "surface"
           }
          ],
          "table": [
           {
            "cells": {
             "fill": {
              "color": "#EBF0F8"
             },
             "line": {
              "color": "white"
             }
            },
            "header": {
             "fill": {
              "color": "#C8D4E3"
             },
             "line": {
              "color": "white"
             }
            },
            "type": "table"
           }
          ]
         },
         "layout": {
          "annotationdefaults": {
           "arrowcolor": "#2a3f5f",
           "arrowhead": 0,
           "arrowwidth": 1
          },
          "coloraxis": {
           "colorbar": {
            "outlinewidth": 0,
            "ticks": ""
           }
          },
          "colorscale": {
           "diverging": [
            [
             0,
             "#8e0152"
            ],
            [
             0.1,
             "#c51b7d"
            ],
            [
             0.2,
             "#de77ae"
            ],
            [
             0.3,
             "#f1b6da"
            ],
            [
             0.4,
             "#fde0ef"
            ],
            [
             0.5,
             "#f7f7f7"
            ],
            [
             0.6,
             "#e6f5d0"
            ],
            [
             0.7,
             "#b8e186"
            ],
            [
             0.8,
             "#7fbc41"
            ],
            [
             0.9,
             "#4d9221"
            ],
            [
             1,
             "#276419"
            ]
           ],
           "sequential": [
            [
             0,
             "#0d0887"
            ],
            [
             0.1111111111111111,
             "#46039f"
            ],
            [
             0.2222222222222222,
             "#7201a8"
            ],
            [
             0.3333333333333333,
             "#9c179e"
            ],
            [
             0.4444444444444444,
             "#bd3786"
            ],
            [
             0.5555555555555556,
             "#d8576b"
            ],
            [
             0.6666666666666666,
             "#ed7953"
            ],
            [
             0.7777777777777778,
             "#fb9f3a"
            ],
            [
             0.8888888888888888,
             "#fdca26"
            ],
            [
             1,
             "#f0f921"
            ]
           ],
           "sequentialminus": [
            [
             0,
             "#0d0887"
            ],
            [
             0.1111111111111111,
             "#46039f"
            ],
            [
             0.2222222222222222,
             "#7201a8"
            ],
            [
             0.3333333333333333,
             "#9c179e"
            ],
            [
             0.4444444444444444,
             "#bd3786"
            ],
            [
             0.5555555555555556,
             "#d8576b"
            ],
            [
             0.6666666666666666,
             "#ed7953"
            ],
            [
             0.7777777777777778,
             "#fb9f3a"
            ],
            [
             0.8888888888888888,
             "#fdca26"
            ],
            [
             1,
             "#f0f921"
            ]
           ]
          },
          "colorway": [
           "#636efa",
           "#EF553B",
           "#00cc96",
           "#ab63fa",
           "#FFA15A",
           "#19d3f3",
           "#FF6692",
           "#B6E880",
           "#FF97FF",
           "#FECB52"
          ],
          "font": {
           "color": "#2a3f5f"
          },
          "geo": {
           "bgcolor": "white",
           "lakecolor": "white",
           "landcolor": "#E5ECF6",
           "showlakes": true,
           "showland": true,
           "subunitcolor": "white"
          },
          "hoverlabel": {
           "align": "left"
          },
          "hovermode": "closest",
          "mapbox": {
           "style": "light"
          },
          "paper_bgcolor": "white",
          "plot_bgcolor": "#E5ECF6",
          "polar": {
           "angularaxis": {
            "gridcolor": "white",
            "linecolor": "white",
            "ticks": ""
           },
           "bgcolor": "#E5ECF6",
           "radialaxis": {
            "gridcolor": "white",
            "linecolor": "white",
            "ticks": ""
           }
          },
          "scene": {
           "xaxis": {
            "backgroundcolor": "#E5ECF6",
            "gridcolor": "white",
            "gridwidth": 2,
            "linecolor": "white",
            "showbackground": true,
            "ticks": "",
            "zerolinecolor": "white"
           },
           "yaxis": {
            "backgroundcolor": "#E5ECF6",
            "gridcolor": "white",
            "gridwidth": 2,
            "linecolor": "white",
            "showbackground": true,
            "ticks": "",
            "zerolinecolor": "white"
           },
           "zaxis": {
            "backgroundcolor": "#E5ECF6",
            "gridcolor": "white",
            "gridwidth": 2,
            "linecolor": "white",
            "showbackground": true,
            "ticks": "",
            "zerolinecolor": "white"
           }
          },
          "shapedefaults": {
           "line": {
            "color": "#2a3f5f"
           }
          },
          "ternary": {
           "aaxis": {
            "gridcolor": "white",
            "linecolor": "white",
            "ticks": ""
           },
           "baxis": {
            "gridcolor": "white",
            "linecolor": "white",
            "ticks": ""
           },
           "bgcolor": "#E5ECF6",
           "caxis": {
            "gridcolor": "white",
            "linecolor": "white",
            "ticks": ""
           }
          },
          "title": {
           "x": 0.05
          },
          "xaxis": {
           "automargin": true,
           "gridcolor": "white",
           "linecolor": "white",
           "ticks": "",
           "title": {
            "standoff": 15
           },
           "zerolinecolor": "white",
           "zerolinewidth": 2
          },
          "yaxis": {
           "automargin": true,
           "gridcolor": "white",
           "linecolor": "white",
           "ticks": "",
           "title": {
            "standoff": 15
           },
           "zerolinecolor": "white",
           "zerolinewidth": 2
          }
         }
        },
        "title": {
         "text": "Pokemon Primary and Secondary Typing"
        }
       }
      },
      "text/html": [
       "<div>\n",
       "        \n",
       "        \n",
       "            <div id=\"bfd0696b-d2da-4e76-ba54-db90d0629ba9\" class=\"plotly-graph-div\" style=\"height:525px; width:100%;\"></div>\n",
       "            <script type=\"text/javascript\">\n",
       "                require([\"plotly\"], function(Plotly) {\n",
       "                    window.PLOTLYENV=window.PLOTLYENV || {};\n",
       "                    \n",
       "                if (document.getElementById(\"bfd0696b-d2da-4e76-ba54-db90d0629ba9\")) {\n",
       "                    Plotly.newPlot(\n",
       "                        'bfd0696b-d2da-4e76-ba54-db90d0629ba9',\n",
       "                        [{\"domain\": {\"x\": [0.0, 0.45], \"y\": [0.0, 1.0]}, \"hole\": 0.4, \"hoverinfo\": \"label+percent+name\", \"labels\": [\"Water\", \"Normal\", \"Grass\", \"Bug\", \"Psychic\", \"Fire\", \"Electric\", \"Rock\", \"Dark\", \"Fighting\", \"Ground\", \"Ghost\", \"Dragon\", \"Poison\", \"Steel\", \"Ice\", \"Fairy\", \"Flying\"], \"name\": \"Primary Types\", \"type\": \"pie\", \"values\": [134, 115, 91, 81, 77, 65, 61, 60, 45, 41, 41, 41, 40, 40, 36, 36, 22, 8]}, {\"domain\": {\"x\": [0.55, 1.0], \"y\": [0.0, 1.0]}, \"hole\": 0.4, \"hoverinfo\": \"label+percent+name\", \"labels\": [\"---\", \"Flying\", \"Fairy\", \"Psychic\", \"Ground\", \"Poison\", \"Steel\", \"Dragon\", \"Fighting\", \"Dark\", \"Grass\", \"Ghost\", \"Water\", \"Ice\", \"Fire\", \"Rock\", \"Electric\", \"Normal\", \"Bug\"], \"name\": \"Secondary Types\", \"type\": \"pie\", \"values\": [488, 109, 41, 39, 39, 38, 35, 32, 32, 27, 27, 25, 20, 19, 17, 15, 11, 11, 9]}],\n",
       "                        {\"annotations\": [{\"font\": {\"size\": 16}, \"showarrow\": false, \"text\": \"Primary\", \"x\": 0.17, \"y\": 0.5}, {\"font\": {\"size\": 16}, \"showarrow\": false, \"text\": \"Secondary\", \"x\": 0.85, \"y\": 0.5}], \"template\": {\"data\": {\"bar\": [{\"error_x\": {\"color\": \"#2a3f5f\"}, \"error_y\": {\"color\": \"#2a3f5f\"}, \"marker\": {\"line\": {\"color\": \"#E5ECF6\", \"width\": 0.5}}, \"type\": \"bar\"}], \"barpolar\": [{\"marker\": {\"line\": {\"color\": \"#E5ECF6\", \"width\": 0.5}}, \"type\": \"barpolar\"}], \"carpet\": [{\"aaxis\": {\"endlinecolor\": \"#2a3f5f\", \"gridcolor\": \"white\", \"linecolor\": \"white\", \"minorgridcolor\": \"white\", \"startlinecolor\": \"#2a3f5f\"}, \"baxis\": {\"endlinecolor\": \"#2a3f5f\", \"gridcolor\": \"white\", \"linecolor\": \"white\", \"minorgridcolor\": \"white\", \"startlinecolor\": \"#2a3f5f\"}, \"type\": \"carpet\"}], \"choropleth\": [{\"colorbar\": {\"outlinewidth\": 0, \"ticks\": \"\"}, \"type\": \"choropleth\"}], \"contour\": [{\"colorbar\": {\"outlinewidth\": 0, \"ticks\": \"\"}, \"colorscale\": [[0.0, \"#0d0887\"], [0.1111111111111111, \"#46039f\"], [0.2222222222222222, \"#7201a8\"], [0.3333333333333333, \"#9c179e\"], [0.4444444444444444, \"#bd3786\"], [0.5555555555555556, \"#d8576b\"], [0.6666666666666666, \"#ed7953\"], [0.7777777777777778, \"#fb9f3a\"], [0.8888888888888888, \"#fdca26\"], [1.0, \"#f0f921\"]], \"type\": \"contour\"}], \"contourcarpet\": [{\"colorbar\": {\"outlinewidth\": 0, \"ticks\": \"\"}, \"type\": \"contourcarpet\"}], \"heatmap\": [{\"colorbar\": {\"outlinewidth\": 0, \"ticks\": \"\"}, \"colorscale\": [[0.0, \"#0d0887\"], [0.1111111111111111, \"#46039f\"], [0.2222222222222222, \"#7201a8\"], [0.3333333333333333, \"#9c179e\"], [0.4444444444444444, \"#bd3786\"], [0.5555555555555556, \"#d8576b\"], [0.6666666666666666, \"#ed7953\"], [0.7777777777777778, \"#fb9f3a\"], [0.8888888888888888, \"#fdca26\"], [1.0, \"#f0f921\"]], \"type\": \"heatmap\"}], \"heatmapgl\": [{\"colorbar\": {\"outlinewidth\": 0, \"ticks\": \"\"}, \"colorscale\": [[0.0, \"#0d0887\"], [0.1111111111111111, \"#46039f\"], [0.2222222222222222, \"#7201a8\"], [0.3333333333333333, \"#9c179e\"], [0.4444444444444444, \"#bd3786\"], [0.5555555555555556, \"#d8576b\"], [0.6666666666666666, \"#ed7953\"], [0.7777777777777778, \"#fb9f3a\"], [0.8888888888888888, \"#fdca26\"], [1.0, \"#f0f921\"]], \"type\": \"heatmapgl\"}], \"histogram\": [{\"marker\": {\"colorbar\": {\"outlinewidth\": 0, \"ticks\": \"\"}}, \"type\": \"histogram\"}], \"histogram2d\": [{\"colorbar\": {\"outlinewidth\": 0, \"ticks\": \"\"}, \"colorscale\": [[0.0, \"#0d0887\"], [0.1111111111111111, \"#46039f\"], [0.2222222222222222, \"#7201a8\"], [0.3333333333333333, \"#9c179e\"], [0.4444444444444444, \"#bd3786\"], [0.5555555555555556, \"#d8576b\"], [0.6666666666666666, \"#ed7953\"], [0.7777777777777778, \"#fb9f3a\"], [0.8888888888888888, \"#fdca26\"], [1.0, \"#f0f921\"]], \"type\": \"histogram2d\"}], \"histogram2dcontour\": [{\"colorbar\": {\"outlinewidth\": 0, \"ticks\": \"\"}, \"colorscale\": [[0.0, \"#0d0887\"], [0.1111111111111111, \"#46039f\"], [0.2222222222222222, \"#7201a8\"], [0.3333333333333333, \"#9c179e\"], [0.4444444444444444, \"#bd3786\"], [0.5555555555555556, \"#d8576b\"], [0.6666666666666666, \"#ed7953\"], [0.7777777777777778, \"#fb9f3a\"], [0.8888888888888888, \"#fdca26\"], [1.0, \"#f0f921\"]], \"type\": \"histogram2dcontour\"}], \"mesh3d\": [{\"colorbar\": {\"outlinewidth\": 0, \"ticks\": \"\"}, \"type\": \"mesh3d\"}], \"parcoords\": [{\"line\": {\"colorbar\": {\"outlinewidth\": 0, \"ticks\": \"\"}}, \"type\": \"parcoords\"}], \"pie\": [{\"automargin\": true, \"type\": \"pie\"}], \"scatter\": [{\"marker\": {\"colorbar\": {\"outlinewidth\": 0, \"ticks\": \"\"}}, \"type\": \"scatter\"}], \"scatter3d\": [{\"line\": {\"colorbar\": {\"outlinewidth\": 0, \"ticks\": \"\"}}, \"marker\": {\"colorbar\": {\"outlinewidth\": 0, \"ticks\": \"\"}}, \"type\": \"scatter3d\"}], \"scattercarpet\": [{\"marker\": {\"colorbar\": {\"outlinewidth\": 0, \"ticks\": \"\"}}, \"type\": \"scattercarpet\"}], \"scattergeo\": [{\"marker\": {\"colorbar\": {\"outlinewidth\": 0, \"ticks\": \"\"}}, \"type\": \"scattergeo\"}], \"scattergl\": [{\"marker\": {\"colorbar\": {\"outlinewidth\": 0, \"ticks\": \"\"}}, \"type\": \"scattergl\"}], \"scattermapbox\": [{\"marker\": {\"colorbar\": {\"outlinewidth\": 0, \"ticks\": \"\"}}, \"type\": \"scattermapbox\"}], \"scatterpolar\": [{\"marker\": {\"colorbar\": {\"outlinewidth\": 0, \"ticks\": \"\"}}, \"type\": \"scatterpolar\"}], \"scatterpolargl\": [{\"marker\": {\"colorbar\": {\"outlinewidth\": 0, \"ticks\": \"\"}}, \"type\": \"scatterpolargl\"}], \"scatterternary\": [{\"marker\": {\"colorbar\": {\"outlinewidth\": 0, \"ticks\": \"\"}}, \"type\": \"scatterternary\"}], \"surface\": [{\"colorbar\": {\"outlinewidth\": 0, \"ticks\": \"\"}, \"colorscale\": [[0.0, \"#0d0887\"], [0.1111111111111111, \"#46039f\"], [0.2222222222222222, \"#7201a8\"], [0.3333333333333333, \"#9c179e\"], [0.4444444444444444, \"#bd3786\"], [0.5555555555555556, \"#d8576b\"], [0.6666666666666666, \"#ed7953\"], [0.7777777777777778, \"#fb9f3a\"], [0.8888888888888888, \"#fdca26\"], [1.0, \"#f0f921\"]], \"type\": \"surface\"}], \"table\": [{\"cells\": {\"fill\": {\"color\": \"#EBF0F8\"}, \"line\": {\"color\": \"white\"}}, \"header\": {\"fill\": {\"color\": \"#C8D4E3\"}, \"line\": {\"color\": \"white\"}}, \"type\": \"table\"}]}, \"layout\": {\"annotationdefaults\": {\"arrowcolor\": \"#2a3f5f\", \"arrowhead\": 0, \"arrowwidth\": 1}, \"coloraxis\": {\"colorbar\": {\"outlinewidth\": 0, \"ticks\": \"\"}}, \"colorscale\": {\"diverging\": [[0, \"#8e0152\"], [0.1, \"#c51b7d\"], [0.2, \"#de77ae\"], [0.3, \"#f1b6da\"], [0.4, \"#fde0ef\"], [0.5, \"#f7f7f7\"], [0.6, \"#e6f5d0\"], [0.7, \"#b8e186\"], [0.8, \"#7fbc41\"], [0.9, \"#4d9221\"], [1, \"#276419\"]], \"sequential\": [[0.0, \"#0d0887\"], [0.1111111111111111, \"#46039f\"], [0.2222222222222222, \"#7201a8\"], [0.3333333333333333, \"#9c179e\"], [0.4444444444444444, \"#bd3786\"], [0.5555555555555556, \"#d8576b\"], [0.6666666666666666, \"#ed7953\"], [0.7777777777777778, \"#fb9f3a\"], [0.8888888888888888, \"#fdca26\"], [1.0, \"#f0f921\"]], \"sequentialminus\": [[0.0, \"#0d0887\"], [0.1111111111111111, \"#46039f\"], [0.2222222222222222, \"#7201a8\"], [0.3333333333333333, \"#9c179e\"], [0.4444444444444444, \"#bd3786\"], [0.5555555555555556, \"#d8576b\"], [0.6666666666666666, \"#ed7953\"], [0.7777777777777778, \"#fb9f3a\"], [0.8888888888888888, \"#fdca26\"], [1.0, \"#f0f921\"]]}, \"colorway\": [\"#636efa\", \"#EF553B\", \"#00cc96\", \"#ab63fa\", \"#FFA15A\", \"#19d3f3\", \"#FF6692\", \"#B6E880\", \"#FF97FF\", \"#FECB52\"], \"font\": {\"color\": \"#2a3f5f\"}, \"geo\": {\"bgcolor\": \"white\", \"lakecolor\": \"white\", \"landcolor\": \"#E5ECF6\", \"showlakes\": true, \"showland\": true, \"subunitcolor\": \"white\"}, \"hoverlabel\": {\"align\": \"left\"}, \"hovermode\": \"closest\", \"mapbox\": {\"style\": \"light\"}, \"paper_bgcolor\": \"white\", \"plot_bgcolor\": \"#E5ECF6\", \"polar\": {\"angularaxis\": {\"gridcolor\": \"white\", \"linecolor\": \"white\", \"ticks\": \"\"}, \"bgcolor\": \"#E5ECF6\", \"radialaxis\": {\"gridcolor\": \"white\", \"linecolor\": \"white\", \"ticks\": \"\"}}, \"scene\": {\"xaxis\": {\"backgroundcolor\": \"#E5ECF6\", \"gridcolor\": \"white\", \"gridwidth\": 2, \"linecolor\": \"white\", \"showbackground\": true, \"ticks\": \"\", \"zerolinecolor\": \"white\"}, \"yaxis\": {\"backgroundcolor\": \"#E5ECF6\", \"gridcolor\": \"white\", \"gridwidth\": 2, \"linecolor\": \"white\", \"showbackground\": true, \"ticks\": \"\", \"zerolinecolor\": \"white\"}, \"zaxis\": {\"backgroundcolor\": \"#E5ECF6\", \"gridcolor\": \"white\", \"gridwidth\": 2, \"linecolor\": \"white\", \"showbackground\": true, \"ticks\": \"\", \"zerolinecolor\": \"white\"}}, \"shapedefaults\": {\"line\": {\"color\": \"#2a3f5f\"}}, \"ternary\": {\"aaxis\": {\"gridcolor\": \"white\", \"linecolor\": \"white\", \"ticks\": \"\"}, \"baxis\": {\"gridcolor\": \"white\", \"linecolor\": \"white\", \"ticks\": \"\"}, \"bgcolor\": \"#E5ECF6\", \"caxis\": {\"gridcolor\": \"white\", \"linecolor\": \"white\", \"ticks\": \"\"}}, \"title\": {\"x\": 0.05}, \"xaxis\": {\"automargin\": true, \"gridcolor\": \"white\", \"linecolor\": \"white\", \"ticks\": \"\", \"title\": {\"standoff\": 15}, \"zerolinecolor\": \"white\", \"zerolinewidth\": 2}, \"yaxis\": {\"automargin\": true, \"gridcolor\": \"white\", \"linecolor\": \"white\", \"ticks\": \"\", \"title\": {\"standoff\": 15}, \"zerolinecolor\": \"white\", \"zerolinewidth\": 2}}}, \"title\": {\"text\": \"Pokemon Primary and Secondary Typing\"}},\n",
       "                        {\"responsive\": true}\n",
       "                    ).then(function(){\n",
       "                            \n",
       "var gd = document.getElementById('bfd0696b-d2da-4e76-ba54-db90d0629ba9');\n",
       "var x = new MutationObserver(function (mutations, observer) {{\n",
       "        var display = window.getComputedStyle(gd).display;\n",
       "        if (!display || display === 'none') {{\n",
       "            console.log([gd, 'removed!']);\n",
       "            Plotly.purge(gd);\n",
       "            observer.disconnect();\n",
       "        }}\n",
       "}});\n",
       "\n",
       "// Listen for the removal of the full notebook cells\n",
       "var notebookContainer = gd.closest('#notebook-container');\n",
       "if (notebookContainer) {{\n",
       "    x.observe(notebookContainer, {childList: true});\n",
       "}}\n",
       "\n",
       "// Listen for the clearing of the current output cell\n",
       "var outputEl = gd.closest('.output');\n",
       "if (outputEl) {{\n",
       "    x.observe(outputEl, {childList: true});\n",
       "}}\n",
       "\n",
       "                        })\n",
       "                };\n",
       "                });\n",
       "            </script>\n",
       "        </div>"
      ]
     },
     "metadata": {},
     "output_type": "display_data"
    }
   ],
   "source": [
    "## Plotly bar & pie subplots ##\n",
    "\n",
    "prim_labels = pokedex.primary.value_counts().keys()\n",
    "prim_values = pokedex.primary.value_counts().values\n",
    "\n",
    "sec_labels = pokedex.secondary.value_counts().keys()\n",
    "sec_values = pokedex.secondary.value_counts().values\n",
    "\n",
    "fig = make_subplots(rows=1, cols=2, specs=[[{'type':'domain'}, {'type':'domain'}]])\n",
    "\n",
    "fig.add_trace(go.Pie(labels=prim_labels, values=prim_values, name=\"Primary Types\"), 1, 1)\n",
    "fig.add_trace(go.Pie(labels=sec_labels, values=sec_values, name=\"Secondary Types\"), 1, 2)\n",
    "\n",
    "# Use `hole` to create a donut-like pie chart\n",
    "fig.update_traces(hole=.4, hoverinfo=\"label+percent+name\")\n",
    "\n",
    "fig.update_layout(\n",
    "    title_text=\"Pokemon Primary and Secondary Typing\",\n",
    "    # Add annotations in the center of the donut pies.\n",
    "    annotations=[dict(text='Primary', x=0.17, y=0.5, font_size=16, showarrow=False),\n",
    "                 dict(text='Secondary', x=0.85, y=0.5, font_size=16, showarrow=False)])\n",
    "\n",
    "# fig = go.Figure(data=[go.Pie(labels=labels, values=values)])\n",
    "fig.show()"
   ]
  },
  {
   "cell_type": "code",
   "execution_count": 81,
   "metadata": {},
   "outputs": [
    {
     "data": {
      "application/vnd.plotly.v1+json": {
       "config": {
        "plotlyServerURL": "https://plot.ly"
       },
       "data": [
        {
         "name": "Primary",
         "type": "bar",
         "x": [
          "Water",
          "Normal",
          "Grass",
          "Bug",
          "Psychic",
          "Fire",
          "Electric",
          "Rock",
          "Dark",
          "Fighting",
          "Ground",
          "Ghost",
          "Dragon",
          "Poison",
          "Steel",
          "Ice",
          "Fairy",
          "Flying"
         ],
         "y": [
          134,
          115,
          91,
          81,
          77,
          65,
          61,
          60,
          45,
          41,
          41,
          41,
          40,
          40,
          36,
          36,
          22,
          8
         ]
        },
        {
         "name": "Secondary",
         "type": "bar",
         "x": [
          "---",
          "Flying",
          "Fairy",
          "Psychic",
          "Ground",
          "Poison",
          "Steel",
          "Dragon",
          "Fighting",
          "Dark",
          "Grass",
          "Ghost",
          "Water",
          "Ice",
          "Fire",
          "Rock",
          "Electric",
          "Normal",
          "Bug"
         ],
         "y": [
          488,
          109,
          41,
          39,
          39,
          38,
          35,
          32,
          32,
          27,
          27,
          25,
          20,
          19,
          17,
          15,
          11,
          11,
          9
         ]
        }
       ],
       "layout": {
        "barmode": "group",
        "template": {
         "data": {
          "bar": [
           {
            "error_x": {
             "color": "#2a3f5f"
            },
            "error_y": {
             "color": "#2a3f5f"
            },
            "marker": {
             "line": {
              "color": "#E5ECF6",
              "width": 0.5
             }
            },
            "type": "bar"
           }
          ],
          "barpolar": [
           {
            "marker": {
             "line": {
              "color": "#E5ECF6",
              "width": 0.5
             }
            },
            "type": "barpolar"
           }
          ],
          "carpet": [
           {
            "aaxis": {
             "endlinecolor": "#2a3f5f",
             "gridcolor": "white",
             "linecolor": "white",
             "minorgridcolor": "white",
             "startlinecolor": "#2a3f5f"
            },
            "baxis": {
             "endlinecolor": "#2a3f5f",
             "gridcolor": "white",
             "linecolor": "white",
             "minorgridcolor": "white",
             "startlinecolor": "#2a3f5f"
            },
            "type": "carpet"
           }
          ],
          "choropleth": [
           {
            "colorbar": {
             "outlinewidth": 0,
             "ticks": ""
            },
            "type": "choropleth"
           }
          ],
          "contour": [
           {
            "colorbar": {
             "outlinewidth": 0,
             "ticks": ""
            },
            "colorscale": [
             [
              0,
              "#0d0887"
             ],
             [
              0.1111111111111111,
              "#46039f"
             ],
             [
              0.2222222222222222,
              "#7201a8"
             ],
             [
              0.3333333333333333,
              "#9c179e"
             ],
             [
              0.4444444444444444,
              "#bd3786"
             ],
             [
              0.5555555555555556,
              "#d8576b"
             ],
             [
              0.6666666666666666,
              "#ed7953"
             ],
             [
              0.7777777777777778,
              "#fb9f3a"
             ],
             [
              0.8888888888888888,
              "#fdca26"
             ],
             [
              1,
              "#f0f921"
             ]
            ],
            "type": "contour"
           }
          ],
          "contourcarpet": [
           {
            "colorbar": {
             "outlinewidth": 0,
             "ticks": ""
            },
            "type": "contourcarpet"
           }
          ],
          "heatmap": [
           {
            "colorbar": {
             "outlinewidth": 0,
             "ticks": ""
            },
            "colorscale": [
             [
              0,
              "#0d0887"
             ],
             [
              0.1111111111111111,
              "#46039f"
             ],
             [
              0.2222222222222222,
              "#7201a8"
             ],
             [
              0.3333333333333333,
              "#9c179e"
             ],
             [
              0.4444444444444444,
              "#bd3786"
             ],
             [
              0.5555555555555556,
              "#d8576b"
             ],
             [
              0.6666666666666666,
              "#ed7953"
             ],
             [
              0.7777777777777778,
              "#fb9f3a"
             ],
             [
              0.8888888888888888,
              "#fdca26"
             ],
             [
              1,
              "#f0f921"
             ]
            ],
            "type": "heatmap"
           }
          ],
          "heatmapgl": [
           {
            "colorbar": {
             "outlinewidth": 0,
             "ticks": ""
            },
            "colorscale": [
             [
              0,
              "#0d0887"
             ],
             [
              0.1111111111111111,
              "#46039f"
             ],
             [
              0.2222222222222222,
              "#7201a8"
             ],
             [
              0.3333333333333333,
              "#9c179e"
             ],
             [
              0.4444444444444444,
              "#bd3786"
             ],
             [
              0.5555555555555556,
              "#d8576b"
             ],
             [
              0.6666666666666666,
              "#ed7953"
             ],
             [
              0.7777777777777778,
              "#fb9f3a"
             ],
             [
              0.8888888888888888,
              "#fdca26"
             ],
             [
              1,
              "#f0f921"
             ]
            ],
            "type": "heatmapgl"
           }
          ],
          "histogram": [
           {
            "marker": {
             "colorbar": {
              "outlinewidth": 0,
              "ticks": ""
             }
            },
            "type": "histogram"
           }
          ],
          "histogram2d": [
           {
            "colorbar": {
             "outlinewidth": 0,
             "ticks": ""
            },
            "colorscale": [
             [
              0,
              "#0d0887"
             ],
             [
              0.1111111111111111,
              "#46039f"
             ],
             [
              0.2222222222222222,
              "#7201a8"
             ],
             [
              0.3333333333333333,
              "#9c179e"
             ],
             [
              0.4444444444444444,
              "#bd3786"
             ],
             [
              0.5555555555555556,
              "#d8576b"
             ],
             [
              0.6666666666666666,
              "#ed7953"
             ],
             [
              0.7777777777777778,
              "#fb9f3a"
             ],
             [
              0.8888888888888888,
              "#fdca26"
             ],
             [
              1,
              "#f0f921"
             ]
            ],
            "type": "histogram2d"
           }
          ],
          "histogram2dcontour": [
           {
            "colorbar": {
             "outlinewidth": 0,
             "ticks": ""
            },
            "colorscale": [
             [
              0,
              "#0d0887"
             ],
             [
              0.1111111111111111,
              "#46039f"
             ],
             [
              0.2222222222222222,
              "#7201a8"
             ],
             [
              0.3333333333333333,
              "#9c179e"
             ],
             [
              0.4444444444444444,
              "#bd3786"
             ],
             [
              0.5555555555555556,
              "#d8576b"
             ],
             [
              0.6666666666666666,
              "#ed7953"
             ],
             [
              0.7777777777777778,
              "#fb9f3a"
             ],
             [
              0.8888888888888888,
              "#fdca26"
             ],
             [
              1,
              "#f0f921"
             ]
            ],
            "type": "histogram2dcontour"
           }
          ],
          "mesh3d": [
           {
            "colorbar": {
             "outlinewidth": 0,
             "ticks": ""
            },
            "type": "mesh3d"
           }
          ],
          "parcoords": [
           {
            "line": {
             "colorbar": {
              "outlinewidth": 0,
              "ticks": ""
             }
            },
            "type": "parcoords"
           }
          ],
          "pie": [
           {
            "automargin": true,
            "type": "pie"
           }
          ],
          "scatter": [
           {
            "marker": {
             "colorbar": {
              "outlinewidth": 0,
              "ticks": ""
             }
            },
            "type": "scatter"
           }
          ],
          "scatter3d": [
           {
            "line": {
             "colorbar": {
              "outlinewidth": 0,
              "ticks": ""
             }
            },
            "marker": {
             "colorbar": {
              "outlinewidth": 0,
              "ticks": ""
             }
            },
            "type": "scatter3d"
           }
          ],
          "scattercarpet": [
           {
            "marker": {
             "colorbar": {
              "outlinewidth": 0,
              "ticks": ""
             }
            },
            "type": "scattercarpet"
           }
          ],
          "scattergeo": [
           {
            "marker": {
             "colorbar": {
              "outlinewidth": 0,
              "ticks": ""
             }
            },
            "type": "scattergeo"
           }
          ],
          "scattergl": [
           {
            "marker": {
             "colorbar": {
              "outlinewidth": 0,
              "ticks": ""
             }
            },
            "type": "scattergl"
           }
          ],
          "scattermapbox": [
           {
            "marker": {
             "colorbar": {
              "outlinewidth": 0,
              "ticks": ""
             }
            },
            "type": "scattermapbox"
           }
          ],
          "scatterpolar": [
           {
            "marker": {
             "colorbar": {
              "outlinewidth": 0,
              "ticks": ""
             }
            },
            "type": "scatterpolar"
           }
          ],
          "scatterpolargl": [
           {
            "marker": {
             "colorbar": {
              "outlinewidth": 0,
              "ticks": ""
             }
            },
            "type": "scatterpolargl"
           }
          ],
          "scatterternary": [
           {
            "marker": {
             "colorbar": {
              "outlinewidth": 0,
              "ticks": ""
             }
            },
            "type": "scatterternary"
           }
          ],
          "surface": [
           {
            "colorbar": {
             "outlinewidth": 0,
             "ticks": ""
            },
            "colorscale": [
             [
              0,
              "#0d0887"
             ],
             [
              0.1111111111111111,
              "#46039f"
             ],
             [
              0.2222222222222222,
              "#7201a8"
             ],
             [
              0.3333333333333333,
              "#9c179e"
             ],
             [
              0.4444444444444444,
              "#bd3786"
             ],
             [
              0.5555555555555556,
              "#d8576b"
             ],
             [
              0.6666666666666666,
              "#ed7953"
             ],
             [
              0.7777777777777778,
              "#fb9f3a"
             ],
             [
              0.8888888888888888,
              "#fdca26"
             ],
             [
              1,
              "#f0f921"
             ]
            ],
            "type": "surface"
           }
          ],
          "table": [
           {
            "cells": {
             "fill": {
              "color": "#EBF0F8"
             },
             "line": {
              "color": "white"
             }
            },
            "header": {
             "fill": {
              "color": "#C8D4E3"
             },
             "line": {
              "color": "white"
             }
            },
            "type": "table"
           }
          ]
         },
         "layout": {
          "annotationdefaults": {
           "arrowcolor": "#2a3f5f",
           "arrowhead": 0,
           "arrowwidth": 1
          },
          "coloraxis": {
           "colorbar": {
            "outlinewidth": 0,
            "ticks": ""
           }
          },
          "colorscale": {
           "diverging": [
            [
             0,
             "#8e0152"
            ],
            [
             0.1,
             "#c51b7d"
            ],
            [
             0.2,
             "#de77ae"
            ],
            [
             0.3,
             "#f1b6da"
            ],
            [
             0.4,
             "#fde0ef"
            ],
            [
             0.5,
             "#f7f7f7"
            ],
            [
             0.6,
             "#e6f5d0"
            ],
            [
             0.7,
             "#b8e186"
            ],
            [
             0.8,
             "#7fbc41"
            ],
            [
             0.9,
             "#4d9221"
            ],
            [
             1,
             "#276419"
            ]
           ],
           "sequential": [
            [
             0,
             "#0d0887"
            ],
            [
             0.1111111111111111,
             "#46039f"
            ],
            [
             0.2222222222222222,
             "#7201a8"
            ],
            [
             0.3333333333333333,
             "#9c179e"
            ],
            [
             0.4444444444444444,
             "#bd3786"
            ],
            [
             0.5555555555555556,
             "#d8576b"
            ],
            [
             0.6666666666666666,
             "#ed7953"
            ],
            [
             0.7777777777777778,
             "#fb9f3a"
            ],
            [
             0.8888888888888888,
             "#fdca26"
            ],
            [
             1,
             "#f0f921"
            ]
           ],
           "sequentialminus": [
            [
             0,
             "#0d0887"
            ],
            [
             0.1111111111111111,
             "#46039f"
            ],
            [
             0.2222222222222222,
             "#7201a8"
            ],
            [
             0.3333333333333333,
             "#9c179e"
            ],
            [
             0.4444444444444444,
             "#bd3786"
            ],
            [
             0.5555555555555556,
             "#d8576b"
            ],
            [
             0.6666666666666666,
             "#ed7953"
            ],
            [
             0.7777777777777778,
             "#fb9f3a"
            ],
            [
             0.8888888888888888,
             "#fdca26"
            ],
            [
             1,
             "#f0f921"
            ]
           ]
          },
          "colorway": [
           "#636efa",
           "#EF553B",
           "#00cc96",
           "#ab63fa",
           "#FFA15A",
           "#19d3f3",
           "#FF6692",
           "#B6E880",
           "#FF97FF",
           "#FECB52"
          ],
          "font": {
           "color": "#2a3f5f"
          },
          "geo": {
           "bgcolor": "white",
           "lakecolor": "white",
           "landcolor": "#E5ECF6",
           "showlakes": true,
           "showland": true,
           "subunitcolor": "white"
          },
          "hoverlabel": {
           "align": "left"
          },
          "hovermode": "closest",
          "mapbox": {
           "style": "light"
          },
          "paper_bgcolor": "white",
          "plot_bgcolor": "#E5ECF6",
          "polar": {
           "angularaxis": {
            "gridcolor": "white",
            "linecolor": "white",
            "ticks": ""
           },
           "bgcolor": "#E5ECF6",
           "radialaxis": {
            "gridcolor": "white",
            "linecolor": "white",
            "ticks": ""
           }
          },
          "scene": {
           "xaxis": {
            "backgroundcolor": "#E5ECF6",
            "gridcolor": "white",
            "gridwidth": 2,
            "linecolor": "white",
            "showbackground": true,
            "ticks": "",
            "zerolinecolor": "white"
           },
           "yaxis": {
            "backgroundcolor": "#E5ECF6",
            "gridcolor": "white",
            "gridwidth": 2,
            "linecolor": "white",
            "showbackground": true,
            "ticks": "",
            "zerolinecolor": "white"
           },
           "zaxis": {
            "backgroundcolor": "#E5ECF6",
            "gridcolor": "white",
            "gridwidth": 2,
            "linecolor": "white",
            "showbackground": true,
            "ticks": "",
            "zerolinecolor": "white"
           }
          },
          "shapedefaults": {
           "line": {
            "color": "#2a3f5f"
           }
          },
          "ternary": {
           "aaxis": {
            "gridcolor": "white",
            "linecolor": "white",
            "ticks": ""
           },
           "baxis": {
            "gridcolor": "white",
            "linecolor": "white",
            "ticks": ""
           },
           "bgcolor": "#E5ECF6",
           "caxis": {
            "gridcolor": "white",
            "linecolor": "white",
            "ticks": ""
           }
          },
          "title": {
           "x": 0.05
          },
          "xaxis": {
           "automargin": true,
           "gridcolor": "white",
           "linecolor": "white",
           "ticks": "",
           "title": {
            "standoff": 15
           },
           "zerolinecolor": "white",
           "zerolinewidth": 2
          },
          "yaxis": {
           "automargin": true,
           "gridcolor": "white",
           "linecolor": "white",
           "ticks": "",
           "title": {
            "standoff": 15
           },
           "zerolinecolor": "white",
           "zerolinewidth": 2
          }
         }
        },
        "title": {
         "text": "Primary vs Secondary Typing"
        }
       }
      },
      "text/html": [
       "<div>\n",
       "        \n",
       "        \n",
       "            <div id=\"17b5aed5-176f-4c7a-be11-dba78df091f9\" class=\"plotly-graph-div\" style=\"height:525px; width:100%;\"></div>\n",
       "            <script type=\"text/javascript\">\n",
       "                require([\"plotly\"], function(Plotly) {\n",
       "                    window.PLOTLYENV=window.PLOTLYENV || {};\n",
       "                    \n",
       "                if (document.getElementById(\"17b5aed5-176f-4c7a-be11-dba78df091f9\")) {\n",
       "                    Plotly.newPlot(\n",
       "                        '17b5aed5-176f-4c7a-be11-dba78df091f9',\n",
       "                        [{\"name\": \"Primary\", \"type\": \"bar\", \"x\": [\"Water\", \"Normal\", \"Grass\", \"Bug\", \"Psychic\", \"Fire\", \"Electric\", \"Rock\", \"Dark\", \"Fighting\", \"Ground\", \"Ghost\", \"Dragon\", \"Poison\", \"Steel\", \"Ice\", \"Fairy\", \"Flying\"], \"y\": [134, 115, 91, 81, 77, 65, 61, 60, 45, 41, 41, 41, 40, 40, 36, 36, 22, 8]}, {\"name\": \"Secondary\", \"type\": \"bar\", \"x\": [\"---\", \"Flying\", \"Fairy\", \"Psychic\", \"Ground\", \"Poison\", \"Steel\", \"Dragon\", \"Fighting\", \"Dark\", \"Grass\", \"Ghost\", \"Water\", \"Ice\", \"Fire\", \"Rock\", \"Electric\", \"Normal\", \"Bug\"], \"y\": [488, 109, 41, 39, 39, 38, 35, 32, 32, 27, 27, 25, 20, 19, 17, 15, 11, 11, 9]}],\n",
       "                        {\"barmode\": \"group\", \"template\": {\"data\": {\"bar\": [{\"error_x\": {\"color\": \"#2a3f5f\"}, \"error_y\": {\"color\": \"#2a3f5f\"}, \"marker\": {\"line\": {\"color\": \"#E5ECF6\", \"width\": 0.5}}, \"type\": \"bar\"}], \"barpolar\": [{\"marker\": {\"line\": {\"color\": \"#E5ECF6\", \"width\": 0.5}}, \"type\": \"barpolar\"}], \"carpet\": [{\"aaxis\": {\"endlinecolor\": \"#2a3f5f\", \"gridcolor\": \"white\", \"linecolor\": \"white\", \"minorgridcolor\": \"white\", \"startlinecolor\": \"#2a3f5f\"}, \"baxis\": {\"endlinecolor\": \"#2a3f5f\", \"gridcolor\": \"white\", \"linecolor\": \"white\", \"minorgridcolor\": \"white\", \"startlinecolor\": \"#2a3f5f\"}, \"type\": \"carpet\"}], \"choropleth\": [{\"colorbar\": {\"outlinewidth\": 0, \"ticks\": \"\"}, \"type\": \"choropleth\"}], \"contour\": [{\"colorbar\": {\"outlinewidth\": 0, \"ticks\": \"\"}, \"colorscale\": [[0.0, \"#0d0887\"], [0.1111111111111111, \"#46039f\"], [0.2222222222222222, \"#7201a8\"], [0.3333333333333333, \"#9c179e\"], [0.4444444444444444, \"#bd3786\"], [0.5555555555555556, \"#d8576b\"], [0.6666666666666666, \"#ed7953\"], [0.7777777777777778, \"#fb9f3a\"], [0.8888888888888888, \"#fdca26\"], [1.0, \"#f0f921\"]], \"type\": \"contour\"}], \"contourcarpet\": [{\"colorbar\": {\"outlinewidth\": 0, \"ticks\": \"\"}, \"type\": \"contourcarpet\"}], \"heatmap\": [{\"colorbar\": {\"outlinewidth\": 0, \"ticks\": \"\"}, \"colorscale\": [[0.0, \"#0d0887\"], [0.1111111111111111, \"#46039f\"], [0.2222222222222222, \"#7201a8\"], [0.3333333333333333, \"#9c179e\"], [0.4444444444444444, \"#bd3786\"], [0.5555555555555556, \"#d8576b\"], [0.6666666666666666, \"#ed7953\"], [0.7777777777777778, \"#fb9f3a\"], [0.8888888888888888, \"#fdca26\"], [1.0, \"#f0f921\"]], \"type\": \"heatmap\"}], \"heatmapgl\": [{\"colorbar\": {\"outlinewidth\": 0, \"ticks\": \"\"}, \"colorscale\": [[0.0, \"#0d0887\"], [0.1111111111111111, \"#46039f\"], [0.2222222222222222, \"#7201a8\"], [0.3333333333333333, \"#9c179e\"], [0.4444444444444444, \"#bd3786\"], [0.5555555555555556, \"#d8576b\"], [0.6666666666666666, \"#ed7953\"], [0.7777777777777778, \"#fb9f3a\"], [0.8888888888888888, \"#fdca26\"], [1.0, \"#f0f921\"]], \"type\": \"heatmapgl\"}], \"histogram\": [{\"marker\": {\"colorbar\": {\"outlinewidth\": 0, \"ticks\": \"\"}}, \"type\": \"histogram\"}], \"histogram2d\": [{\"colorbar\": {\"outlinewidth\": 0, \"ticks\": \"\"}, \"colorscale\": [[0.0, \"#0d0887\"], [0.1111111111111111, \"#46039f\"], [0.2222222222222222, \"#7201a8\"], [0.3333333333333333, \"#9c179e\"], [0.4444444444444444, \"#bd3786\"], [0.5555555555555556, \"#d8576b\"], [0.6666666666666666, \"#ed7953\"], [0.7777777777777778, \"#fb9f3a\"], [0.8888888888888888, \"#fdca26\"], [1.0, \"#f0f921\"]], \"type\": \"histogram2d\"}], \"histogram2dcontour\": [{\"colorbar\": {\"outlinewidth\": 0, \"ticks\": \"\"}, \"colorscale\": [[0.0, \"#0d0887\"], [0.1111111111111111, \"#46039f\"], [0.2222222222222222, \"#7201a8\"], [0.3333333333333333, \"#9c179e\"], [0.4444444444444444, \"#bd3786\"], [0.5555555555555556, \"#d8576b\"], [0.6666666666666666, \"#ed7953\"], [0.7777777777777778, \"#fb9f3a\"], [0.8888888888888888, \"#fdca26\"], [1.0, \"#f0f921\"]], \"type\": \"histogram2dcontour\"}], \"mesh3d\": [{\"colorbar\": {\"outlinewidth\": 0, \"ticks\": \"\"}, \"type\": \"mesh3d\"}], \"parcoords\": [{\"line\": {\"colorbar\": {\"outlinewidth\": 0, \"ticks\": \"\"}}, \"type\": \"parcoords\"}], \"pie\": [{\"automargin\": true, \"type\": \"pie\"}], \"scatter\": [{\"marker\": {\"colorbar\": {\"outlinewidth\": 0, \"ticks\": \"\"}}, \"type\": \"scatter\"}], \"scatter3d\": [{\"line\": {\"colorbar\": {\"outlinewidth\": 0, \"ticks\": \"\"}}, \"marker\": {\"colorbar\": {\"outlinewidth\": 0, \"ticks\": \"\"}}, \"type\": \"scatter3d\"}], \"scattercarpet\": [{\"marker\": {\"colorbar\": {\"outlinewidth\": 0, \"ticks\": \"\"}}, \"type\": \"scattercarpet\"}], \"scattergeo\": [{\"marker\": {\"colorbar\": {\"outlinewidth\": 0, \"ticks\": \"\"}}, \"type\": \"scattergeo\"}], \"scattergl\": [{\"marker\": {\"colorbar\": {\"outlinewidth\": 0, \"ticks\": \"\"}}, \"type\": \"scattergl\"}], \"scattermapbox\": [{\"marker\": {\"colorbar\": {\"outlinewidth\": 0, \"ticks\": \"\"}}, \"type\": \"scattermapbox\"}], \"scatterpolar\": [{\"marker\": {\"colorbar\": {\"outlinewidth\": 0, \"ticks\": \"\"}}, \"type\": \"scatterpolar\"}], \"scatterpolargl\": [{\"marker\": {\"colorbar\": {\"outlinewidth\": 0, \"ticks\": \"\"}}, \"type\": \"scatterpolargl\"}], \"scatterternary\": [{\"marker\": {\"colorbar\": {\"outlinewidth\": 0, \"ticks\": \"\"}}, \"type\": \"scatterternary\"}], \"surface\": [{\"colorbar\": {\"outlinewidth\": 0, \"ticks\": \"\"}, \"colorscale\": [[0.0, \"#0d0887\"], [0.1111111111111111, \"#46039f\"], [0.2222222222222222, \"#7201a8\"], [0.3333333333333333, \"#9c179e\"], [0.4444444444444444, \"#bd3786\"], [0.5555555555555556, \"#d8576b\"], [0.6666666666666666, \"#ed7953\"], [0.7777777777777778, \"#fb9f3a\"], [0.8888888888888888, \"#fdca26\"], [1.0, \"#f0f921\"]], \"type\": \"surface\"}], \"table\": [{\"cells\": {\"fill\": {\"color\": \"#EBF0F8\"}, \"line\": {\"color\": \"white\"}}, \"header\": {\"fill\": {\"color\": \"#C8D4E3\"}, \"line\": {\"color\": \"white\"}}, \"type\": \"table\"}]}, \"layout\": {\"annotationdefaults\": {\"arrowcolor\": \"#2a3f5f\", \"arrowhead\": 0, \"arrowwidth\": 1}, \"coloraxis\": {\"colorbar\": {\"outlinewidth\": 0, \"ticks\": \"\"}}, \"colorscale\": {\"diverging\": [[0, \"#8e0152\"], [0.1, \"#c51b7d\"], [0.2, \"#de77ae\"], [0.3, \"#f1b6da\"], [0.4, \"#fde0ef\"], [0.5, \"#f7f7f7\"], [0.6, \"#e6f5d0\"], [0.7, \"#b8e186\"], [0.8, \"#7fbc41\"], [0.9, \"#4d9221\"], [1, \"#276419\"]], \"sequential\": [[0.0, \"#0d0887\"], [0.1111111111111111, \"#46039f\"], [0.2222222222222222, \"#7201a8\"], [0.3333333333333333, \"#9c179e\"], [0.4444444444444444, \"#bd3786\"], [0.5555555555555556, \"#d8576b\"], [0.6666666666666666, \"#ed7953\"], [0.7777777777777778, \"#fb9f3a\"], [0.8888888888888888, \"#fdca26\"], [1.0, \"#f0f921\"]], \"sequentialminus\": [[0.0, \"#0d0887\"], [0.1111111111111111, \"#46039f\"], [0.2222222222222222, \"#7201a8\"], [0.3333333333333333, \"#9c179e\"], [0.4444444444444444, \"#bd3786\"], [0.5555555555555556, \"#d8576b\"], [0.6666666666666666, \"#ed7953\"], [0.7777777777777778, \"#fb9f3a\"], [0.8888888888888888, \"#fdca26\"], [1.0, \"#f0f921\"]]}, \"colorway\": [\"#636efa\", \"#EF553B\", \"#00cc96\", \"#ab63fa\", \"#FFA15A\", \"#19d3f3\", \"#FF6692\", \"#B6E880\", \"#FF97FF\", \"#FECB52\"], \"font\": {\"color\": \"#2a3f5f\"}, \"geo\": {\"bgcolor\": \"white\", \"lakecolor\": \"white\", \"landcolor\": \"#E5ECF6\", \"showlakes\": true, \"showland\": true, \"subunitcolor\": \"white\"}, \"hoverlabel\": {\"align\": \"left\"}, \"hovermode\": \"closest\", \"mapbox\": {\"style\": \"light\"}, \"paper_bgcolor\": \"white\", \"plot_bgcolor\": \"#E5ECF6\", \"polar\": {\"angularaxis\": {\"gridcolor\": \"white\", \"linecolor\": \"white\", \"ticks\": \"\"}, \"bgcolor\": \"#E5ECF6\", \"radialaxis\": {\"gridcolor\": \"white\", \"linecolor\": \"white\", \"ticks\": \"\"}}, \"scene\": {\"xaxis\": {\"backgroundcolor\": \"#E5ECF6\", \"gridcolor\": \"white\", \"gridwidth\": 2, \"linecolor\": \"white\", \"showbackground\": true, \"ticks\": \"\", \"zerolinecolor\": \"white\"}, \"yaxis\": {\"backgroundcolor\": \"#E5ECF6\", \"gridcolor\": \"white\", \"gridwidth\": 2, \"linecolor\": \"white\", \"showbackground\": true, \"ticks\": \"\", \"zerolinecolor\": \"white\"}, \"zaxis\": {\"backgroundcolor\": \"#E5ECF6\", \"gridcolor\": \"white\", \"gridwidth\": 2, \"linecolor\": \"white\", \"showbackground\": true, \"ticks\": \"\", \"zerolinecolor\": \"white\"}}, \"shapedefaults\": {\"line\": {\"color\": \"#2a3f5f\"}}, \"ternary\": {\"aaxis\": {\"gridcolor\": \"white\", \"linecolor\": \"white\", \"ticks\": \"\"}, \"baxis\": {\"gridcolor\": \"white\", \"linecolor\": \"white\", \"ticks\": \"\"}, \"bgcolor\": \"#E5ECF6\", \"caxis\": {\"gridcolor\": \"white\", \"linecolor\": \"white\", \"ticks\": \"\"}}, \"title\": {\"x\": 0.05}, \"xaxis\": {\"automargin\": true, \"gridcolor\": \"white\", \"linecolor\": \"white\", \"ticks\": \"\", \"title\": {\"standoff\": 15}, \"zerolinecolor\": \"white\", \"zerolinewidth\": 2}, \"yaxis\": {\"automargin\": true, \"gridcolor\": \"white\", \"linecolor\": \"white\", \"ticks\": \"\", \"title\": {\"standoff\": 15}, \"zerolinecolor\": \"white\", \"zerolinewidth\": 2}}}, \"title\": {\"text\": \"Primary vs Secondary Typing\"}},\n",
       "                        {\"responsive\": true}\n",
       "                    ).then(function(){\n",
       "                            \n",
       "var gd = document.getElementById('17b5aed5-176f-4c7a-be11-dba78df091f9');\n",
       "var x = new MutationObserver(function (mutations, observer) {{\n",
       "        var display = window.getComputedStyle(gd).display;\n",
       "        if (!display || display === 'none') {{\n",
       "            console.log([gd, 'removed!']);\n",
       "            Plotly.purge(gd);\n",
       "            observer.disconnect();\n",
       "        }}\n",
       "}});\n",
       "\n",
       "// Listen for the removal of the full notebook cells\n",
       "var notebookContainer = gd.closest('#notebook-container');\n",
       "if (notebookContainer) {{\n",
       "    x.observe(notebookContainer, {childList: true});\n",
       "}}\n",
       "\n",
       "// Listen for the clearing of the current output cell\n",
       "var outputEl = gd.closest('.output');\n",
       "if (outputEl) {{\n",
       "    x.observe(outputEl, {childList: true});\n",
       "}}\n",
       "\n",
       "                        })\n",
       "                };\n",
       "                });\n",
       "            </script>\n",
       "        </div>"
      ]
     },
     "metadata": {},
     "output_type": "display_data"
    }
   ],
   "source": [
    "## Plotly grouped bar plots ##\n",
    "\n",
    "prim_labels = pokedex.primary.value_counts().keys()\n",
    "prim_values = pokedex.primary.value_counts().values\n",
    "\n",
    "sec_labels = pokedex.secondary.value_counts().keys()\n",
    "sec_values = pokedex.secondary.value_counts().values\n",
    "\n",
    "fig = go.Figure(data=[\n",
    "    go.Bar(name='Primary', x=prim_labels, y=prim_values),\n",
    "    go.Bar(name='Secondary', x=sec_labels, y=sec_values)\n",
    "])\n",
    "# Change the bar mode\n",
    "fig.update_layout(title_text='Primary vs Secondary Typing', \n",
    "                  barmode='group')\n",
    "fig.show()"
   ]
  },
  {
   "cell_type": "markdown",
   "metadata": {},
   "source": [
    "#### _My Tree Map_"
   ]
  },
  {
   "cell_type": "code",
   "execution_count": 293,
   "metadata": {},
   "outputs": [
    {
     "data": {
      "application/vnd.plotly.v1+json": {
       "config": {
        "plotlyServerURL": "https://plot.ly"
       },
       "data": [
        {
         "branchvalues": "total",
         "domain": {
          "x": [
           0,
           1
          ],
          "y": [
           0,
           1
          ]
         },
         "hovertemplate": "labels=%{label}<br>count=%{value}<br>parent=%{parent}<br>id=%{id}<extra></extra>",
         "ids": [
          "all/Grass/Ice/Abomasnow",
          "all/Grass/Ice/Abomasnow Mega Abomasnow",
          "all/Psychic/---/Abra",
          "all/Dark/---/Absol",
          "all/Dark/---/Absol Mega Absol",
          "all/Bug/---/Accelgor",
          "all/Steel/Ghost/Aegislash Blade Forme",
          "all/Steel/Ghost/Aegislash Shield Forme",
          "all/Rock/Flying/Aerodactyl",
          "all/Rock/Flying/Aerodactyl Mega Aerodactyl",
          "all/Steel/Rock/Aggron",
          "all/Steel/---/Aggron Mega Aggron",
          "all/Normal/---/Aipom",
          "all/Psychic/---/Alakazam",
          "all/Psychic/---/Alakazam Mega Alakazam",
          "all/Fairy/---/Alcremie",
          "all/Water/---/Alomomola",
          "all/Dragon/Flying/Altaria",
          "all/Dragon/Fairy/Altaria Mega Altaria",
          "all/Rock/Ice/Amaura",
          "all/Normal/---/Ambipom",
          "all/Grass/Poison/Amoonguss",
          "all/Electric/---/Ampharos",
          "all/Electric/Dragon/Ampharos Mega Ampharos",
          "all/Rock/Bug/Anorith",
          "all/Grass/Dragon/Appletun",
          "all/Grass/Dragon/Applin",
          "all/Water/Bug/Araquanid",
          "all/Poison/---/Arbok",
          "all/Fire/---/Arcanine",
          "all/Normal/---/Arceus",
          "all/Rock/Flying/Archen",
          "all/Rock/Flying/Archeops",
          "all/Water/Ice/Arctovish",
          "all/Electric/Ice/Arctozolt",
          "all/Bug/Poison/Ariados",
          "all/Rock/Bug/Armaldo",
          "all/Fairy/---/Aromatisse",
          "all/Steel/Rock/Aron",
          "all/Water/---/Arrokuda",
          "all/Ice/Flying/Articuno",
          "all/Normal/---/Audino",
          "all/Normal/Fairy/Audino Mega Audino",
          "all/Rock/Ice/Aurorus",
          "all/Ice/---/Avalugg",
          "all/Dragon/---/Axew",
          "all/Psychic/---/Azelf",
          "all/Water/Fairy/Azumarill",
          "all/Normal/Fairy/Azurill",
          "all/Dragon/---/Bagon",
          "all/Ground/Psychic/Baltoy",
          "all/Ghost/---/Banette",
          "all/Ghost/---/Banette Mega Banette",
          "all/Rock/Water/Barbaracle",
          "all/Water/Ground/Barboach",
          "all/Water/---/Barraskewda",
          "all/Water/---/Basculin Blue-Striped Form",
          "all/Water/---/Basculin Red-Striped Form",
          "all/Rock/Steel/Bastiodon",
          "all/Grass/---/Bayleef",
          "all/Ice/---/Beartic",
          "all/Bug/Flying/Beautifly",
          "all/Bug/Poison/Beedrill",
          "all/Bug/Poison/Beedrill Mega Beedrill",
          "all/Psychic/---/Beheeyem",
          "all/Steel/Psychic/Beldum",
          "all/Grass/---/Bellossom",
          "all/Grass/Poison/Bellsprout",
          "all/Ice/---/Bergmite",
          "all/Normal/Fighting/Bewear",
          "all/Normal/Water/Bibarel",
          "all/Normal/---/Bidoof",
          "all/Rock/Water/Binacle",
          "all/Dark/Steel/Bisharp",
          "all/Fire/Ghost/Blacephalon",
          "all/Water/---/Blastoise",
          "all/Water/---/Blastoise Mega Blastoise",
          "all/Fire/Fighting/Blaziken",
          "all/Fire/Fighting/Blaziken Mega Blaziken",
          "all/Bug/---/Blipbug",
          "all/Normal/---/Blissey",
          "all/Electric/---/Blitzle",
          "all/Rock/---/Boldore",
          "all/Electric/---/Boltund",
          "all/Rock/---/Bonsly",
          "all/Normal/---/Bouffalant",
          "all/Grass/---/Bounsweet",
          "all/Fire/---/Braixen",
          "all/Normal/Flying/Braviary",
          "all/Grass/Fighting/Breloom",
          "all/Water/---/Brionne",
          "all/Steel/Psychic/Bronzong",
          "all/Steel/Psychic/Bronzor",
          "all/Water/Psychic/Bruxish",
          "all/Grass/Poison/Budew",
          "all/Water/---/Buizel",
          "all/Grass/Poison/Bulbasaur",
          "all/Normal/---/Buneary",
          "all/Normal/---/Bunnelby",
          "all/Bug/---/Burmy",
          "all/Bug/Flying/Butterfree",
          "all/Bug/Fighting/Buzzwole",
          "all/Grass/---/Cacnea",
          "all/Grass/Dark/Cacturne",
          "all/Fire/Ground/Camerupt",
          "all/Fire/Ground/Camerupt Mega Camerupt",
          "all/Rock/Fairy/Carbink",
          "all/Rock/Fire/Carkol",
          "all/Grass/---/Carnivine",
          "all/Water/Rock/Carracosta",
          "all/Water/Dark/Carvanha",
          "all/Bug/---/Cascoon",
          "all/Normal/---/Castform",
          "all/Water/---/Castform Rainy Form",
          "all/Ice/---/Castform Snowy Form",
          "all/Fire/---/Castform Sunny Form",
          "all/Bug/---/Caterpie",
          "all/Psychic/Grass/Celebi",
          "all/Steel/Flying/Celesteela",
          "all/Fire/Bug/Centiskorch",
          "all/Ghost/Fire/Chandelure",
          "all/Normal/---/Chansey",
          "all/Fire/Flying/Charizard",
          "all/Fire/Dragon/Charizard Mega Charizard X",
          "all/Fire/Flying/Charizard Mega Charizard Y",
          "all/Bug/Electric/Charjabug",
          "all/Fire/---/Charmander",
          "all/Fire/---/Charmeleon",
          "all/Normal/Flying/Chatot",
          "all/Grass/---/Cherrim",
          "all/Grass/---/Cherubi",
          "all/Grass/Fighting/Chesnaught",
          "all/Grass/---/Chespin",
          "all/Water/---/Chewtle",
          "all/Grass/---/Chikorita",
          "all/Fire/---/Chimchar",
          "all/Psychic/---/Chimecho",
          "all/Water/Electric/Chinchou",
          "all/Psychic/---/Chingling",
          "all/Normal/---/Cinccino",
          "all/Fire/---/Cinderace",
          "all/Water/---/Clamperl",
          "all/Water/---/Clauncher",
          "all/Water/---/Clawitzer",
          "all/Ground/Psychic/Claydol",
          "all/Fairy/---/Clefable",
          "all/Fairy/---/Clefairy",
          "all/Fairy/---/Cleffa",
          "all/Fighting/---/Clobbopus",
          "all/Water/Ice/Cloyster",
          "all/Rock/Fire/Coalossal",
          "all/Steel/Fighting/Cobalion",
          "all/Ghost/---/Cofagrigus",
          "all/Bug/Flying/Combee",
          "all/Fire/Fighting/Combusken",
          "all/Fairy/---/Comfey",
          "all/Fighting/---/Conkeldurr",
          "all/Steel/---/Copperajah",
          "all/Water/---/Corphish",
          "all/Water/Rock/Corsola",
          "all/Ghost/---/Corsola Galarian Corsola",
          "all/Flying/Steel/Corviknight",
          "all/Flying/---/Corvisquire",
          "all/Psychic/---/Cosmoem",
          "all/Psychic/---/Cosmog",
          "all/Grass/Fairy/Cottonee",
          "all/Fighting/Ice/Crabominable",
          "all/Fighting/---/Crabrawler",
          "all/Rock/Grass/Cradily",
          "all/Flying/Water/Cramorant",
          "all/Rock/---/Cranidos",
          "all/Water/Dark/Crawdaunt",
          "all/Psychic/---/Cresselia",
          "all/Poison/Fighting/Croagunk",
          "all/Poison/Flying/Crobat",
          "all/Water/---/Croconaw",
          "all/Bug/Rock/Crustle",
          "all/Ice/---/Cryogonal",
          "all/Ice/---/Cubchoo",
          "all/Ground/---/Cubone",
          "all/Steel/---/Cufant",
          "all/Ghost/---/Cursola",
          "all/Bug/Fairy/Cutiefly",
          "all/Fire/---/Cyndaquil",
          "all/Dark/---/Darkrai",
          "all/Ice/---/Darmanitan Galarian Standard Mode",
          "all/Ice/Fire/Darmanitan Galarian Zen Mode",
          "all/Fire/---/Darmanitan Standard Mode",
          "all/Fire/Psychic/Darmanitan Zen Mode",
          "all/Grass/Flying/Dartrix",
          "all/Fire/---/Darumaka",
          "all/Ice/---/Darumaka Galarian Darumaka",
          "all/Grass/Ghost/Decidueye",
          "all/Electric/Fairy/Dedenne",
          "all/Normal/Grass/Deerling",
          "all/Dark/Dragon/Deino",
          "all/Normal/---/Delcatty",
          "all/Ice/Flying/Delibird",
          "all/Fire/Psychic/Delphox",
          "all/Psychic/---/Deoxys Attack Forme",
          "all/Psychic/---/Deoxys Defense Forme",
          "all/Psychic/---/Deoxys Normal Forme",
          "all/Psychic/---/Deoxys Speed Forme",
          "all/Water/Ice/Dewgong",
          "all/Water/---/Dewott",
          "all/Water/Bug/Dewpider",
          "all/Ghost/Grass/Dhelmise",
          "all/Steel/Dragon/Dialga",
          "all/Rock/Fairy/Diancie",
          "all/Rock/Fairy/Diancie Mega Diancie",
          "all/Normal/Ground/Diggersby",
          "all/Ground/---/Diglett",
          "all/Ground/Steel/Diglett Alolan Diglett",
          "all/Normal/---/Ditto",
          "all/Normal/Flying/Dodrio",
          "all/Normal/Flying/Doduo",
          "all/Ground/---/Donphan",
          "all/Bug/Psychic/Dottler",
          "all/Steel/Ghost/Doublade",
          "all/Water/Dragon/Dracovish",
          "all/Electric/Dragon/Dracozolt",
          "all/Poison/Dragon/Dragalge",
          "all/Dragon/Ghost/Dragapult",
          "all/Dragon/---/Dragonair",
          "all/Dragon/Flying/Dragonite",
          "all/Dragon/Ghost/Drakloak",
          "all/Normal/Dragon/Drampa",
          "all/Poison/Dark/Drapion",
          "all/Dragon/---/Dratini",
          "all/Water/Rock/Drednaw",
          "all/Dragon/Ghost/Dreepy",
          "all/Ghost/Flying/Drifblim",
          "all/Ghost/Flying/Drifloon",
          "all/Ground/---/Drilbur",
          "all/Water/---/Drizzile",
          "all/Psychic/---/Drowzee",
          "all/Dragon/---/Druddigon",
          "all/Normal/---/Dubwool",
          "all/Water/Flying/Ducklett",
          "all/Ground/---/Dugtrio",
          "all/Ground/Steel/Dugtrio Alolan Dugtrio",
          "all/Normal/---/Dunsparce",
          "all/Psychic/---/Duosion",
          "all/Steel/Dragon/Duraludon",
          "all/Bug/Steel/Durant",
          "all/Ghost/---/Dusclops",
          "all/Ghost/---/Dusknoir",
          "all/Ghost/---/Duskull",
          "all/Bug/Poison/Dustox",
          "all/Bug/Rock/Dwebble",
          "all/Electric/---/Eelektrik",
          "all/Electric/---/Eelektross",
          "all/Normal/---/Eevee",
          "all/Normal/---/Eevee Partner Eevee",
          "all/Ice/---/Eiscue Ice Face",
          "all/Ice/---/Eiscue Noice Face",
          "all/Poison/---/Ekans",
          "all/Grass/---/Eldegoss",
          "all/Electric/---/Electabuzz",
          "all/Electric/---/Electivire",
          "all/Electric/---/Electrike",
          "all/Electric/---/Electrode",
          "all/Electric/---/Elekid",
          "all/Psychic/---/Elgyem",
          "all/Fire/Fighting/Emboar",
          "all/Electric/Flying/Emolga",
          "all/Water/Steel/Empoleon",
          "all/Fire/---/Entei",
          "all/Bug/Steel/Escavalier",
          "all/Psychic/---/Espeon",
          "all/Psychic/---/Espurr",
          "all/Poison/Dragon/Eternatus",
          "all/Poison/Dragon/Eternatus Eternamax",
          "all/Ground/Steel/Excadrill",
          "all/Grass/Psychic/Exeggcute",
          "all/Grass/Psychic/Exeggutor",
          "all/Grass/Dragon/Exeggutor Alolan Exeggutor",
          "all/Normal/---/Exploud",
          "all/Fighting/---/Falinks",
          "all/Normal/Flying/Farfetch'd",
          "all/Fighting/---/Farfetch'd Galarian Farfetch'd",
          "all/Normal/Flying/Fearow",
          "all/Water/---/Feebas",
          "all/Fire/---/Fennekin",
          "all/Water/---/Feraligatr",
          "all/Grass/Steel/Ferroseed",
          "all/Grass/Steel/Ferrothorn",
          "all/Water/---/Finneon",
          "all/Electric/---/Flaaffy",
          "all/Fairy/---/Flabébé",
          "all/Grass/Dragon/Flapple",
          "all/Fire/---/Flareon",
          "all/Fire/Flying/Fletchinder",
          "all/Normal/Flying/Fletchling",
          "all/Water/---/Floatzel",
          "all/Fairy/---/Floette",
          "all/Fairy/---/Florges",
          "all/Ground/Dragon/Flygon",
          "all/Grass/---/Fomantis",
          "all/Grass/Poison/Foongus",
          "all/Bug/Steel/Forretress",
          "all/Dragon/---/Fraxure",
          "all/Water/Ghost/Frillish",
          "all/Water/---/Froakie",
          "all/Water/---/Frogadier",
          "all/Ice/Ghost/Froslass",
          "all/Ice/Bug/Frosmoth",
          "all/Normal/---/Furfrou",
          "all/Normal/---/Furret",
          "all/Dragon/Ground/Gabite",
          "all/Psychic/Fighting/Gallade",
          "all/Psychic/Fighting/Gallade Mega Gallade",
          "all/Bug/Electric/Galvantula",
          "all/Poison/---/Garbodor",
          "all/Dragon/Ground/Garchomp",
          "all/Dragon/Ground/Garchomp Mega Garchomp",
          "all/Psychic/Fairy/Gardevoir",
          "all/Psychic/Fairy/Gardevoir Mega Gardevoir",
          "all/Ghost/Poison/Gastly",
          "all/Water/Ground/Gastrodon",
          "all/Bug/Steel/Genesect",
          "all/Ghost/Poison/Gengar",
          "all/Ghost/Poison/Gengar Mega Gengar",
          "all/Rock/Ground/Geodude",
          "all/Rock/Electric/Geodude Alolan Geodude",
          "all/Dragon/Ground/Gible",
          "all/Rock/---/Gigalith",
          "all/Normal/Psychic/Girafarig",
          "all/Ghost/Dragon/Giratina Altered Forme",
          "all/Ghost/Dragon/Giratina Origin Forme",
          "all/Ice/---/Glaceon",
          "all/Ice/---/Glalie",
          "all/Ice/---/Glalie Mega Glalie",
          "all/Normal/---/Glameow",
          "all/Ground/Flying/Gligar",
          "all/Ground/Flying/Gliscor",
          "all/Grass/Poison/Gloom",
          "all/Grass/---/Gogoat",
          "all/Poison/Flying/Golbat",
          "all/Water/---/Goldeen",
          "all/Water/---/Golduck",
          "all/Rock/Ground/Golem",
          "all/Rock/Electric/Golem Alolan Golem",
          "all/Ground/Ghost/Golett",
          "all/Bug/Water/Golisopod",
          "all/Ground/Ghost/Golurk",
          "all/Dragon/---/Goodra",
          "all/Dragon/---/Goomy",
          "all/Water/---/Gorebyss",
          "all/Grass/---/Gossifleur",
          "all/Psychic/---/Gothita",
          "all/Psychic/---/Gothitelle",
          "all/Psychic/---/Gothorita",
          "all/Ghost/Grass/Gourgeist Average Size",
          "all/Ghost/Grass/Gourgeist Large Size",
          "all/Ghost/Grass/Gourgeist Small Size",
          "all/Ghost/Grass/Gourgeist Super Size",
          "all/Fairy/---/Granbull",
          "all/Fighting/---/Grapploct",
          "all/Rock/Ground/Graveler",
          "all/Rock/Electric/Graveler Alolan Graveler",
          "all/Normal/---/Greedent",
          "all/Water/Dark/Greninja",
          "all/Water/Dark/Greninja Ash-Greninja",
          "all/Poison/---/Grimer",
          "all/Poison/Dark/Grimer Alolan Grimer",
          "all/Dark/Fairy/Grimmsnarl",
          "all/Grass/---/Grookey",
          "all/Grass/---/Grotle",
          "all/Ground/---/Groudon",
          "all/Ground/Fire/Groudon Primal Groudon",
          "all/Grass/---/Grovyle",
          "all/Fire/---/Growlithe",
          "all/Bug/---/Grubbin",
          "all/Psychic/---/Grumpig",
          "all/Poison/---/Gulpin",
          "all/Normal/---/Gumshoos",
          "all/Fighting/---/Gurdurr",
          "all/Dark/Dragon/Guzzlord",
          "all/Water/Flying/Gyarados",
          "all/Water/Dark/Gyarados Mega Gyarados",
          "all/Dragon/Fighting/Hakamo-o",
          "all/Normal/---/Happiny",
          "all/Fighting/---/Hariyama",
          "all/Psychic/---/Hatenna",
          "all/Psychic/Fairy/Hatterene",
          "all/Psychic/---/Hattrem",
          "all/Ghost/Poison/Haunter",
          "all/Fighting/Flying/Hawlucha",
          "all/Dragon/---/Haxorus",
          "all/Fire/---/Heatmor",
          "all/Fire/Steel/Heatran",
          "all/Electric/Normal/Heliolisk",
          "all/Electric/Normal/Helioptile",
          "all/Bug/Fighting/Heracross",
          "all/Bug/Fighting/Heracross Mega Heracross",
          "all/Normal/---/Herdier",
          "all/Ground/---/Hippopotas",
          "all/Ground/---/Hippowdon",
          "all/Fighting/---/Hitmonchan",
          "all/Fighting/---/Hitmonlee",
          "all/Fighting/---/Hitmontop",
          "all/Fire/Flying/Ho-oh",
          "all/Dark/Flying/Honchkrow",
          "all/Steel/Ghost/Honedge",
          "all/Psychic/Ghost/Hoopa Hoopa Confined",
          "all/Psychic/Dark/Hoopa Hoopa Unbound",
          "all/Normal/Flying/Hoothoot",
          "all/Grass/Flying/Hoppip",
          "all/Water/---/Horsea",
          "all/Dark/Fire/Houndoom",
          "all/Dark/Fire/Houndoom Mega Houndoom",
          "all/Dark/Fire/Houndour",
          "all/Water/---/Huntail",
          "all/Dark/Dragon/Hydreigon",
          "all/Psychic/---/Hypno",
          "all/Normal/Fairy/Igglybuff",
          "all/Bug/---/Illumise",
          "all/Dark/Fairy/Impidimp",
          "all/Fire/Dark/Incineroar",
          "all/Psychic/Normal/Indeedee Female",
          "all/Psychic/Normal/Indeedee Male",
          "all/Fire/Fighting/Infernape",
          "all/Dark/Psychic/Inkay",
          "all/Water/---/Inteleon",
          "all/Grass/Poison/Ivysaur",
          "all/Dragon/---/Jangmo-o",
          "all/Water/Ghost/Jellicent",
          "all/Normal/Fairy/Jigglypuff",
          "all/Steel/Psychic/Jirachi",
          "all/Electric/---/Jolteon",
          "all/Bug/Electric/Joltik",
          "all/Grass/Flying/Jumpluff",
          "all/Ice/Psychic/Jynx",
          "all/Rock/Water/Kabuto",
          "all/Rock/Water/Kabutops",
          "all/Psychic/---/Kadabra",
          "all/Bug/Poison/Kakuna",
          "all/Normal/---/Kangaskhan",
          "all/Normal/---/Kangaskhan Mega Kangaskhan",
          "all/Bug/---/Karrablast",
          "all/Grass/Steel/Kartana",
          "all/Normal/---/Kecleon",
          "all/Water/Fighting/Keldeo Ordinary Forme",
          "all/Water/Fighting/Keldeo Resolute Forme",
          "all/Water/Dragon/Kingdra",
          "all/Water/---/Kingler",
          "all/Psychic/Fairy/Kirlia",
          "all/Steel/---/Klang",
          "all/Steel/Fairy/Klefki",
          "all/Steel/---/Klink",
          "all/Steel/---/Klinklang",
          "all/Poison/---/Koffing",
          "all/Normal/---/Komala",
          "all/Dragon/Fighting/Kommo-o",
          "all/Water/---/Krabby",
          "all/Bug/---/Kricketot",
          "all/Bug/---/Kricketune",
          "all/Ground/Dark/Krokorok",
          "all/Ground/Dark/Krookodile",
          "all/Fighting/---/Kubfu",
          "all/Water/---/Kyogre",
          "all/Water/---/Kyogre Primal Kyogre",
          "all/Dragon/Ice/Kyurem",
          "all/Dragon/Ice/Kyurem Black Kyurem",
          "all/Dragon/Ice/Kyurem White Kyurem",
          "all/Steel/Rock/Lairon",
          "all/Ghost/Fire/Lampent",
          "all/Ground/Flying/Landorus Incarnate Forme",
          "all/Ground/Flying/Landorus Therian Forme",
          "all/Water/Electric/Lanturn",
          "all/Water/Ice/Lapras",
          "all/Bug/Fire/Larvesta",
          "all/Rock/Ground/Larvitar",
          "all/Dragon/Psychic/Latias",
          "all/Dragon/Psychic/Latias Mega Latias",
          "all/Dragon/Psychic/Latios",
          "all/Dragon/Psychic/Latios Mega Latios",
          "all/Grass/---/Leafeon",
          "all/Bug/Grass/Leavanny",
          "all/Bug/Flying/Ledian",
          "all/Bug/Flying/Ledyba",
          "all/Normal/---/Lickilicky",
          "all/Normal/---/Lickitung",
          "all/Dark/---/Liepard",
          "all/Rock/Grass/Lileep",
          "all/Grass/---/Lilligant",
          "all/Normal/---/Lillipup",
          "all/Normal/---/Linoone",
          "all/Dark/Normal/Linoone Galarian Linoone",
          "all/Fire/Normal/Litleo",
          "all/Fire/---/Litten",
          "all/Ghost/Fire/Litwick",
          "all/Water/Grass/Lombre",
          "all/Normal/---/Lopunny",
          "all/Normal/Fighting/Lopunny Mega Lopunny",
          "all/Water/Grass/Lotad",
          "all/Normal/---/Loudred",
          "all/Fighting/Steel/Lucario",
          "all/Fighting/Steel/Lucario Mega Lucario",
          "all/Water/Grass/Ludicolo",
          "all/Psychic/Flying/Lugia",
          "all/Water/---/Lumineon",
          "all/Psychic/Ghost/Lunala",
          "all/Rock/Psychic/Lunatone",
          "all/Grass/---/Lurantis",
          "all/Water/---/Luvdisc",
          "all/Electric/---/Luxio",
          "all/Electric/---/Luxray",
          "all/Rock/---/Lycanroc Dusk Form",
          "all/Rock/---/Lycanroc Midday Form",
          "all/Rock/---/Lycanroc Midnight Form",
          "all/Fighting/---/Machamp",
          "all/Fighting/---/Machoke",
          "all/Fighting/---/Machop",
          "all/Fire/---/Magby",
          "all/Fire/Rock/Magcargo",
          "all/Steel/Fairy/Magearna",
          "all/Water/---/Magikarp",
          "all/Fire/---/Magmar",
          "all/Fire/---/Magmortar",
          "all/Electric/Steel/Magnemite",
          "all/Electric/Steel/Magneton",
          "all/Electric/Steel/Magnezone",
          "all/Fighting/---/Makuhita",
          "all/Dark/Psychic/Malamar",
          "all/Ice/Ground/Mamoswine",
          "all/Water/---/Manaphy",
          "all/Dark/Flying/Mandibuzz",
          "all/Electric/---/Manectric",
          "all/Electric/---/Manectric Mega Manectric",
          "all/Fighting/---/Mankey",
          "all/Water/Flying/Mantine",
          "all/Water/Flying/Mantyke",
          "all/Grass/---/Maractus",
          "all/Poison/Water/Mareanie",
          "all/Electric/---/Mareep",
          "all/Water/Fairy/Marill",
          "all/Ground/---/Marowak",
          "all/Fire/Ghost/Marowak Alolan Marowak",
          "all/Fighting/Ghost/Marshadow",
          "all/Water/Ground/Marshtomp",
          "all/Bug/Flying/Masquerain",
          "all/Steel/Fairy/Mawile",
          "all/Steel/Fairy/Mawile Mega Mawile",
          "all/Fighting/Psychic/Medicham",
          "all/Fighting/Psychic/Medicham Mega Medicham",
          "all/Fighting/Psychic/Meditite",
          "all/Grass/---/Meganium",
          "all/Steel/---/Melmetal",
          "all/Normal/Psychic/Meloetta Aria Forme",
          "all/Normal/Fighting/Meloetta Pirouette Forme",
          "all/Steel/---/Meltan",
          "all/Psychic/---/Meowstic Female",
          "all/Psychic/---/Meowstic Male",
          "all/Normal/---/Meowth",
          "all/Dark/---/Meowth Alolan Meowth",
          "all/Steel/---/Meowth Galarian Meowth",
          "all/Psychic/---/Mesprit",
          "all/Steel/Psychic/Metagross",
          "all/Steel/Psychic/Metagross Mega Metagross",
          "all/Steel/Psychic/Metang",
          "all/Bug/---/Metapod",
          "all/Psychic/---/Mew",
          "all/Psychic/---/Mewtwo",
          "all/Psychic/Fighting/Mewtwo Mega Mewtwo X",
          "all/Psychic/---/Mewtwo Mega Mewtwo Y",
          "all/Fighting/---/Mienfoo",
          "all/Fighting/---/Mienshao",
          "all/Dark/---/Mightyena",
          "all/Fairy/---/Milcery",
          "all/Water/---/Milotic",
          "all/Normal/---/Miltank",
          "all/Psychic/Fairy/Mime Jr.",
          "all/Ghost/Fairy/Mimikyu",
          "all/Normal/---/Minccino",
          "all/Rock/Flying/Minior Core Form",
          "all/Rock/Flying/Minior Meteor Form",
          "all/Electric/---/Minun",
          "all/Ghost/---/Misdreavus",
          "all/Ghost/---/Mismagius",
          "all/Fire/Flying/Moltres",
          "all/Fire/Fighting/Monferno",
          "all/Grass/Fairy/Morelull",
          "all/Dark/Fairy/Morgrem",
          "all/Electric/Dark/Morpeko Full Belly Mode",
          "all/Electric/Dark/Morpeko Hangry Mode",
          "all/Bug/Flying/Mothim",
          "all/Psychic/Fairy/Mr. Mime",
          "all/Psychic/Ice/Mr. Mime Galarian Mr. Mime",
          "all/Psychic/Ice/Mr. Rime",
          "all/Ground/---/Mudbray",
          "all/Water/---/Mudkip",
          "all/Ground/---/Mudsdale",
          "all/Poison/---/Muk",
          "all/Poison/Dark/Muk Alolan Muk",
          "all/Normal/---/Munchlax",
          "all/Psychic/---/Munna",
          "all/Dark/Flying/Murkrow",
          "all/Psychic/---/Musharna",
          "all/Poison/Dragon/Naganadel",
          "all/Psychic/Flying/Natu",
          "all/Psychic/---/Necrozma",
          "all/Psychic/Ghost/Necrozma Dawn Wings Necrozma",
          "all/Psychic/Steel/Necrozma Dusk Mane Necrozma",
          "all/Psychic/Dragon/Necrozma Ultra Necrozma",
          "all/Dark/---/Nickit",
          "all/Poison/Ground/Nidoking",
          "all/Poison/Ground/Nidoqueen",
          "all/Poison/---/Nidoran♀",
          "all/Poison/---/Nidoran♂",
          "all/Poison/---/Nidorina",
          "all/Poison/---/Nidorino",
          "all/Rock/Poison/Nihilego",
          "all/Bug/Ground/Nincada",
          "all/Fire/---/Ninetales",
          "all/Ice/Fairy/Ninetales Alolan Ninetales",
          "all/Bug/Flying/Ninjask",
          "all/Normal/Flying/Noctowl",
          "all/Flying/Dragon/Noibat",
          "all/Flying/Dragon/Noivern",
          "all/Rock/---/Nosepass",
          "all/Fire/Ground/Numel",
          "all/Grass/Dark/Nuzleaf",
          "all/Dark/Normal/Obstagoon",
          "all/Water/---/Octillery",
          "all/Grass/Poison/Oddish",
          "all/Rock/Water/Omanyte",
          "all/Rock/Water/Omastar",
          "all/Rock/Ground/Onix",
          "all/Normal/Psychic/Oranguru",
          "all/Bug/Psychic/Orbeetle",
          "all/Fire/Flying/Oricorio Baile Style",
          "all/Psychic/Flying/Oricorio Pa'u Style",
          "all/Electric/Flying/Oricorio Pom-Pom Style",
          "all/Ghost/Flying/Oricorio Sensu Style",
          "all/Water/---/Oshawott",
          "all/Electric/---/Pachirisu",
          "all/Water/Dragon/Palkia",
          "all/Ghost/Ground/Palossand",
          "all/Water/Ground/Palpitoad",
          "all/Fighting/---/Pancham",
          "all/Fighting/Dark/Pangoro",
          "all/Water/---/Panpour",
          "all/Grass/---/Pansage",
          "all/Fire/---/Pansear",
          "all/Bug/Grass/Paras",
          "all/Bug/Grass/Parasect",
          "all/Fighting/---/Passimian",
          "all/Normal/---/Patrat",
          "all/Dark/Steel/Pawniard",
          "all/Water/Flying/Pelipper",
          "all/Steel/---/Perrserker",
          "all/Normal/---/Persian",
          "all/Dark/---/Persian Alolan Persian",
          "all/Grass/---/Petilil",
          "all/Ground/---/Phanpy",
          "all/Ghost/Grass/Phantump",
          "all/Bug/Fighting/Pheromosa",
          "all/Water/---/Phione",
          "all/Electric/---/Pichu",
          "all/Normal/Flying/Pidgeot",
          "all/Normal/Flying/Pidgeot Mega Pidgeot",
          "all/Normal/Flying/Pidgeotto",
          "all/Normal/Flying/Pidgey",
          "all/Normal/Flying/Pidove",
          "all/Fire/Fighting/Pignite",
          "all/Electric/---/Pikachu",
          "all/Electric/---/Pikachu Partner Pikachu",
          "all/Normal/Flying/Pikipek",
          "all/Ice/Ground/Piloswine",
          "all/Electric/---/Pincurchin",
          "all/Bug/---/Pineco",
          "all/Bug/---/Pinsir",
          "all/Bug/Flying/Pinsir Mega Pinsir",
          "all/Water/---/Piplup",
          "all/Electric/---/Plusle",
          "all/Poison/---/Poipole",
          "all/Water/---/Politoed",
          "all/Water/---/Poliwag",
          "all/Water/---/Poliwhirl",
          "all/Water/Fighting/Poliwrath",
          "all/Ghost/---/Polteageist",
          "all/Fire/---/Ponyta",
          "all/Psychic/---/Ponyta Galarian Ponyta",
          "all/Dark/---/Poochyena",
          "all/Water/---/Popplio",
          "all/Normal/---/Porygon",
          "all/Normal/---/Porygon-Z",
          "all/Normal/---/Porygon2",
          "all/Water/Fairy/Primarina",
          "all/Fighting/---/Primeape",
          "all/Water/---/Prinplup",
          "all/Rock/Steel/Probopass",
          "all/Water/---/Psyduck",
          "all/Ghost/Grass/Pumpkaboo Average Size",
          "all/Ghost/Grass/Pumpkaboo Large Size",
          "all/Ghost/Grass/Pumpkaboo Small Size",
          "all/Ghost/Grass/Pumpkaboo Super Size",
          "all/Rock/Ground/Pupitar",
          "all/Dark/---/Purrloin",
          "all/Normal/---/Purugly",
          "all/Fire/Normal/Pyroar",
          "all/Water/---/Pyukumuku",
          "all/Water/Ground/Quagsire",
          "all/Fire/---/Quilava",
          "all/Grass/---/Quilladin",
          "all/Water/Poison/Qwilfish",
          "all/Fire/---/Raboot",
          "all/Electric/---/Raichu",
          "all/Electric/Psychic/Raichu Alolan Raichu",
          "all/Electric/---/Raikou",
          "all/Psychic/Fairy/Ralts",
          "all/Rock/---/Rampardos",
          "all/Fire/---/Rapidash",
          "all/Psychic/Fairy/Rapidash Galarian Rapidash",
          "all/Normal/---/Raticate",
          "all/Dark/Normal/Raticate Alolan Raticate",
          "all/Normal/---/Rattata",
          "all/Dark/Normal/Rattata Alolan Rattata",
          "all/Dragon/Flying/Rayquaza",
          "all/Dragon/Flying/Rayquaza Mega Rayquaza",
          "all/Ice/---/Regice",
          "all/Normal/---/Regigigas",
          "all/Rock/---/Regirock",
          "all/Steel/---/Registeel",
          "all/Water/Rock/Relicanth",
          "all/Water/---/Remoraid",
          "all/Dragon/Fire/Reshiram",
          "all/Psychic/---/Reuniclus",
          "all/Ground/Rock/Rhydon",
          "all/Ground/Rock/Rhyhorn",
          "all/Ground/Rock/Rhyperior",
          "all/Bug/Fairy/Ribombee",
          "all/Grass/---/Rillaboom",
          "all/Fighting/---/Riolu",
          "all/Rock/---/Rockruff",
          "all/Rock/---/Rockruff Own Tempo Rockruff",
          "all/Rock/---/Roggenrola",
          "all/Rock/---/Rolycoly",
          "all/Flying/---/Rookidee",
          "all/Grass/Poison/Roselia",
          "all/Grass/Poison/Roserade",
          "all/Electric/Ghost/Rotom",
          "all/Electric/Flying/Rotom Fan Rotom",
          "all/Electric/Ice/Rotom Frost Rotom",
          "all/Electric/Fire/Rotom Heat Rotom",
          "all/Electric/Grass/Rotom Mow Rotom",
          "all/Electric/Water/Rotom Wash Rotom",
          "all/Grass/Flying/Rowlet",
          "all/Normal/Flying/Rufflet",
          "all/Ground/Ghost/Runerigus",
          "all/Dark/Ghost/Sableye",
          "all/Dark/Ghost/Sableye Mega Sableye",
          "all/Dragon/Flying/Salamence",
          "all/Dragon/Flying/Salamence Mega Salamence",
          "all/Poison/Fire/Salandit",
          "all/Poison/Fire/Salazzle",
          "all/Water/---/Samurott",
          "all/Ground/---/Sandaconda",
          "all/Ground/Dark/Sandile",
          "all/Ground/---/Sandshrew",
          "all/Ice/Steel/Sandshrew Alolan Sandshrew",
          "all/Ground/---/Sandslash",
          "all/Ice/Steel/Sandslash Alolan Sandslash",
          "all/Ghost/Ground/Sandygast",
          "all/Fighting/---/Sawk",
          "all/Normal/Grass/Sawsbuck",
          "all/Bug/---/Scatterbug",
          "all/Grass/---/Sceptile",
          "all/Grass/Dragon/Sceptile Mega Sceptile",
          "all/Bug/Steel/Scizor",
          "all/Bug/Steel/Scizor Mega Scizor",
          "all/Bug/Poison/Scolipede",
          "all/Fire/---/Scorbunny",
          "all/Dark/Fighting/Scrafty",
          "all/Dark/Fighting/Scraggy",
          "all/Bug/Flying/Scyther",
          "all/Water/---/Seadra",
          "all/Water/---/Seaking",
          "all/Ice/Water/Sealeo",
          "all/Grass/---/Seedot",
          "all/Water/---/Seel",
          "all/Water/Ground/Seismitoad",
          "all/Normal/---/Sentret",
          "all/Grass/---/Serperior",
          "all/Grass/---/Servine",
          "all/Poison/---/Seviper",
          "all/Bug/Grass/Sewaddle",
          "all/Water/Dark/Sharpedo",
          "all/Water/Dark/Sharpedo Mega Sharpedo",
          "all/Grass/---/Shaymin Land Forme",
          "all/Grass/Flying/Shaymin Sky Forme",
          "all/Bug/Ghost/Shedinja",
          "all/Dragon/---/Shelgon",
          "all/Water/---/Shellder",
          "all/Water/---/Shellos",
          "all/Bug/---/Shelmet",
          "all/Rock/Steel/Shieldon",
          "all/Grass/Dark/Shiftry",
          "all/Grass/Fairy/Shiinotic",
          "all/Electric/---/Shinx",
          "all/Grass/---/Shroomish",
          "all/Bug/Rock/Shuckle",
          "all/Ghost/---/Shuppet",
          "all/Psychic/Flying/Sigilyph",
          "all/Bug/---/Silcoon",
          "all/Ground/---/Silicobra",
          "all/Normal/---/Silvally",
          "all/Water/---/Simipour",
          "all/Grass/---/Simisage",
          "all/Fire/---/Simisear",
          "all/Ghost/---/Sinistea",
          "all/Fighting/---/Sirfetch'd",
          "all/Fire/Bug/Sizzlipede",
          "all/Steel/Flying/Skarmory",
          "all/Grass/---/Skiddo",
          "all/Grass/Flying/Skiploom",
          "all/Normal/---/Skitty",
          "all/Poison/Bug/Skorupi",
          "all/Poison/Water/Skrelp",
          "all/Poison/Dark/Skuntank",
          "all/Normal/---/Skwovet",
          "all/Normal/---/Slaking",
          "all/Normal/---/Slakoth",
          "all/Dragon/---/Sliggoo",
          "all/Water/Psychic/Slowbro",
          "all/Poison/Psychic/Slowbro Galarian Slowbro",
          "all/Water/Psychic/Slowbro Mega Slowbro",
          "all/Water/Psychic/Slowking",
          "all/Water/Psychic/Slowpoke",
          "all/Psychic/---/Slowpoke Galarian Slowpoke",
          "all/Fire/---/Slugma",
          "all/Fairy/---/Slurpuff",
          "all/Normal/---/Smeargle",
          "all/Ice/Psychic/Smoochum",
          "all/Dark/Ice/Sneasel",
          "all/Grass/---/Snivy",
          "all/Ice/Bug/Snom",
          "all/Normal/---/Snorlax",
          "all/Ice/---/Snorunt",
          "all/Grass/Ice/Snover",
          "all/Fairy/---/Snubbull",
          "all/Water/---/Sobble",
          "all/Psychic/Steel/Solgaleo",
          "all/Psychic/---/Solosis",
          "all/Rock/Psychic/Solrock",
          "all/Normal/Flying/Spearow",
          "all/Bug/---/Spewpa",
          "all/Ice/Water/Spheal",
          "all/Bug/Poison/Spinarak",
          "all/Normal/---/Spinda",
          "all/Ghost/Dark/Spiritomb",
          "all/Psychic/---/Spoink",
          "all/Fairy/---/Spritzee",
          "all/Water/---/Squirtle",
          "all/Rock/Steel/Stakataka",
          "all/Normal/---/Stantler",
          "all/Normal/Flying/Staraptor",
          "all/Normal/Flying/Staravia",
          "all/Normal/Flying/Starly",
          "all/Water/Psychic/Starmie",
          "all/Water/---/Staryu",
          "all/Steel/Ground/Steelix",
          "all/Steel/Ground/Steelix Mega Steelix",
          "all/Grass/---/Steenee",
          "all/Rock/---/Stonjourner",
          "all/Normal/---/Stoutland",
          "all/Normal/Fighting/Stufful",
          "all/Ground/Electric/Stunfisk",
          "all/Ground/Steel/Stunfisk Galarian Stunfisk",
          "all/Poison/Dark/Stunky",
          "all/Rock/---/Sudowoodo",
          "all/Water/---/Suicune",
          "all/Grass/---/Sunflora",
          "all/Grass/---/Sunkern",
          "all/Bug/Water/Surskit",
          "all/Normal/Flying/Swablu",
          "all/Bug/Grass/Swadloon",
          "all/Poison/---/Swalot",
          "all/Water/Ground/Swampert",
          "all/Water/Ground/Swampert Mega Swampert",
          "all/Water/Flying/Swanna",
          "all/Normal/Flying/Swellow",
          "all/Ice/Ground/Swinub",
          "all/Fairy/---/Swirlix",
          "all/Psychic/Flying/Swoobat",
          "all/Fairy/---/Sylveon",
          "all/Normal/Flying/Taillow",
          "all/Fire/Flying/Talonflame",
          "all/Grass/---/Tangela",
          "all/Grass/---/Tangrowth",
          "all/Grass/Fairy/Tapu Bulu",
          "all/Water/Fairy/Tapu Fini",
          "all/Electric/Fairy/Tapu Koko",
          "all/Psychic/Fairy/Tapu Lele",
          "all/Normal/---/Tauros",
          "all/Normal/---/Teddiursa",
          "all/Water/Poison/Tentacool",
          "all/Water/Poison/Tentacruel",
          "all/Fire/---/Tepig",
          "all/Rock/Fighting/Terrakion",
          "all/Dark/---/Thievul",
          "all/Fighting/---/Throh",
          "all/Electric/Flying/Thundurus Incarnate Forme",
          "all/Electric/Flying/Thundurus Therian Forme",
          "all/Grass/---/Thwackey",
          "all/Fighting/---/Timburr",
          "all/Water/Rock/Tirtouga",
          "all/Electric/Steel/Togedemaru",
          "all/Fairy/Flying/Togekiss",
          "all/Fairy/---/Togepi",
          "all/Fairy/Flying/Togetic",
          "all/Fire/---/Torchic",
          "all/Fire/---/Torkoal",
          "all/Flying/---/Tornadus Incarnate Forme",
          "all/Flying/---/Tornadus Therian Forme",
          "all/Fire/---/Torracat",
          "all/Grass/Ground/Torterra",
          "all/Water/---/Totodile",
          "all/Normal/Flying/Toucannon",
          "all/Poison/Water/Toxapex",
          "all/Electric/Poison/Toxel",
          "all/Poison/Fighting/Toxicroak",
          "all/Electric/Poison/Toxtricity Amped Form",
          "all/Electric/Poison/Toxtricity Low Key Form",
          "all/Normal/Flying/Tranquill",
          "all/Ground/---/Trapinch",
          "all/Grass/---/Treecko",
          "all/Ghost/Grass/Trevenant",
          "all/Grass/Flying/Tropius",
          "all/Poison/---/Trubbish",
          "all/Normal/Flying/Trumbeak",
          "all/Grass/---/Tsareena",
          "all/Fire/Dragon/Turtonator",
          "all/Grass/---/Turtwig",
          "all/Water/---/Tympole",
          "all/Electric/---/Tynamo",
          "all/Normal/---/Type: Null",
          "all/Fire/---/Typhlosion",
          "all/Rock/Dark/Tyranitar",
          "all/Rock/Dark/Tyranitar Mega Tyranitar",
          "all/Rock/Dragon/Tyrantrum",
          "all/Fighting/---/Tyrogue",
          "all/Rock/Dragon/Tyrunt",
          "all/Dark/---/Umbreon",
          "all/Normal/Flying/Unfezant",
          "all/Psychic/---/Unown",
          "all/Normal/---/Ursaring",
          "all/Fighting/Water/Urshifu Rapid Strike Style",
          "all/Fighting/Dark/Urshifu Single Strike Style",
          "all/Psychic/---/Uxie",
          "all/Ice/---/Vanillish",
          "all/Ice/---/Vanillite",
          "all/Ice/---/Vanilluxe",
          "all/Water/---/Vaporeon",
          "all/Bug/Poison/Venipede",
          "all/Bug/Poison/Venomoth",
          "all/Bug/Poison/Venonat",
          "all/Grass/Poison/Venusaur",
          "all/Grass/Poison/Venusaur Mega Venusaur",
          "all/Bug/Flying/Vespiquen",
          "all/Ground/Dragon/Vibrava",
          "all/Psychic/Fire/Victini",
          "all/Grass/Poison/Victreebel",
          "all/Normal/---/Vigoroth",
          "all/Bug/Electric/Vikavolt",
          "all/Grass/Poison/Vileplume",
          "all/Grass/Fighting/Virizion",
          "all/Bug/Flying/Vivillon",
          "all/Bug/---/Volbeat",
          "all/Fire/Water/Volcanion",
          "all/Bug/Fire/Volcarona",
          "all/Electric/---/Voltorb",
          "all/Dark/Flying/Vullaby",
          "all/Fire/---/Vulpix",
          "all/Ice/---/Vulpix Alolan Vulpix",
          "all/Water/---/Wailmer",
          "all/Water/---/Wailord",
          "all/Ice/Water/Walrein",
          "all/Water/---/Wartortle",
          "all/Normal/---/Watchog",
          "all/Dark/Ice/Weavile",
          "all/Bug/Poison/Weedle",
          "all/Grass/Poison/Weepinbell",
          "all/Poison/---/Weezing",
          "all/Poison/Fairy/Weezing Galarian Weezing",
          "all/Grass/Fairy/Whimsicott",
          "all/Bug/Poison/Whirlipede",
          "all/Water/Ground/Whiscash",
          "all/Normal/---/Whismur",
          "all/Normal/Fairy/Wigglytuff",
          "all/Bug/Water/Wimpod",
          "all/Water/Flying/Wingull",
          "all/Water/---/Wishiwashi School Form",
          "all/Water/---/Wishiwashi Solo Form",
          "all/Psychic/---/Wobbuffet",
          "all/Psychic/Flying/Woobat",
          "all/Normal/---/Wooloo",
          "all/Water/Ground/Wooper",
          "all/Bug/Grass/Wormadam Plant Cloak",
          "all/Bug/Ground/Wormadam Sandy Cloak",
          "all/Bug/Steel/Wormadam Trash Cloak",
          "all/Bug/---/Wurmple",
          "all/Psychic/---/Wynaut",
          "all/Psychic/Flying/Xatu",
          "all/Fairy/---/Xerneas",
          "all/Electric/---/Xurkitree",
          "all/Ghost/---/Yamask",
          "all/Ground/Ghost/Yamask Galarian Yamask",
          "all/Electric/---/Yamper",
          "all/Bug/Flying/Yanma",
          "all/Bug/Flying/Yanmega",
          "all/Normal/---/Yungoos",
          "all/Dark/Flying/Yveltal",
          "all/Fairy/Steel/Zacian Crowned Sword",
          "all/Fairy/---/Zacian Hero of Many Battles",
          "all/Fighting/Steel/Zamazenta Crowned Shield",
          "all/Fighting/---/Zamazenta Hero of Many Battles",
          "all/Normal/---/Zangoose",
          "all/Electric/Flying/Zapdos",
          "all/Dark/Grass/Zarude",
          "all/Electric/---/Zebstrika",
          "all/Dragon/Electric/Zekrom",
          "all/Electric/---/Zeraora",
          "all/Normal/---/Zigzagoon",
          "all/Dark/Normal/Zigzagoon Galarian Zigzagoon",
          "all/Dark/---/Zoroark",
          "all/Dark/---/Zorua",
          "all/Poison/Flying/Zubat",
          "all/Dark/Dragon/Zweilous",
          "all/Dragon/Ground/Zygarde 10% Forme",
          "all/Dragon/Ground/Zygarde 50% Forme",
          "all/Dragon/Ground/Zygarde Complete Forme",
          "all/Bug/---",
          "all/Dark/---",
          "all/Dragon/---",
          "all/Electric/---",
          "all/Fairy/---",
          "all/Fighting/---",
          "all/Fire/---",
          "all/Flying/---",
          "all/Ghost/---",
          "all/Grass/---",
          "all/Ground/---",
          "all/Ice/---",
          "all/Normal/---",
          "all/Poison/---",
          "all/Psychic/---",
          "all/Rock/---",
          "all/Steel/---",
          "all/Water/---",
          "all/Fire/Bug",
          "all/Ice/Bug",
          "all/Poison/Bug",
          "all/Rock/Bug",
          "all/Water/Bug",
          "all/Electric/Dark",
          "all/Fighting/Dark",
          "all/Fire/Dark",
          "all/Ghost/Dark",
          "all/Grass/Dark",
          "all/Ground/Dark",
          "all/Poison/Dark",
          "all/Psychic/Dark",
          "all/Rock/Dark",
          "all/Water/Dark",
          "all/Dark/Dragon",
          "all/Electric/Dragon",
          "all/Fire/Dragon",
          "all/Flying/Dragon",
          "all/Ghost/Dragon",
          "all/Grass/Dragon",
          "all/Ground/Dragon",
          "all/Normal/Dragon",
          "all/Poison/Dragon",
          "all/Psychic/Dragon",
          "all/Rock/Dragon",
          "all/Steel/Dragon",
          "all/Water/Dragon",
          "all/Bug/Electric",
          "all/Dragon/Electric",
          "all/Ground/Electric",
          "all/Rock/Electric",
          "all/Water/Electric",
          "all/Bug/Fairy",
          "all/Dark/Fairy",
          "all/Dragon/Fairy",
          "all/Electric/Fairy",
          "all/Ghost/Fairy",
          "all/Grass/Fairy",
          "all/Ice/Fairy",
          "all/Normal/Fairy",
          "all/Poison/Fairy",
          "all/Psychic/Fairy",
          "all/Rock/Fairy",
          "all/Steel/Fairy",
          "all/Water/Fairy",
          "all/Bug/Fighting",
          "all/Dark/Fighting",
          "all/Dragon/Fighting",
          "all/Fire/Fighting",
          "all/Grass/Fighting",
          "all/Normal/Fighting",
          "all/Poison/Fighting",
          "all/Psychic/Fighting",
          "all/Rock/Fighting",
          "all/Steel/Fighting",
          "all/Water/Fighting",
          "all/Bug/Fire",
          "all/Dark/Fire",
          "all/Dragon/Fire",
          "all/Electric/Fire",
          "all/Ghost/Fire",
          "all/Ground/Fire",
          "all/Ice/Fire",
          "all/Poison/Fire",
          "all/Psychic/Fire",
          "all/Rock/Fire",
          "all/Bug/Flying",
          "all/Dark/Flying",
          "all/Dragon/Flying",
          "all/Electric/Flying",
          "all/Fairy/Flying",
          "all/Fighting/Flying",
          "all/Fire/Flying",
          "all/Ghost/Flying",
          "all/Grass/Flying",
          "all/Ground/Flying",
          "all/Ice/Flying",
          "all/Normal/Flying",
          "all/Poison/Flying",
          "all/Psychic/Flying",
          "all/Rock/Flying",
          "all/Steel/Flying",
          "all/Water/Flying",
          "all/Bug/Ghost",
          "all/Dark/Ghost",
          "all/Dragon/Ghost",
          "all/Electric/Ghost",
          "all/Fighting/Ghost",
          "all/Fire/Ghost",
          "all/Grass/Ghost",
          "all/Ground/Ghost",
          "all/Ice/Ghost",
          "all/Psychic/Ghost",
          "all/Steel/Ghost",
          "all/Water/Ghost",
          "all/Bug/Grass",
          "all/Dark/Grass",
          "all/Electric/Grass",
          "all/Ghost/Grass",
          "all/Normal/Grass",
          "all/Psychic/Grass",
          "all/Rock/Grass",
          "all/Water/Grass",
          "all/Bug/Ground",
          "all/Dragon/Ground",
          "all/Fire/Ground",
          "all/Ghost/Ground",
          "all/Grass/Ground",
          "all/Ice/Ground",
          "all/Normal/Ground",
          "all/Poison/Ground",
          "all/Rock/Ground",
          "all/Steel/Ground",
          "all/Water/Ground",
          "all/Dark/Ice",
          "all/Dragon/Ice",
          "all/Electric/Ice",
          "all/Fighting/Ice",
          "all/Grass/Ice",
          "all/Psychic/Ice",
          "all/Rock/Ice",
          "all/Water/Ice",
          "all/Dark/Normal",
          "all/Electric/Normal",
          "all/Fire/Normal",
          "all/Psychic/Normal",
          "all/Bug/Poison",
          "all/Electric/Poison",
          "all/Ghost/Poison",
          "all/Grass/Poison",
          "all/Rock/Poison",
          "all/Water/Poison",
          "all/Bug/Psychic",
          "all/Dark/Psychic",
          "all/Dragon/Psychic",
          "all/Electric/Psychic",
          "all/Fighting/Psychic",
          "all/Fire/Psychic",
          "all/Grass/Psychic",
          "all/Ground/Psychic",
          "all/Ice/Psychic",
          "all/Normal/Psychic",
          "all/Poison/Psychic",
          "all/Rock/Psychic",
          "all/Steel/Psychic",
          "all/Water/Psychic",
          "all/Bug/Rock",
          "all/Fire/Rock",
          "all/Ground/Rock",
          "all/Steel/Rock",
          "all/Water/Rock",
          "all/Bug/Steel",
          "all/Dark/Steel",
          "all/Electric/Steel",
          "all/Fairy/Steel",
          "all/Fighting/Steel",
          "all/Fire/Steel",
          "all/Flying/Steel",
          "all/Grass/Steel",
          "all/Ground/Steel",
          "all/Ice/Steel",
          "all/Psychic/Steel",
          "all/Rock/Steel",
          "all/Water/Steel",
          "all/Bug/Water",
          "all/Electric/Water",
          "all/Fighting/Water",
          "all/Fire/Water",
          "all/Flying/Water",
          "all/Ice/Water",
          "all/Normal/Water",
          "all/Poison/Water",
          "all/Rock/Water",
          "all/Bug",
          "all/Dark",
          "all/Dragon",
          "all/Electric",
          "all/Fairy",
          "all/Fighting",
          "all/Fire",
          "all/Flying",
          "all/Ghost",
          "all/Grass",
          "all/Ground",
          "all/Ice",
          "all/Normal",
          "all/Poison",
          "all/Psychic",
          "all/Rock",
          "all/Steel",
          "all/Water",
          "all"
         ],
         "labels": [
          "Abomasnow",
          "Abomasnow Mega Abomasnow",
          "Abra",
          "Absol",
          "Absol Mega Absol",
          "Accelgor",
          "Aegislash Blade Forme",
          "Aegislash Shield Forme",
          "Aerodactyl",
          "Aerodactyl Mega Aerodactyl",
          "Aggron",
          "Aggron Mega Aggron",
          "Aipom",
          "Alakazam",
          "Alakazam Mega Alakazam",
          "Alcremie",
          "Alomomola",
          "Altaria",
          "Altaria Mega Altaria",
          "Amaura",
          "Ambipom",
          "Amoonguss",
          "Ampharos",
          "Ampharos Mega Ampharos",
          "Anorith",
          "Appletun",
          "Applin",
          "Araquanid",
          "Arbok",
          "Arcanine",
          "Arceus",
          "Archen",
          "Archeops",
          "Arctovish",
          "Arctozolt",
          "Ariados",
          "Armaldo",
          "Aromatisse",
          "Aron",
          "Arrokuda",
          "Articuno",
          "Audino",
          "Audino Mega Audino",
          "Aurorus",
          "Avalugg",
          "Axew",
          "Azelf",
          "Azumarill",
          "Azurill",
          "Bagon",
          "Baltoy",
          "Banette",
          "Banette Mega Banette",
          "Barbaracle",
          "Barboach",
          "Barraskewda",
          "Basculin Blue-Striped Form",
          "Basculin Red-Striped Form",
          "Bastiodon",
          "Bayleef",
          "Beartic",
          "Beautifly",
          "Beedrill",
          "Beedrill Mega Beedrill",
          "Beheeyem",
          "Beldum",
          "Bellossom",
          "Bellsprout",
          "Bergmite",
          "Bewear",
          "Bibarel",
          "Bidoof",
          "Binacle",
          "Bisharp",
          "Blacephalon",
          "Blastoise",
          "Blastoise Mega Blastoise",
          "Blaziken",
          "Blaziken Mega Blaziken",
          "Blipbug",
          "Blissey",
          "Blitzle",
          "Boldore",
          "Boltund",
          "Bonsly",
          "Bouffalant",
          "Bounsweet",
          "Braixen",
          "Braviary",
          "Breloom",
          "Brionne",
          "Bronzong",
          "Bronzor",
          "Bruxish",
          "Budew",
          "Buizel",
          "Bulbasaur",
          "Buneary",
          "Bunnelby",
          "Burmy",
          "Butterfree",
          "Buzzwole",
          "Cacnea",
          "Cacturne",
          "Camerupt",
          "Camerupt Mega Camerupt",
          "Carbink",
          "Carkol",
          "Carnivine",
          "Carracosta",
          "Carvanha",
          "Cascoon",
          "Castform",
          "Castform Rainy Form",
          "Castform Snowy Form",
          "Castform Sunny Form",
          "Caterpie",
          "Celebi",
          "Celesteela",
          "Centiskorch",
          "Chandelure",
          "Chansey",
          "Charizard",
          "Charizard Mega Charizard X",
          "Charizard Mega Charizard Y",
          "Charjabug",
          "Charmander",
          "Charmeleon",
          "Chatot",
          "Cherrim",
          "Cherubi",
          "Chesnaught",
          "Chespin",
          "Chewtle",
          "Chikorita",
          "Chimchar",
          "Chimecho",
          "Chinchou",
          "Chingling",
          "Cinccino",
          "Cinderace",
          "Clamperl",
          "Clauncher",
          "Clawitzer",
          "Claydol",
          "Clefable",
          "Clefairy",
          "Cleffa",
          "Clobbopus",
          "Cloyster",
          "Coalossal",
          "Cobalion",
          "Cofagrigus",
          "Combee",
          "Combusken",
          "Comfey",
          "Conkeldurr",
          "Copperajah",
          "Corphish",
          "Corsola",
          "Corsola Galarian Corsola",
          "Corviknight",
          "Corvisquire",
          "Cosmoem",
          "Cosmog",
          "Cottonee",
          "Crabominable",
          "Crabrawler",
          "Cradily",
          "Cramorant",
          "Cranidos",
          "Crawdaunt",
          "Cresselia",
          "Croagunk",
          "Crobat",
          "Croconaw",
          "Crustle",
          "Cryogonal",
          "Cubchoo",
          "Cubone",
          "Cufant",
          "Cursola",
          "Cutiefly",
          "Cyndaquil",
          "Darkrai",
          "Darmanitan Galarian Standard Mode",
          "Darmanitan Galarian Zen Mode",
          "Darmanitan Standard Mode",
          "Darmanitan Zen Mode",
          "Dartrix",
          "Darumaka",
          "Darumaka Galarian Darumaka",
          "Decidueye",
          "Dedenne",
          "Deerling",
          "Deino",
          "Delcatty",
          "Delibird",
          "Delphox",
          "Deoxys Attack Forme",
          "Deoxys Defense Forme",
          "Deoxys Normal Forme",
          "Deoxys Speed Forme",
          "Dewgong",
          "Dewott",
          "Dewpider",
          "Dhelmise",
          "Dialga",
          "Diancie",
          "Diancie Mega Diancie",
          "Diggersby",
          "Diglett",
          "Diglett Alolan Diglett",
          "Ditto",
          "Dodrio",
          "Doduo",
          "Donphan",
          "Dottler",
          "Doublade",
          "Dracovish",
          "Dracozolt",
          "Dragalge",
          "Dragapult",
          "Dragonair",
          "Dragonite",
          "Drakloak",
          "Drampa",
          "Drapion",
          "Dratini",
          "Drednaw",
          "Dreepy",
          "Drifblim",
          "Drifloon",
          "Drilbur",
          "Drizzile",
          "Drowzee",
          "Druddigon",
          "Dubwool",
          "Ducklett",
          "Dugtrio",
          "Dugtrio Alolan Dugtrio",
          "Dunsparce",
          "Duosion",
          "Duraludon",
          "Durant",
          "Dusclops",
          "Dusknoir",
          "Duskull",
          "Dustox",
          "Dwebble",
          "Eelektrik",
          "Eelektross",
          "Eevee",
          "Eevee Partner Eevee",
          "Eiscue Ice Face",
          "Eiscue Noice Face",
          "Ekans",
          "Eldegoss",
          "Electabuzz",
          "Electivire",
          "Electrike",
          "Electrode",
          "Elekid",
          "Elgyem",
          "Emboar",
          "Emolga",
          "Empoleon",
          "Entei",
          "Escavalier",
          "Espeon",
          "Espurr",
          "Eternatus",
          "Eternatus Eternamax",
          "Excadrill",
          "Exeggcute",
          "Exeggutor",
          "Exeggutor Alolan Exeggutor",
          "Exploud",
          "Falinks",
          "Farfetch'd",
          "Farfetch'd Galarian Farfetch'd",
          "Fearow",
          "Feebas",
          "Fennekin",
          "Feraligatr",
          "Ferroseed",
          "Ferrothorn",
          "Finneon",
          "Flaaffy",
          "Flabébé",
          "Flapple",
          "Flareon",
          "Fletchinder",
          "Fletchling",
          "Floatzel",
          "Floette",
          "Florges",
          "Flygon",
          "Fomantis",
          "Foongus",
          "Forretress",
          "Fraxure",
          "Frillish",
          "Froakie",
          "Frogadier",
          "Froslass",
          "Frosmoth",
          "Furfrou",
          "Furret",
          "Gabite",
          "Gallade",
          "Gallade Mega Gallade",
          "Galvantula",
          "Garbodor",
          "Garchomp",
          "Garchomp Mega Garchomp",
          "Gardevoir",
          "Gardevoir Mega Gardevoir",
          "Gastly",
          "Gastrodon",
          "Genesect",
          "Gengar",
          "Gengar Mega Gengar",
          "Geodude",
          "Geodude Alolan Geodude",
          "Gible",
          "Gigalith",
          "Girafarig",
          "Giratina Altered Forme",
          "Giratina Origin Forme",
          "Glaceon",
          "Glalie",
          "Glalie Mega Glalie",
          "Glameow",
          "Gligar",
          "Gliscor",
          "Gloom",
          "Gogoat",
          "Golbat",
          "Goldeen",
          "Golduck",
          "Golem",
          "Golem Alolan Golem",
          "Golett",
          "Golisopod",
          "Golurk",
          "Goodra",
          "Goomy",
          "Gorebyss",
          "Gossifleur",
          "Gothita",
          "Gothitelle",
          "Gothorita",
          "Gourgeist Average Size",
          "Gourgeist Large Size",
          "Gourgeist Small Size",
          "Gourgeist Super Size",
          "Granbull",
          "Grapploct",
          "Graveler",
          "Graveler Alolan Graveler",
          "Greedent",
          "Greninja",
          "Greninja Ash-Greninja",
          "Grimer",
          "Grimer Alolan Grimer",
          "Grimmsnarl",
          "Grookey",
          "Grotle",
          "Groudon",
          "Groudon Primal Groudon",
          "Grovyle",
          "Growlithe",
          "Grubbin",
          "Grumpig",
          "Gulpin",
          "Gumshoos",
          "Gurdurr",
          "Guzzlord",
          "Gyarados",
          "Gyarados Mega Gyarados",
          "Hakamo-o",
          "Happiny",
          "Hariyama",
          "Hatenna",
          "Hatterene",
          "Hattrem",
          "Haunter",
          "Hawlucha",
          "Haxorus",
          "Heatmor",
          "Heatran",
          "Heliolisk",
          "Helioptile",
          "Heracross",
          "Heracross Mega Heracross",
          "Herdier",
          "Hippopotas",
          "Hippowdon",
          "Hitmonchan",
          "Hitmonlee",
          "Hitmontop",
          "Ho-oh",
          "Honchkrow",
          "Honedge",
          "Hoopa Hoopa Confined",
          "Hoopa Hoopa Unbound",
          "Hoothoot",
          "Hoppip",
          "Horsea",
          "Houndoom",
          "Houndoom Mega Houndoom",
          "Houndour",
          "Huntail",
          "Hydreigon",
          "Hypno",
          "Igglybuff",
          "Illumise",
          "Impidimp",
          "Incineroar",
          "Indeedee Female",
          "Indeedee Male",
          "Infernape",
          "Inkay",
          "Inteleon",
          "Ivysaur",
          "Jangmo-o",
          "Jellicent",
          "Jigglypuff",
          "Jirachi",
          "Jolteon",
          "Joltik",
          "Jumpluff",
          "Jynx",
          "Kabuto",
          "Kabutops",
          "Kadabra",
          "Kakuna",
          "Kangaskhan",
          "Kangaskhan Mega Kangaskhan",
          "Karrablast",
          "Kartana",
          "Kecleon",
          "Keldeo Ordinary Forme",
          "Keldeo Resolute Forme",
          "Kingdra",
          "Kingler",
          "Kirlia",
          "Klang",
          "Klefki",
          "Klink",
          "Klinklang",
          "Koffing",
          "Komala",
          "Kommo-o",
          "Krabby",
          "Kricketot",
          "Kricketune",
          "Krokorok",
          "Krookodile",
          "Kubfu",
          "Kyogre",
          "Kyogre Primal Kyogre",
          "Kyurem",
          "Kyurem Black Kyurem",
          "Kyurem White Kyurem",
          "Lairon",
          "Lampent",
          "Landorus Incarnate Forme",
          "Landorus Therian Forme",
          "Lanturn",
          "Lapras",
          "Larvesta",
          "Larvitar",
          "Latias",
          "Latias Mega Latias",
          "Latios",
          "Latios Mega Latios",
          "Leafeon",
          "Leavanny",
          "Ledian",
          "Ledyba",
          "Lickilicky",
          "Lickitung",
          "Liepard",
          "Lileep",
          "Lilligant",
          "Lillipup",
          "Linoone",
          "Linoone Galarian Linoone",
          "Litleo",
          "Litten",
          "Litwick",
          "Lombre",
          "Lopunny",
          "Lopunny Mega Lopunny",
          "Lotad",
          "Loudred",
          "Lucario",
          "Lucario Mega Lucario",
          "Ludicolo",
          "Lugia",
          "Lumineon",
          "Lunala",
          "Lunatone",
          "Lurantis",
          "Luvdisc",
          "Luxio",
          "Luxray",
          "Lycanroc Dusk Form",
          "Lycanroc Midday Form",
          "Lycanroc Midnight Form",
          "Machamp",
          "Machoke",
          "Machop",
          "Magby",
          "Magcargo",
          "Magearna",
          "Magikarp",
          "Magmar",
          "Magmortar",
          "Magnemite",
          "Magneton",
          "Magnezone",
          "Makuhita",
          "Malamar",
          "Mamoswine",
          "Manaphy",
          "Mandibuzz",
          "Manectric",
          "Manectric Mega Manectric",
          "Mankey",
          "Mantine",
          "Mantyke",
          "Maractus",
          "Mareanie",
          "Mareep",
          "Marill",
          "Marowak",
          "Marowak Alolan Marowak",
          "Marshadow",
          "Marshtomp",
          "Masquerain",
          "Mawile",
          "Mawile Mega Mawile",
          "Medicham",
          "Medicham Mega Medicham",
          "Meditite",
          "Meganium",
          "Melmetal",
          "Meloetta Aria Forme",
          "Meloetta Pirouette Forme",
          "Meltan",
          "Meowstic Female",
          "Meowstic Male",
          "Meowth",
          "Meowth Alolan Meowth",
          "Meowth Galarian Meowth",
          "Mesprit",
          "Metagross",
          "Metagross Mega Metagross",
          "Metang",
          "Metapod",
          "Mew",
          "Mewtwo",
          "Mewtwo Mega Mewtwo X",
          "Mewtwo Mega Mewtwo Y",
          "Mienfoo",
          "Mienshao",
          "Mightyena",
          "Milcery",
          "Milotic",
          "Miltank",
          "Mime Jr.",
          "Mimikyu",
          "Minccino",
          "Minior Core Form",
          "Minior Meteor Form",
          "Minun",
          "Misdreavus",
          "Mismagius",
          "Moltres",
          "Monferno",
          "Morelull",
          "Morgrem",
          "Morpeko Full Belly Mode",
          "Morpeko Hangry Mode",
          "Mothim",
          "Mr. Mime",
          "Mr. Mime Galarian Mr. Mime",
          "Mr. Rime",
          "Mudbray",
          "Mudkip",
          "Mudsdale",
          "Muk",
          "Muk Alolan Muk",
          "Munchlax",
          "Munna",
          "Murkrow",
          "Musharna",
          "Naganadel",
          "Natu",
          "Necrozma",
          "Necrozma Dawn Wings Necrozma",
          "Necrozma Dusk Mane Necrozma",
          "Necrozma Ultra Necrozma",
          "Nickit",
          "Nidoking",
          "Nidoqueen",
          "Nidoran♀",
          "Nidoran♂",
          "Nidorina",
          "Nidorino",
          "Nihilego",
          "Nincada",
          "Ninetales",
          "Ninetales Alolan Ninetales",
          "Ninjask",
          "Noctowl",
          "Noibat",
          "Noivern",
          "Nosepass",
          "Numel",
          "Nuzleaf",
          "Obstagoon",
          "Octillery",
          "Oddish",
          "Omanyte",
          "Omastar",
          "Onix",
          "Oranguru",
          "Orbeetle",
          "Oricorio Baile Style",
          "Oricorio Pa'u Style",
          "Oricorio Pom-Pom Style",
          "Oricorio Sensu Style",
          "Oshawott",
          "Pachirisu",
          "Palkia",
          "Palossand",
          "Palpitoad",
          "Pancham",
          "Pangoro",
          "Panpour",
          "Pansage",
          "Pansear",
          "Paras",
          "Parasect",
          "Passimian",
          "Patrat",
          "Pawniard",
          "Pelipper",
          "Perrserker",
          "Persian",
          "Persian Alolan Persian",
          "Petilil",
          "Phanpy",
          "Phantump",
          "Pheromosa",
          "Phione",
          "Pichu",
          "Pidgeot",
          "Pidgeot Mega Pidgeot",
          "Pidgeotto",
          "Pidgey",
          "Pidove",
          "Pignite",
          "Pikachu",
          "Pikachu Partner Pikachu",
          "Pikipek",
          "Piloswine",
          "Pincurchin",
          "Pineco",
          "Pinsir",
          "Pinsir Mega Pinsir",
          "Piplup",
          "Plusle",
          "Poipole",
          "Politoed",
          "Poliwag",
          "Poliwhirl",
          "Poliwrath",
          "Polteageist",
          "Ponyta",
          "Ponyta Galarian Ponyta",
          "Poochyena",
          "Popplio",
          "Porygon",
          "Porygon-Z",
          "Porygon2",
          "Primarina",
          "Primeape",
          "Prinplup",
          "Probopass",
          "Psyduck",
          "Pumpkaboo Average Size",
          "Pumpkaboo Large Size",
          "Pumpkaboo Small Size",
          "Pumpkaboo Super Size",
          "Pupitar",
          "Purrloin",
          "Purugly",
          "Pyroar",
          "Pyukumuku",
          "Quagsire",
          "Quilava",
          "Quilladin",
          "Qwilfish",
          "Raboot",
          "Raichu",
          "Raichu Alolan Raichu",
          "Raikou",
          "Ralts",
          "Rampardos",
          "Rapidash",
          "Rapidash Galarian Rapidash",
          "Raticate",
          "Raticate Alolan Raticate",
          "Rattata",
          "Rattata Alolan Rattata",
          "Rayquaza",
          "Rayquaza Mega Rayquaza",
          "Regice",
          "Regigigas",
          "Regirock",
          "Registeel",
          "Relicanth",
          "Remoraid",
          "Reshiram",
          "Reuniclus",
          "Rhydon",
          "Rhyhorn",
          "Rhyperior",
          "Ribombee",
          "Rillaboom",
          "Riolu",
          "Rockruff",
          "Rockruff Own Tempo Rockruff",
          "Roggenrola",
          "Rolycoly",
          "Rookidee",
          "Roselia",
          "Roserade",
          "Rotom",
          "Rotom Fan Rotom",
          "Rotom Frost Rotom",
          "Rotom Heat Rotom",
          "Rotom Mow Rotom",
          "Rotom Wash Rotom",
          "Rowlet",
          "Rufflet",
          "Runerigus",
          "Sableye",
          "Sableye Mega Sableye",
          "Salamence",
          "Salamence Mega Salamence",
          "Salandit",
          "Salazzle",
          "Samurott",
          "Sandaconda",
          "Sandile",
          "Sandshrew",
          "Sandshrew Alolan Sandshrew",
          "Sandslash",
          "Sandslash Alolan Sandslash",
          "Sandygast",
          "Sawk",
          "Sawsbuck",
          "Scatterbug",
          "Sceptile",
          "Sceptile Mega Sceptile",
          "Scizor",
          "Scizor Mega Scizor",
          "Scolipede",
          "Scorbunny",
          "Scrafty",
          "Scraggy",
          "Scyther",
          "Seadra",
          "Seaking",
          "Sealeo",
          "Seedot",
          "Seel",
          "Seismitoad",
          "Sentret",
          "Serperior",
          "Servine",
          "Seviper",
          "Sewaddle",
          "Sharpedo",
          "Sharpedo Mega Sharpedo",
          "Shaymin Land Forme",
          "Shaymin Sky Forme",
          "Shedinja",
          "Shelgon",
          "Shellder",
          "Shellos",
          "Shelmet",
          "Shieldon",
          "Shiftry",
          "Shiinotic",
          "Shinx",
          "Shroomish",
          "Shuckle",
          "Shuppet",
          "Sigilyph",
          "Silcoon",
          "Silicobra",
          "Silvally",
          "Simipour",
          "Simisage",
          "Simisear",
          "Sinistea",
          "Sirfetch'd",
          "Sizzlipede",
          "Skarmory",
          "Skiddo",
          "Skiploom",
          "Skitty",
          "Skorupi",
          "Skrelp",
          "Skuntank",
          "Skwovet",
          "Slaking",
          "Slakoth",
          "Sliggoo",
          "Slowbro",
          "Slowbro Galarian Slowbro",
          "Slowbro Mega Slowbro",
          "Slowking",
          "Slowpoke",
          "Slowpoke Galarian Slowpoke",
          "Slugma",
          "Slurpuff",
          "Smeargle",
          "Smoochum",
          "Sneasel",
          "Snivy",
          "Snom",
          "Snorlax",
          "Snorunt",
          "Snover",
          "Snubbull",
          "Sobble",
          "Solgaleo",
          "Solosis",
          "Solrock",
          "Spearow",
          "Spewpa",
          "Spheal",
          "Spinarak",
          "Spinda",
          "Spiritomb",
          "Spoink",
          "Spritzee",
          "Squirtle",
          "Stakataka",
          "Stantler",
          "Staraptor",
          "Staravia",
          "Starly",
          "Starmie",
          "Staryu",
          "Steelix",
          "Steelix Mega Steelix",
          "Steenee",
          "Stonjourner",
          "Stoutland",
          "Stufful",
          "Stunfisk",
          "Stunfisk Galarian Stunfisk",
          "Stunky",
          "Sudowoodo",
          "Suicune",
          "Sunflora",
          "Sunkern",
          "Surskit",
          "Swablu",
          "Swadloon",
          "Swalot",
          "Swampert",
          "Swampert Mega Swampert",
          "Swanna",
          "Swellow",
          "Swinub",
          "Swirlix",
          "Swoobat",
          "Sylveon",
          "Taillow",
          "Talonflame",
          "Tangela",
          "Tangrowth",
          "Tapu Bulu",
          "Tapu Fini",
          "Tapu Koko",
          "Tapu Lele",
          "Tauros",
          "Teddiursa",
          "Tentacool",
          "Tentacruel",
          "Tepig",
          "Terrakion",
          "Thievul",
          "Throh",
          "Thundurus Incarnate Forme",
          "Thundurus Therian Forme",
          "Thwackey",
          "Timburr",
          "Tirtouga",
          "Togedemaru",
          "Togekiss",
          "Togepi",
          "Togetic",
          "Torchic",
          "Torkoal",
          "Tornadus Incarnate Forme",
          "Tornadus Therian Forme",
          "Torracat",
          "Torterra",
          "Totodile",
          "Toucannon",
          "Toxapex",
          "Toxel",
          "Toxicroak",
          "Toxtricity Amped Form",
          "Toxtricity Low Key Form",
          "Tranquill",
          "Trapinch",
          "Treecko",
          "Trevenant",
          "Tropius",
          "Trubbish",
          "Trumbeak",
          "Tsareena",
          "Turtonator",
          "Turtwig",
          "Tympole",
          "Tynamo",
          "Type: Null",
          "Typhlosion",
          "Tyranitar",
          "Tyranitar Mega Tyranitar",
          "Tyrantrum",
          "Tyrogue",
          "Tyrunt",
          "Umbreon",
          "Unfezant",
          "Unown",
          "Ursaring",
          "Urshifu Rapid Strike Style",
          "Urshifu Single Strike Style",
          "Uxie",
          "Vanillish",
          "Vanillite",
          "Vanilluxe",
          "Vaporeon",
          "Venipede",
          "Venomoth",
          "Venonat",
          "Venusaur",
          "Venusaur Mega Venusaur",
          "Vespiquen",
          "Vibrava",
          "Victini",
          "Victreebel",
          "Vigoroth",
          "Vikavolt",
          "Vileplume",
          "Virizion",
          "Vivillon",
          "Volbeat",
          "Volcanion",
          "Volcarona",
          "Voltorb",
          "Vullaby",
          "Vulpix",
          "Vulpix Alolan Vulpix",
          "Wailmer",
          "Wailord",
          "Walrein",
          "Wartortle",
          "Watchog",
          "Weavile",
          "Weedle",
          "Weepinbell",
          "Weezing",
          "Weezing Galarian Weezing",
          "Whimsicott",
          "Whirlipede",
          "Whiscash",
          "Whismur",
          "Wigglytuff",
          "Wimpod",
          "Wingull",
          "Wishiwashi School Form",
          "Wishiwashi Solo Form",
          "Wobbuffet",
          "Woobat",
          "Wooloo",
          "Wooper",
          "Wormadam Plant Cloak",
          "Wormadam Sandy Cloak",
          "Wormadam Trash Cloak",
          "Wurmple",
          "Wynaut",
          "Xatu",
          "Xerneas",
          "Xurkitree",
          "Yamask",
          "Yamask Galarian Yamask",
          "Yamper",
          "Yanma",
          "Yanmega",
          "Yungoos",
          "Yveltal",
          "Zacian Crowned Sword",
          "Zacian Hero of Many Battles",
          "Zamazenta Crowned Shield",
          "Zamazenta Hero of Many Battles",
          "Zangoose",
          "Zapdos",
          "Zarude",
          "Zebstrika",
          "Zekrom",
          "Zeraora",
          "Zigzagoon",
          "Zigzagoon Galarian Zigzagoon",
          "Zoroark",
          "Zorua",
          "Zubat",
          "Zweilous",
          "Zygarde 10% Forme",
          "Zygarde 50% Forme",
          "Zygarde Complete Forme",
          "---",
          "---",
          "---",
          "---",
          "---",
          "---",
          "---",
          "---",
          "---",
          "---",
          "---",
          "---",
          "---",
          "---",
          "---",
          "---",
          "---",
          "---",
          "Bug",
          "Bug",
          "Bug",
          "Bug",
          "Bug",
          "Dark",
          "Dark",
          "Dark",
          "Dark",
          "Dark",
          "Dark",
          "Dark",
          "Dark",
          "Dark",
          "Dark",
          "Dragon",
          "Dragon",
          "Dragon",
          "Dragon",
          "Dragon",
          "Dragon",
          "Dragon",
          "Dragon",
          "Dragon",
          "Dragon",
          "Dragon",
          "Dragon",
          "Dragon",
          "Electric",
          "Electric",
          "Electric",
          "Electric",
          "Electric",
          "Fairy",
          "Fairy",
          "Fairy",
          "Fairy",
          "Fairy",
          "Fairy",
          "Fairy",
          "Fairy",
          "Fairy",
          "Fairy",
          "Fairy",
          "Fairy",
          "Fairy",
          "Fighting",
          "Fighting",
          "Fighting",
          "Fighting",
          "Fighting",
          "Fighting",
          "Fighting",
          "Fighting",
          "Fighting",
          "Fighting",
          "Fighting",
          "Fire",
          "Fire",
          "Fire",
          "Fire",
          "Fire",
          "Fire",
          "Fire",
          "Fire",
          "Fire",
          "Fire",
          "Flying",
          "Flying",
          "Flying",
          "Flying",
          "Flying",
          "Flying",
          "Flying",
          "Flying",
          "Flying",
          "Flying",
          "Flying",
          "Flying",
          "Flying",
          "Flying",
          "Flying",
          "Flying",
          "Flying",
          "Ghost",
          "Ghost",
          "Ghost",
          "Ghost",
          "Ghost",
          "Ghost",
          "Ghost",
          "Ghost",
          "Ghost",
          "Ghost",
          "Ghost",
          "Ghost",
          "Grass",
          "Grass",
          "Grass",
          "Grass",
          "Grass",
          "Grass",
          "Grass",
          "Grass",
          "Ground",
          "Ground",
          "Ground",
          "Ground",
          "Ground",
          "Ground",
          "Ground",
          "Ground",
          "Ground",
          "Ground",
          "Ground",
          "Ice",
          "Ice",
          "Ice",
          "Ice",
          "Ice",
          "Ice",
          "Ice",
          "Ice",
          "Normal",
          "Normal",
          "Normal",
          "Normal",
          "Poison",
          "Poison",
          "Poison",
          "Poison",
          "Poison",
          "Poison",
          "Psychic",
          "Psychic",
          "Psychic",
          "Psychic",
          "Psychic",
          "Psychic",
          "Psychic",
          "Psychic",
          "Psychic",
          "Psychic",
          "Psychic",
          "Psychic",
          "Psychic",
          "Psychic",
          "Rock",
          "Rock",
          "Rock",
          "Rock",
          "Rock",
          "Steel",
          "Steel",
          "Steel",
          "Steel",
          "Steel",
          "Steel",
          "Steel",
          "Steel",
          "Steel",
          "Steel",
          "Steel",
          "Steel",
          "Steel",
          "Water",
          "Water",
          "Water",
          "Water",
          "Water",
          "Water",
          "Water",
          "Water",
          "Water",
          "Bug",
          "Dark",
          "Dragon",
          "Electric",
          "Fairy",
          "Fighting",
          "Fire",
          "Flying",
          "Ghost",
          "Grass",
          "Ground",
          "Ice",
          "Normal",
          "Poison",
          "Psychic",
          "Rock",
          "Steel",
          "Water",
          "all"
         ],
         "name": "",
         "parents": [
          "all/Grass/Ice",
          "all/Grass/Ice",
          "all/Psychic/---",
          "all/Dark/---",
          "all/Dark/---",
          "all/Bug/---",
          "all/Steel/Ghost",
          "all/Steel/Ghost",
          "all/Rock/Flying",
          "all/Rock/Flying",
          "all/Steel/Rock",
          "all/Steel/---",
          "all/Normal/---",
          "all/Psychic/---",
          "all/Psychic/---",
          "all/Fairy/---",
          "all/Water/---",
          "all/Dragon/Flying",
          "all/Dragon/Fairy",
          "all/Rock/Ice",
          "all/Normal/---",
          "all/Grass/Poison",
          "all/Electric/---",
          "all/Electric/Dragon",
          "all/Rock/Bug",
          "all/Grass/Dragon",
          "all/Grass/Dragon",
          "all/Water/Bug",
          "all/Poison/---",
          "all/Fire/---",
          "all/Normal/---",
          "all/Rock/Flying",
          "all/Rock/Flying",
          "all/Water/Ice",
          "all/Electric/Ice",
          "all/Bug/Poison",
          "all/Rock/Bug",
          "all/Fairy/---",
          "all/Steel/Rock",
          "all/Water/---",
          "all/Ice/Flying",
          "all/Normal/---",
          "all/Normal/Fairy",
          "all/Rock/Ice",
          "all/Ice/---",
          "all/Dragon/---",
          "all/Psychic/---",
          "all/Water/Fairy",
          "all/Normal/Fairy",
          "all/Dragon/---",
          "all/Ground/Psychic",
          "all/Ghost/---",
          "all/Ghost/---",
          "all/Rock/Water",
          "all/Water/Ground",
          "all/Water/---",
          "all/Water/---",
          "all/Water/---",
          "all/Rock/Steel",
          "all/Grass/---",
          "all/Ice/---",
          "all/Bug/Flying",
          "all/Bug/Poison",
          "all/Bug/Poison",
          "all/Psychic/---",
          "all/Steel/Psychic",
          "all/Grass/---",
          "all/Grass/Poison",
          "all/Ice/---",
          "all/Normal/Fighting",
          "all/Normal/Water",
          "all/Normal/---",
          "all/Rock/Water",
          "all/Dark/Steel",
          "all/Fire/Ghost",
          "all/Water/---",
          "all/Water/---",
          "all/Fire/Fighting",
          "all/Fire/Fighting",
          "all/Bug/---",
          "all/Normal/---",
          "all/Electric/---",
          "all/Rock/---",
          "all/Electric/---",
          "all/Rock/---",
          "all/Normal/---",
          "all/Grass/---",
          "all/Fire/---",
          "all/Normal/Flying",
          "all/Grass/Fighting",
          "all/Water/---",
          "all/Steel/Psychic",
          "all/Steel/Psychic",
          "all/Water/Psychic",
          "all/Grass/Poison",
          "all/Water/---",
          "all/Grass/Poison",
          "all/Normal/---",
          "all/Normal/---",
          "all/Bug/---",
          "all/Bug/Flying",
          "all/Bug/Fighting",
          "all/Grass/---",
          "all/Grass/Dark",
          "all/Fire/Ground",
          "all/Fire/Ground",
          "all/Rock/Fairy",
          "all/Rock/Fire",
          "all/Grass/---",
          "all/Water/Rock",
          "all/Water/Dark",
          "all/Bug/---",
          "all/Normal/---",
          "all/Water/---",
          "all/Ice/---",
          "all/Fire/---",
          "all/Bug/---",
          "all/Psychic/Grass",
          "all/Steel/Flying",
          "all/Fire/Bug",
          "all/Ghost/Fire",
          "all/Normal/---",
          "all/Fire/Flying",
          "all/Fire/Dragon",
          "all/Fire/Flying",
          "all/Bug/Electric",
          "all/Fire/---",
          "all/Fire/---",
          "all/Normal/Flying",
          "all/Grass/---",
          "all/Grass/---",
          "all/Grass/Fighting",
          "all/Grass/---",
          "all/Water/---",
          "all/Grass/---",
          "all/Fire/---",
          "all/Psychic/---",
          "all/Water/Electric",
          "all/Psychic/---",
          "all/Normal/---",
          "all/Fire/---",
          "all/Water/---",
          "all/Water/---",
          "all/Water/---",
          "all/Ground/Psychic",
          "all/Fairy/---",
          "all/Fairy/---",
          "all/Fairy/---",
          "all/Fighting/---",
          "all/Water/Ice",
          "all/Rock/Fire",
          "all/Steel/Fighting",
          "all/Ghost/---",
          "all/Bug/Flying",
          "all/Fire/Fighting",
          "all/Fairy/---",
          "all/Fighting/---",
          "all/Steel/---",
          "all/Water/---",
          "all/Water/Rock",
          "all/Ghost/---",
          "all/Flying/Steel",
          "all/Flying/---",
          "all/Psychic/---",
          "all/Psychic/---",
          "all/Grass/Fairy",
          "all/Fighting/Ice",
          "all/Fighting/---",
          "all/Rock/Grass",
          "all/Flying/Water",
          "all/Rock/---",
          "all/Water/Dark",
          "all/Psychic/---",
          "all/Poison/Fighting",
          "all/Poison/Flying",
          "all/Water/---",
          "all/Bug/Rock",
          "all/Ice/---",
          "all/Ice/---",
          "all/Ground/---",
          "all/Steel/---",
          "all/Ghost/---",
          "all/Bug/Fairy",
          "all/Fire/---",
          "all/Dark/---",
          "all/Ice/---",
          "all/Ice/Fire",
          "all/Fire/---",
          "all/Fire/Psychic",
          "all/Grass/Flying",
          "all/Fire/---",
          "all/Ice/---",
          "all/Grass/Ghost",
          "all/Electric/Fairy",
          "all/Normal/Grass",
          "all/Dark/Dragon",
          "all/Normal/---",
          "all/Ice/Flying",
          "all/Fire/Psychic",
          "all/Psychic/---",
          "all/Psychic/---",
          "all/Psychic/---",
          "all/Psychic/---",
          "all/Water/Ice",
          "all/Water/---",
          "all/Water/Bug",
          "all/Ghost/Grass",
          "all/Steel/Dragon",
          "all/Rock/Fairy",
          "all/Rock/Fairy",
          "all/Normal/Ground",
          "all/Ground/---",
          "all/Ground/Steel",
          "all/Normal/---",
          "all/Normal/Flying",
          "all/Normal/Flying",
          "all/Ground/---",
          "all/Bug/Psychic",
          "all/Steel/Ghost",
          "all/Water/Dragon",
          "all/Electric/Dragon",
          "all/Poison/Dragon",
          "all/Dragon/Ghost",
          "all/Dragon/---",
          "all/Dragon/Flying",
          "all/Dragon/Ghost",
          "all/Normal/Dragon",
          "all/Poison/Dark",
          "all/Dragon/---",
          "all/Water/Rock",
          "all/Dragon/Ghost",
          "all/Ghost/Flying",
          "all/Ghost/Flying",
          "all/Ground/---",
          "all/Water/---",
          "all/Psychic/---",
          "all/Dragon/---",
          "all/Normal/---",
          "all/Water/Flying",
          "all/Ground/---",
          "all/Ground/Steel",
          "all/Normal/---",
          "all/Psychic/---",
          "all/Steel/Dragon",
          "all/Bug/Steel",
          "all/Ghost/---",
          "all/Ghost/---",
          "all/Ghost/---",
          "all/Bug/Poison",
          "all/Bug/Rock",
          "all/Electric/---",
          "all/Electric/---",
          "all/Normal/---",
          "all/Normal/---",
          "all/Ice/---",
          "all/Ice/---",
          "all/Poison/---",
          "all/Grass/---",
          "all/Electric/---",
          "all/Electric/---",
          "all/Electric/---",
          "all/Electric/---",
          "all/Electric/---",
          "all/Psychic/---",
          "all/Fire/Fighting",
          "all/Electric/Flying",
          "all/Water/Steel",
          "all/Fire/---",
          "all/Bug/Steel",
          "all/Psychic/---",
          "all/Psychic/---",
          "all/Poison/Dragon",
          "all/Poison/Dragon",
          "all/Ground/Steel",
          "all/Grass/Psychic",
          "all/Grass/Psychic",
          "all/Grass/Dragon",
          "all/Normal/---",
          "all/Fighting/---",
          "all/Normal/Flying",
          "all/Fighting/---",
          "all/Normal/Flying",
          "all/Water/---",
          "all/Fire/---",
          "all/Water/---",
          "all/Grass/Steel",
          "all/Grass/Steel",
          "all/Water/---",
          "all/Electric/---",
          "all/Fairy/---",
          "all/Grass/Dragon",
          "all/Fire/---",
          "all/Fire/Flying",
          "all/Normal/Flying",
          "all/Water/---",
          "all/Fairy/---",
          "all/Fairy/---",
          "all/Ground/Dragon",
          "all/Grass/---",
          "all/Grass/Poison",
          "all/Bug/Steel",
          "all/Dragon/---",
          "all/Water/Ghost",
          "all/Water/---",
          "all/Water/---",
          "all/Ice/Ghost",
          "all/Ice/Bug",
          "all/Normal/---",
          "all/Normal/---",
          "all/Dragon/Ground",
          "all/Psychic/Fighting",
          "all/Psychic/Fighting",
          "all/Bug/Electric",
          "all/Poison/---",
          "all/Dragon/Ground",
          "all/Dragon/Ground",
          "all/Psychic/Fairy",
          "all/Psychic/Fairy",
          "all/Ghost/Poison",
          "all/Water/Ground",
          "all/Bug/Steel",
          "all/Ghost/Poison",
          "all/Ghost/Poison",
          "all/Rock/Ground",
          "all/Rock/Electric",
          "all/Dragon/Ground",
          "all/Rock/---",
          "all/Normal/Psychic",
          "all/Ghost/Dragon",
          "all/Ghost/Dragon",
          "all/Ice/---",
          "all/Ice/---",
          "all/Ice/---",
          "all/Normal/---",
          "all/Ground/Flying",
          "all/Ground/Flying",
          "all/Grass/Poison",
          "all/Grass/---",
          "all/Poison/Flying",
          "all/Water/---",
          "all/Water/---",
          "all/Rock/Ground",
          "all/Rock/Electric",
          "all/Ground/Ghost",
          "all/Bug/Water",
          "all/Ground/Ghost",
          "all/Dragon/---",
          "all/Dragon/---",
          "all/Water/---",
          "all/Grass/---",
          "all/Psychic/---",
          "all/Psychic/---",
          "all/Psychic/---",
          "all/Ghost/Grass",
          "all/Ghost/Grass",
          "all/Ghost/Grass",
          "all/Ghost/Grass",
          "all/Fairy/---",
          "all/Fighting/---",
          "all/Rock/Ground",
          "all/Rock/Electric",
          "all/Normal/---",
          "all/Water/Dark",
          "all/Water/Dark",
          "all/Poison/---",
          "all/Poison/Dark",
          "all/Dark/Fairy",
          "all/Grass/---",
          "all/Grass/---",
          "all/Ground/---",
          "all/Ground/Fire",
          "all/Grass/---",
          "all/Fire/---",
          "all/Bug/---",
          "all/Psychic/---",
          "all/Poison/---",
          "all/Normal/---",
          "all/Fighting/---",
          "all/Dark/Dragon",
          "all/Water/Flying",
          "all/Water/Dark",
          "all/Dragon/Fighting",
          "all/Normal/---",
          "all/Fighting/---",
          "all/Psychic/---",
          "all/Psychic/Fairy",
          "all/Psychic/---",
          "all/Ghost/Poison",
          "all/Fighting/Flying",
          "all/Dragon/---",
          "all/Fire/---",
          "all/Fire/Steel",
          "all/Electric/Normal",
          "all/Electric/Normal",
          "all/Bug/Fighting",
          "all/Bug/Fighting",
          "all/Normal/---",
          "all/Ground/---",
          "all/Ground/---",
          "all/Fighting/---",
          "all/Fighting/---",
          "all/Fighting/---",
          "all/Fire/Flying",
          "all/Dark/Flying",
          "all/Steel/Ghost",
          "all/Psychic/Ghost",
          "all/Psychic/Dark",
          "all/Normal/Flying",
          "all/Grass/Flying",
          "all/Water/---",
          "all/Dark/Fire",
          "all/Dark/Fire",
          "all/Dark/Fire",
          "all/Water/---",
          "all/Dark/Dragon",
          "all/Psychic/---",
          "all/Normal/Fairy",
          "all/Bug/---",
          "all/Dark/Fairy",
          "all/Fire/Dark",
          "all/Psychic/Normal",
          "all/Psychic/Normal",
          "all/Fire/Fighting",
          "all/Dark/Psychic",
          "all/Water/---",
          "all/Grass/Poison",
          "all/Dragon/---",
          "all/Water/Ghost",
          "all/Normal/Fairy",
          "all/Steel/Psychic",
          "all/Electric/---",
          "all/Bug/Electric",
          "all/Grass/Flying",
          "all/Ice/Psychic",
          "all/Rock/Water",
          "all/Rock/Water",
          "all/Psychic/---",
          "all/Bug/Poison",
          "all/Normal/---",
          "all/Normal/---",
          "all/Bug/---",
          "all/Grass/Steel",
          "all/Normal/---",
          "all/Water/Fighting",
          "all/Water/Fighting",
          "all/Water/Dragon",
          "all/Water/---",
          "all/Psychic/Fairy",
          "all/Steel/---",
          "all/Steel/Fairy",
          "all/Steel/---",
          "all/Steel/---",
          "all/Poison/---",
          "all/Normal/---",
          "all/Dragon/Fighting",
          "all/Water/---",
          "all/Bug/---",
          "all/Bug/---",
          "all/Ground/Dark",
          "all/Ground/Dark",
          "all/Fighting/---",
          "all/Water/---",
          "all/Water/---",
          "all/Dragon/Ice",
          "all/Dragon/Ice",
          "all/Dragon/Ice",
          "all/Steel/Rock",
          "all/Ghost/Fire",
          "all/Ground/Flying",
          "all/Ground/Flying",
          "all/Water/Electric",
          "all/Water/Ice",
          "all/Bug/Fire",
          "all/Rock/Ground",
          "all/Dragon/Psychic",
          "all/Dragon/Psychic",
          "all/Dragon/Psychic",
          "all/Dragon/Psychic",
          "all/Grass/---",
          "all/Bug/Grass",
          "all/Bug/Flying",
          "all/Bug/Flying",
          "all/Normal/---",
          "all/Normal/---",
          "all/Dark/---",
          "all/Rock/Grass",
          "all/Grass/---",
          "all/Normal/---",
          "all/Normal/---",
          "all/Dark/Normal",
          "all/Fire/Normal",
          "all/Fire/---",
          "all/Ghost/Fire",
          "all/Water/Grass",
          "all/Normal/---",
          "all/Normal/Fighting",
          "all/Water/Grass",
          "all/Normal/---",
          "all/Fighting/Steel",
          "all/Fighting/Steel",
          "all/Water/Grass",
          "all/Psychic/Flying",
          "all/Water/---",
          "all/Psychic/Ghost",
          "all/Rock/Psychic",
          "all/Grass/---",
          "all/Water/---",
          "all/Electric/---",
          "all/Electric/---",
          "all/Rock/---",
          "all/Rock/---",
          "all/Rock/---",
          "all/Fighting/---",
          "all/Fighting/---",
          "all/Fighting/---",
          "all/Fire/---",
          "all/Fire/Rock",
          "all/Steel/Fairy",
          "all/Water/---",
          "all/Fire/---",
          "all/Fire/---",
          "all/Electric/Steel",
          "all/Electric/Steel",
          "all/Electric/Steel",
          "all/Fighting/---",
          "all/Dark/Psychic",
          "all/Ice/Ground",
          "all/Water/---",
          "all/Dark/Flying",
          "all/Electric/---",
          "all/Electric/---",
          "all/Fighting/---",
          "all/Water/Flying",
          "all/Water/Flying",
          "all/Grass/---",
          "all/Poison/Water",
          "all/Electric/---",
          "all/Water/Fairy",
          "all/Ground/---",
          "all/Fire/Ghost",
          "all/Fighting/Ghost",
          "all/Water/Ground",
          "all/Bug/Flying",
          "all/Steel/Fairy",
          "all/Steel/Fairy",
          "all/Fighting/Psychic",
          "all/Fighting/Psychic",
          "all/Fighting/Psychic",
          "all/Grass/---",
          "all/Steel/---",
          "all/Normal/Psychic",
          "all/Normal/Fighting",
          "all/Steel/---",
          "all/Psychic/---",
          "all/Psychic/---",
          "all/Normal/---",
          "all/Dark/---",
          "all/Steel/---",
          "all/Psychic/---",
          "all/Steel/Psychic",
          "all/Steel/Psychic",
          "all/Steel/Psychic",
          "all/Bug/---",
          "all/Psychic/---",
          "all/Psychic/---",
          "all/Psychic/Fighting",
          "all/Psychic/---",
          "all/Fighting/---",
          "all/Fighting/---",
          "all/Dark/---",
          "all/Fairy/---",
          "all/Water/---",
          "all/Normal/---",
          "all/Psychic/Fairy",
          "all/Ghost/Fairy",
          "all/Normal/---",
          "all/Rock/Flying",
          "all/Rock/Flying",
          "all/Electric/---",
          "all/Ghost/---",
          "all/Ghost/---",
          "all/Fire/Flying",
          "all/Fire/Fighting",
          "all/Grass/Fairy",
          "all/Dark/Fairy",
          "all/Electric/Dark",
          "all/Electric/Dark",
          "all/Bug/Flying",
          "all/Psychic/Fairy",
          "all/Psychic/Ice",
          "all/Psychic/Ice",
          "all/Ground/---",
          "all/Water/---",
          "all/Ground/---",
          "all/Poison/---",
          "all/Poison/Dark",
          "all/Normal/---",
          "all/Psychic/---",
          "all/Dark/Flying",
          "all/Psychic/---",
          "all/Poison/Dragon",
          "all/Psychic/Flying",
          "all/Psychic/---",
          "all/Psychic/Ghost",
          "all/Psychic/Steel",
          "all/Psychic/Dragon",
          "all/Dark/---",
          "all/Poison/Ground",
          "all/Poison/Ground",
          "all/Poison/---",
          "all/Poison/---",
          "all/Poison/---",
          "all/Poison/---",
          "all/Rock/Poison",
          "all/Bug/Ground",
          "all/Fire/---",
          "all/Ice/Fairy",
          "all/Bug/Flying",
          "all/Normal/Flying",
          "all/Flying/Dragon",
          "all/Flying/Dragon",
          "all/Rock/---",
          "all/Fire/Ground",
          "all/Grass/Dark",
          "all/Dark/Normal",
          "all/Water/---",
          "all/Grass/Poison",
          "all/Rock/Water",
          "all/Rock/Water",
          "all/Rock/Ground",
          "all/Normal/Psychic",
          "all/Bug/Psychic",
          "all/Fire/Flying",
          "all/Psychic/Flying",
          "all/Electric/Flying",
          "all/Ghost/Flying",
          "all/Water/---",
          "all/Electric/---",
          "all/Water/Dragon",
          "all/Ghost/Ground",
          "all/Water/Ground",
          "all/Fighting/---",
          "all/Fighting/Dark",
          "all/Water/---",
          "all/Grass/---",
          "all/Fire/---",
          "all/Bug/Grass",
          "all/Bug/Grass",
          "all/Fighting/---",
          "all/Normal/---",
          "all/Dark/Steel",
          "all/Water/Flying",
          "all/Steel/---",
          "all/Normal/---",
          "all/Dark/---",
          "all/Grass/---",
          "all/Ground/---",
          "all/Ghost/Grass",
          "all/Bug/Fighting",
          "all/Water/---",
          "all/Electric/---",
          "all/Normal/Flying",
          "all/Normal/Flying",
          "all/Normal/Flying",
          "all/Normal/Flying",
          "all/Normal/Flying",
          "all/Fire/Fighting",
          "all/Electric/---",
          "all/Electric/---",
          "all/Normal/Flying",
          "all/Ice/Ground",
          "all/Electric/---",
          "all/Bug/---",
          "all/Bug/---",
          "all/Bug/Flying",
          "all/Water/---",
          "all/Electric/---",
          "all/Poison/---",
          "all/Water/---",
          "all/Water/---",
          "all/Water/---",
          "all/Water/Fighting",
          "all/Ghost/---",
          "all/Fire/---",
          "all/Psychic/---",
          "all/Dark/---",
          "all/Water/---",
          "all/Normal/---",
          "all/Normal/---",
          "all/Normal/---",
          "all/Water/Fairy",
          "all/Fighting/---",
          "all/Water/---",
          "all/Rock/Steel",
          "all/Water/---",
          "all/Ghost/Grass",
          "all/Ghost/Grass",
          "all/Ghost/Grass",
          "all/Ghost/Grass",
          "all/Rock/Ground",
          "all/Dark/---",
          "all/Normal/---",
          "all/Fire/Normal",
          "all/Water/---",
          "all/Water/Ground",
          "all/Fire/---",
          "all/Grass/---",
          "all/Water/Poison",
          "all/Fire/---",
          "all/Electric/---",
          "all/Electric/Psychic",
          "all/Electric/---",
          "all/Psychic/Fairy",
          "all/Rock/---",
          "all/Fire/---",
          "all/Psychic/Fairy",
          "all/Normal/---",
          "all/Dark/Normal",
          "all/Normal/---",
          "all/Dark/Normal",
          "all/Dragon/Flying",
          "all/Dragon/Flying",
          "all/Ice/---",
          "all/Normal/---",
          "all/Rock/---",
          "all/Steel/---",
          "all/Water/Rock",
          "all/Water/---",
          "all/Dragon/Fire",
          "all/Psychic/---",
          "all/Ground/Rock",
          "all/Ground/Rock",
          "all/Ground/Rock",
          "all/Bug/Fairy",
          "all/Grass/---",
          "all/Fighting/---",
          "all/Rock/---",
          "all/Rock/---",
          "all/Rock/---",
          "all/Rock/---",
          "all/Flying/---",
          "all/Grass/Poison",
          "all/Grass/Poison",
          "all/Electric/Ghost",
          "all/Electric/Flying",
          "all/Electric/Ice",
          "all/Electric/Fire",
          "all/Electric/Grass",
          "all/Electric/Water",
          "all/Grass/Flying",
          "all/Normal/Flying",
          "all/Ground/Ghost",
          "all/Dark/Ghost",
          "all/Dark/Ghost",
          "all/Dragon/Flying",
          "all/Dragon/Flying",
          "all/Poison/Fire",
          "all/Poison/Fire",
          "all/Water/---",
          "all/Ground/---",
          "all/Ground/Dark",
          "all/Ground/---",
          "all/Ice/Steel",
          "all/Ground/---",
          "all/Ice/Steel",
          "all/Ghost/Ground",
          "all/Fighting/---",
          "all/Normal/Grass",
          "all/Bug/---",
          "all/Grass/---",
          "all/Grass/Dragon",
          "all/Bug/Steel",
          "all/Bug/Steel",
          "all/Bug/Poison",
          "all/Fire/---",
          "all/Dark/Fighting",
          "all/Dark/Fighting",
          "all/Bug/Flying",
          "all/Water/---",
          "all/Water/---",
          "all/Ice/Water",
          "all/Grass/---",
          "all/Water/---",
          "all/Water/Ground",
          "all/Normal/---",
          "all/Grass/---",
          "all/Grass/---",
          "all/Poison/---",
          "all/Bug/Grass",
          "all/Water/Dark",
          "all/Water/Dark",
          "all/Grass/---",
          "all/Grass/Flying",
          "all/Bug/Ghost",
          "all/Dragon/---",
          "all/Water/---",
          "all/Water/---",
          "all/Bug/---",
          "all/Rock/Steel",
          "all/Grass/Dark",
          "all/Grass/Fairy",
          "all/Electric/---",
          "all/Grass/---",
          "all/Bug/Rock",
          "all/Ghost/---",
          "all/Psychic/Flying",
          "all/Bug/---",
          "all/Ground/---",
          "all/Normal/---",
          "all/Water/---",
          "all/Grass/---",
          "all/Fire/---",
          "all/Ghost/---",
          "all/Fighting/---",
          "all/Fire/Bug",
          "all/Steel/Flying",
          "all/Grass/---",
          "all/Grass/Flying",
          "all/Normal/---",
          "all/Poison/Bug",
          "all/Poison/Water",
          "all/Poison/Dark",
          "all/Normal/---",
          "all/Normal/---",
          "all/Normal/---",
          "all/Dragon/---",
          "all/Water/Psychic",
          "all/Poison/Psychic",
          "all/Water/Psychic",
          "all/Water/Psychic",
          "all/Water/Psychic",
          "all/Psychic/---",
          "all/Fire/---",
          "all/Fairy/---",
          "all/Normal/---",
          "all/Ice/Psychic",
          "all/Dark/Ice",
          "all/Grass/---",
          "all/Ice/Bug",
          "all/Normal/---",
          "all/Ice/---",
          "all/Grass/Ice",
          "all/Fairy/---",
          "all/Water/---",
          "all/Psychic/Steel",
          "all/Psychic/---",
          "all/Rock/Psychic",
          "all/Normal/Flying",
          "all/Bug/---",
          "all/Ice/Water",
          "all/Bug/Poison",
          "all/Normal/---",
          "all/Ghost/Dark",
          "all/Psychic/---",
          "all/Fairy/---",
          "all/Water/---",
          "all/Rock/Steel",
          "all/Normal/---",
          "all/Normal/Flying",
          "all/Normal/Flying",
          "all/Normal/Flying",
          "all/Water/Psychic",
          "all/Water/---",
          "all/Steel/Ground",
          "all/Steel/Ground",
          "all/Grass/---",
          "all/Rock/---",
          "all/Normal/---",
          "all/Normal/Fighting",
          "all/Ground/Electric",
          "all/Ground/Steel",
          "all/Poison/Dark",
          "all/Rock/---",
          "all/Water/---",
          "all/Grass/---",
          "all/Grass/---",
          "all/Bug/Water",
          "all/Normal/Flying",
          "all/Bug/Grass",
          "all/Poison/---",
          "all/Water/Ground",
          "all/Water/Ground",
          "all/Water/Flying",
          "all/Normal/Flying",
          "all/Ice/Ground",
          "all/Fairy/---",
          "all/Psychic/Flying",
          "all/Fairy/---",
          "all/Normal/Flying",
          "all/Fire/Flying",
          "all/Grass/---",
          "all/Grass/---",
          "all/Grass/Fairy",
          "all/Water/Fairy",
          "all/Electric/Fairy",
          "all/Psychic/Fairy",
          "all/Normal/---",
          "all/Normal/---",
          "all/Water/Poison",
          "all/Water/Poison",
          "all/Fire/---",
          "all/Rock/Fighting",
          "all/Dark/---",
          "all/Fighting/---",
          "all/Electric/Flying",
          "all/Electric/Flying",
          "all/Grass/---",
          "all/Fighting/---",
          "all/Water/Rock",
          "all/Electric/Steel",
          "all/Fairy/Flying",
          "all/Fairy/---",
          "all/Fairy/Flying",
          "all/Fire/---",
          "all/Fire/---",
          "all/Flying/---",
          "all/Flying/---",
          "all/Fire/---",
          "all/Grass/Ground",
          "all/Water/---",
          "all/Normal/Flying",
          "all/Poison/Water",
          "all/Electric/Poison",
          "all/Poison/Fighting",
          "all/Electric/Poison",
          "all/Electric/Poison",
          "all/Normal/Flying",
          "all/Ground/---",
          "all/Grass/---",
          "all/Ghost/Grass",
          "all/Grass/Flying",
          "all/Poison/---",
          "all/Normal/Flying",
          "all/Grass/---",
          "all/Fire/Dragon",
          "all/Grass/---",
          "all/Water/---",
          "all/Electric/---",
          "all/Normal/---",
          "all/Fire/---",
          "all/Rock/Dark",
          "all/Rock/Dark",
          "all/Rock/Dragon",
          "all/Fighting/---",
          "all/Rock/Dragon",
          "all/Dark/---",
          "all/Normal/Flying",
          "all/Psychic/---",
          "all/Normal/---",
          "all/Fighting/Water",
          "all/Fighting/Dark",
          "all/Psychic/---",
          "all/Ice/---",
          "all/Ice/---",
          "all/Ice/---",
          "all/Water/---",
          "all/Bug/Poison",
          "all/Bug/Poison",
          "all/Bug/Poison",
          "all/Grass/Poison",
          "all/Grass/Poison",
          "all/Bug/Flying",
          "all/Ground/Dragon",
          "all/Psychic/Fire",
          "all/Grass/Poison",
          "all/Normal/---",
          "all/Bug/Electric",
          "all/Grass/Poison",
          "all/Grass/Fighting",
          "all/Bug/Flying",
          "all/Bug/---",
          "all/Fire/Water",
          "all/Bug/Fire",
          "all/Electric/---",
          "all/Dark/Flying",
          "all/Fire/---",
          "all/Ice/---",
          "all/Water/---",
          "all/Water/---",
          "all/Ice/Water",
          "all/Water/---",
          "all/Normal/---",
          "all/Dark/Ice",
          "all/Bug/Poison",
          "all/Grass/Poison",
          "all/Poison/---",
          "all/Poison/Fairy",
          "all/Grass/Fairy",
          "all/Bug/Poison",
          "all/Water/Ground",
          "all/Normal/---",
          "all/Normal/Fairy",
          "all/Bug/Water",
          "all/Water/Flying",
          "all/Water/---",
          "all/Water/---",
          "all/Psychic/---",
          "all/Psychic/Flying",
          "all/Normal/---",
          "all/Water/Ground",
          "all/Bug/Grass",
          "all/Bug/Ground",
          "all/Bug/Steel",
          "all/Bug/---",
          "all/Psychic/---",
          "all/Psychic/Flying",
          "all/Fairy/---",
          "all/Electric/---",
          "all/Ghost/---",
          "all/Ground/Ghost",
          "all/Electric/---",
          "all/Bug/Flying",
          "all/Bug/Flying",
          "all/Normal/---",
          "all/Dark/Flying",
          "all/Fairy/Steel",
          "all/Fairy/---",
          "all/Fighting/Steel",
          "all/Fighting/---",
          "all/Normal/---",
          "all/Electric/Flying",
          "all/Dark/Grass",
          "all/Electric/---",
          "all/Dragon/Electric",
          "all/Electric/---",
          "all/Normal/---",
          "all/Dark/Normal",
          "all/Dark/---",
          "all/Dark/---",
          "all/Poison/Flying",
          "all/Dark/Dragon",
          "all/Dragon/Ground",
          "all/Dragon/Ground",
          "all/Dragon/Ground",
          "all/Bug",
          "all/Dark",
          "all/Dragon",
          "all/Electric",
          "all/Fairy",
          "all/Fighting",
          "all/Fire",
          "all/Flying",
          "all/Ghost",
          "all/Grass",
          "all/Ground",
          "all/Ice",
          "all/Normal",
          "all/Poison",
          "all/Psychic",
          "all/Rock",
          "all/Steel",
          "all/Water",
          "all/Fire",
          "all/Ice",
          "all/Poison",
          "all/Rock",
          "all/Water",
          "all/Electric",
          "all/Fighting",
          "all/Fire",
          "all/Ghost",
          "all/Grass",
          "all/Ground",
          "all/Poison",
          "all/Psychic",
          "all/Rock",
          "all/Water",
          "all/Dark",
          "all/Electric",
          "all/Fire",
          "all/Flying",
          "all/Ghost",
          "all/Grass",
          "all/Ground",
          "all/Normal",
          "all/Poison",
          "all/Psychic",
          "all/Rock",
          "all/Steel",
          "all/Water",
          "all/Bug",
          "all/Dragon",
          "all/Ground",
          "all/Rock",
          "all/Water",
          "all/Bug",
          "all/Dark",
          "all/Dragon",
          "all/Electric",
          "all/Ghost",
          "all/Grass",
          "all/Ice",
          "all/Normal",
          "all/Poison",
          "all/Psychic",
          "all/Rock",
          "all/Steel",
          "all/Water",
          "all/Bug",
          "all/Dark",
          "all/Dragon",
          "all/Fire",
          "all/Grass",
          "all/Normal",
          "all/Poison",
          "all/Psychic",
          "all/Rock",
          "all/Steel",
          "all/Water",
          "all/Bug",
          "all/Dark",
          "all/Dragon",
          "all/Electric",
          "all/Ghost",
          "all/Ground",
          "all/Ice",
          "all/Poison",
          "all/Psychic",
          "all/Rock",
          "all/Bug",
          "all/Dark",
          "all/Dragon",
          "all/Electric",
          "all/Fairy",
          "all/Fighting",
          "all/Fire",
          "all/Ghost",
          "all/Grass",
          "all/Ground",
          "all/Ice",
          "all/Normal",
          "all/Poison",
          "all/Psychic",
          "all/Rock",
          "all/Steel",
          "all/Water",
          "all/Bug",
          "all/Dark",
          "all/Dragon",
          "all/Electric",
          "all/Fighting",
          "all/Fire",
          "all/Grass",
          "all/Ground",
          "all/Ice",
          "all/Psychic",
          "all/Steel",
          "all/Water",
          "all/Bug",
          "all/Dark",
          "all/Electric",
          "all/Ghost",
          "all/Normal",
          "all/Psychic",
          "all/Rock",
          "all/Water",
          "all/Bug",
          "all/Dragon",
          "all/Fire",
          "all/Ghost",
          "all/Grass",
          "all/Ice",
          "all/Normal",
          "all/Poison",
          "all/Rock",
          "all/Steel",
          "all/Water",
          "all/Dark",
          "all/Dragon",
          "all/Electric",
          "all/Fighting",
          "all/Grass",
          "all/Psychic",
          "all/Rock",
          "all/Water",
          "all/Dark",
          "all/Electric",
          "all/Fire",
          "all/Psychic",
          "all/Bug",
          "all/Electric",
          "all/Ghost",
          "all/Grass",
          "all/Rock",
          "all/Water",
          "all/Bug",
          "all/Dark",
          "all/Dragon",
          "all/Electric",
          "all/Fighting",
          "all/Fire",
          "all/Grass",
          "all/Ground",
          "all/Ice",
          "all/Normal",
          "all/Poison",
          "all/Rock",
          "all/Steel",
          "all/Water",
          "all/Bug",
          "all/Fire",
          "all/Ground",
          "all/Steel",
          "all/Water",
          "all/Bug",
          "all/Dark",
          "all/Electric",
          "all/Fairy",
          "all/Fighting",
          "all/Fire",
          "all/Flying",
          "all/Grass",
          "all/Ground",
          "all/Ice",
          "all/Psychic",
          "all/Rock",
          "all/Water",
          "all/Bug",
          "all/Electric",
          "all/Fighting",
          "all/Fire",
          "all/Flying",
          "all/Ice",
          "all/Normal",
          "all/Poison",
          "all/Rock",
          "all",
          "all",
          "all",
          "all",
          "all",
          "all",
          "all",
          "all",
          "all",
          "all",
          "all",
          "all",
          "all",
          "all",
          "all",
          "all",
          "all",
          "all",
          ""
         ],
         "type": "treemap",
         "values": [
          1,
          1,
          1,
          1,
          1,
          1,
          1,
          1,
          1,
          1,
          1,
          1,
          1,
          1,
          1,
          1,
          1,
          1,
          1,
          1,
          1,
          1,
          1,
          1,
          1,
          1,
          1,
          1,
          1,
          1,
          1,
          1,
          1,
          1,
          1,
          1,
          1,
          1,
          1,
          1,
          1,
          1,
          1,
          1,
          1,
          1,
          1,
          1,
          1,
          1,
          1,
          1,
          1,
          1,
          1,
          1,
          1,
          1,
          1,
          1,
          1,
          1,
          1,
          1,
          1,
          1,
          1,
          1,
          1,
          1,
          1,
          1,
          1,
          1,
          1,
          1,
          1,
          1,
          1,
          1,
          1,
          1,
          1,
          1,
          1,
          1,
          1,
          1,
          1,
          1,
          1,
          1,
          1,
          1,
          1,
          1,
          1,
          1,
          1,
          1,
          1,
          1,
          1,
          1,
          1,
          1,
          1,
          1,
          1,
          1,
          1,
          1,
          1,
          1,
          1,
          1,
          1,
          1,
          1,
          1,
          1,
          1,
          1,
          1,
          1,
          1,
          1,
          1,
          1,
          1,
          1,
          1,
          1,
          1,
          1,
          1,
          1,
          1,
          1,
          1,
          1,
          1,
          1,
          1,
          1,
          1,
          1,
          1,
          1,
          1,
          1,
          1,
          1,
          1,
          1,
          1,
          1,
          1,
          1,
          1,
          1,
          1,
          1,
          1,
          1,
          1,
          1,
          1,
          1,
          1,
          1,
          1,
          1,
          1,
          1,
          1,
          1,
          1,
          1,
          1,
          1,
          1,
          1,
          1,
          1,
          1,
          1,
          1,
          1,
          1,
          1,
          1,
          1,
          1,
          1,
          1,
          1,
          1,
          1,
          1,
          1,
          1,
          1,
          1,
          1,
          1,
          1,
          1,
          1,
          1,
          1,
          1,
          1,
          1,
          1,
          1,
          1,
          1,
          1,
          1,
          1,
          1,
          1,
          1,
          1,
          1,
          1,
          1,
          1,
          1,
          1,
          1,
          1,
          1,
          1,
          1,
          1,
          1,
          1,
          1,
          1,
          1,
          1,
          1,
          1,
          1,
          1,
          1,
          1,
          1,
          1,
          1,
          1,
          1,
          1,
          1,
          1,
          1,
          1,
          1,
          1,
          1,
          1,
          1,
          1,
          1,
          1,
          1,
          1,
          1,
          1,
          1,
          1,
          1,
          1,
          1,
          1,
          1,
          1,
          1,
          1,
          1,
          1,
          1,
          1,
          1,
          1,
          1,
          1,
          1,
          1,
          1,
          1,
          1,
          1,
          1,
          1,
          1,
          1,
          1,
          1,
          1,
          1,
          1,
          1,
          1,
          1,
          1,
          1,
          1,
          1,
          1,
          1,
          1,
          1,
          1,
          1,
          1,
          1,
          1,
          1,
          1,
          1,
          1,
          1,
          1,
          1,
          1,
          1,
          1,
          1,
          1,
          1,
          1,
          1,
          1,
          1,
          1,
          1,
          1,
          1,
          1,
          1,
          1,
          1,
          1,
          1,
          1,
          1,
          1,
          1,
          1,
          1,
          1,
          1,
          1,
          1,
          1,
          1,
          1,
          1,
          1,
          1,
          1,
          1,
          1,
          1,
          1,
          1,
          1,
          1,
          1,
          1,
          1,
          1,
          1,
          1,
          1,
          1,
          1,
          1,
          1,
          1,
          1,
          1,
          1,
          1,
          1,
          1,
          1,
          1,
          1,
          1,
          1,
          1,
          1,
          1,
          1,
          1,
          1,
          1,
          1,
          1,
          1,
          1,
          1,
          1,
          1,
          1,
          1,
          1,
          1,
          1,
          1,
          1,
          1,
          1,
          1,
          1,
          1,
          1,
          1,
          1,
          1,
          1,
          1,
          1,
          1,
          1,
          1,
          1,
          1,
          1,
          1,
          1,
          1,
          1,
          1,
          1,
          1,
          1,
          1,
          1,
          1,
          1,
          1,
          1,
          1,
          1,
          1,
          1,
          1,
          1,
          1,
          1,
          1,
          1,
          1,
          1,
          1,
          1,
          1,
          1,
          1,
          1,
          1,
          1,
          1,
          1,
          1,
          1,
          1,
          1,
          1,
          1,
          1,
          1,
          1,
          1,
          1,
          1,
          1,
          1,
          1,
          1,
          1,
          1,
          1,
          1,
          1,
          1,
          1,
          1,
          1,
          1,
          1,
          1,
          1,
          1,
          1,
          1,
          1,
          1,
          1,
          1,
          1,
          1,
          1,
          1,
          1,
          1,
          1,
          1,
          1,
          1,
          1,
          1,
          1,
          1,
          1,
          1,
          1,
          1,
          1,
          1,
          1,
          1,
          1,
          1,
          1,
          1,
          1,
          1,
          1,
          1,
          1,
          1,
          1,
          1,
          1,
          1,
          1,
          1,
          1,
          1,
          1,
          1,
          1,
          1,
          1,
          1,
          1,
          1,
          1,
          1,
          1,
          1,
          1,
          1,
          1,
          1,
          1,
          1,
          1,
          1,
          1,
          1,
          1,
          1,
          1,
          1,
          1,
          1,
          1,
          1,
          1,
          1,
          1,
          1,
          1,
          1,
          1,
          1,
          1,
          1,
          1,
          1,
          1,
          1,
          1,
          1,
          1,
          1,
          1,
          1,
          1,
          1,
          1,
          1,
          1,
          1,
          1,
          1,
          1,
          1,
          1,
          1,
          1,
          1,
          1,
          1,
          1,
          1,
          1,
          1,
          1,
          1,
          1,
          1,
          1,
          1,
          1,
          1,
          1,
          1,
          1,
          1,
          1,
          1,
          1,
          1,
          1,
          1,
          1,
          1,
          1,
          1,
          1,
          1,
          1,
          1,
          1,
          1,
          1,
          1,
          1,
          1,
          1,
          1,
          1,
          1,
          1,
          1,
          1,
          1,
          1,
          1,
          1,
          1,
          1,
          1,
          1,
          1,
          1,
          1,
          1,
          1,
          1,
          1,
          1,
          1,
          1,
          1,
          1,
          1,
          1,
          1,
          1,
          1,
          1,
          1,
          1,
          1,
          1,
          1,
          1,
          1,
          1,
          1,
          1,
          1,
          1,
          1,
          1,
          1,
          1,
          1,
          1,
          1,
          1,
          1,
          1,
          1,
          1,
          1,
          1,
          1,
          1,
          1,
          1,
          1,
          1,
          1,
          1,
          1,
          1,
          1,
          1,
          1,
          1,
          1,
          1,
          1,
          1,
          1,
          1,
          1,
          1,
          1,
          1,
          1,
          1,
          1,
          1,
          1,
          1,
          1,
          1,
          1,
          1,
          1,
          1,
          1,
          1,
          1,
          1,
          1,
          1,
          1,
          1,
          1,
          1,
          1,
          1,
          1,
          1,
          1,
          1,
          1,
          1,
          1,
          1,
          1,
          1,
          1,
          1,
          1,
          1,
          1,
          1,
          1,
          1,
          1,
          1,
          1,
          1,
          1,
          1,
          1,
          1,
          1,
          1,
          1,
          1,
          1,
          1,
          1,
          1,
          1,
          1,
          1,
          1,
          1,
          1,
          1,
          1,
          1,
          1,
          1,
          1,
          1,
          1,
          1,
          1,
          1,
          1,
          1,
          1,
          1,
          1,
          1,
          1,
          1,
          1,
          1,
          1,
          1,
          1,
          1,
          1,
          1,
          1,
          1,
          1,
          1,
          1,
          1,
          1,
          1,
          1,
          1,
          1,
          1,
          1,
          1,
          1,
          1,
          1,
          1,
          1,
          1,
          1,
          1,
          1,
          1,
          1,
          1,
          1,
          1,
          1,
          1,
          1,
          1,
          1,
          1,
          1,
          1,
          1,
          1,
          1,
          1,
          1,
          1,
          1,
          1,
          1,
          1,
          1,
          1,
          1,
          1,
          1,
          1,
          1,
          1,
          1,
          1,
          1,
          1,
          1,
          1,
          1,
          1,
          1,
          1,
          1,
          1,
          1,
          1,
          1,
          1,
          1,
          1,
          1,
          1,
          1,
          1,
          1,
          1,
          1,
          1,
          1,
          1,
          1,
          1,
          1,
          1,
          1,
          1,
          1,
          1,
          1,
          1,
          1,
          1,
          1,
          1,
          1,
          1,
          1,
          1,
          1,
          1,
          1,
          1,
          1,
          1,
          1,
          1,
          1,
          1,
          1,
          1,
          1,
          1,
          1,
          1,
          1,
          1,
          1,
          1,
          1,
          1,
          1,
          1,
          1,
          1,
          1,
          1,
          1,
          1,
          1,
          1,
          1,
          1,
          1,
          1,
          1,
          1,
          1,
          1,
          1,
          1,
          1,
          1,
          1,
          1,
          1,
          1,
          1,
          1,
          1,
          1,
          1,
          1,
          1,
          1,
          1,
          1,
          1,
          1,
          1,
          1,
          1,
          1,
          1,
          1,
          1,
          1,
          1,
          1,
          1,
          1,
          1,
          1,
          1,
          1,
          1,
          1,
          1,
          1,
          1,
          1,
          1,
          1,
          1,
          1,
          1,
          1,
          1,
          1,
          1,
          1,
          1,
          1,
          1,
          1,
          1,
          1,
          1,
          1,
          1,
          1,
          1,
          1,
          1,
          1,
          1,
          1,
          1,
          1,
          1,
          1,
          1,
          19,
          14,
          12,
          33,
          19,
          29,
          34,
          4,
          14,
          43,
          17,
          19,
          71,
          16,
          45,
          16,
          11,
          72,
          2,
          2,
          1,
          2,
          2,
          2,
          2,
          1,
          1,
          3,
          3,
          5,
          1,
          2,
          7,
          4,
          2,
          2,
          2,
          2,
          5,
          2,
          1,
          4,
          1,
          2,
          2,
          3,
          4,
          1,
          1,
          3,
          2,
          2,
          3,
          1,
          2,
          1,
          5,
          1,
          5,
          1,
          9,
          3,
          4,
          4,
          4,
          2,
          2,
          7,
          3,
          4,
          2,
          3,
          1,
          1,
          3,
          2,
          3,
          1,
          1,
          3,
          1,
          1,
          2,
          1,
          2,
          14,
          5,
          6,
          6,
          2,
          1,
          7,
          3,
          7,
          4,
          2,
          27,
          3,
          7,
          6,
          2,
          7,
          1,
          2,
          3,
          1,
          1,
          2,
          1,
          4,
          1,
          3,
          4,
          2,
          6,
          1,
          1,
          11,
          2,
          1,
          2,
          3,
          2,
          7,
          3,
          2,
          1,
          3,
          1,
          2,
          6,
          2,
          10,
          2,
          3,
          2,
          1,
          3,
          2,
          2,
          4,
          5,
          2,
          2,
          2,
          12,
          3,
          4,
          15,
          1,
          3,
          2,
          2,
          4,
          1,
          3,
          2,
          2,
          2,
          2,
          3,
          1,
          2,
          7,
          6,
          3,
          1,
          3,
          3,
          5,
          7,
          2,
          4,
          1,
          3,
          1,
          1,
          3,
          4,
          2,
          2,
          4,
          1,
          3,
          1,
          1,
          1,
          1,
          3,
          1,
          3,
          6,
          81,
          45,
          40,
          61,
          22,
          41,
          65,
          8,
          41,
          91,
          41,
          36,
          115,
          40,
          77,
          60,
          36,
          134,
          1034
         ]
        }
       ],
       "layout": {
        "legend": {
         "tracegroupgap": 0
        },
        "margin": {
         "t": 60
        },
        "template": {
         "data": {
          "bar": [
           {
            "error_x": {
             "color": "#2a3f5f"
            },
            "error_y": {
             "color": "#2a3f5f"
            },
            "marker": {
             "line": {
              "color": "#E5ECF6",
              "width": 0.5
             }
            },
            "type": "bar"
           }
          ],
          "barpolar": [
           {
            "marker": {
             "line": {
              "color": "#E5ECF6",
              "width": 0.5
             }
            },
            "type": "barpolar"
           }
          ],
          "carpet": [
           {
            "aaxis": {
             "endlinecolor": "#2a3f5f",
             "gridcolor": "white",
             "linecolor": "white",
             "minorgridcolor": "white",
             "startlinecolor": "#2a3f5f"
            },
            "baxis": {
             "endlinecolor": "#2a3f5f",
             "gridcolor": "white",
             "linecolor": "white",
             "minorgridcolor": "white",
             "startlinecolor": "#2a3f5f"
            },
            "type": "carpet"
           }
          ],
          "choropleth": [
           {
            "colorbar": {
             "outlinewidth": 0,
             "ticks": ""
            },
            "type": "choropleth"
           }
          ],
          "contour": [
           {
            "colorbar": {
             "outlinewidth": 0,
             "ticks": ""
            },
            "colorscale": [
             [
              0,
              "#0d0887"
             ],
             [
              0.1111111111111111,
              "#46039f"
             ],
             [
              0.2222222222222222,
              "#7201a8"
             ],
             [
              0.3333333333333333,
              "#9c179e"
             ],
             [
              0.4444444444444444,
              "#bd3786"
             ],
             [
              0.5555555555555556,
              "#d8576b"
             ],
             [
              0.6666666666666666,
              "#ed7953"
             ],
             [
              0.7777777777777778,
              "#fb9f3a"
             ],
             [
              0.8888888888888888,
              "#fdca26"
             ],
             [
              1,
              "#f0f921"
             ]
            ],
            "type": "contour"
           }
          ],
          "contourcarpet": [
           {
            "colorbar": {
             "outlinewidth": 0,
             "ticks": ""
            },
            "type": "contourcarpet"
           }
          ],
          "heatmap": [
           {
            "colorbar": {
             "outlinewidth": 0,
             "ticks": ""
            },
            "colorscale": [
             [
              0,
              "#0d0887"
             ],
             [
              0.1111111111111111,
              "#46039f"
             ],
             [
              0.2222222222222222,
              "#7201a8"
             ],
             [
              0.3333333333333333,
              "#9c179e"
             ],
             [
              0.4444444444444444,
              "#bd3786"
             ],
             [
              0.5555555555555556,
              "#d8576b"
             ],
             [
              0.6666666666666666,
              "#ed7953"
             ],
             [
              0.7777777777777778,
              "#fb9f3a"
             ],
             [
              0.8888888888888888,
              "#fdca26"
             ],
             [
              1,
              "#f0f921"
             ]
            ],
            "type": "heatmap"
           }
          ],
          "heatmapgl": [
           {
            "colorbar": {
             "outlinewidth": 0,
             "ticks": ""
            },
            "colorscale": [
             [
              0,
              "#0d0887"
             ],
             [
              0.1111111111111111,
              "#46039f"
             ],
             [
              0.2222222222222222,
              "#7201a8"
             ],
             [
              0.3333333333333333,
              "#9c179e"
             ],
             [
              0.4444444444444444,
              "#bd3786"
             ],
             [
              0.5555555555555556,
              "#d8576b"
             ],
             [
              0.6666666666666666,
              "#ed7953"
             ],
             [
              0.7777777777777778,
              "#fb9f3a"
             ],
             [
              0.8888888888888888,
              "#fdca26"
             ],
             [
              1,
              "#f0f921"
             ]
            ],
            "type": "heatmapgl"
           }
          ],
          "histogram": [
           {
            "marker": {
             "colorbar": {
              "outlinewidth": 0,
              "ticks": ""
             }
            },
            "type": "histogram"
           }
          ],
          "histogram2d": [
           {
            "colorbar": {
             "outlinewidth": 0,
             "ticks": ""
            },
            "colorscale": [
             [
              0,
              "#0d0887"
             ],
             [
              0.1111111111111111,
              "#46039f"
             ],
             [
              0.2222222222222222,
              "#7201a8"
             ],
             [
              0.3333333333333333,
              "#9c179e"
             ],
             [
              0.4444444444444444,
              "#bd3786"
             ],
             [
              0.5555555555555556,
              "#d8576b"
             ],
             [
              0.6666666666666666,
              "#ed7953"
             ],
             [
              0.7777777777777778,
              "#fb9f3a"
             ],
             [
              0.8888888888888888,
              "#fdca26"
             ],
             [
              1,
              "#f0f921"
             ]
            ],
            "type": "histogram2d"
           }
          ],
          "histogram2dcontour": [
           {
            "colorbar": {
             "outlinewidth": 0,
             "ticks": ""
            },
            "colorscale": [
             [
              0,
              "#0d0887"
             ],
             [
              0.1111111111111111,
              "#46039f"
             ],
             [
              0.2222222222222222,
              "#7201a8"
             ],
             [
              0.3333333333333333,
              "#9c179e"
             ],
             [
              0.4444444444444444,
              "#bd3786"
             ],
             [
              0.5555555555555556,
              "#d8576b"
             ],
             [
              0.6666666666666666,
              "#ed7953"
             ],
             [
              0.7777777777777778,
              "#fb9f3a"
             ],
             [
              0.8888888888888888,
              "#fdca26"
             ],
             [
              1,
              "#f0f921"
             ]
            ],
            "type": "histogram2dcontour"
           }
          ],
          "mesh3d": [
           {
            "colorbar": {
             "outlinewidth": 0,
             "ticks": ""
            },
            "type": "mesh3d"
           }
          ],
          "parcoords": [
           {
            "line": {
             "colorbar": {
              "outlinewidth": 0,
              "ticks": ""
             }
            },
            "type": "parcoords"
           }
          ],
          "pie": [
           {
            "automargin": true,
            "type": "pie"
           }
          ],
          "scatter": [
           {
            "marker": {
             "colorbar": {
              "outlinewidth": 0,
              "ticks": ""
             }
            },
            "type": "scatter"
           }
          ],
          "scatter3d": [
           {
            "line": {
             "colorbar": {
              "outlinewidth": 0,
              "ticks": ""
             }
            },
            "marker": {
             "colorbar": {
              "outlinewidth": 0,
              "ticks": ""
             }
            },
            "type": "scatter3d"
           }
          ],
          "scattercarpet": [
           {
            "marker": {
             "colorbar": {
              "outlinewidth": 0,
              "ticks": ""
             }
            },
            "type": "scattercarpet"
           }
          ],
          "scattergeo": [
           {
            "marker": {
             "colorbar": {
              "outlinewidth": 0,
              "ticks": ""
             }
            },
            "type": "scattergeo"
           }
          ],
          "scattergl": [
           {
            "marker": {
             "colorbar": {
              "outlinewidth": 0,
              "ticks": ""
             }
            },
            "type": "scattergl"
           }
          ],
          "scattermapbox": [
           {
            "marker": {
             "colorbar": {
              "outlinewidth": 0,
              "ticks": ""
             }
            },
            "type": "scattermapbox"
           }
          ],
          "scatterpolar": [
           {
            "marker": {
             "colorbar": {
              "outlinewidth": 0,
              "ticks": ""
             }
            },
            "type": "scatterpolar"
           }
          ],
          "scatterpolargl": [
           {
            "marker": {
             "colorbar": {
              "outlinewidth": 0,
              "ticks": ""
             }
            },
            "type": "scatterpolargl"
           }
          ],
          "scatterternary": [
           {
            "marker": {
             "colorbar": {
              "outlinewidth": 0,
              "ticks": ""
             }
            },
            "type": "scatterternary"
           }
          ],
          "surface": [
           {
            "colorbar": {
             "outlinewidth": 0,
             "ticks": ""
            },
            "colorscale": [
             [
              0,
              "#0d0887"
             ],
             [
              0.1111111111111111,
              "#46039f"
             ],
             [
              0.2222222222222222,
              "#7201a8"
             ],
             [
              0.3333333333333333,
              "#9c179e"
             ],
             [
              0.4444444444444444,
              "#bd3786"
             ],
             [
              0.5555555555555556,
              "#d8576b"
             ],
             [
              0.6666666666666666,
              "#ed7953"
             ],
             [
              0.7777777777777778,
              "#fb9f3a"
             ],
             [
              0.8888888888888888,
              "#fdca26"
             ],
             [
              1,
              "#f0f921"
             ]
            ],
            "type": "surface"
           }
          ],
          "table": [
           {
            "cells": {
             "fill": {
              "color": "#EBF0F8"
             },
             "line": {
              "color": "white"
             }
            },
            "header": {
             "fill": {
              "color": "#C8D4E3"
             },
             "line": {
              "color": "white"
             }
            },
            "type": "table"
           }
          ]
         },
         "layout": {
          "annotationdefaults": {
           "arrowcolor": "#2a3f5f",
           "arrowhead": 0,
           "arrowwidth": 1
          },
          "coloraxis": {
           "colorbar": {
            "outlinewidth": 0,
            "ticks": ""
           }
          },
          "colorscale": {
           "diverging": [
            [
             0,
             "#8e0152"
            ],
            [
             0.1,
             "#c51b7d"
            ],
            [
             0.2,
             "#de77ae"
            ],
            [
             0.3,
             "#f1b6da"
            ],
            [
             0.4,
             "#fde0ef"
            ],
            [
             0.5,
             "#f7f7f7"
            ],
            [
             0.6,
             "#e6f5d0"
            ],
            [
             0.7,
             "#b8e186"
            ],
            [
             0.8,
             "#7fbc41"
            ],
            [
             0.9,
             "#4d9221"
            ],
            [
             1,
             "#276419"
            ]
           ],
           "sequential": [
            [
             0,
             "#0d0887"
            ],
            [
             0.1111111111111111,
             "#46039f"
            ],
            [
             0.2222222222222222,
             "#7201a8"
            ],
            [
             0.3333333333333333,
             "#9c179e"
            ],
            [
             0.4444444444444444,
             "#bd3786"
            ],
            [
             0.5555555555555556,
             "#d8576b"
            ],
            [
             0.6666666666666666,
             "#ed7953"
            ],
            [
             0.7777777777777778,
             "#fb9f3a"
            ],
            [
             0.8888888888888888,
             "#fdca26"
            ],
            [
             1,
             "#f0f921"
            ]
           ],
           "sequentialminus": [
            [
             0,
             "#0d0887"
            ],
            [
             0.1111111111111111,
             "#46039f"
            ],
            [
             0.2222222222222222,
             "#7201a8"
            ],
            [
             0.3333333333333333,
             "#9c179e"
            ],
            [
             0.4444444444444444,
             "#bd3786"
            ],
            [
             0.5555555555555556,
             "#d8576b"
            ],
            [
             0.6666666666666666,
             "#ed7953"
            ],
            [
             0.7777777777777778,
             "#fb9f3a"
            ],
            [
             0.8888888888888888,
             "#fdca26"
            ],
            [
             1,
             "#f0f921"
            ]
           ]
          },
          "colorway": [
           "#636efa",
           "#EF553B",
           "#00cc96",
           "#ab63fa",
           "#FFA15A",
           "#19d3f3",
           "#FF6692",
           "#B6E880",
           "#FF97FF",
           "#FECB52"
          ],
          "font": {
           "color": "#2a3f5f"
          },
          "geo": {
           "bgcolor": "white",
           "lakecolor": "white",
           "landcolor": "#E5ECF6",
           "showlakes": true,
           "showland": true,
           "subunitcolor": "white"
          },
          "hoverlabel": {
           "align": "left"
          },
          "hovermode": "closest",
          "mapbox": {
           "style": "light"
          },
          "paper_bgcolor": "white",
          "plot_bgcolor": "#E5ECF6",
          "polar": {
           "angularaxis": {
            "gridcolor": "white",
            "linecolor": "white",
            "ticks": ""
           },
           "bgcolor": "#E5ECF6",
           "radialaxis": {
            "gridcolor": "white",
            "linecolor": "white",
            "ticks": ""
           }
          },
          "scene": {
           "xaxis": {
            "backgroundcolor": "#E5ECF6",
            "gridcolor": "white",
            "gridwidth": 2,
            "linecolor": "white",
            "showbackground": true,
            "ticks": "",
            "zerolinecolor": "white"
           },
           "yaxis": {
            "backgroundcolor": "#E5ECF6",
            "gridcolor": "white",
            "gridwidth": 2,
            "linecolor": "white",
            "showbackground": true,
            "ticks": "",
            "zerolinecolor": "white"
           },
           "zaxis": {
            "backgroundcolor": "#E5ECF6",
            "gridcolor": "white",
            "gridwidth": 2,
            "linecolor": "white",
            "showbackground": true,
            "ticks": "",
            "zerolinecolor": "white"
           }
          },
          "shapedefaults": {
           "line": {
            "color": "#2a3f5f"
           }
          },
          "ternary": {
           "aaxis": {
            "gridcolor": "white",
            "linecolor": "white",
            "ticks": ""
           },
           "baxis": {
            "gridcolor": "white",
            "linecolor": "white",
            "ticks": ""
           },
           "bgcolor": "#E5ECF6",
           "caxis": {
            "gridcolor": "white",
            "linecolor": "white",
            "ticks": ""
           }
          },
          "title": {
           "x": 0.05
          },
          "xaxis": {
           "automargin": true,
           "gridcolor": "white",
           "linecolor": "white",
           "ticks": "",
           "title": {
            "standoff": 15
           },
           "zerolinecolor": "white",
           "zerolinewidth": 2
          },
          "yaxis": {
           "automargin": true,
           "gridcolor": "white",
           "linecolor": "white",
           "ticks": "",
           "title": {
            "standoff": 15
           },
           "zerolinecolor": "white",
           "zerolinewidth": 2
          }
         }
        }
       }
      },
      "text/html": [
       "<div>\n",
       "        \n",
       "        \n",
       "            <div id=\"4cc626e6-3bad-4f1a-947d-3a2fe7c62bac\" class=\"plotly-graph-div\" style=\"height:525px; width:100%;\"></div>\n",
       "            <script type=\"text/javascript\">\n",
       "                require([\"plotly\"], function(Plotly) {\n",
       "                    window.PLOTLYENV=window.PLOTLYENV || {};\n",
       "                    \n",
       "                if (document.getElementById(\"4cc626e6-3bad-4f1a-947d-3a2fe7c62bac\")) {\n",
       "                    Plotly.newPlot(\n",
       "                        '4cc626e6-3bad-4f1a-947d-3a2fe7c62bac',\n",
       "                        [{\"branchvalues\": \"total\", \"domain\": {\"x\": [0.0, 1.0], \"y\": [0.0, 1.0]}, \"hovertemplate\": \"labels=%{label}<br>count=%{value}<br>parent=%{parent}<br>id=%{id}<extra></extra>\", \"ids\": [\"all/Grass/Ice/Abomasnow\", \"all/Grass/Ice/Abomasnow Mega Abomasnow\", \"all/Psychic/---/Abra\", \"all/Dark/---/Absol\", \"all/Dark/---/Absol Mega Absol\", \"all/Bug/---/Accelgor\", \"all/Steel/Ghost/Aegislash Blade Forme\", \"all/Steel/Ghost/Aegislash Shield Forme\", \"all/Rock/Flying/Aerodactyl\", \"all/Rock/Flying/Aerodactyl Mega Aerodactyl\", \"all/Steel/Rock/Aggron\", \"all/Steel/---/Aggron Mega Aggron\", \"all/Normal/---/Aipom\", \"all/Psychic/---/Alakazam\", \"all/Psychic/---/Alakazam Mega Alakazam\", \"all/Fairy/---/Alcremie\", \"all/Water/---/Alomomola\", \"all/Dragon/Flying/Altaria\", \"all/Dragon/Fairy/Altaria Mega Altaria\", \"all/Rock/Ice/Amaura\", \"all/Normal/---/Ambipom\", \"all/Grass/Poison/Amoonguss\", \"all/Electric/---/Ampharos\", \"all/Electric/Dragon/Ampharos Mega Ampharos\", \"all/Rock/Bug/Anorith\", \"all/Grass/Dragon/Appletun\", \"all/Grass/Dragon/Applin\", \"all/Water/Bug/Araquanid\", \"all/Poison/---/Arbok\", \"all/Fire/---/Arcanine\", \"all/Normal/---/Arceus\", \"all/Rock/Flying/Archen\", \"all/Rock/Flying/Archeops\", \"all/Water/Ice/Arctovish\", \"all/Electric/Ice/Arctozolt\", \"all/Bug/Poison/Ariados\", \"all/Rock/Bug/Armaldo\", \"all/Fairy/---/Aromatisse\", \"all/Steel/Rock/Aron\", \"all/Water/---/Arrokuda\", \"all/Ice/Flying/Articuno\", \"all/Normal/---/Audino\", \"all/Normal/Fairy/Audino Mega Audino\", \"all/Rock/Ice/Aurorus\", \"all/Ice/---/Avalugg\", \"all/Dragon/---/Axew\", \"all/Psychic/---/Azelf\", \"all/Water/Fairy/Azumarill\", \"all/Normal/Fairy/Azurill\", \"all/Dragon/---/Bagon\", \"all/Ground/Psychic/Baltoy\", \"all/Ghost/---/Banette\", \"all/Ghost/---/Banette Mega Banette\", \"all/Rock/Water/Barbaracle\", \"all/Water/Ground/Barboach\", \"all/Water/---/Barraskewda\", \"all/Water/---/Basculin Blue-Striped Form\", \"all/Water/---/Basculin Red-Striped Form\", \"all/Rock/Steel/Bastiodon\", \"all/Grass/---/Bayleef\", \"all/Ice/---/Beartic\", \"all/Bug/Flying/Beautifly\", \"all/Bug/Poison/Beedrill\", \"all/Bug/Poison/Beedrill Mega Beedrill\", \"all/Psychic/---/Beheeyem\", \"all/Steel/Psychic/Beldum\", \"all/Grass/---/Bellossom\", \"all/Grass/Poison/Bellsprout\", \"all/Ice/---/Bergmite\", \"all/Normal/Fighting/Bewear\", \"all/Normal/Water/Bibarel\", \"all/Normal/---/Bidoof\", \"all/Rock/Water/Binacle\", \"all/Dark/Steel/Bisharp\", \"all/Fire/Ghost/Blacephalon\", \"all/Water/---/Blastoise\", \"all/Water/---/Blastoise Mega Blastoise\", \"all/Fire/Fighting/Blaziken\", \"all/Fire/Fighting/Blaziken Mega Blaziken\", \"all/Bug/---/Blipbug\", \"all/Normal/---/Blissey\", \"all/Electric/---/Blitzle\", \"all/Rock/---/Boldore\", \"all/Electric/---/Boltund\", \"all/Rock/---/Bonsly\", \"all/Normal/---/Bouffalant\", \"all/Grass/---/Bounsweet\", \"all/Fire/---/Braixen\", \"all/Normal/Flying/Braviary\", \"all/Grass/Fighting/Breloom\", \"all/Water/---/Brionne\", \"all/Steel/Psychic/Bronzong\", \"all/Steel/Psychic/Bronzor\", \"all/Water/Psychic/Bruxish\", \"all/Grass/Poison/Budew\", \"all/Water/---/Buizel\", \"all/Grass/Poison/Bulbasaur\", \"all/Normal/---/Buneary\", \"all/Normal/---/Bunnelby\", \"all/Bug/---/Burmy\", \"all/Bug/Flying/Butterfree\", \"all/Bug/Fighting/Buzzwole\", \"all/Grass/---/Cacnea\", \"all/Grass/Dark/Cacturne\", \"all/Fire/Ground/Camerupt\", \"all/Fire/Ground/Camerupt Mega Camerupt\", \"all/Rock/Fairy/Carbink\", \"all/Rock/Fire/Carkol\", \"all/Grass/---/Carnivine\", \"all/Water/Rock/Carracosta\", \"all/Water/Dark/Carvanha\", \"all/Bug/---/Cascoon\", \"all/Normal/---/Castform\", \"all/Water/---/Castform Rainy Form\", \"all/Ice/---/Castform Snowy Form\", \"all/Fire/---/Castform Sunny Form\", \"all/Bug/---/Caterpie\", \"all/Psychic/Grass/Celebi\", \"all/Steel/Flying/Celesteela\", \"all/Fire/Bug/Centiskorch\", \"all/Ghost/Fire/Chandelure\", \"all/Normal/---/Chansey\", \"all/Fire/Flying/Charizard\", \"all/Fire/Dragon/Charizard Mega Charizard X\", \"all/Fire/Flying/Charizard Mega Charizard Y\", \"all/Bug/Electric/Charjabug\", \"all/Fire/---/Charmander\", \"all/Fire/---/Charmeleon\", \"all/Normal/Flying/Chatot\", \"all/Grass/---/Cherrim\", \"all/Grass/---/Cherubi\", \"all/Grass/Fighting/Chesnaught\", \"all/Grass/---/Chespin\", \"all/Water/---/Chewtle\", \"all/Grass/---/Chikorita\", \"all/Fire/---/Chimchar\", \"all/Psychic/---/Chimecho\", \"all/Water/Electric/Chinchou\", \"all/Psychic/---/Chingling\", \"all/Normal/---/Cinccino\", \"all/Fire/---/Cinderace\", \"all/Water/---/Clamperl\", \"all/Water/---/Clauncher\", \"all/Water/---/Clawitzer\", \"all/Ground/Psychic/Claydol\", \"all/Fairy/---/Clefable\", \"all/Fairy/---/Clefairy\", \"all/Fairy/---/Cleffa\", \"all/Fighting/---/Clobbopus\", \"all/Water/Ice/Cloyster\", \"all/Rock/Fire/Coalossal\", \"all/Steel/Fighting/Cobalion\", \"all/Ghost/---/Cofagrigus\", \"all/Bug/Flying/Combee\", \"all/Fire/Fighting/Combusken\", \"all/Fairy/---/Comfey\", \"all/Fighting/---/Conkeldurr\", \"all/Steel/---/Copperajah\", \"all/Water/---/Corphish\", \"all/Water/Rock/Corsola\", \"all/Ghost/---/Corsola Galarian Corsola\", \"all/Flying/Steel/Corviknight\", \"all/Flying/---/Corvisquire\", \"all/Psychic/---/Cosmoem\", \"all/Psychic/---/Cosmog\", \"all/Grass/Fairy/Cottonee\", \"all/Fighting/Ice/Crabominable\", \"all/Fighting/---/Crabrawler\", \"all/Rock/Grass/Cradily\", \"all/Flying/Water/Cramorant\", \"all/Rock/---/Cranidos\", \"all/Water/Dark/Crawdaunt\", \"all/Psychic/---/Cresselia\", \"all/Poison/Fighting/Croagunk\", \"all/Poison/Flying/Crobat\", \"all/Water/---/Croconaw\", \"all/Bug/Rock/Crustle\", \"all/Ice/---/Cryogonal\", \"all/Ice/---/Cubchoo\", \"all/Ground/---/Cubone\", \"all/Steel/---/Cufant\", \"all/Ghost/---/Cursola\", \"all/Bug/Fairy/Cutiefly\", \"all/Fire/---/Cyndaquil\", \"all/Dark/---/Darkrai\", \"all/Ice/---/Darmanitan Galarian Standard Mode\", \"all/Ice/Fire/Darmanitan Galarian Zen Mode\", \"all/Fire/---/Darmanitan Standard Mode\", \"all/Fire/Psychic/Darmanitan Zen Mode\", \"all/Grass/Flying/Dartrix\", \"all/Fire/---/Darumaka\", \"all/Ice/---/Darumaka Galarian Darumaka\", \"all/Grass/Ghost/Decidueye\", \"all/Electric/Fairy/Dedenne\", \"all/Normal/Grass/Deerling\", \"all/Dark/Dragon/Deino\", \"all/Normal/---/Delcatty\", \"all/Ice/Flying/Delibird\", \"all/Fire/Psychic/Delphox\", \"all/Psychic/---/Deoxys Attack Forme\", \"all/Psychic/---/Deoxys Defense Forme\", \"all/Psychic/---/Deoxys Normal Forme\", \"all/Psychic/---/Deoxys Speed Forme\", \"all/Water/Ice/Dewgong\", \"all/Water/---/Dewott\", \"all/Water/Bug/Dewpider\", \"all/Ghost/Grass/Dhelmise\", \"all/Steel/Dragon/Dialga\", \"all/Rock/Fairy/Diancie\", \"all/Rock/Fairy/Diancie Mega Diancie\", \"all/Normal/Ground/Diggersby\", \"all/Ground/---/Diglett\", \"all/Ground/Steel/Diglett Alolan Diglett\", \"all/Normal/---/Ditto\", \"all/Normal/Flying/Dodrio\", \"all/Normal/Flying/Doduo\", \"all/Ground/---/Donphan\", \"all/Bug/Psychic/Dottler\", \"all/Steel/Ghost/Doublade\", \"all/Water/Dragon/Dracovish\", \"all/Electric/Dragon/Dracozolt\", \"all/Poison/Dragon/Dragalge\", \"all/Dragon/Ghost/Dragapult\", \"all/Dragon/---/Dragonair\", \"all/Dragon/Flying/Dragonite\", \"all/Dragon/Ghost/Drakloak\", \"all/Normal/Dragon/Drampa\", \"all/Poison/Dark/Drapion\", \"all/Dragon/---/Dratini\", \"all/Water/Rock/Drednaw\", \"all/Dragon/Ghost/Dreepy\", \"all/Ghost/Flying/Drifblim\", \"all/Ghost/Flying/Drifloon\", \"all/Ground/---/Drilbur\", \"all/Water/---/Drizzile\", \"all/Psychic/---/Drowzee\", \"all/Dragon/---/Druddigon\", \"all/Normal/---/Dubwool\", \"all/Water/Flying/Ducklett\", \"all/Ground/---/Dugtrio\", \"all/Ground/Steel/Dugtrio Alolan Dugtrio\", \"all/Normal/---/Dunsparce\", \"all/Psychic/---/Duosion\", \"all/Steel/Dragon/Duraludon\", \"all/Bug/Steel/Durant\", \"all/Ghost/---/Dusclops\", \"all/Ghost/---/Dusknoir\", \"all/Ghost/---/Duskull\", \"all/Bug/Poison/Dustox\", \"all/Bug/Rock/Dwebble\", \"all/Electric/---/Eelektrik\", \"all/Electric/---/Eelektross\", \"all/Normal/---/Eevee\", \"all/Normal/---/Eevee Partner Eevee\", \"all/Ice/---/Eiscue Ice Face\", \"all/Ice/---/Eiscue Noice Face\", \"all/Poison/---/Ekans\", \"all/Grass/---/Eldegoss\", \"all/Electric/---/Electabuzz\", \"all/Electric/---/Electivire\", \"all/Electric/---/Electrike\", \"all/Electric/---/Electrode\", \"all/Electric/---/Elekid\", \"all/Psychic/---/Elgyem\", \"all/Fire/Fighting/Emboar\", \"all/Electric/Flying/Emolga\", \"all/Water/Steel/Empoleon\", \"all/Fire/---/Entei\", \"all/Bug/Steel/Escavalier\", \"all/Psychic/---/Espeon\", \"all/Psychic/---/Espurr\", \"all/Poison/Dragon/Eternatus\", \"all/Poison/Dragon/Eternatus Eternamax\", \"all/Ground/Steel/Excadrill\", \"all/Grass/Psychic/Exeggcute\", \"all/Grass/Psychic/Exeggutor\", \"all/Grass/Dragon/Exeggutor Alolan Exeggutor\", \"all/Normal/---/Exploud\", \"all/Fighting/---/Falinks\", \"all/Normal/Flying/Farfetch'd\", \"all/Fighting/---/Farfetch'd Galarian Farfetch'd\", \"all/Normal/Flying/Fearow\", \"all/Water/---/Feebas\", \"all/Fire/---/Fennekin\", \"all/Water/---/Feraligatr\", \"all/Grass/Steel/Ferroseed\", \"all/Grass/Steel/Ferrothorn\", \"all/Water/---/Finneon\", \"all/Electric/---/Flaaffy\", \"all/Fairy/---/Flab\\u00e9b\\u00e9\", \"all/Grass/Dragon/Flapple\", \"all/Fire/---/Flareon\", \"all/Fire/Flying/Fletchinder\", \"all/Normal/Flying/Fletchling\", \"all/Water/---/Floatzel\", \"all/Fairy/---/Floette\", \"all/Fairy/---/Florges\", \"all/Ground/Dragon/Flygon\", \"all/Grass/---/Fomantis\", \"all/Grass/Poison/Foongus\", \"all/Bug/Steel/Forretress\", \"all/Dragon/---/Fraxure\", \"all/Water/Ghost/Frillish\", \"all/Water/---/Froakie\", \"all/Water/---/Frogadier\", \"all/Ice/Ghost/Froslass\", \"all/Ice/Bug/Frosmoth\", \"all/Normal/---/Furfrou\", \"all/Normal/---/Furret\", \"all/Dragon/Ground/Gabite\", \"all/Psychic/Fighting/Gallade\", \"all/Psychic/Fighting/Gallade Mega Gallade\", \"all/Bug/Electric/Galvantula\", \"all/Poison/---/Garbodor\", \"all/Dragon/Ground/Garchomp\", \"all/Dragon/Ground/Garchomp Mega Garchomp\", \"all/Psychic/Fairy/Gardevoir\", \"all/Psychic/Fairy/Gardevoir Mega Gardevoir\", \"all/Ghost/Poison/Gastly\", \"all/Water/Ground/Gastrodon\", \"all/Bug/Steel/Genesect\", \"all/Ghost/Poison/Gengar\", \"all/Ghost/Poison/Gengar Mega Gengar\", \"all/Rock/Ground/Geodude\", \"all/Rock/Electric/Geodude Alolan Geodude\", \"all/Dragon/Ground/Gible\", \"all/Rock/---/Gigalith\", \"all/Normal/Psychic/Girafarig\", \"all/Ghost/Dragon/Giratina Altered Forme\", \"all/Ghost/Dragon/Giratina Origin Forme\", \"all/Ice/---/Glaceon\", \"all/Ice/---/Glalie\", \"all/Ice/---/Glalie Mega Glalie\", \"all/Normal/---/Glameow\", \"all/Ground/Flying/Gligar\", \"all/Ground/Flying/Gliscor\", \"all/Grass/Poison/Gloom\", \"all/Grass/---/Gogoat\", \"all/Poison/Flying/Golbat\", \"all/Water/---/Goldeen\", \"all/Water/---/Golduck\", \"all/Rock/Ground/Golem\", \"all/Rock/Electric/Golem Alolan Golem\", \"all/Ground/Ghost/Golett\", \"all/Bug/Water/Golisopod\", \"all/Ground/Ghost/Golurk\", \"all/Dragon/---/Goodra\", \"all/Dragon/---/Goomy\", \"all/Water/---/Gorebyss\", \"all/Grass/---/Gossifleur\", \"all/Psychic/---/Gothita\", \"all/Psychic/---/Gothitelle\", \"all/Psychic/---/Gothorita\", \"all/Ghost/Grass/Gourgeist Average Size\", \"all/Ghost/Grass/Gourgeist Large Size\", \"all/Ghost/Grass/Gourgeist Small Size\", \"all/Ghost/Grass/Gourgeist Super Size\", \"all/Fairy/---/Granbull\", \"all/Fighting/---/Grapploct\", \"all/Rock/Ground/Graveler\", \"all/Rock/Electric/Graveler Alolan Graveler\", \"all/Normal/---/Greedent\", \"all/Water/Dark/Greninja\", \"all/Water/Dark/Greninja Ash-Greninja\", \"all/Poison/---/Grimer\", \"all/Poison/Dark/Grimer Alolan Grimer\", \"all/Dark/Fairy/Grimmsnarl\", \"all/Grass/---/Grookey\", \"all/Grass/---/Grotle\", \"all/Ground/---/Groudon\", \"all/Ground/Fire/Groudon Primal Groudon\", \"all/Grass/---/Grovyle\", \"all/Fire/---/Growlithe\", \"all/Bug/---/Grubbin\", \"all/Psychic/---/Grumpig\", \"all/Poison/---/Gulpin\", \"all/Normal/---/Gumshoos\", \"all/Fighting/---/Gurdurr\", \"all/Dark/Dragon/Guzzlord\", \"all/Water/Flying/Gyarados\", \"all/Water/Dark/Gyarados Mega Gyarados\", \"all/Dragon/Fighting/Hakamo-o\", \"all/Normal/---/Happiny\", \"all/Fighting/---/Hariyama\", \"all/Psychic/---/Hatenna\", \"all/Psychic/Fairy/Hatterene\", \"all/Psychic/---/Hattrem\", \"all/Ghost/Poison/Haunter\", \"all/Fighting/Flying/Hawlucha\", \"all/Dragon/---/Haxorus\", \"all/Fire/---/Heatmor\", \"all/Fire/Steel/Heatran\", \"all/Electric/Normal/Heliolisk\", \"all/Electric/Normal/Helioptile\", \"all/Bug/Fighting/Heracross\", \"all/Bug/Fighting/Heracross Mega Heracross\", \"all/Normal/---/Herdier\", \"all/Ground/---/Hippopotas\", \"all/Ground/---/Hippowdon\", \"all/Fighting/---/Hitmonchan\", \"all/Fighting/---/Hitmonlee\", \"all/Fighting/---/Hitmontop\", \"all/Fire/Flying/Ho-oh\", \"all/Dark/Flying/Honchkrow\", \"all/Steel/Ghost/Honedge\", \"all/Psychic/Ghost/Hoopa Hoopa Confined\", \"all/Psychic/Dark/Hoopa Hoopa Unbound\", \"all/Normal/Flying/Hoothoot\", \"all/Grass/Flying/Hoppip\", \"all/Water/---/Horsea\", \"all/Dark/Fire/Houndoom\", \"all/Dark/Fire/Houndoom Mega Houndoom\", \"all/Dark/Fire/Houndour\", \"all/Water/---/Huntail\", \"all/Dark/Dragon/Hydreigon\", \"all/Psychic/---/Hypno\", \"all/Normal/Fairy/Igglybuff\", \"all/Bug/---/Illumise\", \"all/Dark/Fairy/Impidimp\", \"all/Fire/Dark/Incineroar\", \"all/Psychic/Normal/Indeedee Female\", \"all/Psychic/Normal/Indeedee Male\", \"all/Fire/Fighting/Infernape\", \"all/Dark/Psychic/Inkay\", \"all/Water/---/Inteleon\", \"all/Grass/Poison/Ivysaur\", \"all/Dragon/---/Jangmo-o\", \"all/Water/Ghost/Jellicent\", \"all/Normal/Fairy/Jigglypuff\", \"all/Steel/Psychic/Jirachi\", \"all/Electric/---/Jolteon\", \"all/Bug/Electric/Joltik\", \"all/Grass/Flying/Jumpluff\", \"all/Ice/Psychic/Jynx\", \"all/Rock/Water/Kabuto\", \"all/Rock/Water/Kabutops\", \"all/Psychic/---/Kadabra\", \"all/Bug/Poison/Kakuna\", \"all/Normal/---/Kangaskhan\", \"all/Normal/---/Kangaskhan Mega Kangaskhan\", \"all/Bug/---/Karrablast\", \"all/Grass/Steel/Kartana\", \"all/Normal/---/Kecleon\", \"all/Water/Fighting/Keldeo Ordinary Forme\", \"all/Water/Fighting/Keldeo Resolute Forme\", \"all/Water/Dragon/Kingdra\", \"all/Water/---/Kingler\", \"all/Psychic/Fairy/Kirlia\", \"all/Steel/---/Klang\", \"all/Steel/Fairy/Klefki\", \"all/Steel/---/Klink\", \"all/Steel/---/Klinklang\", \"all/Poison/---/Koffing\", \"all/Normal/---/Komala\", \"all/Dragon/Fighting/Kommo-o\", \"all/Water/---/Krabby\", \"all/Bug/---/Kricketot\", \"all/Bug/---/Kricketune\", \"all/Ground/Dark/Krokorok\", \"all/Ground/Dark/Krookodile\", \"all/Fighting/---/Kubfu\", \"all/Water/---/Kyogre\", \"all/Water/---/Kyogre Primal Kyogre\", \"all/Dragon/Ice/Kyurem\", \"all/Dragon/Ice/Kyurem Black Kyurem\", \"all/Dragon/Ice/Kyurem White Kyurem\", \"all/Steel/Rock/Lairon\", \"all/Ghost/Fire/Lampent\", \"all/Ground/Flying/Landorus Incarnate Forme\", \"all/Ground/Flying/Landorus Therian Forme\", \"all/Water/Electric/Lanturn\", \"all/Water/Ice/Lapras\", \"all/Bug/Fire/Larvesta\", \"all/Rock/Ground/Larvitar\", \"all/Dragon/Psychic/Latias\", \"all/Dragon/Psychic/Latias Mega Latias\", \"all/Dragon/Psychic/Latios\", \"all/Dragon/Psychic/Latios Mega Latios\", \"all/Grass/---/Leafeon\", \"all/Bug/Grass/Leavanny\", \"all/Bug/Flying/Ledian\", \"all/Bug/Flying/Ledyba\", \"all/Normal/---/Lickilicky\", \"all/Normal/---/Lickitung\", \"all/Dark/---/Liepard\", \"all/Rock/Grass/Lileep\", \"all/Grass/---/Lilligant\", \"all/Normal/---/Lillipup\", \"all/Normal/---/Linoone\", \"all/Dark/Normal/Linoone Galarian Linoone\", \"all/Fire/Normal/Litleo\", \"all/Fire/---/Litten\", \"all/Ghost/Fire/Litwick\", \"all/Water/Grass/Lombre\", \"all/Normal/---/Lopunny\", \"all/Normal/Fighting/Lopunny Mega Lopunny\", \"all/Water/Grass/Lotad\", \"all/Normal/---/Loudred\", \"all/Fighting/Steel/Lucario\", \"all/Fighting/Steel/Lucario Mega Lucario\", \"all/Water/Grass/Ludicolo\", \"all/Psychic/Flying/Lugia\", \"all/Water/---/Lumineon\", \"all/Psychic/Ghost/Lunala\", \"all/Rock/Psychic/Lunatone\", \"all/Grass/---/Lurantis\", \"all/Water/---/Luvdisc\", \"all/Electric/---/Luxio\", \"all/Electric/---/Luxray\", \"all/Rock/---/Lycanroc Dusk Form\", \"all/Rock/---/Lycanroc Midday Form\", \"all/Rock/---/Lycanroc Midnight Form\", \"all/Fighting/---/Machamp\", \"all/Fighting/---/Machoke\", \"all/Fighting/---/Machop\", \"all/Fire/---/Magby\", \"all/Fire/Rock/Magcargo\", \"all/Steel/Fairy/Magearna\", \"all/Water/---/Magikarp\", \"all/Fire/---/Magmar\", \"all/Fire/---/Magmortar\", \"all/Electric/Steel/Magnemite\", \"all/Electric/Steel/Magneton\", \"all/Electric/Steel/Magnezone\", \"all/Fighting/---/Makuhita\", \"all/Dark/Psychic/Malamar\", \"all/Ice/Ground/Mamoswine\", \"all/Water/---/Manaphy\", \"all/Dark/Flying/Mandibuzz\", \"all/Electric/---/Manectric\", \"all/Electric/---/Manectric Mega Manectric\", \"all/Fighting/---/Mankey\", \"all/Water/Flying/Mantine\", \"all/Water/Flying/Mantyke\", \"all/Grass/---/Maractus\", \"all/Poison/Water/Mareanie\", \"all/Electric/---/Mareep\", \"all/Water/Fairy/Marill\", \"all/Ground/---/Marowak\", \"all/Fire/Ghost/Marowak Alolan Marowak\", \"all/Fighting/Ghost/Marshadow\", \"all/Water/Ground/Marshtomp\", \"all/Bug/Flying/Masquerain\", \"all/Steel/Fairy/Mawile\", \"all/Steel/Fairy/Mawile Mega Mawile\", \"all/Fighting/Psychic/Medicham\", \"all/Fighting/Psychic/Medicham Mega Medicham\", \"all/Fighting/Psychic/Meditite\", \"all/Grass/---/Meganium\", \"all/Steel/---/Melmetal\", \"all/Normal/Psychic/Meloetta Aria Forme\", \"all/Normal/Fighting/Meloetta Pirouette Forme\", \"all/Steel/---/Meltan\", \"all/Psychic/---/Meowstic Female\", \"all/Psychic/---/Meowstic Male\", \"all/Normal/---/Meowth\", \"all/Dark/---/Meowth Alolan Meowth\", \"all/Steel/---/Meowth Galarian Meowth\", \"all/Psychic/---/Mesprit\", \"all/Steel/Psychic/Metagross\", \"all/Steel/Psychic/Metagross Mega Metagross\", \"all/Steel/Psychic/Metang\", \"all/Bug/---/Metapod\", \"all/Psychic/---/Mew\", \"all/Psychic/---/Mewtwo\", \"all/Psychic/Fighting/Mewtwo Mega Mewtwo X\", \"all/Psychic/---/Mewtwo Mega Mewtwo Y\", \"all/Fighting/---/Mienfoo\", \"all/Fighting/---/Mienshao\", \"all/Dark/---/Mightyena\", \"all/Fairy/---/Milcery\", \"all/Water/---/Milotic\", \"all/Normal/---/Miltank\", \"all/Psychic/Fairy/Mime Jr.\", \"all/Ghost/Fairy/Mimikyu\", \"all/Normal/---/Minccino\", \"all/Rock/Flying/Minior Core Form\", \"all/Rock/Flying/Minior Meteor Form\", \"all/Electric/---/Minun\", \"all/Ghost/---/Misdreavus\", \"all/Ghost/---/Mismagius\", \"all/Fire/Flying/Moltres\", \"all/Fire/Fighting/Monferno\", \"all/Grass/Fairy/Morelull\", \"all/Dark/Fairy/Morgrem\", \"all/Electric/Dark/Morpeko Full Belly Mode\", \"all/Electric/Dark/Morpeko Hangry Mode\", \"all/Bug/Flying/Mothim\", \"all/Psychic/Fairy/Mr. Mime\", \"all/Psychic/Ice/Mr. Mime Galarian Mr. Mime\", \"all/Psychic/Ice/Mr. Rime\", \"all/Ground/---/Mudbray\", \"all/Water/---/Mudkip\", \"all/Ground/---/Mudsdale\", \"all/Poison/---/Muk\", \"all/Poison/Dark/Muk Alolan Muk\", \"all/Normal/---/Munchlax\", \"all/Psychic/---/Munna\", \"all/Dark/Flying/Murkrow\", \"all/Psychic/---/Musharna\", \"all/Poison/Dragon/Naganadel\", \"all/Psychic/Flying/Natu\", \"all/Psychic/---/Necrozma\", \"all/Psychic/Ghost/Necrozma Dawn Wings Necrozma\", \"all/Psychic/Steel/Necrozma Dusk Mane Necrozma\", \"all/Psychic/Dragon/Necrozma Ultra Necrozma\", \"all/Dark/---/Nickit\", \"all/Poison/Ground/Nidoking\", \"all/Poison/Ground/Nidoqueen\", \"all/Poison/---/Nidoran\\u2640\", \"all/Poison/---/Nidoran\\u2642\", \"all/Poison/---/Nidorina\", \"all/Poison/---/Nidorino\", \"all/Rock/Poison/Nihilego\", \"all/Bug/Ground/Nincada\", \"all/Fire/---/Ninetales\", \"all/Ice/Fairy/Ninetales Alolan Ninetales\", \"all/Bug/Flying/Ninjask\", \"all/Normal/Flying/Noctowl\", \"all/Flying/Dragon/Noibat\", \"all/Flying/Dragon/Noivern\", \"all/Rock/---/Nosepass\", \"all/Fire/Ground/Numel\", \"all/Grass/Dark/Nuzleaf\", \"all/Dark/Normal/Obstagoon\", \"all/Water/---/Octillery\", \"all/Grass/Poison/Oddish\", \"all/Rock/Water/Omanyte\", \"all/Rock/Water/Omastar\", \"all/Rock/Ground/Onix\", \"all/Normal/Psychic/Oranguru\", \"all/Bug/Psychic/Orbeetle\", \"all/Fire/Flying/Oricorio Baile Style\", \"all/Psychic/Flying/Oricorio Pa'u Style\", \"all/Electric/Flying/Oricorio Pom-Pom Style\", \"all/Ghost/Flying/Oricorio Sensu Style\", \"all/Water/---/Oshawott\", \"all/Electric/---/Pachirisu\", \"all/Water/Dragon/Palkia\", \"all/Ghost/Ground/Palossand\", \"all/Water/Ground/Palpitoad\", \"all/Fighting/---/Pancham\", \"all/Fighting/Dark/Pangoro\", \"all/Water/---/Panpour\", \"all/Grass/---/Pansage\", \"all/Fire/---/Pansear\", \"all/Bug/Grass/Paras\", \"all/Bug/Grass/Parasect\", \"all/Fighting/---/Passimian\", \"all/Normal/---/Patrat\", \"all/Dark/Steel/Pawniard\", \"all/Water/Flying/Pelipper\", \"all/Steel/---/Perrserker\", \"all/Normal/---/Persian\", \"all/Dark/---/Persian Alolan Persian\", \"all/Grass/---/Petilil\", \"all/Ground/---/Phanpy\", \"all/Ghost/Grass/Phantump\", \"all/Bug/Fighting/Pheromosa\", \"all/Water/---/Phione\", \"all/Electric/---/Pichu\", \"all/Normal/Flying/Pidgeot\", \"all/Normal/Flying/Pidgeot Mega Pidgeot\", \"all/Normal/Flying/Pidgeotto\", \"all/Normal/Flying/Pidgey\", \"all/Normal/Flying/Pidove\", \"all/Fire/Fighting/Pignite\", \"all/Electric/---/Pikachu\", \"all/Electric/---/Pikachu Partner Pikachu\", \"all/Normal/Flying/Pikipek\", \"all/Ice/Ground/Piloswine\", \"all/Electric/---/Pincurchin\", \"all/Bug/---/Pineco\", \"all/Bug/---/Pinsir\", \"all/Bug/Flying/Pinsir Mega Pinsir\", \"all/Water/---/Piplup\", \"all/Electric/---/Plusle\", \"all/Poison/---/Poipole\", \"all/Water/---/Politoed\", \"all/Water/---/Poliwag\", \"all/Water/---/Poliwhirl\", \"all/Water/Fighting/Poliwrath\", \"all/Ghost/---/Polteageist\", \"all/Fire/---/Ponyta\", \"all/Psychic/---/Ponyta Galarian Ponyta\", \"all/Dark/---/Poochyena\", \"all/Water/---/Popplio\", \"all/Normal/---/Porygon\", \"all/Normal/---/Porygon-Z\", \"all/Normal/---/Porygon2\", \"all/Water/Fairy/Primarina\", \"all/Fighting/---/Primeape\", \"all/Water/---/Prinplup\", \"all/Rock/Steel/Probopass\", \"all/Water/---/Psyduck\", \"all/Ghost/Grass/Pumpkaboo Average Size\", \"all/Ghost/Grass/Pumpkaboo Large Size\", \"all/Ghost/Grass/Pumpkaboo Small Size\", \"all/Ghost/Grass/Pumpkaboo Super Size\", \"all/Rock/Ground/Pupitar\", \"all/Dark/---/Purrloin\", \"all/Normal/---/Purugly\", \"all/Fire/Normal/Pyroar\", \"all/Water/---/Pyukumuku\", \"all/Water/Ground/Quagsire\", \"all/Fire/---/Quilava\", \"all/Grass/---/Quilladin\", \"all/Water/Poison/Qwilfish\", \"all/Fire/---/Raboot\", \"all/Electric/---/Raichu\", \"all/Electric/Psychic/Raichu Alolan Raichu\", \"all/Electric/---/Raikou\", \"all/Psychic/Fairy/Ralts\", \"all/Rock/---/Rampardos\", \"all/Fire/---/Rapidash\", \"all/Psychic/Fairy/Rapidash Galarian Rapidash\", \"all/Normal/---/Raticate\", \"all/Dark/Normal/Raticate Alolan Raticate\", \"all/Normal/---/Rattata\", \"all/Dark/Normal/Rattata Alolan Rattata\", \"all/Dragon/Flying/Rayquaza\", \"all/Dragon/Flying/Rayquaza Mega Rayquaza\", \"all/Ice/---/Regice\", \"all/Normal/---/Regigigas\", \"all/Rock/---/Regirock\", \"all/Steel/---/Registeel\", \"all/Water/Rock/Relicanth\", \"all/Water/---/Remoraid\", \"all/Dragon/Fire/Reshiram\", \"all/Psychic/---/Reuniclus\", \"all/Ground/Rock/Rhydon\", \"all/Ground/Rock/Rhyhorn\", \"all/Ground/Rock/Rhyperior\", \"all/Bug/Fairy/Ribombee\", \"all/Grass/---/Rillaboom\", \"all/Fighting/---/Riolu\", \"all/Rock/---/Rockruff\", \"all/Rock/---/Rockruff Own Tempo Rockruff\", \"all/Rock/---/Roggenrola\", \"all/Rock/---/Rolycoly\", \"all/Flying/---/Rookidee\", \"all/Grass/Poison/Roselia\", \"all/Grass/Poison/Roserade\", \"all/Electric/Ghost/Rotom\", \"all/Electric/Flying/Rotom Fan Rotom\", \"all/Electric/Ice/Rotom Frost Rotom\", \"all/Electric/Fire/Rotom Heat Rotom\", \"all/Electric/Grass/Rotom Mow Rotom\", \"all/Electric/Water/Rotom Wash Rotom\", \"all/Grass/Flying/Rowlet\", \"all/Normal/Flying/Rufflet\", \"all/Ground/Ghost/Runerigus\", \"all/Dark/Ghost/Sableye\", \"all/Dark/Ghost/Sableye Mega Sableye\", \"all/Dragon/Flying/Salamence\", \"all/Dragon/Flying/Salamence Mega Salamence\", \"all/Poison/Fire/Salandit\", \"all/Poison/Fire/Salazzle\", \"all/Water/---/Samurott\", \"all/Ground/---/Sandaconda\", \"all/Ground/Dark/Sandile\", \"all/Ground/---/Sandshrew\", \"all/Ice/Steel/Sandshrew Alolan Sandshrew\", \"all/Ground/---/Sandslash\", \"all/Ice/Steel/Sandslash Alolan Sandslash\", \"all/Ghost/Ground/Sandygast\", \"all/Fighting/---/Sawk\", \"all/Normal/Grass/Sawsbuck\", \"all/Bug/---/Scatterbug\", \"all/Grass/---/Sceptile\", \"all/Grass/Dragon/Sceptile Mega Sceptile\", \"all/Bug/Steel/Scizor\", \"all/Bug/Steel/Scizor Mega Scizor\", \"all/Bug/Poison/Scolipede\", \"all/Fire/---/Scorbunny\", \"all/Dark/Fighting/Scrafty\", \"all/Dark/Fighting/Scraggy\", \"all/Bug/Flying/Scyther\", \"all/Water/---/Seadra\", \"all/Water/---/Seaking\", \"all/Ice/Water/Sealeo\", \"all/Grass/---/Seedot\", \"all/Water/---/Seel\", \"all/Water/Ground/Seismitoad\", \"all/Normal/---/Sentret\", \"all/Grass/---/Serperior\", \"all/Grass/---/Servine\", \"all/Poison/---/Seviper\", \"all/Bug/Grass/Sewaddle\", \"all/Water/Dark/Sharpedo\", \"all/Water/Dark/Sharpedo Mega Sharpedo\", \"all/Grass/---/Shaymin Land Forme\", \"all/Grass/Flying/Shaymin Sky Forme\", \"all/Bug/Ghost/Shedinja\", \"all/Dragon/---/Shelgon\", \"all/Water/---/Shellder\", \"all/Water/---/Shellos\", \"all/Bug/---/Shelmet\", \"all/Rock/Steel/Shieldon\", \"all/Grass/Dark/Shiftry\", \"all/Grass/Fairy/Shiinotic\", \"all/Electric/---/Shinx\", \"all/Grass/---/Shroomish\", \"all/Bug/Rock/Shuckle\", \"all/Ghost/---/Shuppet\", \"all/Psychic/Flying/Sigilyph\", \"all/Bug/---/Silcoon\", \"all/Ground/---/Silicobra\", \"all/Normal/---/Silvally\", \"all/Water/---/Simipour\", \"all/Grass/---/Simisage\", \"all/Fire/---/Simisear\", \"all/Ghost/---/Sinistea\", \"all/Fighting/---/Sirfetch'd\", \"all/Fire/Bug/Sizzlipede\", \"all/Steel/Flying/Skarmory\", \"all/Grass/---/Skiddo\", \"all/Grass/Flying/Skiploom\", \"all/Normal/---/Skitty\", \"all/Poison/Bug/Skorupi\", \"all/Poison/Water/Skrelp\", \"all/Poison/Dark/Skuntank\", \"all/Normal/---/Skwovet\", \"all/Normal/---/Slaking\", \"all/Normal/---/Slakoth\", \"all/Dragon/---/Sliggoo\", \"all/Water/Psychic/Slowbro\", \"all/Poison/Psychic/Slowbro Galarian Slowbro\", \"all/Water/Psychic/Slowbro Mega Slowbro\", \"all/Water/Psychic/Slowking\", \"all/Water/Psychic/Slowpoke\", \"all/Psychic/---/Slowpoke Galarian Slowpoke\", \"all/Fire/---/Slugma\", \"all/Fairy/---/Slurpuff\", \"all/Normal/---/Smeargle\", \"all/Ice/Psychic/Smoochum\", \"all/Dark/Ice/Sneasel\", \"all/Grass/---/Snivy\", \"all/Ice/Bug/Snom\", \"all/Normal/---/Snorlax\", \"all/Ice/---/Snorunt\", \"all/Grass/Ice/Snover\", \"all/Fairy/---/Snubbull\", \"all/Water/---/Sobble\", \"all/Psychic/Steel/Solgaleo\", \"all/Psychic/---/Solosis\", \"all/Rock/Psychic/Solrock\", \"all/Normal/Flying/Spearow\", \"all/Bug/---/Spewpa\", \"all/Ice/Water/Spheal\", \"all/Bug/Poison/Spinarak\", \"all/Normal/---/Spinda\", \"all/Ghost/Dark/Spiritomb\", \"all/Psychic/---/Spoink\", \"all/Fairy/---/Spritzee\", \"all/Water/---/Squirtle\", \"all/Rock/Steel/Stakataka\", \"all/Normal/---/Stantler\", \"all/Normal/Flying/Staraptor\", \"all/Normal/Flying/Staravia\", \"all/Normal/Flying/Starly\", \"all/Water/Psychic/Starmie\", \"all/Water/---/Staryu\", \"all/Steel/Ground/Steelix\", \"all/Steel/Ground/Steelix Mega Steelix\", \"all/Grass/---/Steenee\", \"all/Rock/---/Stonjourner\", \"all/Normal/---/Stoutland\", \"all/Normal/Fighting/Stufful\", \"all/Ground/Electric/Stunfisk\", \"all/Ground/Steel/Stunfisk Galarian Stunfisk\", \"all/Poison/Dark/Stunky\", \"all/Rock/---/Sudowoodo\", \"all/Water/---/Suicune\", \"all/Grass/---/Sunflora\", \"all/Grass/---/Sunkern\", \"all/Bug/Water/Surskit\", \"all/Normal/Flying/Swablu\", \"all/Bug/Grass/Swadloon\", \"all/Poison/---/Swalot\", \"all/Water/Ground/Swampert\", \"all/Water/Ground/Swampert Mega Swampert\", \"all/Water/Flying/Swanna\", \"all/Normal/Flying/Swellow\", \"all/Ice/Ground/Swinub\", \"all/Fairy/---/Swirlix\", \"all/Psychic/Flying/Swoobat\", \"all/Fairy/---/Sylveon\", \"all/Normal/Flying/Taillow\", \"all/Fire/Flying/Talonflame\", \"all/Grass/---/Tangela\", \"all/Grass/---/Tangrowth\", \"all/Grass/Fairy/Tapu Bulu\", \"all/Water/Fairy/Tapu Fini\", \"all/Electric/Fairy/Tapu Koko\", \"all/Psychic/Fairy/Tapu Lele\", \"all/Normal/---/Tauros\", \"all/Normal/---/Teddiursa\", \"all/Water/Poison/Tentacool\", \"all/Water/Poison/Tentacruel\", \"all/Fire/---/Tepig\", \"all/Rock/Fighting/Terrakion\", \"all/Dark/---/Thievul\", \"all/Fighting/---/Throh\", \"all/Electric/Flying/Thundurus Incarnate Forme\", \"all/Electric/Flying/Thundurus Therian Forme\", \"all/Grass/---/Thwackey\", \"all/Fighting/---/Timburr\", \"all/Water/Rock/Tirtouga\", \"all/Electric/Steel/Togedemaru\", \"all/Fairy/Flying/Togekiss\", \"all/Fairy/---/Togepi\", \"all/Fairy/Flying/Togetic\", \"all/Fire/---/Torchic\", \"all/Fire/---/Torkoal\", \"all/Flying/---/Tornadus Incarnate Forme\", \"all/Flying/---/Tornadus Therian Forme\", \"all/Fire/---/Torracat\", \"all/Grass/Ground/Torterra\", \"all/Water/---/Totodile\", \"all/Normal/Flying/Toucannon\", \"all/Poison/Water/Toxapex\", \"all/Electric/Poison/Toxel\", \"all/Poison/Fighting/Toxicroak\", \"all/Electric/Poison/Toxtricity Amped Form\", \"all/Electric/Poison/Toxtricity Low Key Form\", \"all/Normal/Flying/Tranquill\", \"all/Ground/---/Trapinch\", \"all/Grass/---/Treecko\", \"all/Ghost/Grass/Trevenant\", \"all/Grass/Flying/Tropius\", \"all/Poison/---/Trubbish\", \"all/Normal/Flying/Trumbeak\", \"all/Grass/---/Tsareena\", \"all/Fire/Dragon/Turtonator\", \"all/Grass/---/Turtwig\", \"all/Water/---/Tympole\", \"all/Electric/---/Tynamo\", \"all/Normal/---/Type: Null\", \"all/Fire/---/Typhlosion\", \"all/Rock/Dark/Tyranitar\", \"all/Rock/Dark/Tyranitar Mega Tyranitar\", \"all/Rock/Dragon/Tyrantrum\", \"all/Fighting/---/Tyrogue\", \"all/Rock/Dragon/Tyrunt\", \"all/Dark/---/Umbreon\", \"all/Normal/Flying/Unfezant\", \"all/Psychic/---/Unown\", \"all/Normal/---/Ursaring\", \"all/Fighting/Water/Urshifu Rapid Strike Style\", \"all/Fighting/Dark/Urshifu Single Strike Style\", \"all/Psychic/---/Uxie\", \"all/Ice/---/Vanillish\", \"all/Ice/---/Vanillite\", \"all/Ice/---/Vanilluxe\", \"all/Water/---/Vaporeon\", \"all/Bug/Poison/Venipede\", \"all/Bug/Poison/Venomoth\", \"all/Bug/Poison/Venonat\", \"all/Grass/Poison/Venusaur\", \"all/Grass/Poison/Venusaur Mega Venusaur\", \"all/Bug/Flying/Vespiquen\", \"all/Ground/Dragon/Vibrava\", \"all/Psychic/Fire/Victini\", \"all/Grass/Poison/Victreebel\", \"all/Normal/---/Vigoroth\", \"all/Bug/Electric/Vikavolt\", \"all/Grass/Poison/Vileplume\", \"all/Grass/Fighting/Virizion\", \"all/Bug/Flying/Vivillon\", \"all/Bug/---/Volbeat\", \"all/Fire/Water/Volcanion\", \"all/Bug/Fire/Volcarona\", \"all/Electric/---/Voltorb\", \"all/Dark/Flying/Vullaby\", \"all/Fire/---/Vulpix\", \"all/Ice/---/Vulpix Alolan Vulpix\", \"all/Water/---/Wailmer\", \"all/Water/---/Wailord\", \"all/Ice/Water/Walrein\", \"all/Water/---/Wartortle\", \"all/Normal/---/Watchog\", \"all/Dark/Ice/Weavile\", \"all/Bug/Poison/Weedle\", \"all/Grass/Poison/Weepinbell\", \"all/Poison/---/Weezing\", \"all/Poison/Fairy/Weezing Galarian Weezing\", \"all/Grass/Fairy/Whimsicott\", \"all/Bug/Poison/Whirlipede\", \"all/Water/Ground/Whiscash\", \"all/Normal/---/Whismur\", \"all/Normal/Fairy/Wigglytuff\", \"all/Bug/Water/Wimpod\", \"all/Water/Flying/Wingull\", \"all/Water/---/Wishiwashi School Form\", \"all/Water/---/Wishiwashi Solo Form\", \"all/Psychic/---/Wobbuffet\", \"all/Psychic/Flying/Woobat\", \"all/Normal/---/Wooloo\", \"all/Water/Ground/Wooper\", \"all/Bug/Grass/Wormadam Plant Cloak\", \"all/Bug/Ground/Wormadam Sandy Cloak\", \"all/Bug/Steel/Wormadam Trash Cloak\", \"all/Bug/---/Wurmple\", \"all/Psychic/---/Wynaut\", \"all/Psychic/Flying/Xatu\", \"all/Fairy/---/Xerneas\", \"all/Electric/---/Xurkitree\", \"all/Ghost/---/Yamask\", \"all/Ground/Ghost/Yamask Galarian Yamask\", \"all/Electric/---/Yamper\", \"all/Bug/Flying/Yanma\", \"all/Bug/Flying/Yanmega\", \"all/Normal/---/Yungoos\", \"all/Dark/Flying/Yveltal\", \"all/Fairy/Steel/Zacian Crowned Sword\", \"all/Fairy/---/Zacian Hero of Many Battles\", \"all/Fighting/Steel/Zamazenta Crowned Shield\", \"all/Fighting/---/Zamazenta Hero of Many Battles\", \"all/Normal/---/Zangoose\", \"all/Electric/Flying/Zapdos\", \"all/Dark/Grass/Zarude\", \"all/Electric/---/Zebstrika\", \"all/Dragon/Electric/Zekrom\", \"all/Electric/---/Zeraora\", \"all/Normal/---/Zigzagoon\", \"all/Dark/Normal/Zigzagoon Galarian Zigzagoon\", \"all/Dark/---/Zoroark\", \"all/Dark/---/Zorua\", \"all/Poison/Flying/Zubat\", \"all/Dark/Dragon/Zweilous\", \"all/Dragon/Ground/Zygarde 10% Forme\", \"all/Dragon/Ground/Zygarde 50% Forme\", \"all/Dragon/Ground/Zygarde Complete Forme\", \"all/Bug/---\", \"all/Dark/---\", \"all/Dragon/---\", \"all/Electric/---\", \"all/Fairy/---\", \"all/Fighting/---\", \"all/Fire/---\", \"all/Flying/---\", \"all/Ghost/---\", \"all/Grass/---\", \"all/Ground/---\", \"all/Ice/---\", \"all/Normal/---\", \"all/Poison/---\", \"all/Psychic/---\", \"all/Rock/---\", \"all/Steel/---\", \"all/Water/---\", \"all/Fire/Bug\", \"all/Ice/Bug\", \"all/Poison/Bug\", \"all/Rock/Bug\", \"all/Water/Bug\", \"all/Electric/Dark\", \"all/Fighting/Dark\", \"all/Fire/Dark\", \"all/Ghost/Dark\", \"all/Grass/Dark\", \"all/Ground/Dark\", \"all/Poison/Dark\", \"all/Psychic/Dark\", \"all/Rock/Dark\", \"all/Water/Dark\", \"all/Dark/Dragon\", \"all/Electric/Dragon\", \"all/Fire/Dragon\", \"all/Flying/Dragon\", \"all/Ghost/Dragon\", \"all/Grass/Dragon\", \"all/Ground/Dragon\", \"all/Normal/Dragon\", \"all/Poison/Dragon\", \"all/Psychic/Dragon\", \"all/Rock/Dragon\", \"all/Steel/Dragon\", \"all/Water/Dragon\", \"all/Bug/Electric\", \"all/Dragon/Electric\", \"all/Ground/Electric\", \"all/Rock/Electric\", \"all/Water/Electric\", \"all/Bug/Fairy\", \"all/Dark/Fairy\", \"all/Dragon/Fairy\", \"all/Electric/Fairy\", \"all/Ghost/Fairy\", \"all/Grass/Fairy\", \"all/Ice/Fairy\", \"all/Normal/Fairy\", \"all/Poison/Fairy\", \"all/Psychic/Fairy\", \"all/Rock/Fairy\", \"all/Steel/Fairy\", \"all/Water/Fairy\", \"all/Bug/Fighting\", \"all/Dark/Fighting\", \"all/Dragon/Fighting\", \"all/Fire/Fighting\", \"all/Grass/Fighting\", \"all/Normal/Fighting\", \"all/Poison/Fighting\", \"all/Psychic/Fighting\", \"all/Rock/Fighting\", \"all/Steel/Fighting\", \"all/Water/Fighting\", \"all/Bug/Fire\", \"all/Dark/Fire\", \"all/Dragon/Fire\", \"all/Electric/Fire\", \"all/Ghost/Fire\", \"all/Ground/Fire\", \"all/Ice/Fire\", \"all/Poison/Fire\", \"all/Psychic/Fire\", \"all/Rock/Fire\", \"all/Bug/Flying\", \"all/Dark/Flying\", \"all/Dragon/Flying\", \"all/Electric/Flying\", \"all/Fairy/Flying\", \"all/Fighting/Flying\", \"all/Fire/Flying\", \"all/Ghost/Flying\", \"all/Grass/Flying\", \"all/Ground/Flying\", \"all/Ice/Flying\", \"all/Normal/Flying\", \"all/Poison/Flying\", \"all/Psychic/Flying\", \"all/Rock/Flying\", \"all/Steel/Flying\", \"all/Water/Flying\", \"all/Bug/Ghost\", \"all/Dark/Ghost\", \"all/Dragon/Ghost\", \"all/Electric/Ghost\", \"all/Fighting/Ghost\", \"all/Fire/Ghost\", \"all/Grass/Ghost\", \"all/Ground/Ghost\", \"all/Ice/Ghost\", \"all/Psychic/Ghost\", \"all/Steel/Ghost\", \"all/Water/Ghost\", \"all/Bug/Grass\", \"all/Dark/Grass\", \"all/Electric/Grass\", \"all/Ghost/Grass\", \"all/Normal/Grass\", \"all/Psychic/Grass\", \"all/Rock/Grass\", \"all/Water/Grass\", \"all/Bug/Ground\", \"all/Dragon/Ground\", \"all/Fire/Ground\", \"all/Ghost/Ground\", \"all/Grass/Ground\", \"all/Ice/Ground\", \"all/Normal/Ground\", \"all/Poison/Ground\", \"all/Rock/Ground\", \"all/Steel/Ground\", \"all/Water/Ground\", \"all/Dark/Ice\", \"all/Dragon/Ice\", \"all/Electric/Ice\", \"all/Fighting/Ice\", \"all/Grass/Ice\", \"all/Psychic/Ice\", \"all/Rock/Ice\", \"all/Water/Ice\", \"all/Dark/Normal\", \"all/Electric/Normal\", \"all/Fire/Normal\", \"all/Psychic/Normal\", \"all/Bug/Poison\", \"all/Electric/Poison\", \"all/Ghost/Poison\", \"all/Grass/Poison\", \"all/Rock/Poison\", \"all/Water/Poison\", \"all/Bug/Psychic\", \"all/Dark/Psychic\", \"all/Dragon/Psychic\", \"all/Electric/Psychic\", \"all/Fighting/Psychic\", \"all/Fire/Psychic\", \"all/Grass/Psychic\", \"all/Ground/Psychic\", \"all/Ice/Psychic\", \"all/Normal/Psychic\", \"all/Poison/Psychic\", \"all/Rock/Psychic\", \"all/Steel/Psychic\", \"all/Water/Psychic\", \"all/Bug/Rock\", \"all/Fire/Rock\", \"all/Ground/Rock\", \"all/Steel/Rock\", \"all/Water/Rock\", \"all/Bug/Steel\", \"all/Dark/Steel\", \"all/Electric/Steel\", \"all/Fairy/Steel\", \"all/Fighting/Steel\", \"all/Fire/Steel\", \"all/Flying/Steel\", \"all/Grass/Steel\", \"all/Ground/Steel\", \"all/Ice/Steel\", \"all/Psychic/Steel\", \"all/Rock/Steel\", \"all/Water/Steel\", \"all/Bug/Water\", \"all/Electric/Water\", \"all/Fighting/Water\", \"all/Fire/Water\", \"all/Flying/Water\", \"all/Ice/Water\", \"all/Normal/Water\", \"all/Poison/Water\", \"all/Rock/Water\", \"all/Bug\", \"all/Dark\", \"all/Dragon\", \"all/Electric\", \"all/Fairy\", \"all/Fighting\", \"all/Fire\", \"all/Flying\", \"all/Ghost\", \"all/Grass\", \"all/Ground\", \"all/Ice\", \"all/Normal\", \"all/Poison\", \"all/Psychic\", \"all/Rock\", \"all/Steel\", \"all/Water\", \"all\"], \"labels\": [\"Abomasnow\", \"Abomasnow Mega Abomasnow\", \"Abra\", \"Absol\", \"Absol Mega Absol\", \"Accelgor\", \"Aegislash Blade Forme\", \"Aegislash Shield Forme\", \"Aerodactyl\", \"Aerodactyl Mega Aerodactyl\", \"Aggron\", \"Aggron Mega Aggron\", \"Aipom\", \"Alakazam\", \"Alakazam Mega Alakazam\", \"Alcremie\", \"Alomomola\", \"Altaria\", \"Altaria Mega Altaria\", \"Amaura\", \"Ambipom\", \"Amoonguss\", \"Ampharos\", \"Ampharos Mega Ampharos\", \"Anorith\", \"Appletun\", \"Applin\", \"Araquanid\", \"Arbok\", \"Arcanine\", \"Arceus\", \"Archen\", \"Archeops\", \"Arctovish\", \"Arctozolt\", \"Ariados\", \"Armaldo\", \"Aromatisse\", \"Aron\", \"Arrokuda\", \"Articuno\", \"Audino\", \"Audino Mega Audino\", \"Aurorus\", \"Avalugg\", \"Axew\", \"Azelf\", \"Azumarill\", \"Azurill\", \"Bagon\", \"Baltoy\", \"Banette\", \"Banette Mega Banette\", \"Barbaracle\", \"Barboach\", \"Barraskewda\", \"Basculin Blue-Striped Form\", \"Basculin Red-Striped Form\", \"Bastiodon\", \"Bayleef\", \"Beartic\", \"Beautifly\", \"Beedrill\", \"Beedrill Mega Beedrill\", \"Beheeyem\", \"Beldum\", \"Bellossom\", \"Bellsprout\", \"Bergmite\", \"Bewear\", \"Bibarel\", \"Bidoof\", \"Binacle\", \"Bisharp\", \"Blacephalon\", \"Blastoise\", \"Blastoise Mega Blastoise\", \"Blaziken\", \"Blaziken Mega Blaziken\", \"Blipbug\", \"Blissey\", \"Blitzle\", \"Boldore\", \"Boltund\", \"Bonsly\", \"Bouffalant\", \"Bounsweet\", \"Braixen\", \"Braviary\", \"Breloom\", \"Brionne\", \"Bronzong\", \"Bronzor\", \"Bruxish\", \"Budew\", \"Buizel\", \"Bulbasaur\", \"Buneary\", \"Bunnelby\", \"Burmy\", \"Butterfree\", \"Buzzwole\", \"Cacnea\", \"Cacturne\", \"Camerupt\", \"Camerupt Mega Camerupt\", \"Carbink\", \"Carkol\", \"Carnivine\", \"Carracosta\", \"Carvanha\", \"Cascoon\", \"Castform\", \"Castform Rainy Form\", \"Castform Snowy Form\", \"Castform Sunny Form\", \"Caterpie\", \"Celebi\", \"Celesteela\", \"Centiskorch\", \"Chandelure\", \"Chansey\", \"Charizard\", \"Charizard Mega Charizard X\", \"Charizard Mega Charizard Y\", \"Charjabug\", \"Charmander\", \"Charmeleon\", \"Chatot\", \"Cherrim\", \"Cherubi\", \"Chesnaught\", \"Chespin\", \"Chewtle\", \"Chikorita\", \"Chimchar\", \"Chimecho\", \"Chinchou\", \"Chingling\", \"Cinccino\", \"Cinderace\", \"Clamperl\", \"Clauncher\", \"Clawitzer\", \"Claydol\", \"Clefable\", \"Clefairy\", \"Cleffa\", \"Clobbopus\", \"Cloyster\", \"Coalossal\", \"Cobalion\", \"Cofagrigus\", \"Combee\", \"Combusken\", \"Comfey\", \"Conkeldurr\", \"Copperajah\", \"Corphish\", \"Corsola\", \"Corsola Galarian Corsola\", \"Corviknight\", \"Corvisquire\", \"Cosmoem\", \"Cosmog\", \"Cottonee\", \"Crabominable\", \"Crabrawler\", \"Cradily\", \"Cramorant\", \"Cranidos\", \"Crawdaunt\", \"Cresselia\", \"Croagunk\", \"Crobat\", \"Croconaw\", \"Crustle\", \"Cryogonal\", \"Cubchoo\", \"Cubone\", \"Cufant\", \"Cursola\", \"Cutiefly\", \"Cyndaquil\", \"Darkrai\", \"Darmanitan Galarian Standard Mode\", \"Darmanitan Galarian Zen Mode\", \"Darmanitan Standard Mode\", \"Darmanitan Zen Mode\", \"Dartrix\", \"Darumaka\", \"Darumaka Galarian Darumaka\", \"Decidueye\", \"Dedenne\", \"Deerling\", \"Deino\", \"Delcatty\", \"Delibird\", \"Delphox\", \"Deoxys Attack Forme\", \"Deoxys Defense Forme\", \"Deoxys Normal Forme\", \"Deoxys Speed Forme\", \"Dewgong\", \"Dewott\", \"Dewpider\", \"Dhelmise\", \"Dialga\", \"Diancie\", \"Diancie Mega Diancie\", \"Diggersby\", \"Diglett\", \"Diglett Alolan Diglett\", \"Ditto\", \"Dodrio\", \"Doduo\", \"Donphan\", \"Dottler\", \"Doublade\", \"Dracovish\", \"Dracozolt\", \"Dragalge\", \"Dragapult\", \"Dragonair\", \"Dragonite\", \"Drakloak\", \"Drampa\", \"Drapion\", \"Dratini\", \"Drednaw\", \"Dreepy\", \"Drifblim\", \"Drifloon\", \"Drilbur\", \"Drizzile\", \"Drowzee\", \"Druddigon\", \"Dubwool\", \"Ducklett\", \"Dugtrio\", \"Dugtrio Alolan Dugtrio\", \"Dunsparce\", \"Duosion\", \"Duraludon\", \"Durant\", \"Dusclops\", \"Dusknoir\", \"Duskull\", \"Dustox\", \"Dwebble\", \"Eelektrik\", \"Eelektross\", \"Eevee\", \"Eevee Partner Eevee\", \"Eiscue Ice Face\", \"Eiscue Noice Face\", \"Ekans\", \"Eldegoss\", \"Electabuzz\", \"Electivire\", \"Electrike\", \"Electrode\", \"Elekid\", \"Elgyem\", \"Emboar\", \"Emolga\", \"Empoleon\", \"Entei\", \"Escavalier\", \"Espeon\", \"Espurr\", \"Eternatus\", \"Eternatus Eternamax\", \"Excadrill\", \"Exeggcute\", \"Exeggutor\", \"Exeggutor Alolan Exeggutor\", \"Exploud\", \"Falinks\", \"Farfetch'd\", \"Farfetch'd Galarian Farfetch'd\", \"Fearow\", \"Feebas\", \"Fennekin\", \"Feraligatr\", \"Ferroseed\", \"Ferrothorn\", \"Finneon\", \"Flaaffy\", \"Flab\\u00e9b\\u00e9\", \"Flapple\", \"Flareon\", \"Fletchinder\", \"Fletchling\", \"Floatzel\", \"Floette\", \"Florges\", \"Flygon\", \"Fomantis\", \"Foongus\", \"Forretress\", \"Fraxure\", \"Frillish\", \"Froakie\", \"Frogadier\", \"Froslass\", \"Frosmoth\", \"Furfrou\", \"Furret\", \"Gabite\", \"Gallade\", \"Gallade Mega Gallade\", \"Galvantula\", \"Garbodor\", \"Garchomp\", \"Garchomp Mega Garchomp\", \"Gardevoir\", \"Gardevoir Mega Gardevoir\", \"Gastly\", \"Gastrodon\", \"Genesect\", \"Gengar\", \"Gengar Mega Gengar\", \"Geodude\", \"Geodude Alolan Geodude\", \"Gible\", \"Gigalith\", \"Girafarig\", \"Giratina Altered Forme\", \"Giratina Origin Forme\", \"Glaceon\", \"Glalie\", \"Glalie Mega Glalie\", \"Glameow\", \"Gligar\", \"Gliscor\", \"Gloom\", \"Gogoat\", \"Golbat\", \"Goldeen\", \"Golduck\", \"Golem\", \"Golem Alolan Golem\", \"Golett\", \"Golisopod\", \"Golurk\", \"Goodra\", \"Goomy\", \"Gorebyss\", \"Gossifleur\", \"Gothita\", \"Gothitelle\", \"Gothorita\", \"Gourgeist Average Size\", \"Gourgeist Large Size\", \"Gourgeist Small Size\", \"Gourgeist Super Size\", \"Granbull\", \"Grapploct\", \"Graveler\", \"Graveler Alolan Graveler\", \"Greedent\", \"Greninja\", \"Greninja Ash-Greninja\", \"Grimer\", \"Grimer Alolan Grimer\", \"Grimmsnarl\", \"Grookey\", \"Grotle\", \"Groudon\", \"Groudon Primal Groudon\", \"Grovyle\", \"Growlithe\", \"Grubbin\", \"Grumpig\", \"Gulpin\", \"Gumshoos\", \"Gurdurr\", \"Guzzlord\", \"Gyarados\", \"Gyarados Mega Gyarados\", \"Hakamo-o\", \"Happiny\", \"Hariyama\", \"Hatenna\", \"Hatterene\", \"Hattrem\", \"Haunter\", \"Hawlucha\", \"Haxorus\", \"Heatmor\", \"Heatran\", \"Heliolisk\", \"Helioptile\", \"Heracross\", \"Heracross Mega Heracross\", \"Herdier\", \"Hippopotas\", \"Hippowdon\", \"Hitmonchan\", \"Hitmonlee\", \"Hitmontop\", \"Ho-oh\", \"Honchkrow\", \"Honedge\", \"Hoopa Hoopa Confined\", \"Hoopa Hoopa Unbound\", \"Hoothoot\", \"Hoppip\", \"Horsea\", \"Houndoom\", \"Houndoom Mega Houndoom\", \"Houndour\", \"Huntail\", \"Hydreigon\", \"Hypno\", \"Igglybuff\", \"Illumise\", \"Impidimp\", \"Incineroar\", \"Indeedee Female\", \"Indeedee Male\", \"Infernape\", \"Inkay\", \"Inteleon\", \"Ivysaur\", \"Jangmo-o\", \"Jellicent\", \"Jigglypuff\", \"Jirachi\", \"Jolteon\", \"Joltik\", \"Jumpluff\", \"Jynx\", \"Kabuto\", \"Kabutops\", \"Kadabra\", \"Kakuna\", \"Kangaskhan\", \"Kangaskhan Mega Kangaskhan\", \"Karrablast\", \"Kartana\", \"Kecleon\", \"Keldeo Ordinary Forme\", \"Keldeo Resolute Forme\", \"Kingdra\", \"Kingler\", \"Kirlia\", \"Klang\", \"Klefki\", \"Klink\", \"Klinklang\", \"Koffing\", \"Komala\", \"Kommo-o\", \"Krabby\", \"Kricketot\", \"Kricketune\", \"Krokorok\", \"Krookodile\", \"Kubfu\", \"Kyogre\", \"Kyogre Primal Kyogre\", \"Kyurem\", \"Kyurem Black Kyurem\", \"Kyurem White Kyurem\", \"Lairon\", \"Lampent\", \"Landorus Incarnate Forme\", \"Landorus Therian Forme\", \"Lanturn\", \"Lapras\", \"Larvesta\", \"Larvitar\", \"Latias\", \"Latias Mega Latias\", \"Latios\", \"Latios Mega Latios\", \"Leafeon\", \"Leavanny\", \"Ledian\", \"Ledyba\", \"Lickilicky\", \"Lickitung\", \"Liepard\", \"Lileep\", \"Lilligant\", \"Lillipup\", \"Linoone\", \"Linoone Galarian Linoone\", \"Litleo\", \"Litten\", \"Litwick\", \"Lombre\", \"Lopunny\", \"Lopunny Mega Lopunny\", \"Lotad\", \"Loudred\", \"Lucario\", \"Lucario Mega Lucario\", \"Ludicolo\", \"Lugia\", \"Lumineon\", \"Lunala\", \"Lunatone\", \"Lurantis\", \"Luvdisc\", \"Luxio\", \"Luxray\", \"Lycanroc Dusk Form\", \"Lycanroc Midday Form\", \"Lycanroc Midnight Form\", \"Machamp\", \"Machoke\", \"Machop\", \"Magby\", \"Magcargo\", \"Magearna\", \"Magikarp\", \"Magmar\", \"Magmortar\", \"Magnemite\", \"Magneton\", \"Magnezone\", \"Makuhita\", \"Malamar\", \"Mamoswine\", \"Manaphy\", \"Mandibuzz\", \"Manectric\", \"Manectric Mega Manectric\", \"Mankey\", \"Mantine\", \"Mantyke\", \"Maractus\", \"Mareanie\", \"Mareep\", \"Marill\", \"Marowak\", \"Marowak Alolan Marowak\", \"Marshadow\", \"Marshtomp\", \"Masquerain\", \"Mawile\", \"Mawile Mega Mawile\", \"Medicham\", \"Medicham Mega Medicham\", \"Meditite\", \"Meganium\", \"Melmetal\", \"Meloetta Aria Forme\", \"Meloetta Pirouette Forme\", \"Meltan\", \"Meowstic Female\", \"Meowstic Male\", \"Meowth\", \"Meowth Alolan Meowth\", \"Meowth Galarian Meowth\", \"Mesprit\", \"Metagross\", \"Metagross Mega Metagross\", \"Metang\", \"Metapod\", \"Mew\", \"Mewtwo\", \"Mewtwo Mega Mewtwo X\", \"Mewtwo Mega Mewtwo Y\", \"Mienfoo\", \"Mienshao\", \"Mightyena\", \"Milcery\", \"Milotic\", \"Miltank\", \"Mime Jr.\", \"Mimikyu\", \"Minccino\", \"Minior Core Form\", \"Minior Meteor Form\", \"Minun\", \"Misdreavus\", \"Mismagius\", \"Moltres\", \"Monferno\", \"Morelull\", \"Morgrem\", \"Morpeko Full Belly Mode\", \"Morpeko Hangry Mode\", \"Mothim\", \"Mr. Mime\", \"Mr. Mime Galarian Mr. Mime\", \"Mr. Rime\", \"Mudbray\", \"Mudkip\", \"Mudsdale\", \"Muk\", \"Muk Alolan Muk\", \"Munchlax\", \"Munna\", \"Murkrow\", \"Musharna\", \"Naganadel\", \"Natu\", \"Necrozma\", \"Necrozma Dawn Wings Necrozma\", \"Necrozma Dusk Mane Necrozma\", \"Necrozma Ultra Necrozma\", \"Nickit\", \"Nidoking\", \"Nidoqueen\", \"Nidoran\\u2640\", \"Nidoran\\u2642\", \"Nidorina\", \"Nidorino\", \"Nihilego\", \"Nincada\", \"Ninetales\", \"Ninetales Alolan Ninetales\", \"Ninjask\", \"Noctowl\", \"Noibat\", \"Noivern\", \"Nosepass\", \"Numel\", \"Nuzleaf\", \"Obstagoon\", \"Octillery\", \"Oddish\", \"Omanyte\", \"Omastar\", \"Onix\", \"Oranguru\", \"Orbeetle\", \"Oricorio Baile Style\", \"Oricorio Pa'u Style\", \"Oricorio Pom-Pom Style\", \"Oricorio Sensu Style\", \"Oshawott\", \"Pachirisu\", \"Palkia\", \"Palossand\", \"Palpitoad\", \"Pancham\", \"Pangoro\", \"Panpour\", \"Pansage\", \"Pansear\", \"Paras\", \"Parasect\", \"Passimian\", \"Patrat\", \"Pawniard\", \"Pelipper\", \"Perrserker\", \"Persian\", \"Persian Alolan Persian\", \"Petilil\", \"Phanpy\", \"Phantump\", \"Pheromosa\", \"Phione\", \"Pichu\", \"Pidgeot\", \"Pidgeot Mega Pidgeot\", \"Pidgeotto\", \"Pidgey\", \"Pidove\", \"Pignite\", \"Pikachu\", \"Pikachu Partner Pikachu\", \"Pikipek\", \"Piloswine\", \"Pincurchin\", \"Pineco\", \"Pinsir\", \"Pinsir Mega Pinsir\", \"Piplup\", \"Plusle\", \"Poipole\", \"Politoed\", \"Poliwag\", \"Poliwhirl\", \"Poliwrath\", \"Polteageist\", \"Ponyta\", \"Ponyta Galarian Ponyta\", \"Poochyena\", \"Popplio\", \"Porygon\", \"Porygon-Z\", \"Porygon2\", \"Primarina\", \"Primeape\", \"Prinplup\", \"Probopass\", \"Psyduck\", \"Pumpkaboo Average Size\", \"Pumpkaboo Large Size\", \"Pumpkaboo Small Size\", \"Pumpkaboo Super Size\", \"Pupitar\", \"Purrloin\", \"Purugly\", \"Pyroar\", \"Pyukumuku\", \"Quagsire\", \"Quilava\", \"Quilladin\", \"Qwilfish\", \"Raboot\", \"Raichu\", \"Raichu Alolan Raichu\", \"Raikou\", \"Ralts\", \"Rampardos\", \"Rapidash\", \"Rapidash Galarian Rapidash\", \"Raticate\", \"Raticate Alolan Raticate\", \"Rattata\", \"Rattata Alolan Rattata\", \"Rayquaza\", \"Rayquaza Mega Rayquaza\", \"Regice\", \"Regigigas\", \"Regirock\", \"Registeel\", \"Relicanth\", \"Remoraid\", \"Reshiram\", \"Reuniclus\", \"Rhydon\", \"Rhyhorn\", \"Rhyperior\", \"Ribombee\", \"Rillaboom\", \"Riolu\", \"Rockruff\", \"Rockruff Own Tempo Rockruff\", \"Roggenrola\", \"Rolycoly\", \"Rookidee\", \"Roselia\", \"Roserade\", \"Rotom\", \"Rotom Fan Rotom\", \"Rotom Frost Rotom\", \"Rotom Heat Rotom\", \"Rotom Mow Rotom\", \"Rotom Wash Rotom\", \"Rowlet\", \"Rufflet\", \"Runerigus\", \"Sableye\", \"Sableye Mega Sableye\", \"Salamence\", \"Salamence Mega Salamence\", \"Salandit\", \"Salazzle\", \"Samurott\", \"Sandaconda\", \"Sandile\", \"Sandshrew\", \"Sandshrew Alolan Sandshrew\", \"Sandslash\", \"Sandslash Alolan Sandslash\", \"Sandygast\", \"Sawk\", \"Sawsbuck\", \"Scatterbug\", \"Sceptile\", \"Sceptile Mega Sceptile\", \"Scizor\", \"Scizor Mega Scizor\", \"Scolipede\", \"Scorbunny\", \"Scrafty\", \"Scraggy\", \"Scyther\", \"Seadra\", \"Seaking\", \"Sealeo\", \"Seedot\", \"Seel\", \"Seismitoad\", \"Sentret\", \"Serperior\", \"Servine\", \"Seviper\", \"Sewaddle\", \"Sharpedo\", \"Sharpedo Mega Sharpedo\", \"Shaymin Land Forme\", \"Shaymin Sky Forme\", \"Shedinja\", \"Shelgon\", \"Shellder\", \"Shellos\", \"Shelmet\", \"Shieldon\", \"Shiftry\", \"Shiinotic\", \"Shinx\", \"Shroomish\", \"Shuckle\", \"Shuppet\", \"Sigilyph\", \"Silcoon\", \"Silicobra\", \"Silvally\", \"Simipour\", \"Simisage\", \"Simisear\", \"Sinistea\", \"Sirfetch'd\", \"Sizzlipede\", \"Skarmory\", \"Skiddo\", \"Skiploom\", \"Skitty\", \"Skorupi\", \"Skrelp\", \"Skuntank\", \"Skwovet\", \"Slaking\", \"Slakoth\", \"Sliggoo\", \"Slowbro\", \"Slowbro Galarian Slowbro\", \"Slowbro Mega Slowbro\", \"Slowking\", \"Slowpoke\", \"Slowpoke Galarian Slowpoke\", \"Slugma\", \"Slurpuff\", \"Smeargle\", \"Smoochum\", \"Sneasel\", \"Snivy\", \"Snom\", \"Snorlax\", \"Snorunt\", \"Snover\", \"Snubbull\", \"Sobble\", \"Solgaleo\", \"Solosis\", \"Solrock\", \"Spearow\", \"Spewpa\", \"Spheal\", \"Spinarak\", \"Spinda\", \"Spiritomb\", \"Spoink\", \"Spritzee\", \"Squirtle\", \"Stakataka\", \"Stantler\", \"Staraptor\", \"Staravia\", \"Starly\", \"Starmie\", \"Staryu\", \"Steelix\", \"Steelix Mega Steelix\", \"Steenee\", \"Stonjourner\", \"Stoutland\", \"Stufful\", \"Stunfisk\", \"Stunfisk Galarian Stunfisk\", \"Stunky\", \"Sudowoodo\", \"Suicune\", \"Sunflora\", \"Sunkern\", \"Surskit\", \"Swablu\", \"Swadloon\", \"Swalot\", \"Swampert\", \"Swampert Mega Swampert\", \"Swanna\", \"Swellow\", \"Swinub\", \"Swirlix\", \"Swoobat\", \"Sylveon\", \"Taillow\", \"Talonflame\", \"Tangela\", \"Tangrowth\", \"Tapu Bulu\", \"Tapu Fini\", \"Tapu Koko\", \"Tapu Lele\", \"Tauros\", \"Teddiursa\", \"Tentacool\", \"Tentacruel\", \"Tepig\", \"Terrakion\", \"Thievul\", \"Throh\", \"Thundurus Incarnate Forme\", \"Thundurus Therian Forme\", \"Thwackey\", \"Timburr\", \"Tirtouga\", \"Togedemaru\", \"Togekiss\", \"Togepi\", \"Togetic\", \"Torchic\", \"Torkoal\", \"Tornadus Incarnate Forme\", \"Tornadus Therian Forme\", \"Torracat\", \"Torterra\", \"Totodile\", \"Toucannon\", \"Toxapex\", \"Toxel\", \"Toxicroak\", \"Toxtricity Amped Form\", \"Toxtricity Low Key Form\", \"Tranquill\", \"Trapinch\", \"Treecko\", \"Trevenant\", \"Tropius\", \"Trubbish\", \"Trumbeak\", \"Tsareena\", \"Turtonator\", \"Turtwig\", \"Tympole\", \"Tynamo\", \"Type: Null\", \"Typhlosion\", \"Tyranitar\", \"Tyranitar Mega Tyranitar\", \"Tyrantrum\", \"Tyrogue\", \"Tyrunt\", \"Umbreon\", \"Unfezant\", \"Unown\", \"Ursaring\", \"Urshifu Rapid Strike Style\", \"Urshifu Single Strike Style\", \"Uxie\", \"Vanillish\", \"Vanillite\", \"Vanilluxe\", \"Vaporeon\", \"Venipede\", \"Venomoth\", \"Venonat\", \"Venusaur\", \"Venusaur Mega Venusaur\", \"Vespiquen\", \"Vibrava\", \"Victini\", \"Victreebel\", \"Vigoroth\", \"Vikavolt\", \"Vileplume\", \"Virizion\", \"Vivillon\", \"Volbeat\", \"Volcanion\", \"Volcarona\", \"Voltorb\", \"Vullaby\", \"Vulpix\", \"Vulpix Alolan Vulpix\", \"Wailmer\", \"Wailord\", \"Walrein\", \"Wartortle\", \"Watchog\", \"Weavile\", \"Weedle\", \"Weepinbell\", \"Weezing\", \"Weezing Galarian Weezing\", \"Whimsicott\", \"Whirlipede\", \"Whiscash\", \"Whismur\", \"Wigglytuff\", \"Wimpod\", \"Wingull\", \"Wishiwashi School Form\", \"Wishiwashi Solo Form\", \"Wobbuffet\", \"Woobat\", \"Wooloo\", \"Wooper\", \"Wormadam Plant Cloak\", \"Wormadam Sandy Cloak\", \"Wormadam Trash Cloak\", \"Wurmple\", \"Wynaut\", \"Xatu\", \"Xerneas\", \"Xurkitree\", \"Yamask\", \"Yamask Galarian Yamask\", \"Yamper\", \"Yanma\", \"Yanmega\", \"Yungoos\", \"Yveltal\", \"Zacian Crowned Sword\", \"Zacian Hero of Many Battles\", \"Zamazenta Crowned Shield\", \"Zamazenta Hero of Many Battles\", \"Zangoose\", \"Zapdos\", \"Zarude\", \"Zebstrika\", \"Zekrom\", \"Zeraora\", \"Zigzagoon\", \"Zigzagoon Galarian Zigzagoon\", \"Zoroark\", \"Zorua\", \"Zubat\", \"Zweilous\", \"Zygarde 10% Forme\", \"Zygarde 50% Forme\", \"Zygarde Complete Forme\", \"---\", \"---\", \"---\", \"---\", \"---\", \"---\", \"---\", \"---\", \"---\", \"---\", \"---\", \"---\", \"---\", \"---\", \"---\", \"---\", \"---\", \"---\", \"Bug\", \"Bug\", \"Bug\", \"Bug\", \"Bug\", \"Dark\", \"Dark\", \"Dark\", \"Dark\", \"Dark\", \"Dark\", \"Dark\", \"Dark\", \"Dark\", \"Dark\", \"Dragon\", \"Dragon\", \"Dragon\", \"Dragon\", \"Dragon\", \"Dragon\", \"Dragon\", \"Dragon\", \"Dragon\", \"Dragon\", \"Dragon\", \"Dragon\", \"Dragon\", \"Electric\", \"Electric\", \"Electric\", \"Electric\", \"Electric\", \"Fairy\", \"Fairy\", \"Fairy\", \"Fairy\", \"Fairy\", \"Fairy\", \"Fairy\", \"Fairy\", \"Fairy\", \"Fairy\", \"Fairy\", \"Fairy\", \"Fairy\", \"Fighting\", \"Fighting\", \"Fighting\", \"Fighting\", \"Fighting\", \"Fighting\", \"Fighting\", \"Fighting\", \"Fighting\", \"Fighting\", \"Fighting\", \"Fire\", \"Fire\", \"Fire\", \"Fire\", \"Fire\", \"Fire\", \"Fire\", \"Fire\", \"Fire\", \"Fire\", \"Flying\", \"Flying\", \"Flying\", \"Flying\", \"Flying\", \"Flying\", \"Flying\", \"Flying\", \"Flying\", \"Flying\", \"Flying\", \"Flying\", \"Flying\", \"Flying\", \"Flying\", \"Flying\", \"Flying\", \"Ghost\", \"Ghost\", \"Ghost\", \"Ghost\", \"Ghost\", \"Ghost\", \"Ghost\", \"Ghost\", \"Ghost\", \"Ghost\", \"Ghost\", \"Ghost\", \"Grass\", \"Grass\", \"Grass\", \"Grass\", \"Grass\", \"Grass\", \"Grass\", \"Grass\", \"Ground\", \"Ground\", \"Ground\", \"Ground\", \"Ground\", \"Ground\", \"Ground\", \"Ground\", \"Ground\", \"Ground\", \"Ground\", \"Ice\", \"Ice\", \"Ice\", \"Ice\", \"Ice\", \"Ice\", \"Ice\", \"Ice\", \"Normal\", \"Normal\", \"Normal\", \"Normal\", \"Poison\", \"Poison\", \"Poison\", \"Poison\", \"Poison\", \"Poison\", \"Psychic\", \"Psychic\", \"Psychic\", \"Psychic\", \"Psychic\", \"Psychic\", \"Psychic\", \"Psychic\", \"Psychic\", \"Psychic\", \"Psychic\", \"Psychic\", \"Psychic\", \"Psychic\", \"Rock\", \"Rock\", \"Rock\", \"Rock\", \"Rock\", \"Steel\", \"Steel\", \"Steel\", \"Steel\", \"Steel\", \"Steel\", \"Steel\", \"Steel\", \"Steel\", \"Steel\", \"Steel\", \"Steel\", \"Steel\", \"Water\", \"Water\", \"Water\", \"Water\", \"Water\", \"Water\", \"Water\", \"Water\", \"Water\", \"Bug\", \"Dark\", \"Dragon\", \"Electric\", \"Fairy\", \"Fighting\", \"Fire\", \"Flying\", \"Ghost\", \"Grass\", \"Ground\", \"Ice\", \"Normal\", \"Poison\", \"Psychic\", \"Rock\", \"Steel\", \"Water\", \"all\"], \"name\": \"\", \"parents\": [\"all/Grass/Ice\", \"all/Grass/Ice\", \"all/Psychic/---\", \"all/Dark/---\", \"all/Dark/---\", \"all/Bug/---\", \"all/Steel/Ghost\", \"all/Steel/Ghost\", \"all/Rock/Flying\", \"all/Rock/Flying\", \"all/Steel/Rock\", \"all/Steel/---\", \"all/Normal/---\", \"all/Psychic/---\", \"all/Psychic/---\", \"all/Fairy/---\", \"all/Water/---\", \"all/Dragon/Flying\", \"all/Dragon/Fairy\", \"all/Rock/Ice\", \"all/Normal/---\", \"all/Grass/Poison\", \"all/Electric/---\", \"all/Electric/Dragon\", \"all/Rock/Bug\", \"all/Grass/Dragon\", \"all/Grass/Dragon\", \"all/Water/Bug\", \"all/Poison/---\", \"all/Fire/---\", \"all/Normal/---\", \"all/Rock/Flying\", \"all/Rock/Flying\", \"all/Water/Ice\", \"all/Electric/Ice\", \"all/Bug/Poison\", \"all/Rock/Bug\", \"all/Fairy/---\", \"all/Steel/Rock\", \"all/Water/---\", \"all/Ice/Flying\", \"all/Normal/---\", \"all/Normal/Fairy\", \"all/Rock/Ice\", \"all/Ice/---\", \"all/Dragon/---\", \"all/Psychic/---\", \"all/Water/Fairy\", \"all/Normal/Fairy\", \"all/Dragon/---\", \"all/Ground/Psychic\", \"all/Ghost/---\", \"all/Ghost/---\", \"all/Rock/Water\", \"all/Water/Ground\", \"all/Water/---\", \"all/Water/---\", \"all/Water/---\", \"all/Rock/Steel\", \"all/Grass/---\", \"all/Ice/---\", \"all/Bug/Flying\", \"all/Bug/Poison\", \"all/Bug/Poison\", \"all/Psychic/---\", \"all/Steel/Psychic\", \"all/Grass/---\", \"all/Grass/Poison\", \"all/Ice/---\", \"all/Normal/Fighting\", \"all/Normal/Water\", \"all/Normal/---\", \"all/Rock/Water\", \"all/Dark/Steel\", \"all/Fire/Ghost\", \"all/Water/---\", \"all/Water/---\", \"all/Fire/Fighting\", \"all/Fire/Fighting\", \"all/Bug/---\", \"all/Normal/---\", \"all/Electric/---\", \"all/Rock/---\", \"all/Electric/---\", \"all/Rock/---\", \"all/Normal/---\", \"all/Grass/---\", \"all/Fire/---\", \"all/Normal/Flying\", \"all/Grass/Fighting\", \"all/Water/---\", \"all/Steel/Psychic\", \"all/Steel/Psychic\", \"all/Water/Psychic\", \"all/Grass/Poison\", \"all/Water/---\", \"all/Grass/Poison\", \"all/Normal/---\", \"all/Normal/---\", \"all/Bug/---\", \"all/Bug/Flying\", \"all/Bug/Fighting\", \"all/Grass/---\", \"all/Grass/Dark\", \"all/Fire/Ground\", \"all/Fire/Ground\", \"all/Rock/Fairy\", \"all/Rock/Fire\", \"all/Grass/---\", \"all/Water/Rock\", \"all/Water/Dark\", \"all/Bug/---\", \"all/Normal/---\", \"all/Water/---\", \"all/Ice/---\", \"all/Fire/---\", \"all/Bug/---\", \"all/Psychic/Grass\", \"all/Steel/Flying\", \"all/Fire/Bug\", \"all/Ghost/Fire\", \"all/Normal/---\", \"all/Fire/Flying\", \"all/Fire/Dragon\", \"all/Fire/Flying\", \"all/Bug/Electric\", \"all/Fire/---\", \"all/Fire/---\", \"all/Normal/Flying\", \"all/Grass/---\", \"all/Grass/---\", \"all/Grass/Fighting\", \"all/Grass/---\", \"all/Water/---\", \"all/Grass/---\", \"all/Fire/---\", \"all/Psychic/---\", \"all/Water/Electric\", \"all/Psychic/---\", \"all/Normal/---\", \"all/Fire/---\", \"all/Water/---\", \"all/Water/---\", \"all/Water/---\", \"all/Ground/Psychic\", \"all/Fairy/---\", \"all/Fairy/---\", \"all/Fairy/---\", \"all/Fighting/---\", \"all/Water/Ice\", \"all/Rock/Fire\", \"all/Steel/Fighting\", \"all/Ghost/---\", \"all/Bug/Flying\", \"all/Fire/Fighting\", \"all/Fairy/---\", \"all/Fighting/---\", \"all/Steel/---\", \"all/Water/---\", \"all/Water/Rock\", \"all/Ghost/---\", \"all/Flying/Steel\", \"all/Flying/---\", \"all/Psychic/---\", \"all/Psychic/---\", \"all/Grass/Fairy\", \"all/Fighting/Ice\", \"all/Fighting/---\", \"all/Rock/Grass\", \"all/Flying/Water\", \"all/Rock/---\", \"all/Water/Dark\", \"all/Psychic/---\", \"all/Poison/Fighting\", \"all/Poison/Flying\", \"all/Water/---\", \"all/Bug/Rock\", \"all/Ice/---\", \"all/Ice/---\", \"all/Ground/---\", \"all/Steel/---\", \"all/Ghost/---\", \"all/Bug/Fairy\", \"all/Fire/---\", \"all/Dark/---\", \"all/Ice/---\", \"all/Ice/Fire\", \"all/Fire/---\", \"all/Fire/Psychic\", \"all/Grass/Flying\", \"all/Fire/---\", \"all/Ice/---\", \"all/Grass/Ghost\", \"all/Electric/Fairy\", \"all/Normal/Grass\", \"all/Dark/Dragon\", \"all/Normal/---\", \"all/Ice/Flying\", \"all/Fire/Psychic\", \"all/Psychic/---\", \"all/Psychic/---\", \"all/Psychic/---\", \"all/Psychic/---\", \"all/Water/Ice\", \"all/Water/---\", \"all/Water/Bug\", \"all/Ghost/Grass\", \"all/Steel/Dragon\", \"all/Rock/Fairy\", \"all/Rock/Fairy\", \"all/Normal/Ground\", \"all/Ground/---\", \"all/Ground/Steel\", \"all/Normal/---\", \"all/Normal/Flying\", \"all/Normal/Flying\", \"all/Ground/---\", \"all/Bug/Psychic\", \"all/Steel/Ghost\", \"all/Water/Dragon\", \"all/Electric/Dragon\", \"all/Poison/Dragon\", \"all/Dragon/Ghost\", \"all/Dragon/---\", \"all/Dragon/Flying\", \"all/Dragon/Ghost\", \"all/Normal/Dragon\", \"all/Poison/Dark\", \"all/Dragon/---\", \"all/Water/Rock\", \"all/Dragon/Ghost\", \"all/Ghost/Flying\", \"all/Ghost/Flying\", \"all/Ground/---\", \"all/Water/---\", \"all/Psychic/---\", \"all/Dragon/---\", \"all/Normal/---\", \"all/Water/Flying\", \"all/Ground/---\", \"all/Ground/Steel\", \"all/Normal/---\", \"all/Psychic/---\", \"all/Steel/Dragon\", \"all/Bug/Steel\", \"all/Ghost/---\", \"all/Ghost/---\", \"all/Ghost/---\", \"all/Bug/Poison\", \"all/Bug/Rock\", \"all/Electric/---\", \"all/Electric/---\", \"all/Normal/---\", \"all/Normal/---\", \"all/Ice/---\", \"all/Ice/---\", \"all/Poison/---\", \"all/Grass/---\", \"all/Electric/---\", \"all/Electric/---\", \"all/Electric/---\", \"all/Electric/---\", \"all/Electric/---\", \"all/Psychic/---\", \"all/Fire/Fighting\", \"all/Electric/Flying\", \"all/Water/Steel\", \"all/Fire/---\", \"all/Bug/Steel\", \"all/Psychic/---\", \"all/Psychic/---\", \"all/Poison/Dragon\", \"all/Poison/Dragon\", \"all/Ground/Steel\", \"all/Grass/Psychic\", \"all/Grass/Psychic\", \"all/Grass/Dragon\", \"all/Normal/---\", \"all/Fighting/---\", \"all/Normal/Flying\", \"all/Fighting/---\", \"all/Normal/Flying\", \"all/Water/---\", \"all/Fire/---\", \"all/Water/---\", \"all/Grass/Steel\", \"all/Grass/Steel\", \"all/Water/---\", \"all/Electric/---\", \"all/Fairy/---\", \"all/Grass/Dragon\", \"all/Fire/---\", \"all/Fire/Flying\", \"all/Normal/Flying\", \"all/Water/---\", \"all/Fairy/---\", \"all/Fairy/---\", \"all/Ground/Dragon\", \"all/Grass/---\", \"all/Grass/Poison\", \"all/Bug/Steel\", \"all/Dragon/---\", \"all/Water/Ghost\", \"all/Water/---\", \"all/Water/---\", \"all/Ice/Ghost\", \"all/Ice/Bug\", \"all/Normal/---\", \"all/Normal/---\", \"all/Dragon/Ground\", \"all/Psychic/Fighting\", \"all/Psychic/Fighting\", \"all/Bug/Electric\", \"all/Poison/---\", \"all/Dragon/Ground\", \"all/Dragon/Ground\", \"all/Psychic/Fairy\", \"all/Psychic/Fairy\", \"all/Ghost/Poison\", \"all/Water/Ground\", \"all/Bug/Steel\", \"all/Ghost/Poison\", \"all/Ghost/Poison\", \"all/Rock/Ground\", \"all/Rock/Electric\", \"all/Dragon/Ground\", \"all/Rock/---\", \"all/Normal/Psychic\", \"all/Ghost/Dragon\", \"all/Ghost/Dragon\", \"all/Ice/---\", \"all/Ice/---\", \"all/Ice/---\", \"all/Normal/---\", \"all/Ground/Flying\", \"all/Ground/Flying\", \"all/Grass/Poison\", \"all/Grass/---\", \"all/Poison/Flying\", \"all/Water/---\", \"all/Water/---\", \"all/Rock/Ground\", \"all/Rock/Electric\", \"all/Ground/Ghost\", \"all/Bug/Water\", \"all/Ground/Ghost\", \"all/Dragon/---\", \"all/Dragon/---\", \"all/Water/---\", \"all/Grass/---\", \"all/Psychic/---\", \"all/Psychic/---\", \"all/Psychic/---\", \"all/Ghost/Grass\", \"all/Ghost/Grass\", \"all/Ghost/Grass\", \"all/Ghost/Grass\", \"all/Fairy/---\", \"all/Fighting/---\", \"all/Rock/Ground\", \"all/Rock/Electric\", \"all/Normal/---\", \"all/Water/Dark\", \"all/Water/Dark\", \"all/Poison/---\", \"all/Poison/Dark\", \"all/Dark/Fairy\", \"all/Grass/---\", \"all/Grass/---\", \"all/Ground/---\", \"all/Ground/Fire\", \"all/Grass/---\", \"all/Fire/---\", \"all/Bug/---\", \"all/Psychic/---\", \"all/Poison/---\", \"all/Normal/---\", \"all/Fighting/---\", \"all/Dark/Dragon\", \"all/Water/Flying\", \"all/Water/Dark\", \"all/Dragon/Fighting\", \"all/Normal/---\", \"all/Fighting/---\", \"all/Psychic/---\", \"all/Psychic/Fairy\", \"all/Psychic/---\", \"all/Ghost/Poison\", \"all/Fighting/Flying\", \"all/Dragon/---\", \"all/Fire/---\", \"all/Fire/Steel\", \"all/Electric/Normal\", \"all/Electric/Normal\", \"all/Bug/Fighting\", \"all/Bug/Fighting\", \"all/Normal/---\", \"all/Ground/---\", \"all/Ground/---\", \"all/Fighting/---\", \"all/Fighting/---\", \"all/Fighting/---\", \"all/Fire/Flying\", \"all/Dark/Flying\", \"all/Steel/Ghost\", \"all/Psychic/Ghost\", \"all/Psychic/Dark\", \"all/Normal/Flying\", \"all/Grass/Flying\", \"all/Water/---\", \"all/Dark/Fire\", \"all/Dark/Fire\", \"all/Dark/Fire\", \"all/Water/---\", \"all/Dark/Dragon\", \"all/Psychic/---\", \"all/Normal/Fairy\", \"all/Bug/---\", \"all/Dark/Fairy\", \"all/Fire/Dark\", \"all/Psychic/Normal\", \"all/Psychic/Normal\", \"all/Fire/Fighting\", \"all/Dark/Psychic\", \"all/Water/---\", \"all/Grass/Poison\", \"all/Dragon/---\", \"all/Water/Ghost\", \"all/Normal/Fairy\", \"all/Steel/Psychic\", \"all/Electric/---\", \"all/Bug/Electric\", \"all/Grass/Flying\", \"all/Ice/Psychic\", \"all/Rock/Water\", \"all/Rock/Water\", \"all/Psychic/---\", \"all/Bug/Poison\", \"all/Normal/---\", \"all/Normal/---\", \"all/Bug/---\", \"all/Grass/Steel\", \"all/Normal/---\", \"all/Water/Fighting\", \"all/Water/Fighting\", \"all/Water/Dragon\", \"all/Water/---\", \"all/Psychic/Fairy\", \"all/Steel/---\", \"all/Steel/Fairy\", \"all/Steel/---\", \"all/Steel/---\", \"all/Poison/---\", \"all/Normal/---\", \"all/Dragon/Fighting\", \"all/Water/---\", \"all/Bug/---\", \"all/Bug/---\", \"all/Ground/Dark\", \"all/Ground/Dark\", \"all/Fighting/---\", \"all/Water/---\", \"all/Water/---\", \"all/Dragon/Ice\", \"all/Dragon/Ice\", \"all/Dragon/Ice\", \"all/Steel/Rock\", \"all/Ghost/Fire\", \"all/Ground/Flying\", \"all/Ground/Flying\", \"all/Water/Electric\", \"all/Water/Ice\", \"all/Bug/Fire\", \"all/Rock/Ground\", \"all/Dragon/Psychic\", \"all/Dragon/Psychic\", \"all/Dragon/Psychic\", \"all/Dragon/Psychic\", \"all/Grass/---\", \"all/Bug/Grass\", \"all/Bug/Flying\", \"all/Bug/Flying\", \"all/Normal/---\", \"all/Normal/---\", \"all/Dark/---\", \"all/Rock/Grass\", \"all/Grass/---\", \"all/Normal/---\", \"all/Normal/---\", \"all/Dark/Normal\", \"all/Fire/Normal\", \"all/Fire/---\", \"all/Ghost/Fire\", \"all/Water/Grass\", \"all/Normal/---\", \"all/Normal/Fighting\", \"all/Water/Grass\", \"all/Normal/---\", \"all/Fighting/Steel\", \"all/Fighting/Steel\", \"all/Water/Grass\", \"all/Psychic/Flying\", \"all/Water/---\", \"all/Psychic/Ghost\", \"all/Rock/Psychic\", \"all/Grass/---\", \"all/Water/---\", \"all/Electric/---\", \"all/Electric/---\", \"all/Rock/---\", \"all/Rock/---\", \"all/Rock/---\", \"all/Fighting/---\", \"all/Fighting/---\", \"all/Fighting/---\", \"all/Fire/---\", \"all/Fire/Rock\", \"all/Steel/Fairy\", \"all/Water/---\", \"all/Fire/---\", \"all/Fire/---\", \"all/Electric/Steel\", \"all/Electric/Steel\", \"all/Electric/Steel\", \"all/Fighting/---\", \"all/Dark/Psychic\", \"all/Ice/Ground\", \"all/Water/---\", \"all/Dark/Flying\", \"all/Electric/---\", \"all/Electric/---\", \"all/Fighting/---\", \"all/Water/Flying\", \"all/Water/Flying\", \"all/Grass/---\", \"all/Poison/Water\", \"all/Electric/---\", \"all/Water/Fairy\", \"all/Ground/---\", \"all/Fire/Ghost\", \"all/Fighting/Ghost\", \"all/Water/Ground\", \"all/Bug/Flying\", \"all/Steel/Fairy\", \"all/Steel/Fairy\", \"all/Fighting/Psychic\", \"all/Fighting/Psychic\", \"all/Fighting/Psychic\", \"all/Grass/---\", \"all/Steel/---\", \"all/Normal/Psychic\", \"all/Normal/Fighting\", \"all/Steel/---\", \"all/Psychic/---\", \"all/Psychic/---\", \"all/Normal/---\", \"all/Dark/---\", \"all/Steel/---\", \"all/Psychic/---\", \"all/Steel/Psychic\", \"all/Steel/Psychic\", \"all/Steel/Psychic\", \"all/Bug/---\", \"all/Psychic/---\", \"all/Psychic/---\", \"all/Psychic/Fighting\", \"all/Psychic/---\", \"all/Fighting/---\", \"all/Fighting/---\", \"all/Dark/---\", \"all/Fairy/---\", \"all/Water/---\", \"all/Normal/---\", \"all/Psychic/Fairy\", \"all/Ghost/Fairy\", \"all/Normal/---\", \"all/Rock/Flying\", \"all/Rock/Flying\", \"all/Electric/---\", \"all/Ghost/---\", \"all/Ghost/---\", \"all/Fire/Flying\", \"all/Fire/Fighting\", \"all/Grass/Fairy\", \"all/Dark/Fairy\", \"all/Electric/Dark\", \"all/Electric/Dark\", \"all/Bug/Flying\", \"all/Psychic/Fairy\", \"all/Psychic/Ice\", \"all/Psychic/Ice\", \"all/Ground/---\", \"all/Water/---\", \"all/Ground/---\", \"all/Poison/---\", \"all/Poison/Dark\", \"all/Normal/---\", \"all/Psychic/---\", \"all/Dark/Flying\", \"all/Psychic/---\", \"all/Poison/Dragon\", \"all/Psychic/Flying\", \"all/Psychic/---\", \"all/Psychic/Ghost\", \"all/Psychic/Steel\", \"all/Psychic/Dragon\", \"all/Dark/---\", \"all/Poison/Ground\", \"all/Poison/Ground\", \"all/Poison/---\", \"all/Poison/---\", \"all/Poison/---\", \"all/Poison/---\", \"all/Rock/Poison\", \"all/Bug/Ground\", \"all/Fire/---\", \"all/Ice/Fairy\", \"all/Bug/Flying\", \"all/Normal/Flying\", \"all/Flying/Dragon\", \"all/Flying/Dragon\", \"all/Rock/---\", \"all/Fire/Ground\", \"all/Grass/Dark\", \"all/Dark/Normal\", \"all/Water/---\", \"all/Grass/Poison\", \"all/Rock/Water\", \"all/Rock/Water\", \"all/Rock/Ground\", \"all/Normal/Psychic\", \"all/Bug/Psychic\", \"all/Fire/Flying\", \"all/Psychic/Flying\", \"all/Electric/Flying\", \"all/Ghost/Flying\", \"all/Water/---\", \"all/Electric/---\", \"all/Water/Dragon\", \"all/Ghost/Ground\", \"all/Water/Ground\", \"all/Fighting/---\", \"all/Fighting/Dark\", \"all/Water/---\", \"all/Grass/---\", \"all/Fire/---\", \"all/Bug/Grass\", \"all/Bug/Grass\", \"all/Fighting/---\", \"all/Normal/---\", \"all/Dark/Steel\", \"all/Water/Flying\", \"all/Steel/---\", \"all/Normal/---\", \"all/Dark/---\", \"all/Grass/---\", \"all/Ground/---\", \"all/Ghost/Grass\", \"all/Bug/Fighting\", \"all/Water/---\", \"all/Electric/---\", \"all/Normal/Flying\", \"all/Normal/Flying\", \"all/Normal/Flying\", \"all/Normal/Flying\", \"all/Normal/Flying\", \"all/Fire/Fighting\", \"all/Electric/---\", \"all/Electric/---\", \"all/Normal/Flying\", \"all/Ice/Ground\", \"all/Electric/---\", \"all/Bug/---\", \"all/Bug/---\", \"all/Bug/Flying\", \"all/Water/---\", \"all/Electric/---\", \"all/Poison/---\", \"all/Water/---\", \"all/Water/---\", \"all/Water/---\", \"all/Water/Fighting\", \"all/Ghost/---\", \"all/Fire/---\", \"all/Psychic/---\", \"all/Dark/---\", \"all/Water/---\", \"all/Normal/---\", \"all/Normal/---\", \"all/Normal/---\", \"all/Water/Fairy\", \"all/Fighting/---\", \"all/Water/---\", \"all/Rock/Steel\", \"all/Water/---\", \"all/Ghost/Grass\", \"all/Ghost/Grass\", \"all/Ghost/Grass\", \"all/Ghost/Grass\", \"all/Rock/Ground\", \"all/Dark/---\", \"all/Normal/---\", \"all/Fire/Normal\", \"all/Water/---\", \"all/Water/Ground\", \"all/Fire/---\", \"all/Grass/---\", \"all/Water/Poison\", \"all/Fire/---\", \"all/Electric/---\", \"all/Electric/Psychic\", \"all/Electric/---\", \"all/Psychic/Fairy\", \"all/Rock/---\", \"all/Fire/---\", \"all/Psychic/Fairy\", \"all/Normal/---\", \"all/Dark/Normal\", \"all/Normal/---\", \"all/Dark/Normal\", \"all/Dragon/Flying\", \"all/Dragon/Flying\", \"all/Ice/---\", \"all/Normal/---\", \"all/Rock/---\", \"all/Steel/---\", \"all/Water/Rock\", \"all/Water/---\", \"all/Dragon/Fire\", \"all/Psychic/---\", \"all/Ground/Rock\", \"all/Ground/Rock\", \"all/Ground/Rock\", \"all/Bug/Fairy\", \"all/Grass/---\", \"all/Fighting/---\", \"all/Rock/---\", \"all/Rock/---\", \"all/Rock/---\", \"all/Rock/---\", \"all/Flying/---\", \"all/Grass/Poison\", \"all/Grass/Poison\", \"all/Electric/Ghost\", \"all/Electric/Flying\", \"all/Electric/Ice\", \"all/Electric/Fire\", \"all/Electric/Grass\", \"all/Electric/Water\", \"all/Grass/Flying\", \"all/Normal/Flying\", \"all/Ground/Ghost\", \"all/Dark/Ghost\", \"all/Dark/Ghost\", \"all/Dragon/Flying\", \"all/Dragon/Flying\", \"all/Poison/Fire\", \"all/Poison/Fire\", \"all/Water/---\", \"all/Ground/---\", \"all/Ground/Dark\", \"all/Ground/---\", \"all/Ice/Steel\", \"all/Ground/---\", \"all/Ice/Steel\", \"all/Ghost/Ground\", \"all/Fighting/---\", \"all/Normal/Grass\", \"all/Bug/---\", \"all/Grass/---\", \"all/Grass/Dragon\", \"all/Bug/Steel\", \"all/Bug/Steel\", \"all/Bug/Poison\", \"all/Fire/---\", \"all/Dark/Fighting\", \"all/Dark/Fighting\", \"all/Bug/Flying\", \"all/Water/---\", \"all/Water/---\", \"all/Ice/Water\", \"all/Grass/---\", \"all/Water/---\", \"all/Water/Ground\", \"all/Normal/---\", \"all/Grass/---\", \"all/Grass/---\", \"all/Poison/---\", \"all/Bug/Grass\", \"all/Water/Dark\", \"all/Water/Dark\", \"all/Grass/---\", \"all/Grass/Flying\", \"all/Bug/Ghost\", \"all/Dragon/---\", \"all/Water/---\", \"all/Water/---\", \"all/Bug/---\", \"all/Rock/Steel\", \"all/Grass/Dark\", \"all/Grass/Fairy\", \"all/Electric/---\", \"all/Grass/---\", \"all/Bug/Rock\", \"all/Ghost/---\", \"all/Psychic/Flying\", \"all/Bug/---\", \"all/Ground/---\", \"all/Normal/---\", \"all/Water/---\", \"all/Grass/---\", \"all/Fire/---\", \"all/Ghost/---\", \"all/Fighting/---\", \"all/Fire/Bug\", \"all/Steel/Flying\", \"all/Grass/---\", \"all/Grass/Flying\", \"all/Normal/---\", \"all/Poison/Bug\", \"all/Poison/Water\", \"all/Poison/Dark\", \"all/Normal/---\", \"all/Normal/---\", \"all/Normal/---\", \"all/Dragon/---\", \"all/Water/Psychic\", \"all/Poison/Psychic\", \"all/Water/Psychic\", \"all/Water/Psychic\", \"all/Water/Psychic\", \"all/Psychic/---\", \"all/Fire/---\", \"all/Fairy/---\", \"all/Normal/---\", \"all/Ice/Psychic\", \"all/Dark/Ice\", \"all/Grass/---\", \"all/Ice/Bug\", \"all/Normal/---\", \"all/Ice/---\", \"all/Grass/Ice\", \"all/Fairy/---\", \"all/Water/---\", \"all/Psychic/Steel\", \"all/Psychic/---\", \"all/Rock/Psychic\", \"all/Normal/Flying\", \"all/Bug/---\", \"all/Ice/Water\", \"all/Bug/Poison\", \"all/Normal/---\", \"all/Ghost/Dark\", \"all/Psychic/---\", \"all/Fairy/---\", \"all/Water/---\", \"all/Rock/Steel\", \"all/Normal/---\", \"all/Normal/Flying\", \"all/Normal/Flying\", \"all/Normal/Flying\", \"all/Water/Psychic\", \"all/Water/---\", \"all/Steel/Ground\", \"all/Steel/Ground\", \"all/Grass/---\", \"all/Rock/---\", \"all/Normal/---\", \"all/Normal/Fighting\", \"all/Ground/Electric\", \"all/Ground/Steel\", \"all/Poison/Dark\", \"all/Rock/---\", \"all/Water/---\", \"all/Grass/---\", \"all/Grass/---\", \"all/Bug/Water\", \"all/Normal/Flying\", \"all/Bug/Grass\", \"all/Poison/---\", \"all/Water/Ground\", \"all/Water/Ground\", \"all/Water/Flying\", \"all/Normal/Flying\", \"all/Ice/Ground\", \"all/Fairy/---\", \"all/Psychic/Flying\", \"all/Fairy/---\", \"all/Normal/Flying\", \"all/Fire/Flying\", \"all/Grass/---\", \"all/Grass/---\", \"all/Grass/Fairy\", \"all/Water/Fairy\", \"all/Electric/Fairy\", \"all/Psychic/Fairy\", \"all/Normal/---\", \"all/Normal/---\", \"all/Water/Poison\", \"all/Water/Poison\", \"all/Fire/---\", \"all/Rock/Fighting\", \"all/Dark/---\", \"all/Fighting/---\", \"all/Electric/Flying\", \"all/Electric/Flying\", \"all/Grass/---\", \"all/Fighting/---\", \"all/Water/Rock\", \"all/Electric/Steel\", \"all/Fairy/Flying\", \"all/Fairy/---\", \"all/Fairy/Flying\", \"all/Fire/---\", \"all/Fire/---\", \"all/Flying/---\", \"all/Flying/---\", \"all/Fire/---\", \"all/Grass/Ground\", \"all/Water/---\", \"all/Normal/Flying\", \"all/Poison/Water\", \"all/Electric/Poison\", \"all/Poison/Fighting\", \"all/Electric/Poison\", \"all/Electric/Poison\", \"all/Normal/Flying\", \"all/Ground/---\", \"all/Grass/---\", \"all/Ghost/Grass\", \"all/Grass/Flying\", \"all/Poison/---\", \"all/Normal/Flying\", \"all/Grass/---\", \"all/Fire/Dragon\", \"all/Grass/---\", \"all/Water/---\", \"all/Electric/---\", \"all/Normal/---\", \"all/Fire/---\", \"all/Rock/Dark\", \"all/Rock/Dark\", \"all/Rock/Dragon\", \"all/Fighting/---\", \"all/Rock/Dragon\", \"all/Dark/---\", \"all/Normal/Flying\", \"all/Psychic/---\", \"all/Normal/---\", \"all/Fighting/Water\", \"all/Fighting/Dark\", \"all/Psychic/---\", \"all/Ice/---\", \"all/Ice/---\", \"all/Ice/---\", \"all/Water/---\", \"all/Bug/Poison\", \"all/Bug/Poison\", \"all/Bug/Poison\", \"all/Grass/Poison\", \"all/Grass/Poison\", \"all/Bug/Flying\", \"all/Ground/Dragon\", \"all/Psychic/Fire\", \"all/Grass/Poison\", \"all/Normal/---\", \"all/Bug/Electric\", \"all/Grass/Poison\", \"all/Grass/Fighting\", \"all/Bug/Flying\", \"all/Bug/---\", \"all/Fire/Water\", \"all/Bug/Fire\", \"all/Electric/---\", \"all/Dark/Flying\", \"all/Fire/---\", \"all/Ice/---\", \"all/Water/---\", \"all/Water/---\", \"all/Ice/Water\", \"all/Water/---\", \"all/Normal/---\", \"all/Dark/Ice\", \"all/Bug/Poison\", \"all/Grass/Poison\", \"all/Poison/---\", \"all/Poison/Fairy\", \"all/Grass/Fairy\", \"all/Bug/Poison\", \"all/Water/Ground\", \"all/Normal/---\", \"all/Normal/Fairy\", \"all/Bug/Water\", \"all/Water/Flying\", \"all/Water/---\", \"all/Water/---\", \"all/Psychic/---\", \"all/Psychic/Flying\", \"all/Normal/---\", \"all/Water/Ground\", \"all/Bug/Grass\", \"all/Bug/Ground\", \"all/Bug/Steel\", \"all/Bug/---\", \"all/Psychic/---\", \"all/Psychic/Flying\", \"all/Fairy/---\", \"all/Electric/---\", \"all/Ghost/---\", \"all/Ground/Ghost\", \"all/Electric/---\", \"all/Bug/Flying\", \"all/Bug/Flying\", \"all/Normal/---\", \"all/Dark/Flying\", \"all/Fairy/Steel\", \"all/Fairy/---\", \"all/Fighting/Steel\", \"all/Fighting/---\", \"all/Normal/---\", \"all/Electric/Flying\", \"all/Dark/Grass\", \"all/Electric/---\", \"all/Dragon/Electric\", \"all/Electric/---\", \"all/Normal/---\", \"all/Dark/Normal\", \"all/Dark/---\", \"all/Dark/---\", \"all/Poison/Flying\", \"all/Dark/Dragon\", \"all/Dragon/Ground\", \"all/Dragon/Ground\", \"all/Dragon/Ground\", \"all/Bug\", \"all/Dark\", \"all/Dragon\", \"all/Electric\", \"all/Fairy\", \"all/Fighting\", \"all/Fire\", \"all/Flying\", \"all/Ghost\", \"all/Grass\", \"all/Ground\", \"all/Ice\", \"all/Normal\", \"all/Poison\", \"all/Psychic\", \"all/Rock\", \"all/Steel\", \"all/Water\", \"all/Fire\", \"all/Ice\", \"all/Poison\", \"all/Rock\", \"all/Water\", \"all/Electric\", \"all/Fighting\", \"all/Fire\", \"all/Ghost\", \"all/Grass\", \"all/Ground\", \"all/Poison\", \"all/Psychic\", \"all/Rock\", \"all/Water\", \"all/Dark\", \"all/Electric\", \"all/Fire\", \"all/Flying\", \"all/Ghost\", \"all/Grass\", \"all/Ground\", \"all/Normal\", \"all/Poison\", \"all/Psychic\", \"all/Rock\", \"all/Steel\", \"all/Water\", \"all/Bug\", \"all/Dragon\", \"all/Ground\", \"all/Rock\", \"all/Water\", \"all/Bug\", \"all/Dark\", \"all/Dragon\", \"all/Electric\", \"all/Ghost\", \"all/Grass\", \"all/Ice\", \"all/Normal\", \"all/Poison\", \"all/Psychic\", \"all/Rock\", \"all/Steel\", \"all/Water\", \"all/Bug\", \"all/Dark\", \"all/Dragon\", \"all/Fire\", \"all/Grass\", \"all/Normal\", \"all/Poison\", \"all/Psychic\", \"all/Rock\", \"all/Steel\", \"all/Water\", \"all/Bug\", \"all/Dark\", \"all/Dragon\", \"all/Electric\", \"all/Ghost\", \"all/Ground\", \"all/Ice\", \"all/Poison\", \"all/Psychic\", \"all/Rock\", \"all/Bug\", \"all/Dark\", \"all/Dragon\", \"all/Electric\", \"all/Fairy\", \"all/Fighting\", \"all/Fire\", \"all/Ghost\", \"all/Grass\", \"all/Ground\", \"all/Ice\", \"all/Normal\", \"all/Poison\", \"all/Psychic\", \"all/Rock\", \"all/Steel\", \"all/Water\", \"all/Bug\", \"all/Dark\", \"all/Dragon\", \"all/Electric\", \"all/Fighting\", \"all/Fire\", \"all/Grass\", \"all/Ground\", \"all/Ice\", \"all/Psychic\", \"all/Steel\", \"all/Water\", \"all/Bug\", \"all/Dark\", \"all/Electric\", \"all/Ghost\", \"all/Normal\", \"all/Psychic\", \"all/Rock\", \"all/Water\", \"all/Bug\", \"all/Dragon\", \"all/Fire\", \"all/Ghost\", \"all/Grass\", \"all/Ice\", \"all/Normal\", \"all/Poison\", \"all/Rock\", \"all/Steel\", \"all/Water\", \"all/Dark\", \"all/Dragon\", \"all/Electric\", \"all/Fighting\", \"all/Grass\", \"all/Psychic\", \"all/Rock\", \"all/Water\", \"all/Dark\", \"all/Electric\", \"all/Fire\", \"all/Psychic\", \"all/Bug\", \"all/Electric\", \"all/Ghost\", \"all/Grass\", \"all/Rock\", \"all/Water\", \"all/Bug\", \"all/Dark\", \"all/Dragon\", \"all/Electric\", \"all/Fighting\", \"all/Fire\", \"all/Grass\", \"all/Ground\", \"all/Ice\", \"all/Normal\", \"all/Poison\", \"all/Rock\", \"all/Steel\", \"all/Water\", \"all/Bug\", \"all/Fire\", \"all/Ground\", \"all/Steel\", \"all/Water\", \"all/Bug\", \"all/Dark\", \"all/Electric\", \"all/Fairy\", \"all/Fighting\", \"all/Fire\", \"all/Flying\", \"all/Grass\", \"all/Ground\", \"all/Ice\", \"all/Psychic\", \"all/Rock\", \"all/Water\", \"all/Bug\", \"all/Electric\", \"all/Fighting\", \"all/Fire\", \"all/Flying\", \"all/Ice\", \"all/Normal\", \"all/Poison\", \"all/Rock\", \"all\", \"all\", \"all\", \"all\", \"all\", \"all\", \"all\", \"all\", \"all\", \"all\", \"all\", \"all\", \"all\", \"all\", \"all\", \"all\", \"all\", \"all\", \"\"], \"type\": \"treemap\", \"values\": [1, 1, 1, 1, 1, 1, 1, 1, 1, 1, 1, 1, 1, 1, 1, 1, 1, 1, 1, 1, 1, 1, 1, 1, 1, 1, 1, 1, 1, 1, 1, 1, 1, 1, 1, 1, 1, 1, 1, 1, 1, 1, 1, 1, 1, 1, 1, 1, 1, 1, 1, 1, 1, 1, 1, 1, 1, 1, 1, 1, 1, 1, 1, 1, 1, 1, 1, 1, 1, 1, 1, 1, 1, 1, 1, 1, 1, 1, 1, 1, 1, 1, 1, 1, 1, 1, 1, 1, 1, 1, 1, 1, 1, 1, 1, 1, 1, 1, 1, 1, 1, 1, 1, 1, 1, 1, 1, 1, 1, 1, 1, 1, 1, 1, 1, 1, 1, 1, 1, 1, 1, 1, 1, 1, 1, 1, 1, 1, 1, 1, 1, 1, 1, 1, 1, 1, 1, 1, 1, 1, 1, 1, 1, 1, 1, 1, 1, 1, 1, 1, 1, 1, 1, 1, 1, 1, 1, 1, 1, 1, 1, 1, 1, 1, 1, 1, 1, 1, 1, 1, 1, 1, 1, 1, 1, 1, 1, 1, 1, 1, 1, 1, 1, 1, 1, 1, 1, 1, 1, 1, 1, 1, 1, 1, 1, 1, 1, 1, 1, 1, 1, 1, 1, 1, 1, 1, 1, 1, 1, 1, 1, 1, 1, 1, 1, 1, 1, 1, 1, 1, 1, 1, 1, 1, 1, 1, 1, 1, 1, 1, 1, 1, 1, 1, 1, 1, 1, 1, 1, 1, 1, 1, 1, 1, 1, 1, 1, 1, 1, 1, 1, 1, 1, 1, 1, 1, 1, 1, 1, 1, 1, 1, 1, 1, 1, 1, 1, 1, 1, 1, 1, 1, 1, 1, 1, 1, 1, 1, 1, 1, 1, 1, 1, 1, 1, 1, 1, 1, 1, 1, 1, 1, 1, 1, 1, 1, 1, 1, 1, 1, 1, 1, 1, 1, 1, 1, 1, 1, 1, 1, 1, 1, 1, 1, 1, 1, 1, 1, 1, 1, 1, 1, 1, 1, 1, 1, 1, 1, 1, 1, 1, 1, 1, 1, 1, 1, 1, 1, 1, 1, 1, 1, 1, 1, 1, 1, 1, 1, 1, 1, 1, 1, 1, 1, 1, 1, 1, 1, 1, 1, 1, 1, 1, 1, 1, 1, 1, 1, 1, 1, 1, 1, 1, 1, 1, 1, 1, 1, 1, 1, 1, 1, 1, 1, 1, 1, 1, 1, 1, 1, 1, 1, 1, 1, 1, 1, 1, 1, 1, 1, 1, 1, 1, 1, 1, 1, 1, 1, 1, 1, 1, 1, 1, 1, 1, 1, 1, 1, 1, 1, 1, 1, 1, 1, 1, 1, 1, 1, 1, 1, 1, 1, 1, 1, 1, 1, 1, 1, 1, 1, 1, 1, 1, 1, 1, 1, 1, 1, 1, 1, 1, 1, 1, 1, 1, 1, 1, 1, 1, 1, 1, 1, 1, 1, 1, 1, 1, 1, 1, 1, 1, 1, 1, 1, 1, 1, 1, 1, 1, 1, 1, 1, 1, 1, 1, 1, 1, 1, 1, 1, 1, 1, 1, 1, 1, 1, 1, 1, 1, 1, 1, 1, 1, 1, 1, 1, 1, 1, 1, 1, 1, 1, 1, 1, 1, 1, 1, 1, 1, 1, 1, 1, 1, 1, 1, 1, 1, 1, 1, 1, 1, 1, 1, 1, 1, 1, 1, 1, 1, 1, 1, 1, 1, 1, 1, 1, 1, 1, 1, 1, 1, 1, 1, 1, 1, 1, 1, 1, 1, 1, 1, 1, 1, 1, 1, 1, 1, 1, 1, 1, 1, 1, 1, 1, 1, 1, 1, 1, 1, 1, 1, 1, 1, 1, 1, 1, 1, 1, 1, 1, 1, 1, 1, 1, 1, 1, 1, 1, 1, 1, 1, 1, 1, 1, 1, 1, 1, 1, 1, 1, 1, 1, 1, 1, 1, 1, 1, 1, 1, 1, 1, 1, 1, 1, 1, 1, 1, 1, 1, 1, 1, 1, 1, 1, 1, 1, 1, 1, 1, 1, 1, 1, 1, 1, 1, 1, 1, 1, 1, 1, 1, 1, 1, 1, 1, 1, 1, 1, 1, 1, 1, 1, 1, 1, 1, 1, 1, 1, 1, 1, 1, 1, 1, 1, 1, 1, 1, 1, 1, 1, 1, 1, 1, 1, 1, 1, 1, 1, 1, 1, 1, 1, 1, 1, 1, 1, 1, 1, 1, 1, 1, 1, 1, 1, 1, 1, 1, 1, 1, 1, 1, 1, 1, 1, 1, 1, 1, 1, 1, 1, 1, 1, 1, 1, 1, 1, 1, 1, 1, 1, 1, 1, 1, 1, 1, 1, 1, 1, 1, 1, 1, 1, 1, 1, 1, 1, 1, 1, 1, 1, 1, 1, 1, 1, 1, 1, 1, 1, 1, 1, 1, 1, 1, 1, 1, 1, 1, 1, 1, 1, 1, 1, 1, 1, 1, 1, 1, 1, 1, 1, 1, 1, 1, 1, 1, 1, 1, 1, 1, 1, 1, 1, 1, 1, 1, 1, 1, 1, 1, 1, 1, 1, 1, 1, 1, 1, 1, 1, 1, 1, 1, 1, 1, 1, 1, 1, 1, 1, 1, 1, 1, 1, 1, 1, 1, 1, 1, 1, 1, 1, 1, 1, 1, 1, 1, 1, 1, 1, 1, 1, 1, 1, 1, 1, 1, 1, 1, 1, 1, 1, 1, 1, 1, 1, 1, 1, 1, 1, 1, 1, 1, 1, 1, 1, 1, 1, 1, 1, 1, 1, 1, 1, 1, 1, 1, 1, 1, 1, 1, 1, 1, 1, 1, 1, 1, 1, 1, 1, 1, 1, 1, 1, 1, 1, 1, 1, 1, 1, 1, 1, 1, 1, 1, 1, 1, 1, 1, 1, 1, 1, 1, 1, 1, 1, 1, 1, 1, 1, 1, 1, 1, 1, 1, 1, 1, 1, 1, 1, 1, 1, 1, 1, 1, 1, 1, 1, 1, 1, 1, 1, 1, 1, 1, 1, 1, 1, 1, 1, 1, 1, 1, 1, 1, 1, 1, 1, 1, 1, 1, 1, 1, 1, 1, 1, 1, 1, 1, 1, 1, 1, 1, 1, 1, 1, 1, 1, 1, 1, 1, 1, 1, 1, 1, 1, 1, 1, 1, 1, 1, 1, 1, 1, 1, 1, 1, 1, 1, 1, 1, 1, 1, 1, 1, 1, 1, 1, 1, 1, 1, 1, 1, 1, 1, 1, 1, 1, 1, 1, 1, 1, 1, 1, 1, 1, 1, 1, 1, 1, 1, 1, 1, 1, 1, 1, 19, 14, 12, 33, 19, 29, 34, 4, 14, 43, 17, 19, 71, 16, 45, 16, 11, 72, 2, 2, 1, 2, 2, 2, 2, 1, 1, 3, 3, 5, 1, 2, 7, 4, 2, 2, 2, 2, 5, 2, 1, 4, 1, 2, 2, 3, 4, 1, 1, 3, 2, 2, 3, 1, 2, 1, 5, 1, 5, 1, 9, 3, 4, 4, 4, 2, 2, 7, 3, 4, 2, 3, 1, 1, 3, 2, 3, 1, 1, 3, 1, 1, 2, 1, 2, 14, 5, 6, 6, 2, 1, 7, 3, 7, 4, 2, 27, 3, 7, 6, 2, 7, 1, 2, 3, 1, 1, 2, 1, 4, 1, 3, 4, 2, 6, 1, 1, 11, 2, 1, 2, 3, 2, 7, 3, 2, 1, 3, 1, 2, 6, 2, 10, 2, 3, 2, 1, 3, 2, 2, 4, 5, 2, 2, 2, 12, 3, 4, 15, 1, 3, 2, 2, 4, 1, 3, 2, 2, 2, 2, 3, 1, 2, 7, 6, 3, 1, 3, 3, 5, 7, 2, 4, 1, 3, 1, 1, 3, 4, 2, 2, 4, 1, 3, 1, 1, 1, 1, 3, 1, 3, 6, 81, 45, 40, 61, 22, 41, 65, 8, 41, 91, 41, 36, 115, 40, 77, 60, 36, 134, 1034]}],\n",
       "                        {\"legend\": {\"tracegroupgap\": 0}, \"margin\": {\"t\": 60}, \"template\": {\"data\": {\"bar\": [{\"error_x\": {\"color\": \"#2a3f5f\"}, \"error_y\": {\"color\": \"#2a3f5f\"}, \"marker\": {\"line\": {\"color\": \"#E5ECF6\", \"width\": 0.5}}, \"type\": \"bar\"}], \"barpolar\": [{\"marker\": {\"line\": {\"color\": \"#E5ECF6\", \"width\": 0.5}}, \"type\": \"barpolar\"}], \"carpet\": [{\"aaxis\": {\"endlinecolor\": \"#2a3f5f\", \"gridcolor\": \"white\", \"linecolor\": \"white\", \"minorgridcolor\": \"white\", \"startlinecolor\": \"#2a3f5f\"}, \"baxis\": {\"endlinecolor\": \"#2a3f5f\", \"gridcolor\": \"white\", \"linecolor\": \"white\", \"minorgridcolor\": \"white\", \"startlinecolor\": \"#2a3f5f\"}, \"type\": \"carpet\"}], \"choropleth\": [{\"colorbar\": {\"outlinewidth\": 0, \"ticks\": \"\"}, \"type\": \"choropleth\"}], \"contour\": [{\"colorbar\": {\"outlinewidth\": 0, \"ticks\": \"\"}, \"colorscale\": [[0.0, \"#0d0887\"], [0.1111111111111111, \"#46039f\"], [0.2222222222222222, \"#7201a8\"], [0.3333333333333333, \"#9c179e\"], [0.4444444444444444, \"#bd3786\"], [0.5555555555555556, \"#d8576b\"], [0.6666666666666666, \"#ed7953\"], [0.7777777777777778, \"#fb9f3a\"], [0.8888888888888888, \"#fdca26\"], [1.0, \"#f0f921\"]], \"type\": \"contour\"}], \"contourcarpet\": [{\"colorbar\": {\"outlinewidth\": 0, \"ticks\": \"\"}, \"type\": \"contourcarpet\"}], \"heatmap\": [{\"colorbar\": {\"outlinewidth\": 0, \"ticks\": \"\"}, \"colorscale\": [[0.0, \"#0d0887\"], [0.1111111111111111, \"#46039f\"], [0.2222222222222222, \"#7201a8\"], [0.3333333333333333, \"#9c179e\"], [0.4444444444444444, \"#bd3786\"], [0.5555555555555556, \"#d8576b\"], [0.6666666666666666, \"#ed7953\"], [0.7777777777777778, \"#fb9f3a\"], [0.8888888888888888, \"#fdca26\"], [1.0, \"#f0f921\"]], \"type\": \"heatmap\"}], \"heatmapgl\": [{\"colorbar\": {\"outlinewidth\": 0, \"ticks\": \"\"}, \"colorscale\": [[0.0, \"#0d0887\"], [0.1111111111111111, \"#46039f\"], [0.2222222222222222, \"#7201a8\"], [0.3333333333333333, \"#9c179e\"], [0.4444444444444444, \"#bd3786\"], [0.5555555555555556, \"#d8576b\"], [0.6666666666666666, \"#ed7953\"], [0.7777777777777778, \"#fb9f3a\"], [0.8888888888888888, \"#fdca26\"], [1.0, \"#f0f921\"]], \"type\": \"heatmapgl\"}], \"histogram\": [{\"marker\": {\"colorbar\": {\"outlinewidth\": 0, \"ticks\": \"\"}}, \"type\": \"histogram\"}], \"histogram2d\": [{\"colorbar\": {\"outlinewidth\": 0, \"ticks\": \"\"}, \"colorscale\": [[0.0, \"#0d0887\"], [0.1111111111111111, \"#46039f\"], [0.2222222222222222, \"#7201a8\"], [0.3333333333333333, \"#9c179e\"], [0.4444444444444444, \"#bd3786\"], [0.5555555555555556, \"#d8576b\"], [0.6666666666666666, \"#ed7953\"], [0.7777777777777778, \"#fb9f3a\"], [0.8888888888888888, \"#fdca26\"], [1.0, \"#f0f921\"]], \"type\": \"histogram2d\"}], \"histogram2dcontour\": [{\"colorbar\": {\"outlinewidth\": 0, \"ticks\": \"\"}, \"colorscale\": [[0.0, \"#0d0887\"], [0.1111111111111111, \"#46039f\"], [0.2222222222222222, \"#7201a8\"], [0.3333333333333333, \"#9c179e\"], [0.4444444444444444, \"#bd3786\"], [0.5555555555555556, \"#d8576b\"], [0.6666666666666666, \"#ed7953\"], [0.7777777777777778, \"#fb9f3a\"], [0.8888888888888888, \"#fdca26\"], [1.0, \"#f0f921\"]], \"type\": \"histogram2dcontour\"}], \"mesh3d\": [{\"colorbar\": {\"outlinewidth\": 0, \"ticks\": \"\"}, \"type\": \"mesh3d\"}], \"parcoords\": [{\"line\": {\"colorbar\": {\"outlinewidth\": 0, \"ticks\": \"\"}}, \"type\": \"parcoords\"}], \"pie\": [{\"automargin\": true, \"type\": \"pie\"}], \"scatter\": [{\"marker\": {\"colorbar\": {\"outlinewidth\": 0, \"ticks\": \"\"}}, \"type\": \"scatter\"}], \"scatter3d\": [{\"line\": {\"colorbar\": {\"outlinewidth\": 0, \"ticks\": \"\"}}, \"marker\": {\"colorbar\": {\"outlinewidth\": 0, \"ticks\": \"\"}}, \"type\": \"scatter3d\"}], \"scattercarpet\": [{\"marker\": {\"colorbar\": {\"outlinewidth\": 0, \"ticks\": \"\"}}, \"type\": \"scattercarpet\"}], \"scattergeo\": [{\"marker\": {\"colorbar\": {\"outlinewidth\": 0, \"ticks\": \"\"}}, \"type\": \"scattergeo\"}], \"scattergl\": [{\"marker\": {\"colorbar\": {\"outlinewidth\": 0, \"ticks\": \"\"}}, \"type\": \"scattergl\"}], \"scattermapbox\": [{\"marker\": {\"colorbar\": {\"outlinewidth\": 0, \"ticks\": \"\"}}, \"type\": \"scattermapbox\"}], \"scatterpolar\": [{\"marker\": {\"colorbar\": {\"outlinewidth\": 0, \"ticks\": \"\"}}, \"type\": \"scatterpolar\"}], \"scatterpolargl\": [{\"marker\": {\"colorbar\": {\"outlinewidth\": 0, \"ticks\": \"\"}}, \"type\": \"scatterpolargl\"}], \"scatterternary\": [{\"marker\": {\"colorbar\": {\"outlinewidth\": 0, \"ticks\": \"\"}}, \"type\": \"scatterternary\"}], \"surface\": [{\"colorbar\": {\"outlinewidth\": 0, \"ticks\": \"\"}, \"colorscale\": [[0.0, \"#0d0887\"], [0.1111111111111111, \"#46039f\"], [0.2222222222222222, \"#7201a8\"], [0.3333333333333333, \"#9c179e\"], [0.4444444444444444, \"#bd3786\"], [0.5555555555555556, \"#d8576b\"], [0.6666666666666666, \"#ed7953\"], [0.7777777777777778, \"#fb9f3a\"], [0.8888888888888888, \"#fdca26\"], [1.0, \"#f0f921\"]], \"type\": \"surface\"}], \"table\": [{\"cells\": {\"fill\": {\"color\": \"#EBF0F8\"}, \"line\": {\"color\": \"white\"}}, \"header\": {\"fill\": {\"color\": \"#C8D4E3\"}, \"line\": {\"color\": \"white\"}}, \"type\": \"table\"}]}, \"layout\": {\"annotationdefaults\": {\"arrowcolor\": \"#2a3f5f\", \"arrowhead\": 0, \"arrowwidth\": 1}, \"coloraxis\": {\"colorbar\": {\"outlinewidth\": 0, \"ticks\": \"\"}}, \"colorscale\": {\"diverging\": [[0, \"#8e0152\"], [0.1, \"#c51b7d\"], [0.2, \"#de77ae\"], [0.3, \"#f1b6da\"], [0.4, \"#fde0ef\"], [0.5, \"#f7f7f7\"], [0.6, \"#e6f5d0\"], [0.7, \"#b8e186\"], [0.8, \"#7fbc41\"], [0.9, \"#4d9221\"], [1, \"#276419\"]], \"sequential\": [[0.0, \"#0d0887\"], [0.1111111111111111, \"#46039f\"], [0.2222222222222222, \"#7201a8\"], [0.3333333333333333, \"#9c179e\"], [0.4444444444444444, \"#bd3786\"], [0.5555555555555556, \"#d8576b\"], [0.6666666666666666, \"#ed7953\"], [0.7777777777777778, \"#fb9f3a\"], [0.8888888888888888, \"#fdca26\"], [1.0, \"#f0f921\"]], \"sequentialminus\": [[0.0, \"#0d0887\"], [0.1111111111111111, \"#46039f\"], [0.2222222222222222, \"#7201a8\"], [0.3333333333333333, \"#9c179e\"], [0.4444444444444444, \"#bd3786\"], [0.5555555555555556, \"#d8576b\"], [0.6666666666666666, \"#ed7953\"], [0.7777777777777778, \"#fb9f3a\"], [0.8888888888888888, \"#fdca26\"], [1.0, \"#f0f921\"]]}, \"colorway\": [\"#636efa\", \"#EF553B\", \"#00cc96\", \"#ab63fa\", \"#FFA15A\", \"#19d3f3\", \"#FF6692\", \"#B6E880\", \"#FF97FF\", \"#FECB52\"], \"font\": {\"color\": \"#2a3f5f\"}, \"geo\": {\"bgcolor\": \"white\", \"lakecolor\": \"white\", \"landcolor\": \"#E5ECF6\", \"showlakes\": true, \"showland\": true, \"subunitcolor\": \"white\"}, \"hoverlabel\": {\"align\": \"left\"}, \"hovermode\": \"closest\", \"mapbox\": {\"style\": \"light\"}, \"paper_bgcolor\": \"white\", \"plot_bgcolor\": \"#E5ECF6\", \"polar\": {\"angularaxis\": {\"gridcolor\": \"white\", \"linecolor\": \"white\", \"ticks\": \"\"}, \"bgcolor\": \"#E5ECF6\", \"radialaxis\": {\"gridcolor\": \"white\", \"linecolor\": \"white\", \"ticks\": \"\"}}, \"scene\": {\"xaxis\": {\"backgroundcolor\": \"#E5ECF6\", \"gridcolor\": \"white\", \"gridwidth\": 2, \"linecolor\": \"white\", \"showbackground\": true, \"ticks\": \"\", \"zerolinecolor\": \"white\"}, \"yaxis\": {\"backgroundcolor\": \"#E5ECF6\", \"gridcolor\": \"white\", \"gridwidth\": 2, \"linecolor\": \"white\", \"showbackground\": true, \"ticks\": \"\", \"zerolinecolor\": \"white\"}, \"zaxis\": {\"backgroundcolor\": \"#E5ECF6\", \"gridcolor\": \"white\", \"gridwidth\": 2, \"linecolor\": \"white\", \"showbackground\": true, \"ticks\": \"\", \"zerolinecolor\": \"white\"}}, \"shapedefaults\": {\"line\": {\"color\": \"#2a3f5f\"}}, \"ternary\": {\"aaxis\": {\"gridcolor\": \"white\", \"linecolor\": \"white\", \"ticks\": \"\"}, \"baxis\": {\"gridcolor\": \"white\", \"linecolor\": \"white\", \"ticks\": \"\"}, \"bgcolor\": \"#E5ECF6\", \"caxis\": {\"gridcolor\": \"white\", \"linecolor\": \"white\", \"ticks\": \"\"}}, \"title\": {\"x\": 0.05}, \"xaxis\": {\"automargin\": true, \"gridcolor\": \"white\", \"linecolor\": \"white\", \"ticks\": \"\", \"title\": {\"standoff\": 15}, \"zerolinecolor\": \"white\", \"zerolinewidth\": 2}, \"yaxis\": {\"automargin\": true, \"gridcolor\": \"white\", \"linecolor\": \"white\", \"ticks\": \"\", \"title\": {\"standoff\": 15}, \"zerolinecolor\": \"white\", \"zerolinewidth\": 2}}}},\n",
       "                        {\"responsive\": true}\n",
       "                    ).then(function(){\n",
       "                            \n",
       "var gd = document.getElementById('4cc626e6-3bad-4f1a-947d-3a2fe7c62bac');\n",
       "var x = new MutationObserver(function (mutations, observer) {{\n",
       "        var display = window.getComputedStyle(gd).display;\n",
       "        if (!display || display === 'none') {{\n",
       "            console.log([gd, 'removed!']);\n",
       "            Plotly.purge(gd);\n",
       "            observer.disconnect();\n",
       "        }}\n",
       "}});\n",
       "\n",
       "// Listen for the removal of the full notebook cells\n",
       "var notebookContainer = gd.closest('#notebook-container');\n",
       "if (notebookContainer) {{\n",
       "    x.observe(notebookContainer, {childList: true});\n",
       "}}\n",
       "\n",
       "// Listen for the clearing of the current output cell\n",
       "var outputEl = gd.closest('.output');\n",
       "if (outputEl) {{\n",
       "    x.observe(outputEl, {childList: true});\n",
       "}}\n",
       "\n",
       "                        })\n",
       "                };\n",
       "                });\n",
       "            </script>\n",
       "        </div>"
      ]
     },
     "metadata": {},
     "output_type": "display_data"
    }
   ],
   "source": [
    "## My attempt at Tree Maps with the pokedex ##\n",
    "df = pokedex\n",
    "df[\"all\"] = \"all\"\n",
    "df[\"count\"] = 1\n",
    "\n",
    "fig = px.treemap(df, path=['all', 'primary', 'secondary', 'name'],\n",
    "                values='count',\n",
    "                color_continuous_scale='RdBu',)\n",
    "fig.show()"
   ]
  },
  {
   "cell_type": "markdown",
   "metadata": {},
   "source": [
    "#### _Spider Chart_\n",
    "\n",
    "I decided to add a Spider chart to the list, to get a better idea of the overall balance of respective pokemons in respective types.  I also saw that plotly had a library for this and wanted to try it out."
   ]
  },
  {
   "cell_type": "code",
   "execution_count": 158,
   "metadata": {},
   "outputs": [
    {
     "data": {
      "text/plain": [
       "'930    Necrozma Dusk Mane Necrozma'"
      ]
     },
     "execution_count": 158,
     "metadata": {},
     "output_type": "execute_result"
    }
   ],
   "source": [
    "idx = 930\n",
    "min_idx, max_idx = 4,10\n",
    "categories = pokedex.columns[min_idx:max_idx]\n",
    "\n",
    "pokemon = pokedex.loc[pokedex.index==idx]\n",
    "pokemon_stats = pokemon[pokemon.columns[min_idx:max_idx]]\n",
    "\n",
    "# pokemon_stats, \n",
    "pokemon.name.to_string()"
   ]
  },
  {
   "cell_type": "code",
   "execution_count": 161,
   "metadata": {},
   "outputs": [
    {
     "data": {
      "application/vnd.plotly.v1+json": {
       "config": {
        "plotlyServerURL": "https://plot.ly"
       },
       "data": [
        {
         "fill": "toself",
         "name": "930    Necrozma Dusk Mane Necrozma",
         "r": [
          97,
          157,
          127,
          113,
          109,
          77
         ],
         "theta": [
          "hp",
          "attack",
          "defense",
          "sp._atk",
          "sp._def",
          "speed"
         ],
         "type": "scatterpolar"
        }
       ],
       "layout": {
        "polar": {
         "radialaxis": {
          "range": [
           0,
           200
          ],
          "visible": true
         }
        },
        "showlegend": false,
        "template": {
         "data": {
          "bar": [
           {
            "error_x": {
             "color": "#2a3f5f"
            },
            "error_y": {
             "color": "#2a3f5f"
            },
            "marker": {
             "line": {
              "color": "#E5ECF6",
              "width": 0.5
             }
            },
            "type": "bar"
           }
          ],
          "barpolar": [
           {
            "marker": {
             "line": {
              "color": "#E5ECF6",
              "width": 0.5
             }
            },
            "type": "barpolar"
           }
          ],
          "carpet": [
           {
            "aaxis": {
             "endlinecolor": "#2a3f5f",
             "gridcolor": "white",
             "linecolor": "white",
             "minorgridcolor": "white",
             "startlinecolor": "#2a3f5f"
            },
            "baxis": {
             "endlinecolor": "#2a3f5f",
             "gridcolor": "white",
             "linecolor": "white",
             "minorgridcolor": "white",
             "startlinecolor": "#2a3f5f"
            },
            "type": "carpet"
           }
          ],
          "choropleth": [
           {
            "colorbar": {
             "outlinewidth": 0,
             "ticks": ""
            },
            "type": "choropleth"
           }
          ],
          "contour": [
           {
            "colorbar": {
             "outlinewidth": 0,
             "ticks": ""
            },
            "colorscale": [
             [
              0,
              "#0d0887"
             ],
             [
              0.1111111111111111,
              "#46039f"
             ],
             [
              0.2222222222222222,
              "#7201a8"
             ],
             [
              0.3333333333333333,
              "#9c179e"
             ],
             [
              0.4444444444444444,
              "#bd3786"
             ],
             [
              0.5555555555555556,
              "#d8576b"
             ],
             [
              0.6666666666666666,
              "#ed7953"
             ],
             [
              0.7777777777777778,
              "#fb9f3a"
             ],
             [
              0.8888888888888888,
              "#fdca26"
             ],
             [
              1,
              "#f0f921"
             ]
            ],
            "type": "contour"
           }
          ],
          "contourcarpet": [
           {
            "colorbar": {
             "outlinewidth": 0,
             "ticks": ""
            },
            "type": "contourcarpet"
           }
          ],
          "heatmap": [
           {
            "colorbar": {
             "outlinewidth": 0,
             "ticks": ""
            },
            "colorscale": [
             [
              0,
              "#0d0887"
             ],
             [
              0.1111111111111111,
              "#46039f"
             ],
             [
              0.2222222222222222,
              "#7201a8"
             ],
             [
              0.3333333333333333,
              "#9c179e"
             ],
             [
              0.4444444444444444,
              "#bd3786"
             ],
             [
              0.5555555555555556,
              "#d8576b"
             ],
             [
              0.6666666666666666,
              "#ed7953"
             ],
             [
              0.7777777777777778,
              "#fb9f3a"
             ],
             [
              0.8888888888888888,
              "#fdca26"
             ],
             [
              1,
              "#f0f921"
             ]
            ],
            "type": "heatmap"
           }
          ],
          "heatmapgl": [
           {
            "colorbar": {
             "outlinewidth": 0,
             "ticks": ""
            },
            "colorscale": [
             [
              0,
              "#0d0887"
             ],
             [
              0.1111111111111111,
              "#46039f"
             ],
             [
              0.2222222222222222,
              "#7201a8"
             ],
             [
              0.3333333333333333,
              "#9c179e"
             ],
             [
              0.4444444444444444,
              "#bd3786"
             ],
             [
              0.5555555555555556,
              "#d8576b"
             ],
             [
              0.6666666666666666,
              "#ed7953"
             ],
             [
              0.7777777777777778,
              "#fb9f3a"
             ],
             [
              0.8888888888888888,
              "#fdca26"
             ],
             [
              1,
              "#f0f921"
             ]
            ],
            "type": "heatmapgl"
           }
          ],
          "histogram": [
           {
            "marker": {
             "colorbar": {
              "outlinewidth": 0,
              "ticks": ""
             }
            },
            "type": "histogram"
           }
          ],
          "histogram2d": [
           {
            "colorbar": {
             "outlinewidth": 0,
             "ticks": ""
            },
            "colorscale": [
             [
              0,
              "#0d0887"
             ],
             [
              0.1111111111111111,
              "#46039f"
             ],
             [
              0.2222222222222222,
              "#7201a8"
             ],
             [
              0.3333333333333333,
              "#9c179e"
             ],
             [
              0.4444444444444444,
              "#bd3786"
             ],
             [
              0.5555555555555556,
              "#d8576b"
             ],
             [
              0.6666666666666666,
              "#ed7953"
             ],
             [
              0.7777777777777778,
              "#fb9f3a"
             ],
             [
              0.8888888888888888,
              "#fdca26"
             ],
             [
              1,
              "#f0f921"
             ]
            ],
            "type": "histogram2d"
           }
          ],
          "histogram2dcontour": [
           {
            "colorbar": {
             "outlinewidth": 0,
             "ticks": ""
            },
            "colorscale": [
             [
              0,
              "#0d0887"
             ],
             [
              0.1111111111111111,
              "#46039f"
             ],
             [
              0.2222222222222222,
              "#7201a8"
             ],
             [
              0.3333333333333333,
              "#9c179e"
             ],
             [
              0.4444444444444444,
              "#bd3786"
             ],
             [
              0.5555555555555556,
              "#d8576b"
             ],
             [
              0.6666666666666666,
              "#ed7953"
             ],
             [
              0.7777777777777778,
              "#fb9f3a"
             ],
             [
              0.8888888888888888,
              "#fdca26"
             ],
             [
              1,
              "#f0f921"
             ]
            ],
            "type": "histogram2dcontour"
           }
          ],
          "mesh3d": [
           {
            "colorbar": {
             "outlinewidth": 0,
             "ticks": ""
            },
            "type": "mesh3d"
           }
          ],
          "parcoords": [
           {
            "line": {
             "colorbar": {
              "outlinewidth": 0,
              "ticks": ""
             }
            },
            "type": "parcoords"
           }
          ],
          "pie": [
           {
            "automargin": true,
            "type": "pie"
           }
          ],
          "scatter": [
           {
            "marker": {
             "colorbar": {
              "outlinewidth": 0,
              "ticks": ""
             }
            },
            "type": "scatter"
           }
          ],
          "scatter3d": [
           {
            "line": {
             "colorbar": {
              "outlinewidth": 0,
              "ticks": ""
             }
            },
            "marker": {
             "colorbar": {
              "outlinewidth": 0,
              "ticks": ""
             }
            },
            "type": "scatter3d"
           }
          ],
          "scattercarpet": [
           {
            "marker": {
             "colorbar": {
              "outlinewidth": 0,
              "ticks": ""
             }
            },
            "type": "scattercarpet"
           }
          ],
          "scattergeo": [
           {
            "marker": {
             "colorbar": {
              "outlinewidth": 0,
              "ticks": ""
             }
            },
            "type": "scattergeo"
           }
          ],
          "scattergl": [
           {
            "marker": {
             "colorbar": {
              "outlinewidth": 0,
              "ticks": ""
             }
            },
            "type": "scattergl"
           }
          ],
          "scattermapbox": [
           {
            "marker": {
             "colorbar": {
              "outlinewidth": 0,
              "ticks": ""
             }
            },
            "type": "scattermapbox"
           }
          ],
          "scatterpolar": [
           {
            "marker": {
             "colorbar": {
              "outlinewidth": 0,
              "ticks": ""
             }
            },
            "type": "scatterpolar"
           }
          ],
          "scatterpolargl": [
           {
            "marker": {
             "colorbar": {
              "outlinewidth": 0,
              "ticks": ""
             }
            },
            "type": "scatterpolargl"
           }
          ],
          "scatterternary": [
           {
            "marker": {
             "colorbar": {
              "outlinewidth": 0,
              "ticks": ""
             }
            },
            "type": "scatterternary"
           }
          ],
          "surface": [
           {
            "colorbar": {
             "outlinewidth": 0,
             "ticks": ""
            },
            "colorscale": [
             [
              0,
              "#0d0887"
             ],
             [
              0.1111111111111111,
              "#46039f"
             ],
             [
              0.2222222222222222,
              "#7201a8"
             ],
             [
              0.3333333333333333,
              "#9c179e"
             ],
             [
              0.4444444444444444,
              "#bd3786"
             ],
             [
              0.5555555555555556,
              "#d8576b"
             ],
             [
              0.6666666666666666,
              "#ed7953"
             ],
             [
              0.7777777777777778,
              "#fb9f3a"
             ],
             [
              0.8888888888888888,
              "#fdca26"
             ],
             [
              1,
              "#f0f921"
             ]
            ],
            "type": "surface"
           }
          ],
          "table": [
           {
            "cells": {
             "fill": {
              "color": "#EBF0F8"
             },
             "line": {
              "color": "white"
             }
            },
            "header": {
             "fill": {
              "color": "#C8D4E3"
             },
             "line": {
              "color": "white"
             }
            },
            "type": "table"
           }
          ]
         },
         "layout": {
          "annotationdefaults": {
           "arrowcolor": "#2a3f5f",
           "arrowhead": 0,
           "arrowwidth": 1
          },
          "coloraxis": {
           "colorbar": {
            "outlinewidth": 0,
            "ticks": ""
           }
          },
          "colorscale": {
           "diverging": [
            [
             0,
             "#8e0152"
            ],
            [
             0.1,
             "#c51b7d"
            ],
            [
             0.2,
             "#de77ae"
            ],
            [
             0.3,
             "#f1b6da"
            ],
            [
             0.4,
             "#fde0ef"
            ],
            [
             0.5,
             "#f7f7f7"
            ],
            [
             0.6,
             "#e6f5d0"
            ],
            [
             0.7,
             "#b8e186"
            ],
            [
             0.8,
             "#7fbc41"
            ],
            [
             0.9,
             "#4d9221"
            ],
            [
             1,
             "#276419"
            ]
           ],
           "sequential": [
            [
             0,
             "#0d0887"
            ],
            [
             0.1111111111111111,
             "#46039f"
            ],
            [
             0.2222222222222222,
             "#7201a8"
            ],
            [
             0.3333333333333333,
             "#9c179e"
            ],
            [
             0.4444444444444444,
             "#bd3786"
            ],
            [
             0.5555555555555556,
             "#d8576b"
            ],
            [
             0.6666666666666666,
             "#ed7953"
            ],
            [
             0.7777777777777778,
             "#fb9f3a"
            ],
            [
             0.8888888888888888,
             "#fdca26"
            ],
            [
             1,
             "#f0f921"
            ]
           ],
           "sequentialminus": [
            [
             0,
             "#0d0887"
            ],
            [
             0.1111111111111111,
             "#46039f"
            ],
            [
             0.2222222222222222,
             "#7201a8"
            ],
            [
             0.3333333333333333,
             "#9c179e"
            ],
            [
             0.4444444444444444,
             "#bd3786"
            ],
            [
             0.5555555555555556,
             "#d8576b"
            ],
            [
             0.6666666666666666,
             "#ed7953"
            ],
            [
             0.7777777777777778,
             "#fb9f3a"
            ],
            [
             0.8888888888888888,
             "#fdca26"
            ],
            [
             1,
             "#f0f921"
            ]
           ]
          },
          "colorway": [
           "#636efa",
           "#EF553B",
           "#00cc96",
           "#ab63fa",
           "#FFA15A",
           "#19d3f3",
           "#FF6692",
           "#B6E880",
           "#FF97FF",
           "#FECB52"
          ],
          "font": {
           "color": "#2a3f5f"
          },
          "geo": {
           "bgcolor": "white",
           "lakecolor": "white",
           "landcolor": "#E5ECF6",
           "showlakes": true,
           "showland": true,
           "subunitcolor": "white"
          },
          "hoverlabel": {
           "align": "left"
          },
          "hovermode": "closest",
          "mapbox": {
           "style": "light"
          },
          "paper_bgcolor": "white",
          "plot_bgcolor": "#E5ECF6",
          "polar": {
           "angularaxis": {
            "gridcolor": "white",
            "linecolor": "white",
            "ticks": ""
           },
           "bgcolor": "#E5ECF6",
           "radialaxis": {
            "gridcolor": "white",
            "linecolor": "white",
            "ticks": ""
           }
          },
          "scene": {
           "xaxis": {
            "backgroundcolor": "#E5ECF6",
            "gridcolor": "white",
            "gridwidth": 2,
            "linecolor": "white",
            "showbackground": true,
            "ticks": "",
            "zerolinecolor": "white"
           },
           "yaxis": {
            "backgroundcolor": "#E5ECF6",
            "gridcolor": "white",
            "gridwidth": 2,
            "linecolor": "white",
            "showbackground": true,
            "ticks": "",
            "zerolinecolor": "white"
           },
           "zaxis": {
            "backgroundcolor": "#E5ECF6",
            "gridcolor": "white",
            "gridwidth": 2,
            "linecolor": "white",
            "showbackground": true,
            "ticks": "",
            "zerolinecolor": "white"
           }
          },
          "shapedefaults": {
           "line": {
            "color": "#2a3f5f"
           }
          },
          "ternary": {
           "aaxis": {
            "gridcolor": "white",
            "linecolor": "white",
            "ticks": ""
           },
           "baxis": {
            "gridcolor": "white",
            "linecolor": "white",
            "ticks": ""
           },
           "bgcolor": "#E5ECF6",
           "caxis": {
            "gridcolor": "white",
            "linecolor": "white",
            "ticks": ""
           }
          },
          "title": {
           "x": 0.05
          },
          "xaxis": {
           "automargin": true,
           "gridcolor": "white",
           "linecolor": "white",
           "ticks": "",
           "title": {
            "standoff": 15
           },
           "zerolinecolor": "white",
           "zerolinewidth": 2
          },
          "yaxis": {
           "automargin": true,
           "gridcolor": "white",
           "linecolor": "white",
           "ticks": "",
           "title": {
            "standoff": 15
           },
           "zerolinecolor": "white",
           "zerolinewidth": 2
          }
         }
        }
       }
      },
      "text/html": [
       "<div>\n",
       "        \n",
       "        \n",
       "            <div id=\"ecbc74dc-50d0-41ef-a4d2-bc1817a5644c\" class=\"plotly-graph-div\" style=\"height:525px; width:100%;\"></div>\n",
       "            <script type=\"text/javascript\">\n",
       "                require([\"plotly\"], function(Plotly) {\n",
       "                    window.PLOTLYENV=window.PLOTLYENV || {};\n",
       "                    \n",
       "                if (document.getElementById(\"ecbc74dc-50d0-41ef-a4d2-bc1817a5644c\")) {\n",
       "                    Plotly.newPlot(\n",
       "                        'ecbc74dc-50d0-41ef-a4d2-bc1817a5644c',\n",
       "                        [{\"fill\": \"toself\", \"name\": \"930    Necrozma Dusk Mane Necrozma\", \"r\": [97, 157, 127, 113, 109, 77], \"theta\": [\"hp\", \"attack\", \"defense\", \"sp._atk\", \"sp._def\", \"speed\"], \"type\": \"scatterpolar\"}],\n",
       "                        {\"polar\": {\"radialaxis\": {\"range\": [0, 200], \"visible\": true}}, \"showlegend\": false, \"template\": {\"data\": {\"bar\": [{\"error_x\": {\"color\": \"#2a3f5f\"}, \"error_y\": {\"color\": \"#2a3f5f\"}, \"marker\": {\"line\": {\"color\": \"#E5ECF6\", \"width\": 0.5}}, \"type\": \"bar\"}], \"barpolar\": [{\"marker\": {\"line\": {\"color\": \"#E5ECF6\", \"width\": 0.5}}, \"type\": \"barpolar\"}], \"carpet\": [{\"aaxis\": {\"endlinecolor\": \"#2a3f5f\", \"gridcolor\": \"white\", \"linecolor\": \"white\", \"minorgridcolor\": \"white\", \"startlinecolor\": \"#2a3f5f\"}, \"baxis\": {\"endlinecolor\": \"#2a3f5f\", \"gridcolor\": \"white\", \"linecolor\": \"white\", \"minorgridcolor\": \"white\", \"startlinecolor\": \"#2a3f5f\"}, \"type\": \"carpet\"}], \"choropleth\": [{\"colorbar\": {\"outlinewidth\": 0, \"ticks\": \"\"}, \"type\": \"choropleth\"}], \"contour\": [{\"colorbar\": {\"outlinewidth\": 0, \"ticks\": \"\"}, \"colorscale\": [[0.0, \"#0d0887\"], [0.1111111111111111, \"#46039f\"], [0.2222222222222222, \"#7201a8\"], [0.3333333333333333, \"#9c179e\"], [0.4444444444444444, \"#bd3786\"], [0.5555555555555556, \"#d8576b\"], [0.6666666666666666, \"#ed7953\"], [0.7777777777777778, \"#fb9f3a\"], [0.8888888888888888, \"#fdca26\"], [1.0, \"#f0f921\"]], \"type\": \"contour\"}], \"contourcarpet\": [{\"colorbar\": {\"outlinewidth\": 0, \"ticks\": \"\"}, \"type\": \"contourcarpet\"}], \"heatmap\": [{\"colorbar\": {\"outlinewidth\": 0, \"ticks\": \"\"}, \"colorscale\": [[0.0, \"#0d0887\"], [0.1111111111111111, \"#46039f\"], [0.2222222222222222, \"#7201a8\"], [0.3333333333333333, \"#9c179e\"], [0.4444444444444444, \"#bd3786\"], [0.5555555555555556, \"#d8576b\"], [0.6666666666666666, \"#ed7953\"], [0.7777777777777778, \"#fb9f3a\"], [0.8888888888888888, \"#fdca26\"], [1.0, \"#f0f921\"]], \"type\": \"heatmap\"}], \"heatmapgl\": [{\"colorbar\": {\"outlinewidth\": 0, \"ticks\": \"\"}, \"colorscale\": [[0.0, \"#0d0887\"], [0.1111111111111111, \"#46039f\"], [0.2222222222222222, \"#7201a8\"], [0.3333333333333333, \"#9c179e\"], [0.4444444444444444, \"#bd3786\"], [0.5555555555555556, \"#d8576b\"], [0.6666666666666666, \"#ed7953\"], [0.7777777777777778, \"#fb9f3a\"], [0.8888888888888888, \"#fdca26\"], [1.0, \"#f0f921\"]], \"type\": \"heatmapgl\"}], \"histogram\": [{\"marker\": {\"colorbar\": {\"outlinewidth\": 0, \"ticks\": \"\"}}, \"type\": \"histogram\"}], \"histogram2d\": [{\"colorbar\": {\"outlinewidth\": 0, \"ticks\": \"\"}, \"colorscale\": [[0.0, \"#0d0887\"], [0.1111111111111111, \"#46039f\"], [0.2222222222222222, \"#7201a8\"], [0.3333333333333333, \"#9c179e\"], [0.4444444444444444, \"#bd3786\"], [0.5555555555555556, \"#d8576b\"], [0.6666666666666666, \"#ed7953\"], [0.7777777777777778, \"#fb9f3a\"], [0.8888888888888888, \"#fdca26\"], [1.0, \"#f0f921\"]], \"type\": \"histogram2d\"}], \"histogram2dcontour\": [{\"colorbar\": {\"outlinewidth\": 0, \"ticks\": \"\"}, \"colorscale\": [[0.0, \"#0d0887\"], [0.1111111111111111, \"#46039f\"], [0.2222222222222222, \"#7201a8\"], [0.3333333333333333, \"#9c179e\"], [0.4444444444444444, \"#bd3786\"], [0.5555555555555556, \"#d8576b\"], [0.6666666666666666, \"#ed7953\"], [0.7777777777777778, \"#fb9f3a\"], [0.8888888888888888, \"#fdca26\"], [1.0, \"#f0f921\"]], \"type\": \"histogram2dcontour\"}], \"mesh3d\": [{\"colorbar\": {\"outlinewidth\": 0, \"ticks\": \"\"}, \"type\": \"mesh3d\"}], \"parcoords\": [{\"line\": {\"colorbar\": {\"outlinewidth\": 0, \"ticks\": \"\"}}, \"type\": \"parcoords\"}], \"pie\": [{\"automargin\": true, \"type\": \"pie\"}], \"scatter\": [{\"marker\": {\"colorbar\": {\"outlinewidth\": 0, \"ticks\": \"\"}}, \"type\": \"scatter\"}], \"scatter3d\": [{\"line\": {\"colorbar\": {\"outlinewidth\": 0, \"ticks\": \"\"}}, \"marker\": {\"colorbar\": {\"outlinewidth\": 0, \"ticks\": \"\"}}, \"type\": \"scatter3d\"}], \"scattercarpet\": [{\"marker\": {\"colorbar\": {\"outlinewidth\": 0, \"ticks\": \"\"}}, \"type\": \"scattercarpet\"}], \"scattergeo\": [{\"marker\": {\"colorbar\": {\"outlinewidth\": 0, \"ticks\": \"\"}}, \"type\": \"scattergeo\"}], \"scattergl\": [{\"marker\": {\"colorbar\": {\"outlinewidth\": 0, \"ticks\": \"\"}}, \"type\": \"scattergl\"}], \"scattermapbox\": [{\"marker\": {\"colorbar\": {\"outlinewidth\": 0, \"ticks\": \"\"}}, \"type\": \"scattermapbox\"}], \"scatterpolar\": [{\"marker\": {\"colorbar\": {\"outlinewidth\": 0, \"ticks\": \"\"}}, \"type\": \"scatterpolar\"}], \"scatterpolargl\": [{\"marker\": {\"colorbar\": {\"outlinewidth\": 0, \"ticks\": \"\"}}, \"type\": \"scatterpolargl\"}], \"scatterternary\": [{\"marker\": {\"colorbar\": {\"outlinewidth\": 0, \"ticks\": \"\"}}, \"type\": \"scatterternary\"}], \"surface\": [{\"colorbar\": {\"outlinewidth\": 0, \"ticks\": \"\"}, \"colorscale\": [[0.0, \"#0d0887\"], [0.1111111111111111, \"#46039f\"], [0.2222222222222222, \"#7201a8\"], [0.3333333333333333, \"#9c179e\"], [0.4444444444444444, \"#bd3786\"], [0.5555555555555556, \"#d8576b\"], [0.6666666666666666, \"#ed7953\"], [0.7777777777777778, \"#fb9f3a\"], [0.8888888888888888, \"#fdca26\"], [1.0, \"#f0f921\"]], \"type\": \"surface\"}], \"table\": [{\"cells\": {\"fill\": {\"color\": \"#EBF0F8\"}, \"line\": {\"color\": \"white\"}}, \"header\": {\"fill\": {\"color\": \"#C8D4E3\"}, \"line\": {\"color\": \"white\"}}, \"type\": \"table\"}]}, \"layout\": {\"annotationdefaults\": {\"arrowcolor\": \"#2a3f5f\", \"arrowhead\": 0, \"arrowwidth\": 1}, \"coloraxis\": {\"colorbar\": {\"outlinewidth\": 0, \"ticks\": \"\"}}, \"colorscale\": {\"diverging\": [[0, \"#8e0152\"], [0.1, \"#c51b7d\"], [0.2, \"#de77ae\"], [0.3, \"#f1b6da\"], [0.4, \"#fde0ef\"], [0.5, \"#f7f7f7\"], [0.6, \"#e6f5d0\"], [0.7, \"#b8e186\"], [0.8, \"#7fbc41\"], [0.9, \"#4d9221\"], [1, \"#276419\"]], \"sequential\": [[0.0, \"#0d0887\"], [0.1111111111111111, \"#46039f\"], [0.2222222222222222, \"#7201a8\"], [0.3333333333333333, \"#9c179e\"], [0.4444444444444444, \"#bd3786\"], [0.5555555555555556, \"#d8576b\"], [0.6666666666666666, \"#ed7953\"], [0.7777777777777778, \"#fb9f3a\"], [0.8888888888888888, \"#fdca26\"], [1.0, \"#f0f921\"]], \"sequentialminus\": [[0.0, \"#0d0887\"], [0.1111111111111111, \"#46039f\"], [0.2222222222222222, \"#7201a8\"], [0.3333333333333333, \"#9c179e\"], [0.4444444444444444, \"#bd3786\"], [0.5555555555555556, \"#d8576b\"], [0.6666666666666666, \"#ed7953\"], [0.7777777777777778, \"#fb9f3a\"], [0.8888888888888888, \"#fdca26\"], [1.0, \"#f0f921\"]]}, \"colorway\": [\"#636efa\", \"#EF553B\", \"#00cc96\", \"#ab63fa\", \"#FFA15A\", \"#19d3f3\", \"#FF6692\", \"#B6E880\", \"#FF97FF\", \"#FECB52\"], \"font\": {\"color\": \"#2a3f5f\"}, \"geo\": {\"bgcolor\": \"white\", \"lakecolor\": \"white\", \"landcolor\": \"#E5ECF6\", \"showlakes\": true, \"showland\": true, \"subunitcolor\": \"white\"}, \"hoverlabel\": {\"align\": \"left\"}, \"hovermode\": \"closest\", \"mapbox\": {\"style\": \"light\"}, \"paper_bgcolor\": \"white\", \"plot_bgcolor\": \"#E5ECF6\", \"polar\": {\"angularaxis\": {\"gridcolor\": \"white\", \"linecolor\": \"white\", \"ticks\": \"\"}, \"bgcolor\": \"#E5ECF6\", \"radialaxis\": {\"gridcolor\": \"white\", \"linecolor\": \"white\", \"ticks\": \"\"}}, \"scene\": {\"xaxis\": {\"backgroundcolor\": \"#E5ECF6\", \"gridcolor\": \"white\", \"gridwidth\": 2, \"linecolor\": \"white\", \"showbackground\": true, \"ticks\": \"\", \"zerolinecolor\": \"white\"}, \"yaxis\": {\"backgroundcolor\": \"#E5ECF6\", \"gridcolor\": \"white\", \"gridwidth\": 2, \"linecolor\": \"white\", \"showbackground\": true, \"ticks\": \"\", \"zerolinecolor\": \"white\"}, \"zaxis\": {\"backgroundcolor\": \"#E5ECF6\", \"gridcolor\": \"white\", \"gridwidth\": 2, \"linecolor\": \"white\", \"showbackground\": true, \"ticks\": \"\", \"zerolinecolor\": \"white\"}}, \"shapedefaults\": {\"line\": {\"color\": \"#2a3f5f\"}}, \"ternary\": {\"aaxis\": {\"gridcolor\": \"white\", \"linecolor\": \"white\", \"ticks\": \"\"}, \"baxis\": {\"gridcolor\": \"white\", \"linecolor\": \"white\", \"ticks\": \"\"}, \"bgcolor\": \"#E5ECF6\", \"caxis\": {\"gridcolor\": \"white\", \"linecolor\": \"white\", \"ticks\": \"\"}}, \"title\": {\"x\": 0.05}, \"xaxis\": {\"automargin\": true, \"gridcolor\": \"white\", \"linecolor\": \"white\", \"ticks\": \"\", \"title\": {\"standoff\": 15}, \"zerolinecolor\": \"white\", \"zerolinewidth\": 2}, \"yaxis\": {\"automargin\": true, \"gridcolor\": \"white\", \"linecolor\": \"white\", \"ticks\": \"\", \"title\": {\"standoff\": 15}, \"zerolinecolor\": \"white\", \"zerolinewidth\": 2}}}},\n",
       "                        {\"responsive\": true}\n",
       "                    ).then(function(){\n",
       "                            \n",
       "var gd = document.getElementById('ecbc74dc-50d0-41ef-a4d2-bc1817a5644c');\n",
       "var x = new MutationObserver(function (mutations, observer) {{\n",
       "        var display = window.getComputedStyle(gd).display;\n",
       "        if (!display || display === 'none') {{\n",
       "            console.log([gd, 'removed!']);\n",
       "            Plotly.purge(gd);\n",
       "            observer.disconnect();\n",
       "        }}\n",
       "}});\n",
       "\n",
       "// Listen for the removal of the full notebook cells\n",
       "var notebookContainer = gd.closest('#notebook-container');\n",
       "if (notebookContainer) {{\n",
       "    x.observe(notebookContainer, {childList: true});\n",
       "}}\n",
       "\n",
       "// Listen for the clearing of the current output cell\n",
       "var outputEl = gd.closest('.output');\n",
       "if (outputEl) {{\n",
       "    x.observe(outputEl, {childList: true});\n",
       "}}\n",
       "\n",
       "                        })\n",
       "                };\n",
       "                });\n",
       "            </script>\n",
       "        </div>"
      ]
     },
     "metadata": {},
     "output_type": "display_data"
    }
   ],
   "source": [
    "fig = go.Figure(data=go.Scatterpolar(\n",
    "  r=pokemon_stats.to_numpy()[0],\n",
    "  theta=categories,\n",
    "  fill='toself',\n",
    "  name=pokemon.name.to_string()\n",
    "))\n",
    "\n",
    "fig.update_layout(\n",
    "  polar=dict(\n",
    "    radialaxis=dict(\n",
    "      visible=True,\n",
    "      range=[0,200]\n",
    "    ),\n",
    "  ),\n",
    "  showlegend=False\n",
    ")\n",
    "\n",
    "fig.show()"
   ]
  },
  {
   "cell_type": "markdown",
   "metadata": {},
   "source": [
    "### Train-test split"
   ]
  },
  {
   "cell_type": "code",
   "execution_count": 23,
   "metadata": {},
   "outputs": [],
   "source": [
    "from sklearn.model_selection import train_test_split"
   ]
  },
  {
   "cell_type": "code",
   "execution_count": 29,
   "metadata": {},
   "outputs": [],
   "source": [
    "## Set the target from our data frame for modeling\n",
    "target = df.primary.values\n",
    "model_df = df.drop(labels=['name','primary'])\n",
    "\n",
    "\n",
    "## Train-test split\n",
    "x_train, x_test,y_train, y_test = train_test_split(model_df, target, test_size=0.40, random_state = 139)"
   ]
  },
  {
   "cell_type": "markdown",
   "metadata": {},
   "source": [
    "## Machine Learning Models"
   ]
  }
 ],
 "metadata": {
  "kernelspec": {
   "display_name": "Python 3",
   "language": "python",
   "name": "python3"
  },
  "language_info": {
   "codemirror_mode": {
    "name": "ipython",
    "version": 3
   },
   "file_extension": ".py",
   "mimetype": "text/x-python",
   "name": "python",
   "nbconvert_exporter": "python",
   "pygments_lexer": "ipython3",
   "version": "3.7.6"
  }
 },
 "nbformat": 4,
 "nbformat_minor": 4
}
